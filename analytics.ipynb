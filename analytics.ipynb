{
 "cells": [
  {
   "cell_type": "markdown",
   "id": "1b77e09b-52c8-4aa7-8f1b-778232e7b5fd",
   "metadata": {},
   "source": [
    "# Python基礎（１）\n",
    "--- "
   ]
  },
  {
   "cell_type": "markdown",
   "id": "da48f2f4-5b22-4623-9b3e-baa4582d20f8",
   "metadata": {},
   "source": [
    "## 電卓としてのPython"
   ]
  },
  {
   "cell_type": "code",
   "execution_count": 10,
   "id": "5e0c8c4b-741f-41d1-aa0c-97180ef3625a",
   "metadata": {},
   "outputs": [
    {
     "data": {
      "text/plain": [
       "16"
      ]
     },
     "execution_count": 10,
     "metadata": {},
     "output_type": "execute_result"
    }
   ],
   "source": [
    "# 例題1-1\n",
    "2**4"
   ]
  },
  {
   "cell_type": "code",
   "execution_count": 11,
   "id": "587bdab0-7209-4bf1-897f-596595812324",
   "metadata": {},
   "outputs": [
    {
     "name": "stdout",
     "output_type": "stream",
     "text": [
      "9\n",
      "hello world!\n"
     ]
    }
   ],
   "source": [
    "# 例題1-2\n",
    "print(2 + 7)\n",
    "print('hello world!')"
   ]
  },
  {
   "cell_type": "code",
   "execution_count": 12,
   "id": "3a1cf3a3-6cc9-4901-b951-f725a79cacaf",
   "metadata": {},
   "outputs": [
    {
     "name": "stdout",
     "output_type": "stream",
     "text": [
      "10を3で割った時の商は 3\n",
      "余りは 1\n",
      "3.3333333333333335\n"
     ]
    }
   ],
   "source": [
    "# 例題1-3\n",
    "print('10を3で割った時の商は', 10 // 3)\n",
    "print('余りは', 10 % 3)\n",
    "print(10 / 3)"
   ]
  },
  {
   "cell_type": "code",
   "execution_count": 13,
   "id": "e424891f-c98f-4204-8ee5-a852158d96ea",
   "metadata": {},
   "outputs": [
    {
     "name": "stdout",
     "output_type": "stream",
     "text": [
      "hello world\n",
      "24\n"
     ]
    }
   ],
   "source": [
    "# 問題1-1\n",
    "print('hello world')\n",
    "print(4+4*5)"
   ]
  },
  {
   "cell_type": "code",
   "execution_count": 14,
   "id": "33a58d4c-be44-41a1-a988-fd24347491da",
   "metadata": {},
   "outputs": [
    {
     "name": "stdout",
     "output_type": "stream",
     "text": [
      "11211 12121 21112\n"
     ]
    }
   ],
   "source": [
    "# 問題1-2\n",
    "print(11211,12121,21112)"
   ]
  },
  {
   "cell_type": "code",
   "execution_count": 15,
   "id": "edd3a6cf-f6c8-454b-bee3-22a826963fa2",
   "metadata": {},
   "outputs": [
    {
     "name": "stdout",
     "output_type": "stream",
     "text": [
      "1024 7888609052210118054117285652827862296732064351090230047702789306640625\n"
     ]
    }
   ],
   "source": [
    "# 問題1-3\n",
    "print(2**10,5**100)"
   ]
  },
  {
   "cell_type": "code",
   "execution_count": 16,
   "id": "fe0a71dc-e277-4d92-b241-674ee1ef6398",
   "metadata": {},
   "outputs": [
    {
     "name": "stdout",
     "output_type": "stream",
     "text": [
      "(33 + 44) * 55 = 4235 2.1 + 4.3 + 6.5 = 12.9 (128 + 456) % 78 = 38\n"
     ]
    }
   ],
   "source": [
    "# 問題1-4\n",
    "a = (33 + 44) *55\n",
    "b = 2.1 + 4.3 + 6.5\n",
    "c = (128 + 456) % 78\n",
    "\n",
    "print(f'(33 + 44) * 55 = {a}',f'2.1 + 4.3 + 6.5 = {b}', f'(128 + 456) % 78 = {c}')"
   ]
  },
  {
   "cell_type": "code",
   "execution_count": 17,
   "id": "c3c7fd67-4958-4308-a74b-1f29e5c0e8f2",
   "metadata": {},
   "outputs": [
    {
     "name": "stdout",
     "output_type": "stream",
     "text": [
      "15\n",
      "945\n",
      "1464\n"
     ]
    }
   ],
   "source": [
    "# 問題1-5\n",
    "print(1 + 2 + 3 + 4 + 5)\n",
    "print(1 * 3 * 5 * 7 * 9)\n",
    "print(98 * 3 + 48 * 4 + 188 + (208 - 50) * 5)"
   ]
  },
  {
   "cell_type": "markdown",
   "id": "a41cade6-ae40-4464-8622-35214919e9a6",
   "metadata": {},
   "source": [
    "## 変数と計算"
   ]
  },
  {
   "cell_type": "code",
   "execution_count": 18,
   "id": "13203450-559d-4975-ad61-4828d0b91cbe",
   "metadata": {},
   "outputs": [
    {
     "name": "stdout",
     "output_type": "stream",
     "text": [
      "5535\n"
     ]
    }
   ],
   "source": [
    "# 例題2-1\n",
    "x = 123 * 45\n",
    "print(x)"
   ]
  },
  {
   "cell_type": "code",
   "execution_count": 19,
   "id": "6fb04beb-6f1b-468f-aa2e-47af1a1ac88c",
   "metadata": {},
   "outputs": [
    {
     "name": "stdout",
     "output_type": "stream",
     "text": [
      "999.0 500\n"
     ]
    }
   ],
   "source": [
    "# 例題2-2\n",
    "y = 99.9\n",
    "x = 50\n",
    "print(y * 10, x * 10)"
   ]
  },
  {
   "cell_type": "code",
   "execution_count": 20,
   "id": "f40aec57-d604-4dd6-ba9e-8cd8daee6be3",
   "metadata": {},
   "outputs": [],
   "source": [
    "# 例題2-3\n",
    "x = 10\n",
    "y = 10\n",
    "# print(x,y)\n",
    "x = y + 10\n",
    "y = 20\n",
    "# print(x,y)\n",
    "x = x -10\n",
    "y = y -x\n",
    "# print(x,y)"
   ]
  },
  {
   "cell_type": "code",
   "execution_count": 21,
   "id": "f3385065-e400-450b-b6a2-1f0aa808ae59",
   "metadata": {},
   "outputs": [
    {
     "name": "stdout",
     "output_type": "stream",
     "text": [
      "10 10\n",
      "20 20\n",
      "10 10\n"
     ]
    }
   ],
   "source": [
    "# 例題2-3\n",
    "x = 10\n",
    "y = 10\n",
    "print(x,y)\n",
    "x = y + 10\n",
    "y = 20\n",
    "print(x,y)\n",
    "x = x -10\n",
    "y = y -x\n",
    "print(x,y)"
   ]
  },
  {
   "cell_type": "code",
   "execution_count": 22,
   "id": "68a7287f-4f0b-44c4-8e76-6783f7682e79",
   "metadata": {},
   "outputs": [
    {
     "name": "stdout",
     "output_type": "stream",
     "text": [
      "10\n"
     ]
    }
   ],
   "source": [
    "# 問題2-1\n",
    "print(x)\n",
    "x = 55 + 29"
   ]
  },
  {
   "cell_type": "code",
   "execution_count": 23,
   "id": "9660fa3c-fc6f-4569-9f7f-363365e051f9",
   "metadata": {},
   "outputs": [
    {
     "name": "stdout",
     "output_type": "stream",
     "text": [
      "30 5\n"
     ]
    }
   ],
   "source": [
    "# 問題2-2\n",
    "x =30\n",
    "y = 5\n",
    "print(x,y)"
   ]
  },
  {
   "cell_type": "markdown",
   "id": "efea0d0d-d24e-4c5f-913d-28844a563adf",
   "metadata": {},
   "source": [
    "## 入力関数input"
   ]
  },
  {
   "cell_type": "code",
   "execution_count": 24,
   "id": "f404dac6-39c1-4b86-8aeb-7f1eace0351b",
   "metadata": {},
   "outputs": [
    {
     "name": "stdin",
     "output_type": "stream",
     "text": [
      "何か整数を入力してね 1\n"
     ]
    },
    {
     "name": "stdout",
     "output_type": "stream",
     "text": [
      "1\n"
     ]
    }
   ],
   "source": [
    "# 例題3-1\n",
    "x = int(input('何か整数を入力してね'))\n",
    "print(x**100)"
   ]
  },
  {
   "cell_type": "code",
   "execution_count": 25,
   "id": "cd3c1a87-4703-4170-8a5d-53bdd9860e15",
   "metadata": {},
   "outputs": [
    {
     "name": "stdin",
     "output_type": "stream",
     "text": [
      "苗字を入力してね yanai\n",
      "名前を入力してね tatsuya\n"
     ]
    },
    {
     "name": "stdout",
     "output_type": "stream",
     "text": [
      "yanai tatsuya\n"
     ]
    }
   ],
   "source": [
    "# 例題3-2\n",
    "first = input('苗字を入力してね')\n",
    "given = input('名前を入力してね')\n",
    "print(first,given)"
   ]
  },
  {
   "cell_type": "code",
   "execution_count": 27,
   "id": "27690788-28c4-40b9-8d0f-453a0b2aed4c",
   "metadata": {},
   "outputs": [
    {
     "data": {
      "text/plain": [
       "'12'"
      ]
     },
     "execution_count": 27,
     "metadata": {},
     "output_type": "execute_result"
    }
   ],
   "source": [
    "int_number = 1\n",
    "string_number = '2'\n",
    "str(int_number) + string_number"
   ]
  },
  {
   "cell_type": "code",
   "execution_count": 31,
   "id": "48b0badc-a8f8-4af0-9318-925836a19a22",
   "metadata": {},
   "outputs": [
    {
     "name": "stdin",
     "output_type": "stream",
     "text": [
      "integer=? 1\n"
     ]
    },
    {
     "name": "stdout",
     "output_type": "stream",
     "text": [
      "<class 'float'>\n",
      "1.0\n"
     ]
    }
   ],
   "source": [
    "# 問題3-1\n",
    "y = float(input('integer=?'))\n",
    "print(type(y))\n",
    "print(y)"
   ]
  },
  {
   "cell_type": "code",
   "execution_count": 35,
   "id": "7d564ebb-0294-4473-9de1-ba2cfd68c953",
   "metadata": {},
   "outputs": [
    {
     "name": "stdin",
     "output_type": "stream",
     "text": [
      "整数を入力: 1\n",
      "整数を入力: 1\n",
      "整数を入力: 1\n"
     ]
    },
    {
     "name": "stdout",
     "output_type": "stream",
     "text": [
      "3\n"
     ]
    }
   ],
   "source": [
    "# 問題3-2\n",
    "x = int(input('整数を入力:'))\n",
    "y = int(input('整数を入力:'))\n",
    "z = int(input('整数を入力:'))\n",
    "print(x + y + z)"
   ]
  },
  {
   "cell_type": "code",
   "execution_count": 36,
   "id": "e61bd3eb-eb9e-4dd0-9c58-568cde212560",
   "metadata": {},
   "outputs": [
    {
     "name": "stdin",
     "output_type": "stream",
     "text": [
      "浮動小数点数を入力==> 1\n",
      "浮動小数点数を入力==> 2\n"
     ]
    },
    {
     "name": "stdout",
     "output_type": "stream",
     "text": [
      "3.0\n"
     ]
    }
   ],
   "source": [
    "x = float(input('浮動小数点数を入力==>'))\n",
    "y = float(input('浮動小数点数を入力==>'))\n",
    "print( x + y)"
   ]
  },
  {
   "cell_type": "code",
   "execution_count": 37,
   "id": "416672fd-bcca-4483-964e-15f4e60fe9a0",
   "metadata": {},
   "outputs": [
    {
     "name": "stdin",
     "output_type": "stream",
     "text": [
      "整数を入力せよ: 2\n",
      "整数を入力せよ: 3\n"
     ]
    },
    {
     "name": "stdout",
     "output_type": "stream",
     "text": [
      "6\n"
     ]
    }
   ],
   "source": [
    "x = int(input('整数を入力せよ:'))\n",
    "y = int(input('整数を入力せよ:'))\n",
    "\n",
    "print(x * y)"
   ]
  },
  {
   "cell_type": "code",
   "execution_count": 49,
   "id": "d2b4e9e0-7d48-4a6b-8280-343e1dc59904",
   "metadata": {},
   "outputs": [
    {
     "name": "stdin",
     "output_type": "stream",
     "text": [
      "借入金額を入力せよ==> 500\n",
      "月々返済する金額を入力せよ==> 10\n"
     ]
    },
    {
     "name": "stdout",
     "output_type": "stream",
     "text": [
      "返済年数: 4.166666666666667 年\n"
     ]
    },
    {
     "name": "stdin",
     "output_type": "stream",
     "text": [
      "ボーナス 20\n"
     ]
    },
    {
     "name": "stdout",
     "output_type": "stream",
     "text": [
      "期間中ボーナス金額83.33333333333334\n"
     ]
    }
   ],
   "source": [
    "# 問題3-3__作成途中\n",
    "\n",
    "# 変数宣言\n",
    "debt_all = int(input('借入金額を入力せよ==>'))\n",
    "debt_month = int(input('月々返済する金額を入力せよ==>'))\n",
    "\n",
    "# 返済期間算出 \n",
    "clear_month = (debt_all / debt_month) / 12\n",
    "print('返済年数:',clear_month,'年')\n",
    "\n",
    "# \n",
    "bonus = int(input('ボーナス'))\n",
    "bonus_score = bonus * clear_month\n",
    "print(f'期間中ボーナス支払金額{bonus_score}')"
   ]
  },
  {
   "cell_type": "code",
   "execution_count": 58,
   "id": "b0d10d92-f8a0-41ca-a350-cdbb7f582912",
   "metadata": {},
   "outputs": [
    {
     "name": "stdin",
     "output_type": "stream",
     "text": [
      "整数を入力せよ①==> 1\n",
      "整数を入力せよ②==> 1\n"
     ]
    },
    {
     "name": "stdout",
     "output_type": "stream",
     "text": [
      "<class 'int'> <class 'int'>\n",
      "1 1\n"
     ]
    },
    {
     "name": "stdin",
     "output_type": "stream",
     "text": [
      "浮動小数点数を入力せよ①==> 2\n",
      "浮動小数点数を入力せよ②==> 3\n"
     ]
    },
    {
     "name": "stdout",
     "output_type": "stream",
     "text": [
      "<class 'float'> <class 'float'>\n",
      "2.0 3.0\n"
     ]
    }
   ],
   "source": [
    "# 問題3-4\n",
    "x = int(input('整数を入力せよ①==>'))\n",
    "y = int(input('整数を入力せよ②==>'))\n",
    "print(type(x),type(y))\n",
    "print(x,y)\n",
    "\n",
    "a = float(input('浮動小数点数を入力せよ①==>'))\n",
    "b = float(input('浮動小数点数を入力せよ②==>'))\n",
    "print(type(a),type(b))\n",
    "print(a,b)"
   ]
  },
  {
   "cell_type": "code",
   "execution_count": 64,
   "id": "67f0a5b5-cead-4239-9676-8927ae04d4ae",
   "metadata": {},
   "outputs": [
    {
     "name": "stdin",
     "output_type": "stream",
     "text": [
      "整数を入力せよ==> 100\n",
      "整数を入力せよ==> 2324\n",
      "整数を入力せよ==> 321\n",
      "整数を入力せよ==> 999\n"
     ]
    },
    {
     "name": "stdout",
     "output_type": "stream",
     "text": [
      "3744\n"
     ]
    }
   ],
   "source": [
    "a = int(input('整数を入力せよ==>'))\n",
    "b = int(input('整数を入力せよ==>'))\n",
    "c = int(input('整数を入力せよ==>'))\n",
    "d = int(input('整数を入力せよ==>'))\n",
    "\n",
    "total = a + b + c +d\n",
    "print(int(total))"
   ]
  },
  {
   "cell_type": "code",
   "execution_count": 67,
   "id": "57f45067-cfcb-4d52-ae48-4b51cdab8e5c",
   "metadata": {},
   "outputs": [
    {
     "name": "stdin",
     "output_type": "stream",
     "text": [
      "整数を入力せよ==> 2\n",
      "整数を入力せよ==> 3\n"
     ]
    },
    {
     "name": "stdout",
     "output_type": "stream",
     "text": [
      "6\n"
     ]
    },
    {
     "name": "stdin",
     "output_type": "stream",
     "text": [
      "整数を入力せよ==> 2\n",
      "整数を入力せよ==> 3\n"
     ]
    },
    {
     "name": "stdout",
     "output_type": "stream",
     "text": [
      "6\n",
      "合計金額は12です\n"
     ]
    }
   ],
   "source": [
    "x = int(input('整数を入力せよ==>'))\n",
    "y = int(input('整数を入力せよ==>'))\n",
    "product_a = x * y\n",
    "print(product_a)\n",
    "\n",
    "a = int(input('整数を入力せよ==>'))\n",
    "b = int(input('整数を入力せよ==>'))\n",
    "product_b = a * b\n",
    "print(product_b)\n",
    "\n",
    "total = (product_a + product_b)\n",
    "print(f'合計金額は{total}です')"
   ]
  },
  {
   "cell_type": "code",
   "execution_count": 70,
   "id": "19fd3342-c2bc-4a4d-aeee-6a48c35dab08",
   "metadata": {},
   "outputs": [
    {
     "name": "stdin",
     "output_type": "stream",
     "text": [
      "整数を入力==> 100\n",
      "整数を入力==> 245\n"
     ]
    },
    {
     "name": "stdout",
     "output_type": "stream",
     "text": [
      "和=345\n",
      "積=24500\n"
     ]
    }
   ],
   "source": [
    "# 問題3-7\n",
    "x = int(input('整数を入力==>'))\n",
    "y = int(input('整数を入力==>'))\n",
    "\n",
    "total_a = x + y\n",
    "total_b = x * y\n",
    "print(f'和={total_a}')\n",
    "print(f'積={total_b}')"
   ]
  },
  {
   "cell_type": "markdown",
   "id": "3f39ece2-1544-4e14-9bf7-9831b2fb84a0",
   "metadata": {},
   "source": [
    "## if文（条件分岐）"
   ]
  },
  {
   "cell_type": "markdown",
   "id": "47cd9145-ed3a-4d19-83d3-65550a495e59",
   "metadata": {},
   "source": [
    "$$x^2 - 6x + 1 = 0$$"
   ]
  },
  {
   "cell_type": "code",
   "execution_count": 1,
   "id": "5ee2fc39-7c2e-4dce-8a23-e71345252262",
   "metadata": {},
   "outputs": [
    {
     "name": "stdout",
     "output_type": "stream",
     "text": [
      "OK\n"
     ]
    }
   ],
   "source": [
    "# 例題4-1\n",
    "if 0 < 10:\n",
    "    print('OK')"
   ]
  },
  {
   "cell_type": "code",
   "execution_count": 6,
   "id": "ea013e9f-1117-41ff-bca1-09309bfa5dc7",
   "metadata": {},
   "outputs": [
    {
     "name": "stdin",
     "output_type": "stream",
     "text": [
      "Please enter an integer: 12\n"
     ]
    },
    {
     "name": "stdout",
     "output_type": "stream",
     "text": [
      "BOO\n"
     ]
    }
   ],
   "source": [
    "# 例題4-2\n",
    "x = int(input('Please enter an integer:'))\n",
    "if x + 25000 == 3500 * 9:\n",
    "    print('OK')\n",
    "else:\n",
    "    print('BOO')"
   ]
  },
  {
   "cell_type": "code",
   "execution_count": 3,
   "id": "14cb3747-39b3-4d6f-aae6-c0d9a2f65d44",
   "metadata": {},
   "outputs": [
    {
     "data": {
      "text/plain": [
       "31500"
      ]
     },
     "execution_count": 3,
     "metadata": {},
     "output_type": "execute_result"
    }
   ],
   "source": [
    "3500 * 9"
   ]
  },
  {
   "cell_type": "code",
   "execution_count": 4,
   "id": "b60cda26-ba0e-44a0-9274-7a4828d4ee05",
   "metadata": {},
   "outputs": [
    {
     "data": {
      "text/plain": [
       "6500"
      ]
     },
     "execution_count": 4,
     "metadata": {},
     "output_type": "execute_result"
    }
   ],
   "source": [
    "31500 - 25000"
   ]
  },
  {
   "cell_type": "code",
   "execution_count": 17,
   "id": "dbeb0d85-d91d-483e-8ad5-2d7309201323",
   "metadata": {},
   "outputs": [
    {
     "name": "stdin",
     "output_type": "stream",
     "text": [
      "Please enter an integer: 1\n"
     ]
    },
    {
     "name": "stdout",
     "output_type": "stream",
     "text": [
      "positive\n",
      "100未満\n"
     ]
    }
   ],
   "source": [
    "## 例題4-3\n",
    "x = int(input('Please enter an integer:'))\n",
    "if x > 0:\n",
    "    print('positive')\n",
    "    if x >= 100:\n",
    "        print('100以上')\n",
    "    else:\n",
    "        print('100未満')\n",
    "elif x == 0:\n",
    "    print('zero')\n",
    "else:\n",
    "    print('negative')"
   ]
  },
  {
   "cell_type": "code",
   "execution_count": 18,
   "id": "5d9d5b21-1fa6-462b-b6e3-dbbf3c62d018",
   "metadata": {},
   "outputs": [
    {
     "data": {
      "text/plain": [
       "True"
      ]
     },
     "execution_count": 18,
     "metadata": {},
     "output_type": "execute_result"
    }
   ],
   "source": [
    "x == 1 or y != 6"
   ]
  },
  {
   "cell_type": "code",
   "execution_count": 19,
   "id": "6800a2f7-49b6-4257-a857-6cfb4380682c",
   "metadata": {},
   "outputs": [
    {
     "data": {
      "text/plain": [
       "False"
      ]
     },
     "execution_count": 19,
     "metadata": {},
     "output_type": "execute_result"
    }
   ],
   "source": [
    "not (x < 4) and y < 6"
   ]
  },
  {
   "cell_type": "code",
   "execution_count": 22,
   "id": "d96cc8f3-6095-4e85-9bd6-d65960eaed0a",
   "metadata": {},
   "outputs": [
    {
     "name": "stdin",
     "output_type": "stream",
     "text": [
      "数を入力してください 2\n"
     ]
    },
    {
     "name": "stdout",
     "output_type": "stream",
     "text": [
      "OK\n"
     ]
    }
   ],
   "source": [
    "# 例題4-4\n",
    "x = int(input('数を入力してください'))\n",
    "\n",
    "if x < 0 or x >= 100:\n",
    "    print('範囲外')\n",
    "else:\n",
    "    print('OK')"
   ]
  },
  {
   "cell_type": "code",
   "execution_count": 23,
   "id": "e5a00d56-e6c2-49d4-8432-04ec3cea7167",
   "metadata": {},
   "outputs": [],
   "source": [
    "!git add ."
   ]
  },
  {
   "cell_type": "code",
   "execution_count": 24,
   "id": "f9e59bba-028b-47fa-9b5d-87490c91d8e4",
   "metadata": {},
   "outputs": [
    {
     "name": "stdout",
     "output_type": "stream",
     "text": [
      "/usr/bin/sh: 1: Syntax error: Unterminated quoted string\n"
     ]
    }
   ],
   "source": [
    "!git commit -m'[add:20230923]"
   ]
  },
  {
   "cell_type": "code",
   "execution_count": 21,
   "id": "0a66c137-149d-45fd-9ca1-8099a32a3114",
   "metadata": {},
   "outputs": [
    {
     "name": "stdin",
     "output_type": "stream",
     "text": [
      "数を入力せよ 2\n"
     ]
    },
    {
     "name": "stdout",
     "output_type": "stream",
     "text": [
      "positive\n"
     ]
    }
   ],
   "source": [
    "# 問題4-1\n",
    "x = int(input('数を入力せよ'))\n",
    "\n",
    "if x == 0:\n",
    "    print('zero')\n",
    "elif x >= 100:\n",
    "    print('OK')\n",
    "elif x > 0:\n",
    "    print('positive')"
   ]
  },
  {
   "cell_type": "code",
   "execution_count": 13,
   "id": "490c2a2d-d9be-4678-848f-7a627f024207",
   "metadata": {},
   "outputs": [
    {
     "name": "stdin",
     "output_type": "stream",
     "text": [
      "整数を入力せよ 1\n"
     ]
    },
    {
     "name": "stdout",
     "output_type": "stream",
     "text": [
      "1です\n"
     ]
    }
   ],
   "source": [
    "x = int(input('整数を入力せよ'))\n",
    "\n",
    "if x >= 10:\n",
    "    print('10以上です')\n",
    "    \n",
    "else:\n",
    "    if x == 1:\n",
    "        print('1です')\n",
    "    elif x == 2:\n",
    "        print('2です')\n",
    "    else:\n",
    "        print('etc')"
   ]
  },
  {
   "cell_type": "code",
   "execution_count": 17,
   "id": "1abd735e-e9da-48f9-8417-c1a7d2f0551b",
   "metadata": {},
   "outputs": [
    {
     "name": "stdin",
     "output_type": "stream",
     "text": [
      "Please enter an integer: 100\n"
     ]
    },
    {
     "name": "stdout",
     "output_type": "stream",
     "text": [
      "positeve\n",
      "100以上\n"
     ]
    }
   ],
   "source": [
    "x = int(input('Please enter an integer:'))\n",
    "if x < 0:\n",
    "    print('negatieve')\n",
    "elif x == 0:\n",
    "    print('zero')\n",
    "else:\n",
    "    print('positeve')\n",
    "    if x >= 100:\n",
    "        print('100以上')\n",
    "    else:\n",
    "        print('100未満')"
   ]
  },
  {
   "cell_type": "code",
   "execution_count": 36,
   "id": "9e43b394-07df-4dc9-ad24-7a41a56db588",
   "metadata": {},
   "outputs": [
    {
     "name": "stdin",
     "output_type": "stream",
     "text": [
      "Please enter x: 500\n",
      "Please enter y: 20\n"
     ]
    },
    {
     "name": "stdout",
     "output_type": "stream",
     "text": [
      "x - y = 480\n"
     ]
    }
   ],
   "source": [
    "# 問題4-3\n",
    "x = int(input('Please enter x:'))\n",
    "y = int(input('Please enter y:'))\n",
    "\n",
    "if y <= x:\n",
    "    print(f'x - y = {x - y}')\n",
    "else:\n",
    "    print('負になります')"
   ]
  },
  {
   "cell_type": "code",
   "execution_count": 44,
   "id": "a47b7d6d-798e-4fb5-acef-2e09d6ccc9cd",
   "metadata": {},
   "outputs": [
    {
     "name": "stdin",
     "output_type": "stream",
     "text": [
      "Please Enter: 1\n"
     ]
    },
    {
     "name": "stdout",
     "output_type": "stream",
     "text": [
      "'(>_<)'\n"
     ]
    }
   ],
   "source": [
    "# 問題4-4\n",
    "x = int(input('Please Enter:'))\n",
    "\n",
    "if x == 1:\n",
    "    print(\"'(>_<)'\")\n",
    "elif x == 2:\n",
    "    print('⌒▽⌒')\n",
    "elif x ==3:\n",
    "    print('^ - ^')\n",
    "else:\n",
    "    print('')"
   ]
  },
  {
   "cell_type": "code",
   "execution_count": 61,
   "id": "032d03b3-3e73-47ac-a5f2-56cd43431c9a",
   "metadata": {},
   "outputs": [
    {
     "name": "stdin",
     "output_type": "stream",
     "text": [
      "Please enter: 5439\n"
     ]
    },
    {
     "name": "stdout",
     "output_type": "stream",
     "text": [
      "Odd\n"
     ]
    }
   ],
   "source": [
    "# 問題4-5\n",
    "x = int(input('Please enter:'))\n",
    "\n",
    "if x % 2 ==0:\n",
    "    print('Even')\n",
    "elif x % 2 == 1:\n",
    "    print('Odd')"
   ]
  },
  {
   "cell_type": "code",
   "execution_count": 67,
   "id": "a475c88b-b0ab-47be-9239-b30ec165b8f0",
   "metadata": {},
   "outputs": [
    {
     "name": "stdin",
     "output_type": "stream",
     "text": [
      "Please enter: 13\n"
     ]
    },
    {
     "name": "stdout",
     "output_type": "stream",
     "text": [
      "OK\n"
     ]
    }
   ],
   "source": [
    "# 問題4-6\n",
    "x = int(input('Please enter:'))\n",
    "\n",
    "if x >= 10 and x <= 20:\n",
    "        print('OK')"
   ]
  },
  {
   "cell_type": "code",
   "execution_count": 79,
   "id": "8737ad17-a117-4fc0-ab96-c2b0866073ea",
   "metadata": {},
   "outputs": [
    {
     "name": "stdin",
     "output_type": "stream",
     "text": [
      "Please Enter: 1\n"
     ]
    },
    {
     "name": "stdout",
     "output_type": "stream",
     "text": [
      "( ^ω^ )\n"
     ]
    }
   ],
   "source": [
    "# 問題4-7\n",
    "x = '^_^'\n",
    "y = 'Σ(^ - ^)'\n",
    "yy = '( ^ω^ )'\n",
    "\n",
    "z = int(input('Please Enter:'))\n",
    "\n",
    "if z >= 10 and z <= 20:\n",
    "    print(x)\n",
    "elif z >= 50 and z <= 60:\n",
    "    print(y)\n",
    "else:\n",
    "    print(yy)"
   ]
  },
  {
   "cell_type": "code",
   "execution_count": 81,
   "id": "9fa0e8d7-5cc3-48c3-aed1-df27534d09d7",
   "metadata": {},
   "outputs": [
    {
     "name": "stdin",
     "output_type": "stream",
     "text": [
      "Please enter: -1\n",
      "Please enter: 2\n"
     ]
    },
    {
     "name": "stdout",
     "output_type": "stream",
     "text": [
      "-2\n"
     ]
    }
   ],
   "source": [
    "# 問題4-8\n",
    "x = int(input('Please enter:'))\n",
    "\n",
    "if x > 0:\n",
    "    print(x)\n",
    "else:\n",
    "    y = int(input('Please enter:'))\n",
    "    z = x * y\n",
    "    print(z)"
   ]
  },
  {
   "cell_type": "markdown",
   "id": "74d39530-e384-496f-87e7-6231f2a81915",
   "metadata": {},
   "source": [
    "## while,forによる反復文"
   ]
  },
  {
   "cell_type": "code",
   "execution_count": 84,
   "id": "0eb7d39e-c5cc-486f-8c23-fadc3d24469d",
   "metadata": {},
   "outputs": [
    {
     "name": "stdin",
     "output_type": "stream",
     "text": [
      "Please enter: 5\n"
     ]
    },
    {
     "name": "stdout",
     "output_type": "stream",
     "text": [
      "5\n",
      "4\n",
      "3\n",
      "2\n",
      "1\n"
     ]
    }
   ],
   "source": [
    "# 例題5-1\n",
    "x = int(input('Please enter:'))\n",
    "\n",
    "while x > 0:\n",
    "    print(x)\n",
    "    x = x -1"
   ]
  },
  {
   "cell_type": "code",
   "execution_count": 89,
   "id": "b309ec89-c704-464a-88b0-acf6760db98e",
   "metadata": {},
   "outputs": [
    {
     "name": "stdin",
     "output_type": "stream",
     "text": [
      "Please enter: 10\n"
     ]
    },
    {
     "name": "stdout",
     "output_type": "stream",
     "text": [
      "100\n",
      "81\n",
      "64\n",
      "49\n",
      "36\n",
      "25\n",
      "16\n",
      "9\n",
      "4\n",
      "1\n"
     ]
    }
   ],
   "source": [
    "# 例題5-2\n",
    "x = int(input('Please enter:'))\n",
    "\n",
    "while True:\n",
    "    print(x**2)\n",
    "    x = x -1\n",
    "    if x <= 0:\n",
    "        break"
   ]
  },
  {
   "cell_type": "code",
   "execution_count": 90,
   "id": "1c55213a-ad6b-4a4b-88e5-9cecb18edee7",
   "metadata": {},
   "outputs": [
    {
     "name": "stdout",
     "output_type": "stream",
     "text": [
      "1\n",
      "9\n",
      "25\n",
      "49\n",
      "81\n"
     ]
    }
   ],
   "source": [
    "# 例題5-3\n",
    "for x in range(1,10,2):\n",
    "    print(x**2)"
   ]
  },
  {
   "cell_type": "code",
   "execution_count": 91,
   "id": "ae57f2e2-201f-4ffa-892b-8ee3ade5ccc1",
   "metadata": {},
   "outputs": [
    {
     "name": "stdout",
     "output_type": "stream",
     "text": [
      "100\n",
      "81\n",
      "64\n",
      "49\n",
      "36\n",
      "25\n",
      "16\n",
      "9\n",
      "4\n",
      "1\n"
     ]
    }
   ],
   "source": [
    "# 例題5-4\n",
    "for x in range(10,0,-1):\n",
    "    print(x**2)"
   ]
  },
  {
   "cell_type": "code",
   "execution_count": 92,
   "id": "8d1e5e45-6cb6-4b3b-a5a5-c3d3bda9e8be",
   "metadata": {},
   "outputs": [
    {
     "name": "stdout",
     "output_type": "stream",
     "text": [
      "Retrieving speedtest.net configuration...\n",
      "Testing from NTT (219.162.79.170)...\n",
      "Retrieving speedtest.net server list...\n",
      "Selecting best server based on ping...\n",
      "Hosted by SoftEther Corporation (Tsukuba) [247.86 km]: 89.224 ms\n",
      "Testing download speed................................................................................\n",
      "Download: 150.98 Mbit/s\n",
      "Testing upload speed......................................................................................................\n",
      "Upload: 284.63 Mbit/s\n"
     ]
    }
   ],
   "source": [
    "!speedtest"
   ]
  },
  {
   "cell_type": "code",
   "execution_count": 93,
   "id": "ad21bdc8-8b89-4abe-affd-56482bc1950f",
   "metadata": {},
   "outputs": [
    {
     "name": "stdout",
     "output_type": "stream",
     "text": [
      "Retrieving speedtest.net configuration...\n",
      "Testing from NTT Docomo (49.98.10.204)...\n",
      "Retrieving speedtest.net server list...\n",
      "Selecting best server based on ping...\n",
      "Hosted by Rakuten Mobile, Inc (Tokyo) [257.79 km]: 72.386 ms\n",
      "Testing download speed................................................................................\n",
      "Download: 24.49 Mbit/s\n",
      "Testing upload speed......................................................................................................\n",
      "Upload: 1.25 Mbit/s\n"
     ]
    }
   ],
   "source": [
    "!speedtest"
   ]
  },
  {
   "cell_type": "code",
   "execution_count": 96,
   "id": "abfc0e8e-41c5-4065-bf03-d637d9cf323b",
   "metadata": {},
   "outputs": [
    {
     "name": "stdout",
     "output_type": "stream",
     "text": [
      "9 10 11 12 13 14 15 16 17  \n",
      "10 11 12 13 14 15 16 17 18  \n",
      "11 12 13 14 15 16 17 18 19  \n",
      "12 13 14 15 16 17 18 19 20  \n",
      "13 14 15 16 17 18 19 20 21  \n"
     ]
    }
   ],
   "source": [
    "# 例題5-5\n",
    "for x in range(1,6):\n",
    "    for y in range(8,17):\n",
    "        print( x + y , end=' ')\n",
    "    print(' ')"
   ]
  },
  {
   "cell_type": "code",
   "execution_count": 99,
   "id": "7903cd4a-fc07-456f-b713-d92a80ddee3d",
   "metadata": {},
   "outputs": [
    {
     "name": "stdin",
     "output_type": "stream",
     "text": [
      "Please enter: 5\n"
     ]
    },
    {
     "name": "stdout",
     "output_type": "stream",
     "text": [
      "5\n",
      "5\n",
      "5\n"
     ]
    }
   ],
   "source": [
    "# 問題5-1 (1)\n",
    "\n",
    "x = int(input('Please enter:'))\n",
    "\n",
    "for y in range(1,4):\n",
    "    print(x)\n",
    "    "
   ]
  },
  {
   "cell_type": "code",
   "execution_count": 102,
   "id": "73ade743-2142-442b-bcba-dc60bebbb89c",
   "metadata": {},
   "outputs": [
    {
     "name": "stdin",
     "output_type": "stream",
     "text": [
      "Please enter: 2\n",
      "Please enter: 5\n"
     ]
    },
    {
     "name": "stdout",
     "output_type": "stream",
     "text": [
      "7\n",
      "7\n",
      "7\n"
     ]
    }
   ],
   "source": [
    "# 問題5-1 (2)\n",
    "\n",
    "x = int(input('Please enter:'))\n",
    "y = int(input('Please enter:'))\n",
    "\n",
    "for z in range(1,4):\n",
    "    print(x + y)"
   ]
  },
  {
   "cell_type": "code",
   "execution_count": 2,
   "id": "acf62b80-f963-4a74-8065-fa7c1e1972a2",
   "metadata": {},
   "outputs": [
    {
     "name": "stdin",
     "output_type": "stream",
     "text": [
      "Please enter prise: 2500\n"
     ]
    },
    {
     "name": "stdout",
     "output_type": "stream",
     "text": [
      "2700\n",
      "2700\n",
      "2700\n"
     ]
    }
   ],
   "source": [
    "# 問題5-1 (3)\n",
    "\n",
    "x = int(input('Please enter prise:'))\n",
    "y = x * 1.08\n",
    "z = int(y)\n",
    "\n",
    "for x in range(1,4):\n",
    "    print(z)"
   ]
  },
  {
   "cell_type": "code",
   "execution_count": 1,
   "id": "7f68f477-37f4-4071-8ced-8c6b8d17a72c",
   "metadata": {},
   "outputs": [
    {
     "name": "stdout",
     "output_type": "stream",
     "text": [
      "5\n",
      "4\n",
      "3\n",
      "2\n",
      "1\n"
     ]
    }
   ],
   "source": [
    "# 例題5-1\n",
    "x = 5\n",
    "while x > 0:\n",
    "    print(x)\n",
    "    x = x -1"
   ]
  },
  {
   "cell_type": "code",
   "execution_count": 1,
   "id": "b1a5d8dc-5520-4d0b-bfc3-d1a7f408e58c",
   "metadata": {},
   "outputs": [
    {
     "name": "stdout",
     "output_type": "stream",
     "text": [
      "100\n",
      "81\n",
      "64\n",
      "49\n",
      "36\n",
      "25\n",
      "16\n",
      "9\n",
      "4\n",
      "1\n"
     ]
    }
   ],
   "source": [
    "# 例題5-2\n",
    "x = 10\n",
    "while True:\n",
    "    print(x**2)\n",
    "    x = x -1\n",
    "    if x <= 0:\n",
    "        break"
   ]
  },
  {
   "cell_type": "code",
   "execution_count": 6,
   "id": "e87f015a-3972-4ce4-9285-a5831c30af54",
   "metadata": {},
   "outputs": [
    {
     "name": "stdout",
     "output_type": "stream",
     "text": [
      "1\n",
      "9\n",
      "25\n",
      "49\n",
      "81\n"
     ]
    }
   ],
   "source": [
    "# 例題5-3\n",
    "for x in range(1, 10, 2):\n",
    "    print(x**2)"
   ]
  },
  {
   "cell_type": "code",
   "execution_count": 7,
   "id": "b3e1e222-5ab9-4571-bfeb-1e2c1f1e8ce0",
   "metadata": {},
   "outputs": [
    {
     "name": "stdout",
     "output_type": "stream",
     "text": [
      "100\n",
      "81\n",
      "64\n",
      "49\n",
      "36\n",
      "25\n",
      "16\n",
      "9\n",
      "4\n",
      "1\n"
     ]
    }
   ],
   "source": [
    "# 例題5-4\n",
    "for x in range(10, 0, -1):\n",
    "    print(x**2)"
   ]
  },
  {
   "cell_type": "code",
   "execution_count": 8,
   "id": "ab6c3d5c-0496-49f9-8760-caafb2a6740b",
   "metadata": {},
   "outputs": [
    {
     "name": "stdout",
     "output_type": "stream",
     "text": [
      "9 10 11 12 13 14 15 16 17 \n",
      "10 11 12 13 14 15 16 17 18 \n",
      "11 12 13 14 15 16 17 18 19 \n",
      "12 13 14 15 16 17 18 19 20 \n",
      "13 14 15 16 17 18 19 20 21 \n"
     ]
    }
   ],
   "source": [
    "for x in range(1, 6):\n",
    "    for y in range(8, 17):\n",
    "        print(x + y, end=' ')\n",
    "    print()"
   ]
  },
  {
   "cell_type": "code",
   "execution_count": 13,
   "id": "5df8835b-b522-4c12-8e82-d1609ad9e0ca",
   "metadata": {},
   "outputs": [
    {
     "name": "stdin",
     "output_type": "stream",
     "text": [
      "Please Enter: 6\n"
     ]
    },
    {
     "name": "stdout",
     "output_type": "stream",
     "text": [
      "6\n",
      "6\n",
      "6\n"
     ]
    }
   ],
   "source": [
    "# 問題5-1 (1)\n",
    "x = int(input('Please Enter:'))\n",
    "\n",
    "for i in range(4,1,-1):\n",
    "    print(x)"
   ]
  },
  {
   "cell_type": "code",
   "execution_count": 2,
   "id": "c0beaffa-12ad-48e0-8e40-1de033594b46",
   "metadata": {},
   "outputs": [
    {
     "name": "stdout",
     "output_type": "stream",
     "text": [
      "10\n",
      "9\n",
      "8\n",
      "7\n",
      "6\n",
      "5\n",
      "4\n",
      "3\n",
      "2\n",
      "1\n"
     ]
    }
   ],
   "source": [
    "# 例題5-1\n",
    "x = 10\n",
    "while x > 0:\n",
    "    print(x)\n",
    "    x = x - 1"
   ]
  },
  {
   "cell_type": "code",
   "execution_count": 3,
   "id": "a11fa1fc-b517-42d6-9efc-bcd3f50946e5",
   "metadata": {},
   "outputs": [
    {
     "name": "stdout",
     "output_type": "stream",
     "text": [
      "100\n",
      "81\n",
      "64\n",
      "49\n",
      "36\n",
      "25\n",
      "16\n",
      "9\n",
      "4\n",
      "1\n"
     ]
    }
   ],
   "source": [
    "# 例題5-2\n",
    "x = 10\n",
    "while True:\n",
    "    print(x**2)\n",
    "    x = x -1\n",
    "    if x <= 0:\n",
    "        break"
   ]
  },
  {
   "cell_type": "code",
   "execution_count": 4,
   "id": "3d4467fa-bf46-42e9-9ffa-f9830fb72d61",
   "metadata": {},
   "outputs": [
    {
     "name": "stdout",
     "output_type": "stream",
     "text": [
      "1\n",
      "9\n",
      "25\n",
      "49\n",
      "81\n"
     ]
    }
   ],
   "source": [
    "# 例題5-3\n",
    "for x in range(1, 10, 2):\n",
    "    print(x**2)"
   ]
  },
  {
   "cell_type": "code",
   "execution_count": 5,
   "id": "9378e30a-1fd4-4fc7-8aa6-9bcbf430ef6f",
   "metadata": {},
   "outputs": [
    {
     "name": "stdout",
     "output_type": "stream",
     "text": [
      "100\n",
      "81\n",
      "64\n",
      "49\n",
      "36\n",
      "25\n",
      "16\n",
      "9\n",
      "4\n",
      "1\n"
     ]
    }
   ],
   "source": [
    "# 例題5-4\n",
    "for x in range(10, 0, -1):\n",
    "    print(x**2)"
   ]
  },
  {
   "cell_type": "code",
   "execution_count": 9,
   "id": "06eda43b-cf9a-4f9f-a11b-86222317be86",
   "metadata": {},
   "outputs": [
    {
     "name": "stdout",
     "output_type": "stream",
     "text": [
      "9 10 11 12 13 14 15 16 17  \n",
      "10 11 12 13 14 15 16 17 18  \n",
      "11 12 13 14 15 16 17 18 19  \n",
      "12 13 14 15 16 17 18 19 20  \n",
      "13 14 15 16 17 18 19 20 21  \n"
     ]
    }
   ],
   "source": [
    "# 例題5-5\n",
    "for x in range(1,6):\n",
    "    for y in range(8,17):\n",
    "        print(x+y, end=' ')\n",
    "    print(' ')"
   ]
  },
  {
   "cell_type": "code",
   "execution_count": 10,
   "id": "e6232cee-4a96-43fe-8eed-678622bc3ffb",
   "metadata": {},
   "outputs": [
    {
     "name": "stdout",
     "output_type": "stream",
     "text": [
      "9 10 11 12 13 14 15 16 17 \n",
      "10 11 12 13 14 15 16 17 18 \n",
      "11 12 13 14 15 16 17 18 19 \n",
      "12 13 14 15 16 17 18 19 20 \n",
      "13 14 15 16 17 18 19 20 21 \n"
     ]
    }
   ],
   "source": [
    "for x in range(1, 6):\n",
    "    for y in range(8, 17):\n",
    "        print(x + y, end=' ')\n",
    "    print()"
   ]
  },
  {
   "cell_type": "code",
   "execution_count": 11,
   "id": "b9cfe8ec-05e0-4333-9408-81e6125b4b9f",
   "metadata": {},
   "outputs": [
    {
     "name": "stdin",
     "output_type": "stream",
     "text": [
      "Please Enter: 2\n"
     ]
    },
    {
     "name": "stdout",
     "output_type": "stream",
     "text": [
      "2\n",
      "2\n",
      "2\n"
     ]
    }
   ],
   "source": [
    "x = int(input('Please Enter:'))\n",
    "\n",
    "for i in range(1, 4):\n",
    "    print(x)"
   ]
  },
  {
   "cell_type": "code",
   "execution_count": 12,
   "id": "4c392fbf-0cad-4449-91c8-891d926ff66e",
   "metadata": {},
   "outputs": [
    {
     "name": "stdin",
     "output_type": "stream",
     "text": [
      "Please Enter: 1\n",
      "Please Enter: 2\n"
     ]
    },
    {
     "name": "stdout",
     "output_type": "stream",
     "text": [
      "3\n",
      "3\n",
      "3\n"
     ]
    }
   ],
   "source": [
    "x = int(input('Please Enter:'))\n",
    "y = int(input('Please Enter:'))\n",
    "\n",
    "for i in range(1,4):\n",
    "    print(x + y)"
   ]
  },
  {
   "cell_type": "code",
   "execution_count": 13,
   "id": "c22b24b2-0977-4836-9f64-7a5c21060fba",
   "metadata": {},
   "outputs": [
    {
     "data": {
      "text/plain": [
       "True"
      ]
     },
     "execution_count": 13,
     "metadata": {},
     "output_type": "execute_result"
    }
   ],
   "source": [
    "age = 19\n",
    "age < 21"
   ]
  },
  {
   "cell_type": "code",
   "execution_count": 14,
   "id": "d935476b-c0f2-4db5-bb11-62c8b95a20a5",
   "metadata": {},
   "outputs": [
    {
     "data": {
      "text/plain": [
       "True"
      ]
     },
     "execution_count": 14,
     "metadata": {},
     "output_type": "execute_result"
    }
   ],
   "source": [
    "age <= 21\n"
   ]
  },
  {
   "cell_type": "code",
   "execution_count": 15,
   "id": "cfc206dc-2701-4eab-9dd0-bbd1b44a1679",
   "metadata": {},
   "outputs": [
    {
     "data": {
      "text/plain": [
       "False"
      ]
     },
     "execution_count": 15,
     "metadata": {},
     "output_type": "execute_result"
    }
   ],
   "source": [
    "age > 21"
   ]
  },
  {
   "cell_type": "code",
   "execution_count": 16,
   "id": "02a75632-af7e-4b36-87f3-667792560719",
   "metadata": {},
   "outputs": [
    {
     "data": {
      "text/plain": [
       "False"
      ]
     },
     "execution_count": 16,
     "metadata": {},
     "output_type": "execute_result"
    }
   ],
   "source": [
    "age >= 21"
   ]
  },
  {
   "cell_type": "code",
   "execution_count": 17,
   "id": "f4a40fb6-e76e-40ec-b824-714006fb659d",
   "metadata": {},
   "outputs": [
    {
     "data": {
      "text/plain": [
       "False"
      ]
     },
     "execution_count": 17,
     "metadata": {},
     "output_type": "execute_result"
    }
   ],
   "source": [
    "age_0 = 22\n",
    "age_1 = 18\n",
    "age_0 >= 21 and age_1 >= 21"
   ]
  },
  {
   "cell_type": "code",
   "execution_count": 18,
   "id": "6570e462-740b-418a-af0f-24523509d36d",
   "metadata": {},
   "outputs": [
    {
     "data": {
      "text/plain": [
       "True"
      ]
     },
     "execution_count": 18,
     "metadata": {},
     "output_type": "execute_result"
    }
   ],
   "source": [
    "age_1 =22\n",
    "age_0 >= 21 and age_1 >= 21"
   ]
  },
  {
   "cell_type": "code",
   "execution_count": 19,
   "id": "c38df985-4b8c-44b4-b4db-d2690cde6370",
   "metadata": {},
   "outputs": [
    {
     "data": {
      "text/plain": [
       "True"
      ]
     },
     "execution_count": 19,
     "metadata": {},
     "output_type": "execute_result"
    }
   ],
   "source": [
    "age_0 = 22\n",
    "age_1 = 10\n",
    "age_0 >= 21 or age_1 >= 21"
   ]
  },
  {
   "cell_type": "code",
   "execution_count": 20,
   "id": "c8ca48b1-06e6-4cc2-abf2-71a2add8677d",
   "metadata": {},
   "outputs": [
    {
     "data": {
      "text/plain": [
       "False"
      ]
     },
     "execution_count": 20,
     "metadata": {},
     "output_type": "execute_result"
    }
   ],
   "source": [
    "age_0 = 10\n",
    "age_0 >= 21 or age_1 >= 21"
   ]
  },
  {
   "cell_type": "code",
   "execution_count": 21,
   "id": "8f13430c-c95e-40a3-aff5-fe4347369552",
   "metadata": {},
   "outputs": [
    {
     "data": {
      "text/plain": [
       "True"
      ]
     },
     "execution_count": 21,
     "metadata": {},
     "output_type": "execute_result"
    }
   ],
   "source": [
    "requested_toppings = ['マッシュルーム', 'オニオン', 'パイナップル']\n",
    "'マッシュルーム' in requested_toppings"
   ]
  },
  {
   "cell_type": "code",
   "execution_count": 22,
   "id": "ccf49734-33b8-4cb7-96b1-c5a376b59075",
   "metadata": {},
   "outputs": [
    {
     "data": {
      "text/plain": [
       "False"
      ]
     },
     "execution_count": 22,
     "metadata": {},
     "output_type": "execute_result"
    }
   ],
   "source": [
    "'ペパロニ' in requested_toppings"
   ]
  },
  {
   "cell_type": "code",
   "execution_count": 28,
   "id": "61f92a7a-719d-4985-b179-dd39218ff946",
   "metadata": {},
   "outputs": [
    {
     "name": "stdin",
     "output_type": "stream",
     "text": [
      "Your Name? yan\n"
     ]
    },
    {
     "name": "stdout",
     "output_type": "stream",
     "text": [
      "Yanはコメントを書き込めます。\n"
     ]
    }
   ],
   "source": [
    "banned_users = ['andrew', 'carolina', 'david']\n",
    "user = input('Your Name?')\n",
    "\n",
    "if user not in banned_users:\n",
    "    print(f'{user.title()}はコメントを書き込めます。')\n",
    "else:\n",
    "    print('your accont banned!')"
   ]
  },
  {
   "cell_type": "code",
   "execution_count": 30,
   "id": "ac122e0e-5574-49e0-a721-c99b48b97f8d",
   "metadata": {},
   "outputs": [
    {
     "name": "stdout",
     "output_type": "stream",
     "text": [
      "car == 'subaru'の結果をTrueと予測します。\n",
      "True\n",
      "\n",
      "car == 'audi'の結果をFalseと予測します。\n",
      "False\n"
     ]
    }
   ],
   "source": [
    "# 5-1.条件テスト\n",
    "car = 'subaru'\n",
    "print(\"car == 'subaru'の結果をTrueと予測します。\")\n",
    "print(car == 'subaru')\n",
    "\n",
    "print(\"\\ncar == 'audi'の結果をFalseと予測します。\")\n",
    "print(car == 'audi')"
   ]
  },
  {
   "cell_type": "code",
   "execution_count": 31,
   "id": "d377aac4-4c68-434f-bb8b-7a10279a104f",
   "metadata": {},
   "outputs": [
    {
     "name": "stdout",
     "output_type": "stream",
     "text": [
      "選挙権がある年齢です。\n"
     ]
    }
   ],
   "source": [
    "age = 19\n",
    "if age >= 18:\n",
    "    print('選挙権がある年齢です。')"
   ]
  },
  {
   "cell_type": "code",
   "execution_count": 34,
   "id": "41a9b941-783e-49aa-a9d0-7e9fab9bc785",
   "metadata": {},
   "outputs": [
    {
     "name": "stdin",
     "output_type": "stream",
     "text": [
      "how old are you? 19\n"
     ]
    },
    {
     "name": "stdout",
     "output_type": "stream",
     "text": [
      "選挙権がある年齢です！\n",
      "投票はしましたか？\n"
     ]
    }
   ],
   "source": [
    "age = int(input('how old are you?'))\n",
    "if age > 18:\n",
    "    print('選挙権がある年齢です！')\n",
    "    print('投票はしましたか？')"
   ]
  },
  {
   "cell_type": "code",
   "execution_count": 36,
   "id": "0ab64a7e-902f-47d8-8d85-311a100bf0e3",
   "metadata": {},
   "outputs": [
    {
     "name": "stdin",
     "output_type": "stream",
     "text": [
      "how old are you? 17\n"
     ]
    },
    {
     "name": "stdout",
     "output_type": "stream",
     "text": [
      "申し訳ありません、投票するには若すぎるようです。\n",
      "18歳になったら投票してください。\n"
     ]
    }
   ],
   "source": [
    "age = int(input('how old are you?'))\n",
    "if age >= 18:\n",
    "    print('選挙権がある年齢です！')\n",
    "    print('投票はしましたか？')\n",
    "else:\n",
    "    print('申し訳ありません、投票するには若すぎるようです。')\n",
    "    print('18歳になったら投票してください。')"
   ]
  },
  {
   "cell_type": "code",
   "execution_count": 40,
   "id": "e5f71a8d-871c-498d-bd02-149c20dcf753",
   "metadata": {},
   "outputs": [
    {
     "name": "stdin",
     "output_type": "stream",
     "text": [
      "how old are you? 17\n"
     ]
    },
    {
     "name": "stdout",
     "output_type": "stream",
     "text": [
      "入場料金は2500円です。\n"
     ]
    }
   ],
   "source": [
    "age = int(input('how old are you?'))\n",
    "if age < 4:\n",
    "    print('入場料は無料です。')\n",
    "elif age < 18:\n",
    "    print('入場料金は2500円です。')\n",
    "else:\n",
    "    print('入場料金は4000円です。')"
   ]
  },
  {
   "cell_type": "code",
   "execution_count": 41,
   "id": "6854c1ef-032b-46ca-ba34-a422cb01f915",
   "metadata": {},
   "outputs": [
    {
     "name": "stdin",
     "output_type": "stream",
     "text": [
      "please enter: 3\n"
     ]
    },
    {
     "name": "stdout",
     "output_type": "stream",
     "text": [
      "3\n",
      "3\n",
      "3\n"
     ]
    }
   ],
   "source": [
    "x = int(input('please enter:'))\n",
    "\n",
    "for i in range(1,4):\n",
    "    print(x)"
   ]
  },
  {
   "cell_type": "code",
   "execution_count": 42,
   "id": "67045e77-db83-4cc0-9f74-f30bf989884f",
   "metadata": {},
   "outputs": [
    {
     "name": "stdin",
     "output_type": "stream",
     "text": [
      "please enter: 1\n",
      "please enter: 2\n"
     ]
    },
    {
     "name": "stdout",
     "output_type": "stream",
     "text": [
      "3\n",
      "3\n",
      "3\n"
     ]
    }
   ],
   "source": [
    "x = int(input('please enter:'))\n",
    "y = int(input('please enter:'))\n",
    "\n",
    "for i in range(1,4):\n",
    "    print(x + y)"
   ]
  },
  {
   "cell_type": "code",
   "execution_count": 58,
   "id": "8e0a40ea-6938-473d-94c8-116aa3b723f1",
   "metadata": {},
   "outputs": [
    {
     "name": "stdin",
     "output_type": "stream",
     "text": [
      "input price: 1000\n"
     ]
    },
    {
     "name": "stdout",
     "output_type": "stream",
     "text": [
      "1080\n",
      "1080\n",
      "1080\n"
     ]
    }
   ],
   "source": [
    "import math\n",
    "\n",
    "x = int(input('input price:'))\n",
    "y = x*1.08\n",
    "\n",
    "if y == 0:\n",
    "    print()\n",
    "elif y <= 0:\n",
    "    print()\n",
    "else:\n",
    "    for i in range(1,4):\n",
    "        print(math.floor(y))"
   ]
  },
  {
   "cell_type": "code",
   "execution_count": 62,
   "id": "f4e77d46-ffa0-49e1-a4d1-bc983dd95022",
   "metadata": {},
   "outputs": [
    {
     "name": "stdin",
     "output_type": "stream",
     "text": [
      "please enter: 14\n"
     ]
    },
    {
     "name": "stdout",
     "output_type": "stream",
     "text": [
      "7の倍数です。\n",
      "7の倍数です。\n"
     ]
    }
   ],
   "source": [
    "x = int(input('please enter:'))\n",
    "\n",
    "for i in range(1,3):\n",
    "    if x % 7 == 0:\n",
    "        print('7の倍数です。')\n",
    "    else:\n",
    "        print('7の倍数ではありません。')"
   ]
  },
  {
   "cell_type": "code",
   "execution_count": 64,
   "id": "25b52628-9f12-4602-95bd-89679e70e10d",
   "metadata": {},
   "outputs": [
    {
     "name": "stdin",
     "output_type": "stream",
     "text": [
      "please enter: 2\n"
     ]
    },
    {
     "name": "stdout",
     "output_type": "stream",
     "text": [
      "3の倍数ではありません。\n",
      "3の倍数ではありません。\n"
     ]
    }
   ],
   "source": [
    "x = int(input('please enter:'))\n",
    "\n",
    "for i in range(1,3):\n",
    "    if x % 3 == 0:\n",
    "        print('3の倍数です。')\n",
    "    else:\n",
    "        print('3の倍数ではありません。')"
   ]
  },
  {
   "cell_type": "code",
   "execution_count": 71,
   "id": "3b584c18-592b-41cf-b1a6-6a18ca5d33a5",
   "metadata": {},
   "outputs": [
    {
     "name": "stdin",
     "output_type": "stream",
     "text": [
      "please enter: 2\n"
     ]
    },
    {
     "name": "stdout",
     "output_type": "stream",
     "text": [
      "負ではありません。\n",
      "負ではありません。\n"
     ]
    }
   ],
   "source": [
    "x = int(input('please enter:'))\n",
    "\n",
    "for i in range(1,3):\n",
    "    if x < 0:\n",
    "        print('負の数です。')\n",
    "    else:\n",
    "        print('負ではありません。')"
   ]
  },
  {
   "cell_type": "code",
   "execution_count": 73,
   "id": "c1e6de57-9f32-427d-8736-88c0c5e3592b",
   "metadata": {},
   "outputs": [
    {
     "name": "stdout",
     "output_type": "stream",
     "text": [
      "hello!\n",
      "hello!\n",
      "hello!\n",
      "hello!\n",
      "hello!\n",
      "hello!\n",
      "hello!\n",
      "hello!\n",
      "hello!\n",
      "hello!\n",
      "hello!\n",
      "hello!\n",
      "hello!\n",
      "hello!\n",
      "hello!\n",
      "hello!\n",
      "hello!\n",
      "hello!\n",
      "hello!\n",
      "hello!\n"
     ]
    }
   ],
   "source": [
    "x = 'hello!'\n",
    "\n",
    "for i in range(20):\n",
    "    print(x)"
   ]
  },
  {
   "cell_type": "code",
   "execution_count": 85,
   "id": "1c7bdd9b-7590-446b-b454-8de1f4492cc6",
   "metadata": {},
   "outputs": [
    {
     "name": "stdout",
     "output_type": "stream",
     "text": [
      "10\n",
      "9\n",
      "8\n",
      "7\n",
      "6\n",
      "5\n",
      "4\n",
      "3\n",
      "2\n",
      "1\n"
     ]
    }
   ],
   "source": [
    "for i in range(10, 0, -1):\n",
    "    print(i)"
   ]
  },
  {
   "cell_type": "code",
   "execution_count": 92,
   "id": "7f5aeaae-0d35-42df-9193-ad62d9d4d296",
   "metadata": {},
   "outputs": [
    {
     "name": "stdout",
     "output_type": "stream",
     "text": [
      "0\n",
      "2\n",
      "4\n",
      "6\n",
      "8\n",
      "10\n",
      "12\n",
      "14\n",
      "16\n",
      "18\n",
      "20\n",
      "22\n",
      "24\n",
      "26\n",
      "28\n",
      "30\n",
      "32\n",
      "34\n",
      "36\n",
      "38\n",
      "40\n",
      "42\n",
      "44\n",
      "46\n",
      "48\n",
      "50\n",
      "52\n",
      "54\n",
      "56\n",
      "58\n",
      "60\n",
      "62\n",
      "64\n",
      "66\n",
      "68\n",
      "70\n",
      "72\n",
      "74\n",
      "76\n",
      "78\n",
      "80\n",
      "82\n",
      "84\n",
      "86\n",
      "88\n",
      "90\n",
      "92\n",
      "94\n",
      "96\n",
      "98\n",
      "100\n"
     ]
    }
   ],
   "source": [
    "for i in range(0,101,2):\n",
    "    print(i)"
   ]
  },
  {
   "cell_type": "code",
   "execution_count": 95,
   "id": "39943a7b-083c-49fe-901b-af97e9be4cce",
   "metadata": {},
   "outputs": [
    {
     "name": "stdout",
     "output_type": "stream",
     "text": [
      "1 2 3 4 5 6 7 8 9 2 4 6 8 10 12 14 16 18 3 6 9 12 15 18 21 24 27 4 8 12 16 20 24 28 32 36 5 10 15 20 25 30 35 40 45 6 12 18 24 30 36 42 48 54 7 14 21 28 35 42 49 56 63 8 16 24 32 40 48 56 64 72 9 18 27 36 45 54 63 72 81 "
     ]
    }
   ],
   "source": [
    "for i in range(1,10):\n",
    "    for x in range(1,10):\n",
    "        print(i*x, end = ' ')"
   ]
  },
  {
   "cell_type": "code",
   "execution_count": 105,
   "id": "d6fdc6ae-c476-4715-b006-8dfdcaddb49e",
   "metadata": {},
   "outputs": [
    {
     "name": "stdout",
     "output_type": "stream",
     "text": [
      "# # # # # # # # # \n",
      "#, end=\" \"\n",
      "\n",
      "#, end=\" \"\n",
      "\n",
      "#, end=\" \"\n",
      "\n",
      "#, end=\" \"\n",
      "\n",
      "#, end=\" \"\n",
      "\n",
      "#, end=\" \"\n",
      "\n",
      "#, end=\" \"\n",
      "\n",
      "#, end=\" \"\n"
     ]
    }
   ],
   "source": [
    "x = '#'\n",
    "\n",
    "for i in range(1,10):\n",
    "    print(x, end=' ')\n",
    "    \n",
    "for y in range(1,9):\n",
    "    print(f'\\n{x}, end=\" \"')"
   ]
  },
  {
   "cell_type": "code",
   "execution_count": 106,
   "id": "d37285aa-0193-4b2f-89c8-c19858f36d5e",
   "metadata": {},
   "outputs": [
    {
     "name": "stdout",
     "output_type": "stream",
     "text": [
      "###########\n",
      " #########\n",
      "  #######\n",
      "   #####\n",
      "    ###\n",
      "     #\n"
     ]
    }
   ],
   "source": [
    "# このプログラムは指定の三角形を表示する\n",
    "\n",
    "rows = 6  # 三角形の行数\n",
    "\n",
    "# 行をループで処理\n",
    "for i in range(1, rows + 1):\n",
    "    # 空白を出力\n",
    "    for j in range(1, i):\n",
    "        print(\" \", end=\"\")\n",
    "\n",
    "    # # を出力\n",
    "    for k in range(1, (rows - i) * 2 + 2):\n",
    "        print(\"#\", end=\"\")\n",
    "\n",
    "    # 改行\n",
    "    print()"
   ]
  },
  {
   "cell_type": "code",
   "execution_count": 108,
   "id": "70dc47d7-0c8c-4bcf-afb1-214d1aab5bd6",
   "metadata": {},
   "outputs": [
    {
     "name": "stdout",
     "output_type": "stream",
     "text": [
      "1から100までの整数を当ててください。\n"
     ]
    },
    {
     "name": "stdin",
     "output_type": "stream",
     "text": [
      "整数を入力してください:  10\n"
     ]
    },
    {
     "name": "stdout",
     "output_type": "stream",
     "text": [
      "もっと大きな数を予想してください。\n"
     ]
    },
    {
     "name": "stdin",
     "output_type": "stream",
     "text": [
      "整数を入力してください:  30\n"
     ]
    },
    {
     "name": "stdout",
     "output_type": "stream",
     "text": [
      "もっと大きな数を予想してください。\n"
     ]
    },
    {
     "name": "stdin",
     "output_type": "stream",
     "text": [
      "整数を入力してください:  60\n"
     ]
    },
    {
     "name": "stdout",
     "output_type": "stream",
     "text": [
      "もっと大きな数を予想してください。\n"
     ]
    },
    {
     "name": "stdin",
     "output_type": "stream",
     "text": [
      "整数を入力してください:  80\n"
     ]
    },
    {
     "name": "stdout",
     "output_type": "stream",
     "text": [
      "もっと小さな数を予想してください.\n"
     ]
    },
    {
     "name": "stdin",
     "output_type": "stream",
     "text": [
      "整数を入力してください:  70\n"
     ]
    },
    {
     "name": "stdout",
     "output_type": "stream",
     "text": [
      "もっと大きな数を予想してください。\n"
     ]
    },
    {
     "name": "stdin",
     "output_type": "stream",
     "text": [
      "整数を入力してください:  75\n"
     ]
    },
    {
     "name": "stdout",
     "output_type": "stream",
     "text": [
      "もっと小さな数を予想してください.\n"
     ]
    },
    {
     "name": "stdin",
     "output_type": "stream",
     "text": [
      "整数を入力してください:  72\n"
     ]
    },
    {
     "name": "stdout",
     "output_type": "stream",
     "text": [
      "もっと大きな数を予想してください。\n"
     ]
    },
    {
     "name": "stdin",
     "output_type": "stream",
     "text": [
      "整数を入力してください:  73\n"
     ]
    },
    {
     "name": "stdout",
     "output_type": "stream",
     "text": [
      "もっと大きな数を予想してください。\n"
     ]
    },
    {
     "name": "stdin",
     "output_type": "stream",
     "text": [
      "整数を入力してください:  74\n"
     ]
    },
    {
     "name": "stdout",
     "output_type": "stream",
     "text": [
      "おめでとう！正解です。8回目で当てました。\n",
      "ゲーム終了。\n"
     ]
    }
   ],
   "source": [
    "import random\n",
    "\n",
    "# 1から100までのランダムな整数を生成\n",
    "target_number = random.randint(1, 100)\n",
    "\n",
    "# ユーザーにゲームの説明を表示\n",
    "print(\"1から100までの整数を当ててください。\")\n",
    "\n",
    "# メインのゲームループ\n",
    "guesses = 0\n",
    "while True:\n",
    "    try:\n",
    "        # ユーザーから整数を入力\n",
    "        user_guess = int(input(\"整数を入力してください: \"))\n",
    "\n",
    "        # ユーザーの予想が正解かどうかを確認\n",
    "        if user_guess == target_number:\n",
    "            print(f\"おめでとう！正解です。{guesses}回目で当てました。\")\n",
    "            break\n",
    "        elif user_guess < target_number:\n",
    "            print(\"もっと大きな数を予想してください。\")\n",
    "        else:\n",
    "            print(\"もっと小さな数を予想してください.\")\n",
    "        \n",
    "        guesses += 1\n",
    "    except ValueError:\n",
    "        print(\"整数を入力してください。\")\n",
    "\n",
    "print(\"ゲーム終了。\")"
   ]
  },
  {
   "cell_type": "code",
   "execution_count": 3,
   "id": "10061ee1-b32c-4c57-a529-3f6b6a5711bd",
   "metadata": {},
   "outputs": [
    {
     "name": "stdin",
     "output_type": "stream",
     "text": [
      "y= 1\n",
      "x= 2\n",
      "x= 2\n",
      "x= 2\n"
     ]
    }
   ],
   "source": [
    "# 例題6-1(補助変数)\n",
    "y = int(input('y='))\n",
    "x = int(input('x='))\n",
    "\n",
    "while y != x:\n",
    "    y = x\n",
    "    x = input('x=')"
   ]
  },
  {
   "cell_type": "code",
   "execution_count": 6,
   "id": "17dd563c-f132-4d48-98ec-bfbde4eb8e7b",
   "metadata": {},
   "outputs": [
    {
     "name": "stdin",
     "output_type": "stream",
     "text": [
      "Please enter an integer: 2\n",
      "Please enter an integer: 2\n",
      "Please enter an integer: 2\n",
      "Please enter an integer: 2\n",
      "Please enter an integer: 2\n",
      "Please enter an integer: 2\n",
      "Please enter an integer: 2\n",
      "Please enter an integer: 2\n",
      "Please enter an integer: 3\n",
      "Please enter an integer: 4\n"
     ]
    },
    {
     "name": "stdout",
     "output_type": "stream",
     "text": [
      "4\n"
     ]
    }
   ],
   "source": [
    "m =  -9999\n",
    "\n",
    "for i in range(10):\n",
    "    j = int(input('Please enter an integer:'))\n",
    "    if m < j:\n",
    "        m = j\n",
    "print(m)"
   ]
  },
  {
   "cell_type": "code",
   "execution_count": 7,
   "id": "0261145b-cd74-4877-93d8-010892a69bd1",
   "metadata": {},
   "outputs": [
    {
     "name": "stdin",
     "output_type": "stream",
     "text": [
      "please enter an integer: 10\n",
      "please enter an integer: 2\n",
      "please enter an integer: 3\n",
      "please enter an integer: 4\n",
      "please enter an integer: 5\n",
      "please enter an integer: 10\n",
      "please enter an integer: 2\n",
      "please enter an integer: 3\n",
      "please enter an integer: 10\n",
      "please enter an integer: 11\n"
     ]
    },
    {
     "name": "stdout",
     "output_type": "stream",
     "text": [
      "4\n"
     ]
    }
   ],
   "source": [
    "c = 0\n",
    "for i in range(10):\n",
    "    j = int(input('please enter an integer:'))\n",
    "    if j >= 10:\n",
    "        c = c + 1\n",
    "print(c)"
   ]
  },
  {
   "cell_type": "code",
   "execution_count": 9,
   "id": "2608460d-a997-4de5-8d64-6387cae40245",
   "metadata": {},
   "outputs": [
    {
     "name": "stdin",
     "output_type": "stream",
     "text": [
      "please enter an integer: 5\n",
      "please enter an integer: 5\n",
      "please enter an integer: 5\n",
      "please enter an integer: 5\n",
      "please enter an integer: 5\n"
     ]
    },
    {
     "name": "stdout",
     "output_type": "stream",
     "text": [
      "5があった\n"
     ]
    }
   ],
   "source": [
    "f = 0\n",
    "for i in range(5):\n",
    "    j = int(input('please enter an integer:'))\n",
    "    if j == 5 :\n",
    "        f = 1\n",
    "if f == 1 :\n",
    "    print('5があった')"
   ]
  },
  {
   "cell_type": "code",
   "execution_count": 15,
   "id": "43798ee9-16fd-4fd1-a68b-f673349d0eb9",
   "metadata": {},
   "outputs": [
    {
     "name": "stdin",
     "output_type": "stream",
     "text": [
      "please enter an integer: 1\n",
      "please enter an integer: 1\n",
      "please enter an integer: 1\n",
      "please enter an integer: 2\n",
      "please enter an integer: 1\n"
     ]
    },
    {
     "name": "stdout",
     "output_type": "stream",
     "text": [
      "5がなかった\n"
     ]
    }
   ],
   "source": [
    "for i in range(5):\n",
    "    j = int(input('please enter an integer:'))\n",
    "    if j == 5:\n",
    "        print('5があった。')\n",
    "        break\n",
    "else:\n",
    "    print('5がなかった')"
   ]
  },
  {
   "cell_type": "code",
   "execution_count": 16,
   "id": "a62ef45c-09f2-455f-af2d-170b9aceb022",
   "metadata": {},
   "outputs": [
    {
     "name": "stdout",
     "output_type": "stream",
     "text": [
      "入力値は 0\n",
      "入力値は 1\n",
      "入力値は 2\n",
      "入力値は 4\n"
     ]
    }
   ],
   "source": [
    "for i in range(5):\n",
    "    if i == 3:\n",
    "        continue\n",
    "    print('入力値は',i)"
   ]
  },
  {
   "cell_type": "code",
   "execution_count": 18,
   "id": "1ace6210-c84c-430d-8727-28dcad4f9e50",
   "metadata": {},
   "outputs": [
    {
     "name": "stdin",
     "output_type": "stream",
     "text": [
      "please enter an integer: 3\n"
     ]
    },
    {
     "name": "stdout",
     "output_type": "stream",
     "text": [
      "3\n",
      "3\n",
      "3\n"
     ]
    }
   ],
   "source": [
    "x = int(input('please enter an integer:'))\n",
    "\n",
    "for i in range(3):\n",
    "    print(x)"
   ]
  },
  {
   "cell_type": "code",
   "execution_count": 22,
   "id": "b301f8d6-acb9-4366-92f8-3cfda47cb934",
   "metadata": {},
   "outputs": [
    {
     "name": "stdin",
     "output_type": "stream",
     "text": [
      "please enter an integer: 1\n",
      "please enter an integer: 2\n"
     ]
    },
    {
     "name": "stdout",
     "output_type": "stream",
     "text": [
      "3\n",
      "3\n",
      "3\n"
     ]
    }
   ],
   "source": [
    "x = int(input('please enter an integer:'))\n",
    "y = int(input('please enter an integer:'))\n",
    "\n",
    "for i in range(3):\n",
    "    print(x + y)"
   ]
  },
  {
   "cell_type": "code",
   "execution_count": 23,
   "id": "8ca7cec2-d203-471e-804e-f96f6cfc841c",
   "metadata": {},
   "outputs": [],
   "source": [
    "import math"
   ]
  },
  {
   "cell_type": "code",
   "execution_count": 26,
   "id": "6fe95d5a-5a6a-4020-953d-ac82744b6d8f",
   "metadata": {},
   "outputs": [
    {
     "name": "stdin",
     "output_type": "stream",
     "text": [
      "please enter price: 100\n"
     ]
    },
    {
     "name": "stdout",
     "output_type": "stream",
     "text": [
      "108\n",
      "108\n",
      "108\n"
     ]
    }
   ],
   "source": [
    "price = int(input('please enter price:'))\n",
    "\n",
    "for i in range(3):\n",
    "    print(math.floor(price*1.08))"
   ]
  },
  {
   "cell_type": "code",
   "execution_count": 33,
   "id": "61efc0ee-7ead-4dc2-aaf4-62da0034cc39",
   "metadata": {},
   "outputs": [
    {
     "name": "stdin",
     "output_type": "stream",
     "text": [
      "please enter an integer: 3\n"
     ]
    },
    {
     "name": "stdout",
     "output_type": "stream",
     "text": [
      "3\n",
      "3\n",
      "3\n",
      "3\n",
      "3\n",
      "3\n",
      "3\n",
      "3\n",
      "3\n",
      "3\n"
     ]
    }
   ],
   "source": [
    "x = int(input('please enter an integer:'))\n",
    "\n",
    "for i in range(10):\n",
    "    if x == 0:\n",
    "        print('0です')\n",
    "        break\n",
    "    else:\n",
    "        print(x)"
   ]
  },
  {
   "cell_type": "code",
   "execution_count": 39,
   "id": "8681afc4-8790-4ab7-ba4e-991bf83c332a",
   "metadata": {},
   "outputs": [
    {
     "name": "stdout",
     "output_type": "stream",
     "text": [
      "数字を入力してください。\n"
     ]
    },
    {
     "name": "stdin",
     "output_type": "stream",
     "text": [
      "please enter an integer: -1\n"
     ]
    },
    {
     "name": "stdout",
     "output_type": "stream",
     "text": [
      "negatieve number\n"
     ]
    }
   ],
   "source": [
    "# 問題5-1\n",
    "print('数字を入力してください。')\n",
    "x = int(input('please enter an integer:'))\n",
    "\n",
    "for i in range(3):\n",
    "    if x < 0:\n",
    "        print('negatieve number')\n",
    "        break\n",
    "    else:\n",
    "        print(x)"
   ]
  },
  {
   "cell_type": "code",
   "execution_count": 58,
   "id": "f1783272-8c1b-425b-bea0-41618308be22",
   "metadata": {},
   "outputs": [
    {
     "name": "stdin",
     "output_type": "stream",
     "text": [
      "please enter an integer: 84\n"
     ]
    },
    {
     "name": "stdout",
     "output_type": "stream",
     "text": [
      "a multiple of 7\n",
      "a multiple of 7\n"
     ]
    }
   ],
   "source": [
    "# 問題5-2\n",
    "x = int(input('please enter an integer:'))\n",
    "\n",
    "for i in range(2):\n",
    "    if x  == 0:\n",
    "        print('number of 0')\n",
    "    elif x % 7 == 0:\n",
    "        print('a multiple of 7')\n",
    "    else:\n",
    "        print('not a multiple of 7')"
   ]
  },
  {
   "cell_type": "code",
   "execution_count": 67,
   "id": "925eccc5-bd8e-415a-a43f-52dd418762ca",
   "metadata": {},
   "outputs": [
    {
     "name": "stdin",
     "output_type": "stream",
     "text": [
      "please enter an integer: -1\n"
     ]
    },
    {
     "name": "stdout",
     "output_type": "stream",
     "text": [
      "it is a negatieve number!\n"
     ]
    }
   ],
   "source": [
    "x = int(input('please enter an integer:'))\n",
    "\n",
    "for i in range(2):\n",
    "    if x < 0:\n",
    "        print('it is a negatieve number!')\n",
    "        break\n",
    "    elif x == 0:\n",
    "        print('number of 0')\n",
    "        break\n",
    "    else:\n",
    "        print('it is a positive number!')"
   ]
  },
  {
   "cell_type": "code",
   "execution_count": 69,
   "id": "6d9209f5-c8a7-45bd-b8e6-c8cc55d689e4",
   "metadata": {},
   "outputs": [
    {
     "name": "stdout",
     "output_type": "stream",
     "text": [
      "hello!\n",
      "hello!\n",
      "hello!\n",
      "hello!\n",
      "hello!\n",
      "hello!\n",
      "hello!\n",
      "hello!\n",
      "hello!\n",
      "hello!\n",
      "hello!\n",
      "hello!\n",
      "hello!\n",
      "hello!\n",
      "hello!\n",
      "hello!\n",
      "hello!\n",
      "hello!\n",
      "hello!\n",
      "hello!\n"
     ]
    }
   ],
   "source": [
    "# 問題5-3\n",
    "lang = 'hello!'\n",
    "\n",
    "for i in range(20):\n",
    "    print(lang)"
   ]
  },
  {
   "cell_type": "code",
   "execution_count": 78,
   "id": "a6d28ee6-40a7-4ab0-9314-5fe52fa333cc",
   "metadata": {},
   "outputs": [
    {
     "name": "stdout",
     "output_type": "stream",
     "text": [
      "2\n",
      "4\n",
      "6\n",
      "8\n",
      "10\n"
     ]
    }
   ],
   "source": [
    "# 問題5-4\n",
    "x = 2\n",
    "\n",
    "for i in range(x,11,2):\n",
    "    print(i)"
   ]
  },
  {
   "cell_type": "code",
   "execution_count": 80,
   "id": "e1344aa8-70ab-45ae-bd31-71363293a46d",
   "metadata": {},
   "outputs": [
    {
     "name": "stdout",
     "output_type": "stream",
     "text": [
      "10\n",
      "9\n",
      "8\n",
      "7\n",
      "6\n",
      "5\n",
      "4\n",
      "3\n",
      "2\n",
      "1\n"
     ]
    }
   ],
   "source": [
    "for i in range(10, 0, -1):\n",
    "    print(i)"
   ]
  },
  {
   "cell_type": "code",
   "execution_count": 87,
   "id": "1d55c5ff-fef0-4301-97bf-b32121c6f810",
   "metadata": {},
   "outputs": [
    {
     "name": "stdout",
     "output_type": "stream",
     "text": [
      "2\n",
      "4\n",
      "6\n",
      "8\n",
      "10\n",
      "12\n",
      "14\n",
      "16\n",
      "18\n",
      "20\n",
      "22\n",
      "24\n",
      "26\n",
      "28\n",
      "30\n",
      "32\n",
      "34\n",
      "36\n",
      "38\n",
      "40\n",
      "42\n",
      "44\n",
      "46\n",
      "48\n",
      "50\n",
      "52\n",
      "54\n",
      "56\n",
      "58\n",
      "60\n",
      "62\n",
      "64\n",
      "66\n",
      "68\n",
      "70\n",
      "72\n",
      "74\n",
      "76\n",
      "78\n",
      "80\n",
      "82\n",
      "84\n",
      "86\n",
      "88\n",
      "90\n",
      "92\n",
      "94\n",
      "96\n",
      "98\n"
     ]
    }
   ],
   "source": [
    "for i in range(2, 100, 2):\n",
    "    print(i)"
   ]
  },
  {
   "cell_type": "code",
   "execution_count": 93,
   "id": "5d05a4b1-b779-4e57-9934-efaf9a1b5117",
   "metadata": {},
   "outputs": [
    {
     "name": "stdout",
     "output_type": "stream",
     "text": [
      "1*1=1 | 1*2=2 | 1*3=3 | 1*4=4 | 1*5=5 | 1*6=6 | 1*7=7 | 1*8=8 | 1*9=9 | 2*1=2 | 2*2=4 | 2*3=6 | 2*4=8 | 2*5=10 | 2*6=12 | 2*7=14 | 2*8=16 | 2*9=18 | 3*1=3 | 3*2=6 | 3*3=9 | 3*4=12 | 3*5=15 | 3*6=18 | 3*7=21 | 3*8=24 | 3*9=27 | 4*1=4 | 4*2=8 | 4*3=12 | 4*4=16 | 4*5=20 | 4*6=24 | 4*7=28 | 4*8=32 | 4*9=36 | 5*1=5 | 5*2=10 | 5*3=15 | 5*4=20 | 5*5=25 | 5*6=30 | 5*7=35 | 5*8=40 | 5*9=45 | 6*1=6 | 6*2=12 | 6*3=18 | 6*4=24 | 6*5=30 | 6*6=36 | 6*7=42 | 6*8=48 | 6*9=54 | 7*1=7 | 7*2=14 | 7*3=21 | 7*4=28 | 7*5=35 | 7*6=42 | 7*7=49 | 7*8=56 | 7*9=63 | 8*1=8 | 8*2=16 | 8*3=24 | 8*4=32 | 8*5=40 | 8*6=48 | 8*7=56 | 8*8=64 | 8*9=72 | 9*1=9 | 9*2=18 | 9*3=27 | 9*4=36 | 9*5=45 | 9*6=54 | 9*7=63 | 9*8=72 | 9*9=81 | "
     ]
    }
   ],
   "source": [
    "for i in range(1,10):\n",
    "    for j in range(1,10):\n",
    "        print(f'{i}*{j}={i*j}',end=' | ')"
   ]
  },
  {
   "cell_type": "code",
   "execution_count": 94,
   "id": "78d3b48d-d0e4-4436-a0f9-be1bc20703d9",
   "metadata": {},
   "outputs": [
    {
     "name": "stdin",
     "output_type": "stream",
     "text": [
      "please enter an integer: 3\n"
     ]
    },
    {
     "name": "stdout",
     "output_type": "stream",
     "text": [
      "3 3 3 "
     ]
    }
   ],
   "source": [
    "x = int(input('please enter an integer:'))\n",
    "\n",
    "for i in range(1,4):\n",
    "    print(x, end=' ')"
   ]
  },
  {
   "cell_type": "code",
   "execution_count": 96,
   "id": "02864051-495f-49e7-a8d9-0d2a44f349f4",
   "metadata": {},
   "outputs": [
    {
     "name": "stdin",
     "output_type": "stream",
     "text": [
      "please enter an integer: 3\n",
      "please enter an integer: 4\n"
     ]
    },
    {
     "name": "stdout",
     "output_type": "stream",
     "text": [
      "3+4=7 3+4=7 "
     ]
    }
   ],
   "source": [
    "x = int(input('please enter an integer:'))\n",
    "y = int(input('please enter an integer:'))\n",
    "\n",
    "for i in range(1,3):\n",
    "    print(f'{x}+{y}={x+y}',end=' ')"
   ]
  },
  {
   "cell_type": "code",
   "execution_count": 99,
   "id": "c9a3d647-5a3b-4b10-ae0c-395d591fb566",
   "metadata": {},
   "outputs": [
    {
     "name": "stdin",
     "output_type": "stream",
     "text": [
      "please enter an integer: 2\n"
     ]
    },
    {
     "name": "stdout",
     "output_type": "stream",
     "text": [
      "2 2 "
     ]
    }
   ],
   "source": [
    "x = int(input('please enter an integer:'))\n",
    "\n",
    "for i in range(1,3):\n",
    "    print(x, end=' ')"
   ]
  },
  {
   "cell_type": "code",
   "execution_count": 100,
   "id": "4b73c555-3d38-42d8-ae25-d2e31e991178",
   "metadata": {},
   "outputs": [
    {
     "name": "stdout",
     "output_type": "stream",
     "text": [
      "9 10 11 12 13 14 15 16 17 \n",
      "10 11 12 13 14 15 16 17 18 \n",
      "11 12 13 14 15 16 17 18 19 \n",
      "12 13 14 15 16 17 18 19 20 \n",
      "13 14 15 16 17 18 19 20 21 \n"
     ]
    }
   ],
   "source": [
    "for x in range(1,6):\n",
    "    for y in range(8,17):\n",
    "        print(x + y, end=' ')\n",
    "    print()"
   ]
  },
  {
   "cell_type": "code",
   "execution_count": 101,
   "id": "d95f0e15-049a-4638-ba2d-329da9e50c99",
   "metadata": {},
   "outputs": [
    {
     "name": "stdin",
     "output_type": "stream",
     "text": [
      "please enter a number. 3\n"
     ]
    },
    {
     "name": "stdout",
     "output_type": "stream",
     "text": [
      "here is the enterd nember.\n",
      "3 3 3 "
     ]
    }
   ],
   "source": [
    "x = int(input('please enter a number.'))\n",
    "\n",
    "print('here is the enterd nember.')\n",
    "for i in range(1,4):\n",
    "    print(x, end=' ')"
   ]
  },
  {
   "cell_type": "code",
   "execution_count": 102,
   "id": "b6c2c841-0aa9-4e48-9a57-71eb63766f09",
   "metadata": {},
   "outputs": [
    {
     "name": "stdin",
     "output_type": "stream",
     "text": [
      "please enter a number. 3\n",
      "please enter a number. 2\n"
     ]
    },
    {
     "name": "stdout",
     "output_type": "stream",
     "text": [
      "The sum of the entered numbers is as follows.\n",
      "5 5 5 "
     ]
    }
   ],
   "source": [
    "x = int(input('please enter a number.'))\n",
    "y = int(input('please enter a number.'))\n",
    "\n",
    "print('The sum of the entered numbers is as follows.')\n",
    "for i in range(1,4):\n",
    "    print(x + y, end=' ')"
   ]
  },
  {
   "cell_type": "code",
   "execution_count": 111,
   "id": "858c8c9c-3756-4a46-a53e-29b1b32dda3c",
   "metadata": {},
   "outputs": [
    {
     "name": "stdin",
     "output_type": "stream",
     "text": [
      "please enter a price. 214\n"
     ]
    },
    {
     "name": "stdout",
     "output_type": "stream",
     "text": [
      "The inclusive price is as follows.\n",
      "231\n",
      "231\n",
      "231\n"
     ]
    }
   ],
   "source": [
    "x = int(input('please enter a price.'))\n",
    "y = int(x*1.08)\n",
    "\n",
    "print('The inclusive price is as follows.')\n",
    "for i in range(1,4):\n",
    "    print(y)"
   ]
  },
  {
   "cell_type": "code",
   "execution_count": 114,
   "id": "3bee7cd9-07c7-48df-8d14-6a26fa772adc",
   "metadata": {},
   "outputs": [
    {
     "name": "stdin",
     "output_type": "stream",
     "text": [
      "please enter an integer! 0\n"
     ]
    },
    {
     "name": "stdout",
     "output_type": "stream",
     "text": [
      "Input was 0.\n"
     ]
    }
   ],
   "source": [
    "x = int(input('please enter an integer!'))\n",
    "\n",
    "if x == 0:\n",
    "    print('Input was 0.')\n",
    "else:\n",
    "    print('Here are the entered numbers.')\n",
    "    for i in range(1,4):\n",
    "        print(x)"
   ]
  },
  {
   "cell_type": "code",
   "execution_count": 129,
   "id": "63599f8f-3ca1-4f31-a75b-4adc1addc3fb",
   "metadata": {},
   "outputs": [
    {
     "name": "stdin",
     "output_type": "stream",
     "text": [
      "please enter an integer! 100\n"
     ]
    },
    {
     "name": "stdout",
     "output_type": "stream",
     "text": [
      "7の倍数ではありません。\n",
      "7の倍数ではありません。\n"
     ]
    }
   ],
   "source": [
    "x = int(input('please enter an integer!'))\n",
    "\n",
    "for i in range(1,3):\n",
    "    if x == 0:\n",
    "        print('0です。')\n",
    "    elif x % 7 == 0:\n",
    "        print('7の倍数です。')\n",
    "    else:\n",
    "        print('7の倍数ではありません。')\n",
    "    "
   ]
  },
  {
   "cell_type": "code",
   "execution_count": 133,
   "id": "24783197-65ff-40b0-b646-a331d24dad38",
   "metadata": {},
   "outputs": [
    {
     "name": "stdin",
     "output_type": "stream",
     "text": [
      "please enter an integer! 3\n"
     ]
    },
    {
     "name": "stdout",
     "output_type": "stream",
     "text": [
      "3の倍数です。\n",
      "3の倍数です。\n"
     ]
    }
   ],
   "source": [
    "x = int(input('please enter an integer!'))\n",
    "\n",
    "for i in range(1,3):\n",
    "    if x == 0:\n",
    "        print('0です。')\n",
    "    elif x % 3 == 0:\n",
    "        print('3の倍数です。')\n",
    "    else:\n",
    "        print('3の倍数ではありません。')\n",
    "    "
   ]
  },
  {
   "cell_type": "code",
   "execution_count": 138,
   "id": "ff6ef0fc-1a91-4464-8c2f-5280c69e71f4",
   "metadata": {},
   "outputs": [
    {
     "name": "stdin",
     "output_type": "stream",
     "text": [
      "please enter an integer! -1\n"
     ]
    },
    {
     "name": "stdout",
     "output_type": "stream",
     "text": [
      "負の数です。\n",
      "負の数です。\n"
     ]
    }
   ],
   "source": [
    "x = int(input('please enter an integer!'))\n",
    "\n",
    "for i in range(1,3):\n",
    "    if x == 0:\n",
    "        print('0です。')\n",
    "    elif x > 0:\n",
    "        print('正の数です。')\n",
    "    else:\n",
    "        print('負の数です。')"
   ]
  },
  {
   "cell_type": "code",
   "execution_count": 141,
   "id": "78e218b7-dd16-431b-95fc-dc76f1db2ce4",
   "metadata": {},
   "outputs": [
    {
     "name": "stdout",
     "output_type": "stream",
     "text": [
      "hello! hello! hello! hello! hello! hello! hello! hello! hello! hello! hello! hello! hello! hello! hello! hello! hello! hello! hello! hello! "
     ]
    }
   ],
   "source": [
    "x = 'hello!'\n",
    "\n",
    "for i in range(1,21):\n",
    "    print(x,end = ' ')"
   ]
  },
  {
   "cell_type": "code",
   "execution_count": 144,
   "id": "1d804af0-3c75-464c-bfd6-ec8a434b3429",
   "metadata": {},
   "outputs": [
    {
     "name": "stdout",
     "output_type": "stream",
     "text": [
      "-10 -9 -8 -7 -6 -5 -4 -3 -2 -1 0 1 2 3 4 5 6 7 8 9 10 "
     ]
    }
   ],
   "source": [
    "for i in range(-10,11):\n",
    "    print(i,end=' ')"
   ]
  },
  {
   "cell_type": "code",
   "execution_count": 148,
   "id": "2f55d1e4-142e-414b-b3a0-6c51cad95e4e",
   "metadata": {},
   "outputs": [
    {
     "name": "stdout",
     "output_type": "stream",
     "text": [
      "2 4 6 8 10 "
     ]
    }
   ],
   "source": [
    "for i in range(2,11,2):\n",
    "    print(i, end=' ')"
   ]
  },
  {
   "cell_type": "code",
   "execution_count": 152,
   "id": "16f2b164-baa7-48c0-b9f5-b9ae11b553e5",
   "metadata": {},
   "outputs": [
    {
     "name": "stdin",
     "output_type": "stream",
     "text": [
      "y= 1\n",
      "x= 2\n",
      "x= 2\n",
      "x= 2\n"
     ]
    }
   ],
   "source": [
    "y = int(input('y='))\n",
    "x = int(input('x='))\n",
    "\n",
    "while y != x:\n",
    "    y = x\n",
    "    x = input('x=')"
   ]
  },
  {
   "cell_type": "code",
   "execution_count": 155,
   "id": "cd5a7e2e-9035-45cd-a879-9605e6d32100",
   "metadata": {},
   "outputs": [
    {
     "name": "stdin",
     "output_type": "stream",
     "text": [
      "pleae enter an integer: 1\n",
      "pleae enter an integer: 1\n",
      "pleae enter an integer: 1\n",
      "pleae enter an integer: 1\n",
      "pleae enter an integer: 1\n",
      "pleae enter an integer: 1\n",
      "pleae enter an integer: 1\n",
      "pleae enter an integer: 1\n",
      "pleae enter an integer: 1\n",
      "pleae enter an integer: 2\n"
     ]
    },
    {
     "name": "stdout",
     "output_type": "stream",
     "text": [
      "2\n"
     ]
    }
   ],
   "source": [
    "m = -9999\n",
    "for i in range(10):\n",
    "    j = int(input('please enter an integer:'))\n",
    "    if m < j:\n",
    "        m = j\n",
    "print(m)"
   ]
  },
  {
   "cell_type": "code",
   "execution_count": 156,
   "id": "32ca6352-d3e7-457f-a52f-93a2c08a6b0f",
   "metadata": {},
   "outputs": [
    {
     "name": "stdin",
     "output_type": "stream",
     "text": [
      "please enter an integer: 1\n",
      "please enter an integer: 2\n",
      "please enter an integer: 1\n",
      "please enter an integer: 2\n",
      "please enter an integer: 10\n",
      "please enter an integer: 11\n",
      "please enter an integer: 11\n",
      "please enter an integer: 11\n",
      "please enter an integer: 11\n",
      "please enter an integer: 11\n"
     ]
    },
    {
     "name": "stdout",
     "output_type": "stream",
     "text": [
      "6\n"
     ]
    }
   ],
   "source": [
    "c = 0\n",
    "for i in range(10):\n",
    "    j = int(input('please enter an integer:'))\n",
    "    if j >= 10:\n",
    "        c = c + 1\n",
    "print(c)\n",
    "        "
   ]
  },
  {
   "cell_type": "code",
   "execution_count": 158,
   "id": "621dd164-d4d1-462c-8377-96af7e7a4243",
   "metadata": {},
   "outputs": [
    {
     "name": "stdin",
     "output_type": "stream",
     "text": [
      "please enter an integer: 5\n",
      "please enter an integer: 1\n",
      "please enter an integer: 2\n",
      "please enter an integer: 3\n",
      "please enter an integer: 2\n"
     ]
    },
    {
     "name": "stdout",
     "output_type": "stream",
     "text": [
      "5があった。\n"
     ]
    }
   ],
   "source": [
    "f = 0\n",
    "for i in range(5):\n",
    "    j = int(input('please enter an integer:'))\n",
    "    if j == 5:\n",
    "        f = 1\n",
    "if f == 1:\n",
    "    print('5があった。')"
   ]
  },
  {
   "cell_type": "code",
   "execution_count": 160,
   "id": "470c9ecb-ed01-474e-bb9d-6074e7478eb6",
   "metadata": {},
   "outputs": [
    {
     "name": "stdin",
     "output_type": "stream",
     "text": [
      "please enter an integer: 5\n"
     ]
    },
    {
     "name": "stdout",
     "output_type": "stream",
     "text": [
      "5があった。\n"
     ]
    }
   ],
   "source": [
    "for i in range(5):\n",
    "    j = int(input('please enter an integer:'))\n",
    "    if j == 5:\n",
    "        print('5があった。')\n",
    "        break\n",
    "else:\n",
    "    print('5がなかった。')"
   ]
  },
  {
   "cell_type": "code",
   "execution_count": 161,
   "id": "68536dfa-ca99-45fa-9f61-e9aeaebd4bba",
   "metadata": {},
   "outputs": [
    {
     "name": "stdout",
     "output_type": "stream",
     "text": [
      "入力値は 0\n",
      "入力値は 1\n",
      "入力値は 2\n",
      "入力値は 4\n"
     ]
    }
   ],
   "source": [
    "# 例題6-6(continue)\n",
    "for i in range(5):\n",
    "    if i == 3:\n",
    "        continue\n",
    "    print('入力値は',i)"
   ]
  },
  {
   "cell_type": "code",
   "execution_count": 166,
   "id": "02f90e7b-27a3-4b5d-bdcb-8000d6e9b0ee",
   "metadata": {},
   "outputs": [
    {
     "name": "stdin",
     "output_type": "stream",
     "text": [
      "please enter an integer: 2\n",
      "please enter an integer: 4\n",
      "please enter an integer: 6\n",
      "please enter an integer: 6\n",
      "please enter an integer: 15\n",
      "please enter an integer: 100\n",
      "please enter an integer: 1000\n",
      "please enter an integer: １\n"
     ]
    }
   ],
   "source": [
    "# 問題6-1(1)\n",
    "for i in range(10):\n",
    "    x = int(input('please enter an integer:'))\n",
    "    if y >= x*2:\n",
    "        break\n",
    "    else:\n",
    "        y = x"
   ]
  },
  {
   "cell_type": "code",
   "execution_count": 167,
   "id": "16e95357-a214-4630-8290-1b2f294610a0",
   "metadata": {},
   "outputs": [
    {
     "name": "stdin",
     "output_type": "stream",
     "text": [
      "数字を入力してください:  1\n",
      "数字を入力してください:  5\n"
     ]
    },
    {
     "name": "stdout",
     "output_type": "stream",
     "text": [
      "前回の入力値の2倍以上大きな数が入力されたため、プログラムを終了します。\n",
      "プログラムを終了します。\n"
     ]
    }
   ],
   "source": [
    "previous_number = None\n",
    "counter = 0\n",
    "\n",
    "while counter < 10:\n",
    "    try:\n",
    "        user_input = float(input(\"数字を入力してください: \"))\n",
    "        if previous_number is not None and user_input >= previous_number * 2:\n",
    "            print(\"前回の入力値の2倍以上大きな数が入力されたため、プログラムを終了します。\")\n",
    "            break\n",
    "        previous_number = user_input\n",
    "        counter += 1\n",
    "    except ValueError:\n",
    "        print(\"無効な入力です。数字を入力してください。\")\n",
    "\n",
    "print(\"プログラムを終了します。\")"
   ]
  },
  {
   "cell_type": "markdown",
   "id": "f92f01de-db08-4189-8413-599b9dc6aad2",
   "metadata": {},
   "source": [
    "## 関数"
   ]
  },
  {
   "cell_type": "code",
   "execution_count": 173,
   "id": "897cd8f8-f408-4151-97fc-99d1e30dfe33",
   "metadata": {},
   "outputs": [
    {
     "name": "stdout",
     "output_type": "stream",
     "text": [
      "####################################################################################################"
     ]
    }
   ],
   "source": [
    "# 例題7-1\n",
    "def sub(n):\n",
    "    for i in range(n):\n",
    "        print('#', end='')\n",
    "sub(100)"
   ]
  },
  {
   "cell_type": "code",
   "execution_count": 174,
   "id": "e3e25806-801c-4db7-bc29-c3023fc92649",
   "metadata": {},
   "outputs": [
    {
     "name": "stdout",
     "output_type": "stream",
     "text": [
      "8\n",
      "300\n"
     ]
    }
   ],
   "source": [
    "# 例題7-2\n",
    "def computeSum(x,y):\n",
    "    return x + y\n",
    "\n",
    "print(computeSum(3,5))\n",
    "print(computeSum(100,200))"
   ]
  },
  {
   "cell_type": "code",
   "execution_count": 175,
   "id": "67c20840-1475-4b36-a723-d1e568e55f14",
   "metadata": {},
   "outputs": [
    {
     "name": "stdout",
     "output_type": "stream",
     "text": [
      "5\n"
     ]
    }
   ],
   "source": [
    "def F(n):\n",
    "    if n == 1 or n == 2:\n",
    "        return 1\n",
    "    else:\n",
    "        return F(n - 1) + F(n - 2)\n",
    "\n",
    "print(F(5))"
   ]
  },
  {
   "cell_type": "code",
   "execution_count": 1,
   "id": "9e2cc6d4-489b-46c2-88ad-71cfb03c013c",
   "metadata": {},
   "outputs": [
    {
     "name": "stdout",
     "output_type": "stream",
     "text": [
      "5\n",
      "4\n",
      "3\n",
      "2\n",
      "1\n"
     ]
    }
   ],
   "source": [
    "x = 5\n",
    "while x > 0:\n",
    "    print(x)\n",
    "    x = x - 1"
   ]
  },
  {
   "cell_type": "code",
   "execution_count": 2,
   "id": "2b62f1d9-3e33-4efd-a9c5-3f67781a04f6",
   "metadata": {},
   "outputs": [
    {
     "name": "stdout",
     "output_type": "stream",
     "text": [
      "100\n",
      "81\n",
      "64\n",
      "49\n",
      "36\n",
      "25\n",
      "16\n",
      "9\n",
      "4\n",
      "1\n"
     ]
    }
   ],
   "source": [
    "x = 10\n",
    "while True:\n",
    "    print(x**2)\n",
    "    x = x -1\n",
    "    if x <= 0:\n",
    "        break"
   ]
  },
  {
   "cell_type": "code",
   "execution_count": 3,
   "id": "8b88ed32-eac0-4a48-8fd3-ae488ccef368",
   "metadata": {},
   "outputs": [
    {
     "name": "stdout",
     "output_type": "stream",
     "text": [
      "1\n",
      "9\n",
      "25\n",
      "49\n",
      "81\n"
     ]
    }
   ],
   "source": [
    "for x in range(1, 10, 2):\n",
    "    print(x**2)"
   ]
  },
  {
   "cell_type": "code",
   "execution_count": 4,
   "id": "f6b197de-b79f-4024-9741-626bfe7f49a6",
   "metadata": {},
   "outputs": [
    {
     "name": "stdout",
     "output_type": "stream",
     "text": [
      "100\n",
      "81\n",
      "64\n",
      "49\n",
      "36\n",
      "25\n",
      "16\n",
      "9\n",
      "4\n",
      "1\n"
     ]
    }
   ],
   "source": [
    "for x in range(10, 0, -1):\n",
    "    print(x**2)"
   ]
  },
  {
   "cell_type": "code",
   "execution_count": 5,
   "id": "5ac25b55-eb80-45ca-acbf-50357698c15d",
   "metadata": {},
   "outputs": [
    {
     "name": "stdout",
     "output_type": "stream",
     "text": [
      "9 10 11 12 13 14 15 16 17 \n",
      "10 11 12 13 14 15 16 17 18 \n",
      "11 12 13 14 15 16 17 18 19 \n",
      "12 13 14 15 16 17 18 19 20 \n",
      "13 14 15 16 17 18 19 20 21 \n"
     ]
    }
   ],
   "source": [
    "for x in range(1,6):\n",
    "    for y in range(8, 17):\n",
    "        print(x + y, end=' ')\n",
    "    print()"
   ]
  },
  {
   "cell_type": "code",
   "execution_count": 8,
   "id": "a85f9e7e-cbd8-47fc-ac7b-dcb0a5ff435a",
   "metadata": {},
   "outputs": [
    {
     "name": "stdin",
     "output_type": "stream",
     "text": [
      "please enter th numbers: 3\n"
     ]
    },
    {
     "name": "stdout",
     "output_type": "stream",
     "text": [
      "3\n",
      "3\n",
      "3\n"
     ]
    }
   ],
   "source": [
    "# 問題5-1(1)\n",
    "number = int(input('please enter th numbers:'))\n",
    "\n",
    "for x in range(0,3,1):\n",
    "    print(number)"
   ]
  },
  {
   "cell_type": "code",
   "execution_count": 9,
   "id": "3ee4e643-e230-43d4-9a5b-a6925ad705ea",
   "metadata": {},
   "outputs": [
    {
     "name": "stdin",
     "output_type": "stream",
     "text": [
      "please enter th numbers: 1\n",
      "please enter th numbers: 3\n"
     ]
    },
    {
     "name": "stdout",
     "output_type": "stream",
     "text": [
      "4\n",
      "4\n",
      "4\n"
     ]
    }
   ],
   "source": [
    "# 問題5-1(2)\n",
    "number_0 = int(input('please enter th numbers:'))\n",
    "number_1 = int(input('please enter th numbers:'))\n",
    "\n",
    "for x in range(0, 3, 1):\n",
    "    print(number_0 + number_1)"
   ]
  },
  {
   "cell_type": "code",
   "execution_count": 13,
   "id": "4a2116a3-33c4-494d-9896-28a68f102aef",
   "metadata": {},
   "outputs": [
    {
     "name": "stdin",
     "output_type": "stream",
     "text": [
      "please enter price: 900\n"
     ]
    },
    {
     "name": "stdout",
     "output_type": "stream",
     "text": [
      "972\n",
      "972\n",
      "972\n"
     ]
    }
   ],
   "source": [
    "# 問題5-1(3)\n",
    "price = int(input('please enter price:'))\n",
    "tax_in = int(price*1.08)\n",
    "\n",
    "for x in range(0, 3, 1):\n",
    "    print(tax_in)"
   ]
  },
  {
   "cell_type": "code",
   "execution_count": 17,
   "id": "c52d546a-cec3-4064-9a85-56f967eae13b",
   "metadata": {},
   "outputs": [
    {
     "name": "stdin",
     "output_type": "stream",
     "text": [
      "please enter the number: 0\n"
     ]
    },
    {
     "name": "stdout",
     "output_type": "stream",
     "text": [
      "0\n"
     ]
    }
   ],
   "source": [
    "# 問題5-1(4)\n",
    "number = int(input('please enter the number:'))\n",
    "\n",
    "for x in range(0, 3, 1):\n",
    "    print(number)\n",
    "    if number == 0:\n",
    "        break"
   ]
  },
  {
   "cell_type": "code",
   "execution_count": 23,
   "id": "0adb05e2-b6f4-42aa-88c4-64ee4060be1a",
   "metadata": {},
   "outputs": [
    {
     "name": "stdin",
     "output_type": "stream",
     "text": [
      "please enter the number: 1\n"
     ]
    },
    {
     "name": "stdout",
     "output_type": "stream",
     "text": [
      "1\n",
      "1\n",
      "1\n"
     ]
    }
   ],
   "source": [
    "# 問題5-1(5)\n",
    "number = int(input('please enter the number:'))\n",
    "\n",
    "for x in range(0, 3, 1):\n",
    "    print(number)\n",
    "    if number < 0:\n",
    "        print('負の数なのでループを抜けます。')\n",
    "        break"
   ]
  },
  {
   "cell_type": "code",
   "execution_count": 30,
   "id": "98693700-4661-4f94-8c91-9f161a483ec7",
   "metadata": {},
   "outputs": [
    {
     "name": "stdin",
     "output_type": "stream",
     "text": [
      "please enter the number: 7\n"
     ]
    },
    {
     "name": "stdout",
     "output_type": "stream",
     "text": [
      "7は7の倍数です。\n",
      "7は7の倍数です。\n",
      "7は7の倍数です。\n"
     ]
    }
   ],
   "source": [
    "input_number = int(input('please enter the number:'))\n",
    "\n",
    "for x in range(3):\n",
    "    if input_number == 0:\n",
    "        print('入力された数字は0です。')\n",
    "    elif input_number % 7 == 0:\n",
    "        print(f'{input_number}は7の倍数です。')\n",
    "    else:\n",
    "        print(f'{input_number}は7の倍数ではありません。')"
   ]
  },
  {
   "cell_type": "code",
   "execution_count": 34,
   "id": "0a6e0172-c284-4e1d-b8fe-93dbbbf9f750",
   "metadata": {},
   "outputs": [
    {
     "name": "stdin",
     "output_type": "stream",
     "text": [
      "please enter the number: 0\n"
     ]
    },
    {
     "name": "stdout",
     "output_type": "stream",
     "text": [
      "入力された数字は0です。\n",
      "入力された数字は0です。\n",
      "入力された数字は0です。\n"
     ]
    }
   ],
   "source": [
    "input_number = int(input('please enter the number:'))\n",
    "\n",
    "for x in range(3):\n",
    "    if input_number == 0:\n",
    "        print('入力された数字は0です。')\n",
    "    elif input_number % 3 == 0:\n",
    "        print(f'{input_number}は3の倍数です。')\n",
    "    else:\n",
    "        print(f'{input_number}は3の倍数ではありません。')"
   ]
  },
  {
   "cell_type": "code",
   "execution_count": 37,
   "id": "b9140634-f839-4972-bf6e-364f6ec82c35",
   "metadata": {},
   "outputs": [
    {
     "name": "stdin",
     "output_type": "stream",
     "text": [
      "please enter the number: 12\n"
     ]
    },
    {
     "name": "stdout",
     "output_type": "stream",
     "text": [
      "12は負の数ではありません。\n",
      "12は負の数ではありません。\n",
      "12は負の数ではありません。\n"
     ]
    }
   ],
   "source": [
    "input_number = int(input('please enter the number:'))\n",
    "\n",
    "for x in range(3):\n",
    "    if input_number < 0:\n",
    "        print(f'{input_number}は負の数です。')\n",
    "    else:\n",
    "        print(f'{input_number}は負の数ではありません。')"
   ]
  },
  {
   "cell_type": "code",
   "execution_count": 39,
   "id": "bb34f2ab-8d1d-4a2b-8462-172dfc0b89c2",
   "metadata": {},
   "outputs": [
    {
     "name": "stdin",
     "output_type": "stream",
     "text": [
      "please enter the number: 2\n"
     ]
    },
    {
     "name": "stdout",
     "output_type": "stream",
     "text": [
      "The numbers entered are as follows\n",
      "2\n",
      "2\n",
      "2\n"
     ]
    }
   ],
   "source": [
    "x = int(input('please enter the number:'))\n",
    "\n",
    "print('The numbers entered are as follows')\n",
    "for i in range(0, 3, 1):\n",
    "    print(x)"
   ]
  },
  {
   "cell_type": "code",
   "execution_count": 41,
   "id": "c1538d25-fa5a-49c0-beb6-91fcec86072d",
   "metadata": {},
   "outputs": [
    {
     "name": "stdin",
     "output_type": "stream",
     "text": [
      "please enter the number: 3\n",
      "please enter the number: 4\n"
     ]
    },
    {
     "name": "stdout",
     "output_type": "stream",
     "text": [
      "Displays the sum of two input integers\n",
      "3+4=7\n",
      "3+4=7\n",
      "3+4=7\n"
     ]
    }
   ],
   "source": [
    "x = int(input('please enter the number:'))\n",
    "y = int(input('please enter the number:'))\n",
    "\n",
    "print('Displays the sum of two input integers')\n",
    "for i in range(0, 3, 1):\n",
    "    print(f'{x}+{y}={x+y}')"
   ]
  },
  {
   "cell_type": "code",
   "execution_count": 44,
   "id": "d1ae17bd-8100-4cc9-8f03-522f562be77e",
   "metadata": {},
   "outputs": [
    {
     "name": "stdin",
     "output_type": "stream",
     "text": [
      "Please enter the list price. 2500\n"
     ]
    },
    {
     "name": "stdout",
     "output_type": "stream",
     "text": [
      "The price including tax is as follows\n",
      "2700\n",
      "2700\n",
      "2700\n"
     ]
    }
   ],
   "source": [
    "price = int(input('Please enter the list price.'))\n",
    "tax_in = int(price*1.08)\n",
    "\n",
    "print('The price including tax is as follows')\n",
    "for i in range(0, 3, 1):\n",
    "    print(tax_in)"
   ]
  },
  {
   "cell_type": "code",
   "execution_count": 52,
   "id": "cc069ca6-6172-4005-94f7-9a17820bc07f",
   "metadata": {},
   "outputs": [
    {
     "name": "stdin",
     "output_type": "stream",
     "text": [
      "please enter the integer==> 10\n"
     ]
    },
    {
     "name": "stdout",
     "output_type": "stream",
     "text": [
      "The following numbers were entered\n",
      "10 10 10 "
     ]
    }
   ],
   "source": [
    "x = int(input('please enter the integer==>'))\n",
    "\n",
    "print('The following numbers were entered')\n",
    "for i in range(0, 3, 1):\n",
    "    if x == 0:\n",
    "        print('The number entered is 0.')\n",
    "        break\n",
    "    else:\n",
    "        print(x, end=' ')"
   ]
  },
  {
   "cell_type": "code",
   "execution_count": 59,
   "id": "c6401b8f-3212-4e6f-a1ed-e7abff07e670",
   "metadata": {},
   "outputs": [
    {
     "name": "stdin",
     "output_type": "stream",
     "text": [
      "please enter the integer: -1\n"
     ]
    },
    {
     "name": "stdout",
     "output_type": "stream",
     "text": [
      "the following numbers were enterd!\n",
      "The number entered is a negative number.\n"
     ]
    }
   ],
   "source": [
    "x = int(input('please enter the integer:'))\n",
    "\n",
    "print('the following numbers were enterd!')\n",
    "for i in range(0, 3, 1):\n",
    "    if x < 0:\n",
    "        print('The number entered is a negative number.')\n",
    "        break\n",
    "    else:\n",
    "        print(x, end=' ')"
   ]
  },
  {
   "cell_type": "code",
   "execution_count": null,
   "id": "5b057625-f87a-4abe-b464-1d98aa110cc9",
   "metadata": {},
   "outputs": [],
   "source": []
  }
 ],
 "metadata": {
  "kernelspec": {
   "display_name": "Python 3 (ipykernel)",
   "language": "python",
   "name": "python3"
  },
  "language_info": {
   "codemirror_mode": {
    "name": "ipython",
    "version": 3
   },
   "file_extension": ".py",
   "mimetype": "text/x-python",
   "name": "python",
   "nbconvert_exporter": "python",
   "pygments_lexer": "ipython3",
   "version": "3.10.12"
  }
 },
 "nbformat": 4,
 "nbformat_minor": 5
}
