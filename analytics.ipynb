{
 "cells": [
  {
   "cell_type": "markdown",
   "id": "1b77e09b-52c8-4aa7-8f1b-778232e7b5fd",
   "metadata": {},
   "source": [
    "# Python基礎（１）\n",
    "--- "
   ]
  },
  {
   "cell_type": "markdown",
   "id": "da48f2f4-5b22-4623-9b3e-baa4582d20f8",
   "metadata": {},
   "source": [
    "## 電卓としてのPython"
   ]
  },
  {
   "cell_type": "code",
   "execution_count": 1,
   "id": "5e0c8c4b-741f-41d1-aa0c-97180ef3625a",
   "metadata": {},
   "outputs": [
    {
     "data": {
      "text/plain": [
       "16"
      ]
     },
     "execution_count": 1,
     "metadata": {},
     "output_type": "execute_result"
    }
   ],
   "source": [
    "# 例題1-1\n",
    "2**4"
   ]
  },
  {
   "cell_type": "code",
   "execution_count": 4,
   "id": "587bdab0-7209-4bf1-897f-596595812324",
   "metadata": {},
   "outputs": [
    {
     "name": "stdout",
     "output_type": "stream",
     "text": [
      "9\n",
      "hello world!\n"
     ]
    }
   ],
   "source": [
    "# 例題1-2\n",
    "print(2 + 7)\n",
    "print('hello world!')"
   ]
  },
  {
   "cell_type": "code",
   "execution_count": 7,
   "id": "3a1cf3a3-6cc9-4901-b951-f725a79cacaf",
   "metadata": {},
   "outputs": [
    {
     "name": "stdout",
     "output_type": "stream",
     "text": [
      "10を3で割った時の商は 3\n",
      "余りは 1\n",
      "3.3333333333333335\n"
     ]
    }
   ],
   "source": [
    "# 例題1-3\n",
    "print('10を3で割った時の商は', 10 // 3)\n",
    "print('余りは', 10 % 3)\n",
    "print(10 / 3)"
   ]
  },
  {
   "cell_type": "code",
   "execution_count": 8,
   "id": "e424891f-c98f-4204-8ee5-a852158d96ea",
   "metadata": {},
   "outputs": [
    {
     "name": "stdout",
     "output_type": "stream",
     "text": [
      "hello world\n",
      "24\n"
     ]
    }
   ],
   "source": [
    "# 問題1-1\n",
    "print('hello world')\n",
    "print(4+4*5)"
   ]
  },
  {
   "cell_type": "code",
   "execution_count": 13,
   "id": "33a58d4c-be44-41a1-a988-fd24347491da",
   "metadata": {},
   "outputs": [
    {
     "name": "stdout",
     "output_type": "stream",
     "text": [
      "11211 12121 21112\n"
     ]
    }
   ],
   "source": [
    "# 問題1-2\n",
    "print(11211,12121,21112)"
   ]
  },
  {
   "cell_type": "code",
   "execution_count": 14,
   "id": "edd3a6cf-f6c8-454b-bee3-22a826963fa2",
   "metadata": {},
   "outputs": [
    {
     "name": "stdout",
     "output_type": "stream",
     "text": [
      "1024 7888609052210118054117285652827862296732064351090230047702789306640625\n"
     ]
    }
   ],
   "source": [
    "# 問題1-3\n",
    "print(2**10,5**100)"
   ]
  },
  {
   "cell_type": "code",
   "execution_count": 17,
   "id": "fe0a71dc-e277-4d92-b241-674ee1ef6398",
   "metadata": {},
   "outputs": [
    {
     "name": "stdout",
     "output_type": "stream",
     "text": [
      "(33 + 44) * 55 = 4235 2.1 + 4.3 + 6.5 = 12.9 (128 + 456) % 78 = 38\n"
     ]
    }
   ],
   "source": [
    "# 問題1-4\n",
    "a = (33 + 44) *55\n",
    "b = 2.1 + 4.3 + 6.5\n",
    "c = (128 + 456) % 78\n",
    "\n",
    "print(f'(33 + 44) * 55 = {a}',f'2.1 + 4.3 + 6.5 = {b}', f'(128 + 456) % 78 = {c}')"
   ]
  },
  {
   "cell_type": "code",
   "execution_count": 19,
   "id": "c3c7fd67-4958-4308-a74b-1f29e5c0e8f2",
   "metadata": {},
   "outputs": [
    {
     "name": "stdout",
     "output_type": "stream",
     "text": [
      "15\n",
      "945\n",
      "1464\n"
     ]
    }
   ],
   "source": [
    "# 問題1-5\n",
    "print(1 + 2 + 3 + 4 + 5)\n",
    "print(1 * 3 * 5 * 7 * 9)\n",
    "print(98 * 3 + 48 * 4 + 188 + (208 - 50) * 5)"
   ]
  },
  {
   "cell_type": "markdown",
   "id": "a41cade6-ae40-4464-8622-35214919e9a6",
   "metadata": {},
   "source": [
    "## 変数と計算"
   ]
  },
  {
   "cell_type": "code",
   "execution_count": 21,
   "id": "13203450-559d-4975-ad61-4828d0b91cbe",
   "metadata": {},
   "outputs": [
    {
     "name": "stdout",
     "output_type": "stream",
     "text": [
      "5535\n"
     ]
    }
   ],
   "source": [
    "# 例題2-1\n",
    "x = 123 * 45\n",
    "print(x)"
   ]
  },
  {
   "cell_type": "code",
   "execution_count": 22,
   "id": "6fb04beb-6f1b-468f-aa2e-47af1a1ac88c",
   "metadata": {},
   "outputs": [
    {
     "name": "stdout",
     "output_type": "stream",
     "text": [
      "999.0 500\n"
     ]
    }
   ],
   "source": [
    "# 例題2-2\n",
    "y = 99.9\n",
    "x = 50\n",
    "print(y * 10, x * 10)"
   ]
  },
  {
   "cell_type": "code",
   "execution_count": 23,
   "id": "f40aec57-d604-4dd6-ba9e-8cd8daee6be3",
   "metadata": {},
   "outputs": [],
   "source": [
    "# 例題2-3\n",
    "x = 10\n",
    "y = 10\n",
    "# print(x,y)\n",
    "x = y + 10\n",
    "y = 20\n",
    "# print(x,y)\n",
    "x = x -10\n",
    "y = y -x\n",
    "# print(x,y)"
   ]
  },
  {
   "cell_type": "code",
   "execution_count": 28,
   "id": "f3385065-e400-450b-b6a2-1f0aa808ae59",
   "metadata": {},
   "outputs": [
    {
     "name": "stdout",
     "output_type": "stream",
     "text": [
      "10 10\n",
      "20 20\n",
      "10 10\n"
     ]
    }
   ],
   "source": [
    "# 例題2-3\n",
    "x = 10\n",
    "y = 10\n",
    "print(x,y)\n",
    "x = y + 10\n",
    "y = 20\n",
    "print(x,y)\n",
    "x = x -10\n",
    "y = y -x\n",
    "print(x,y)"
   ]
  },
  {
   "cell_type": "code",
   "execution_count": 29,
   "id": "68a7287f-4f0b-44c4-8e76-6783f7682e79",
   "metadata": {},
   "outputs": [
    {
     "name": "stdout",
     "output_type": "stream",
     "text": [
      "10\n"
     ]
    }
   ],
   "source": [
    "# 問題2-1\n",
    "print(x)\n",
    "x = 55 + 29"
   ]
  },
  {
   "cell_type": "code",
   "execution_count": null,
   "id": "9660fa3c-fc6f-4569-9f7f-363365e051f9",
   "metadata": {},
   "outputs": [],
   "source": []
  }
 ],
 "metadata": {
  "kernelspec": {
   "display_name": "Python 3 (ipykernel)",
   "language": "python",
   "name": "python3"
  },
  "language_info": {
   "codemirror_mode": {
    "name": "ipython",
    "version": 3
   },
   "file_extension": ".py",
   "mimetype": "text/x-python",
   "name": "python",
   "nbconvert_exporter": "python",
   "pygments_lexer": "ipython3",
   "version": "3.10.12"
  }
 },
 "nbformat": 4,
 "nbformat_minor": 5
}
