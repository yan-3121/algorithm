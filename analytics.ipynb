{
 "cells": [
  {
   "cell_type": "markdown",
   "id": "1b77e09b-52c8-4aa7-8f1b-778232e7b5fd",
   "metadata": {},
   "source": [
    "# Python基礎（１）\n",
    "--- "
   ]
  },
  {
   "cell_type": "code",
   "execution_count": 1,
   "id": "5e0c8c4b-741f-41d1-aa0c-97180ef3625a",
   "metadata": {},
   "outputs": [
    {
     "data": {
      "text/plain": [
       "16"
      ]
     },
     "execution_count": 1,
     "metadata": {},
     "output_type": "execute_result"
    }
   ],
   "source": [
    "# 例題1-1\n",
    "2**4"
   ]
  },
  {
   "cell_type": "code",
   "execution_count": 4,
   "id": "587bdab0-7209-4bf1-897f-596595812324",
   "metadata": {},
   "outputs": [
    {
     "name": "stdout",
     "output_type": "stream",
     "text": [
      "9\n",
      "hello world!\n"
     ]
    }
   ],
   "source": [
    "# 例題1-2\n",
    "print(2 + 7)\n",
    "print('hello world!')"
   ]
  },
  {
   "cell_type": "code",
   "execution_count": 7,
   "id": "3a1cf3a3-6cc9-4901-b951-f725a79cacaf",
   "metadata": {},
   "outputs": [
    {
     "name": "stdout",
     "output_type": "stream",
     "text": [
      "10を3で割った時の商は 3\n",
      "余りは 1\n",
      "3.3333333333333335\n"
     ]
    }
   ],
   "source": [
    "# 例題1-3\n",
    "print('10を3で割った時の商は', 10 // 3)\n",
    "print('余りは', 10 % 3)\n",
    "print(10 / 3)"
   ]
  },
  {
   "cell_type": "code",
   "execution_count": 8,
   "id": "e424891f-c98f-4204-8ee5-a852158d96ea",
   "metadata": {},
   "outputs": [
    {
     "name": "stdout",
     "output_type": "stream",
     "text": [
      "hello world\n",
      "24\n"
     ]
    }
   ],
   "source": [
    "# 問題1-1\n",
    "print('hello world')\n",
    "print(4+4*5)"
   ]
  },
  {
   "cell_type": "code",
   "execution_count": 13,
   "id": "33a58d4c-be44-41a1-a988-fd24347491da",
   "metadata": {},
   "outputs": [
    {
     "name": "stdout",
     "output_type": "stream",
     "text": [
      "11211 12121 21112\n"
     ]
    }
   ],
   "source": [
    "# 問題1-2\n",
    "print(11211,12121,21112)"
   ]
  },
  {
   "cell_type": "code",
   "execution_count": 14,
   "id": "edd3a6cf-f6c8-454b-bee3-22a826963fa2",
   "metadata": {},
   "outputs": [
    {
     "name": "stdout",
     "output_type": "stream",
     "text": [
      "1024 7888609052210118054117285652827862296732064351090230047702789306640625\n"
     ]
    }
   ],
   "source": [
    "# 問題1-3\n",
    "print(2**10,5**100)"
   ]
  },
  {
   "cell_type": "code",
   "execution_count": 17,
   "id": "fe0a71dc-e277-4d92-b241-674ee1ef6398",
   "metadata": {},
   "outputs": [
    {
     "name": "stdout",
     "output_type": "stream",
     "text": [
      "(33 + 44) * 55 = 4235 2.1 + 4.3 + 6.5 = 12.9 (128 + 456) % 78 = 38\n"
     ]
    }
   ],
   "source": [
    "# 問題1-4\n",
    "a = (33 + 44) *55\n",
    "b = 2.1 + 4.3 + 6.5\n",
    "c = (128 + 456) % 78\n",
    "\n",
    "print(f'(33 + 44) * 55 = {a}',f'2.1 + 4.3 + 6.5 = {b}', f'(128 + 456) % 78 = {c}')"
   ]
  },
  {
   "cell_type": "code",
   "execution_count": 19,
   "id": "c3c7fd67-4958-4308-a74b-1f29e5c0e8f2",
   "metadata": {},
   "outputs": [
    {
     "name": "stdout",
     "output_type": "stream",
     "text": [
      "15\n",
      "945\n",
      "1464\n"
     ]
    }
   ],
   "source": [
    "# 問題1-5\n",
    "print(1 + 2 + 3 + 4 + 5)\n",
    "print(1 * 3 * 5 * 7 * 9)\n",
    "print(98 * 3 + 48 * 4 + 188 + (208 - 50) * 5)"
   ]
  },
  {
   "cell_type": "code",
   "execution_count": null,
   "id": "f333c8e1-cd16-4840-9ec1-78a4ac1ea6b8",
   "metadata": {},
   "outputs": [],
   "source": []
  }
 ],
 "metadata": {
  "kernelspec": {
   "display_name": "Python 3 (ipykernel)",
   "language": "python",
   "name": "python3"
  },
  "language_info": {
   "codemirror_mode": {
    "name": "ipython",
    "version": 3
   },
   "file_extension": ".py",
   "mimetype": "text/x-python",
   "name": "python",
   "nbconvert_exporter": "python",
   "pygments_lexer": "ipython3",
   "version": "3.10.12"
  }
 },
 "nbformat": 4,
 "nbformat_minor": 5
}
