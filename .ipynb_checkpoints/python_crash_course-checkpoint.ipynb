{
 "cells": [
  {
   "cell_type": "markdown",
   "id": "dc0f464c-161a-406e-b4af-d8db8c78b4ed",
   "metadata": {},
   "source": [
    "# Python_Crash_Course\n",
    "--- "
   ]
  },
  {
   "cell_type": "markdown",
   "id": "b7f8db89-8a1c-4d8a-9e9a-747a2f74b3d0",
   "metadata": {},
   "source": [
    "## 変数"
   ]
  },
  {
   "cell_type": "code",
   "execution_count": 1,
   "id": "aeac8836-b25d-40eb-b1ae-14301ace0b09",
   "metadata": {},
   "outputs": [
    {
     "name": "stdout",
     "output_type": "stream",
     "text": [
      "hello world!\n"
     ]
    }
   ],
   "source": [
    "print('hello world!')"
   ]
  },
  {
   "cell_type": "code",
   "execution_count": 2,
   "id": "c14b18d4-dbb9-4140-a8c2-6bc026df6563",
   "metadata": {},
   "outputs": [
    {
     "name": "stdout",
     "output_type": "stream",
     "text": [
      "Hello Python world!\n"
     ]
    }
   ],
   "source": [
    "message = 'Hello Python world!'\n",
    "print(message)"
   ]
  },
  {
   "cell_type": "code",
   "execution_count": 3,
   "id": "23bdb4ee-d8ae-4bb3-aba8-4cbafc87a16e",
   "metadata": {},
   "outputs": [
    {
     "name": "stdout",
     "output_type": "stream",
     "text": [
      "こんにちは最短距離でゼロからしっかり学ぶPython入門の読者の皆さん！\n"
     ]
    }
   ],
   "source": [
    "message = 'こんにちは最短距離でゼロからしっかり学ぶPython入門の読者の皆さん！'\n",
    "print(message)"
   ]
  },
  {
   "cell_type": "code",
   "execution_count": 5,
   "id": "d93b6404-b3a1-48f0-a0e8-8f457819076f",
   "metadata": {},
   "outputs": [
    {
     "name": "stdout",
     "output_type": "stream",
     "text": [
      "hello yan\n",
      "goodbye yonce\n"
     ]
    }
   ],
   "source": [
    "name = 'yan'\n",
    "print('hello',name)\n",
    "\n",
    "name = 'yonce'\n",
    "print('goodbye', name)"
   ]
  },
  {
   "cell_type": "markdown",
   "id": "ea3bbf21-d7f9-4105-8e04-a31ec6076261",
   "metadata": {},
   "source": [
    "## 文字列"
   ]
  },
  {
   "cell_type": "code",
   "execution_count": 10,
   "id": "cd96ecd0-118c-44a5-bd99-5477d1433290",
   "metadata": {},
   "outputs": [
    {
     "name": "stdout",
     "output_type": "stream",
     "text": [
      "Ada Lovelace\n",
      "ADA LOVELACE\n",
      "ada lovelace\n"
     ]
    }
   ],
   "source": [
    "name = 'ada lovelace'\n",
    "\n",
    "print(name.title())\n",
    "print(name.upper())\n",
    "print(name.lower())"
   ]
  },
  {
   "cell_type": "code",
   "execution_count": 13,
   "id": "98d2d4a8-ff27-4393-9252-8932de206184",
   "metadata": {},
   "outputs": [
    {
     "name": "stdout",
     "output_type": "stream",
     "text": [
      "Ada Lovelace\n"
     ]
    }
   ],
   "source": [
    "first_name ='ada'\n",
    "last_name = 'lovelace'\n",
    "full_name = f'{first_name.title()} {last_name.title()}'\n",
    "print(full_name)"
   ]
  },
  {
   "cell_type": "code",
   "execution_count": 16,
   "id": "1edf91e7-e0c6-4746-a550-74b7bf567aea",
   "metadata": {},
   "outputs": [
    {
     "name": "stdout",
     "output_type": "stream",
     "text": [
      "こんにちはAda Lovelace!\n",
      "こんにちは Ada Lovelace !\n"
     ]
    }
   ],
   "source": [
    "first_name ='ada'\n",
    "last_name = 'lovelace'\n",
    "full_name = f'{first_name} {last_name}'\n",
    "print(f'こんにちは{full_name.title()}!')\n",
    "print('こんにちは',full_name.title(),'!')"
   ]
  },
  {
   "cell_type": "code",
   "execution_count": 17,
   "id": "ed35cb35-3896-4fc0-b64b-231349ad0cf7",
   "metadata": {},
   "outputs": [
    {
     "name": "stdout",
     "output_type": "stream",
     "text": [
      "こんにちはAda Lovelace!\n"
     ]
    }
   ],
   "source": [
    "first_name = 'ada'\n",
    "last_name = 'lovelace'\n",
    "full_name = f'{first_name} {last_name}'\n",
    "message = f'こんにちは{full_name.title()}!'\n",
    "\n",
    "print(message)"
   ]
  },
  {
   "cell_type": "code",
   "execution_count": 20,
   "id": "a7720772-6675-4bb5-9064-c654a57a7d2c",
   "metadata": {},
   "outputs": [
    {
     "name": "stdout",
     "output_type": "stream",
     "text": [
      "Ada Lovelace\n"
     ]
    }
   ],
   "source": [
    "first_name = 'ada'\n",
    "last_name = 'lovelace'\n",
    "full_name = '{} {}'.format(first_name.title(),last_name.title())\n",
    "\n",
    "print(full_name)"
   ]
  },
  {
   "cell_type": "code",
   "execution_count": 24,
   "id": "1d231040-c74e-413a-91d9-499d1d618aef",
   "metadata": {},
   "outputs": [
    {
     "name": "stdout",
     "output_type": "stream",
     "text": [
      "Python\n",
      "\tPython\n",
      "Languages:\n",
      "Python\n",
      "C\n",
      "JavaScript\n"
     ]
    }
   ],
   "source": [
    "print('python'.title())\n",
    "print('\\tpython'.title())\n",
    "print('Languages:\\nPython\\nC\\nJavaScript')"
   ]
  },
  {
   "cell_type": "code",
   "execution_count": null,
   "id": "bdee6e08-6886-43ad-8333-5f587b589b88",
   "metadata": {},
   "outputs": [],
   "source": []
  }
 ],
 "metadata": {
  "kernelspec": {
   "display_name": "Python 3 (ipykernel)",
   "language": "python",
   "name": "python3"
  },
  "language_info": {
   "codemirror_mode": {
    "name": "ipython",
    "version": 3
   },
   "file_extension": ".py",
   "mimetype": "text/x-python",
   "name": "python",
   "nbconvert_exporter": "python",
   "pygments_lexer": "ipython3",
   "version": "3.10.12"
  }
 },
 "nbformat": 4,
 "nbformat_minor": 5
}
