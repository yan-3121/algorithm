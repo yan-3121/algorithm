{
 "cells": [
  {
   "cell_type": "markdown",
   "id": "dc0f464c-161a-406e-b4af-d8db8c78b4ed",
   "metadata": {},
   "source": [
    "# Python_Crash_Course\n",
    "--- "
   ]
  },
  {
   "cell_type": "markdown",
   "id": "dda728eb-a0c4-4f9a-9215-223a15d77597",
   "metadata": {},
   "source": [
    "## 第２章_変数とシンプルなデータ型"
   ]
  },
  {
   "cell_type": "markdown",
   "id": "b7f8db89-8a1c-4d8a-9e9a-747a2f74b3d0",
   "metadata": {},
   "source": [
    "### 変数"
   ]
  },
  {
   "cell_type": "code",
   "execution_count": 1,
   "id": "aeac8836-b25d-40eb-b1ae-14301ace0b09",
   "metadata": {},
   "outputs": [
    {
     "name": "stdout",
     "output_type": "stream",
     "text": [
      "hello world!\n"
     ]
    }
   ],
   "source": [
    "print('hello world!')"
   ]
  },
  {
   "cell_type": "code",
   "execution_count": 2,
   "id": "c14b18d4-dbb9-4140-a8c2-6bc026df6563",
   "metadata": {},
   "outputs": [
    {
     "name": "stdout",
     "output_type": "stream",
     "text": [
      "Hello Python world!\n"
     ]
    }
   ],
   "source": [
    "message = 'Hello Python world!'\n",
    "print(message)"
   ]
  },
  {
   "cell_type": "code",
   "execution_count": 3,
   "id": "23bdb4ee-d8ae-4bb3-aba8-4cbafc87a16e",
   "metadata": {},
   "outputs": [
    {
     "name": "stdout",
     "output_type": "stream",
     "text": [
      "こんにちは最短距離でゼロからしっかり学ぶPython入門の読者の皆さん！\n"
     ]
    }
   ],
   "source": [
    "message = 'こんにちは最短距離でゼロからしっかり学ぶPython入門の読者の皆さん！'\n",
    "print(message)"
   ]
  },
  {
   "cell_type": "code",
   "execution_count": 5,
   "id": "d93b6404-b3a1-48f0-a0e8-8f457819076f",
   "metadata": {},
   "outputs": [
    {
     "name": "stdout",
     "output_type": "stream",
     "text": [
      "hello yan\n",
      "goodbye yonce\n"
     ]
    }
   ],
   "source": [
    "name = 'yan'\n",
    "print('hello',name)\n",
    "\n",
    "name = 'yonce'\n",
    "print('goodbye', name)"
   ]
  },
  {
   "cell_type": "markdown",
   "id": "ea3bbf21-d7f9-4105-8e04-a31ec6076261",
   "metadata": {},
   "source": [
    "### 文字列"
   ]
  },
  {
   "cell_type": "code",
   "execution_count": 10,
   "id": "cd96ecd0-118c-44a5-bd99-5477d1433290",
   "metadata": {},
   "outputs": [
    {
     "name": "stdout",
     "output_type": "stream",
     "text": [
      "Ada Lovelace\n",
      "ADA LOVELACE\n",
      "ada lovelace\n"
     ]
    }
   ],
   "source": [
    "name = 'ada lovelace'\n",
    "\n",
    "print(name.title())\n",
    "print(name.upper())\n",
    "print(name.lower())"
   ]
  },
  {
   "cell_type": "code",
   "execution_count": 13,
   "id": "98d2d4a8-ff27-4393-9252-8932de206184",
   "metadata": {},
   "outputs": [
    {
     "name": "stdout",
     "output_type": "stream",
     "text": [
      "Ada Lovelace\n"
     ]
    }
   ],
   "source": [
    "first_name ='ada'\n",
    "last_name = 'lovelace'\n",
    "full_name = f'{first_name.title()} {last_name.title()}'\n",
    "print(full_name)"
   ]
  },
  {
   "cell_type": "code",
   "execution_count": 16,
   "id": "1edf91e7-e0c6-4746-a550-74b7bf567aea",
   "metadata": {},
   "outputs": [
    {
     "name": "stdout",
     "output_type": "stream",
     "text": [
      "こんにちはAda Lovelace!\n",
      "こんにちは Ada Lovelace !\n"
     ]
    }
   ],
   "source": [
    "first_name ='ada'\n",
    "last_name = 'lovelace'\n",
    "full_name = f'{first_name} {last_name}'\n",
    "print(f'こんにちは{full_name.title()}!')\n",
    "print('こんにちは',full_name.title(),'!')"
   ]
  },
  {
   "cell_type": "code",
   "execution_count": 17,
   "id": "ed35cb35-3896-4fc0-b64b-231349ad0cf7",
   "metadata": {},
   "outputs": [
    {
     "name": "stdout",
     "output_type": "stream",
     "text": [
      "こんにちはAda Lovelace!\n"
     ]
    }
   ],
   "source": [
    "first_name = 'ada'\n",
    "last_name = 'lovelace'\n",
    "full_name = f'{first_name} {last_name}'\n",
    "message = f'こんにちは{full_name.title()}!'\n",
    "\n",
    "print(message)"
   ]
  },
  {
   "cell_type": "code",
   "execution_count": 20,
   "id": "a7720772-6675-4bb5-9064-c654a57a7d2c",
   "metadata": {},
   "outputs": [
    {
     "name": "stdout",
     "output_type": "stream",
     "text": [
      "Ada Lovelace\n"
     ]
    }
   ],
   "source": [
    "first_name = 'ada'\n",
    "last_name = 'lovelace'\n",
    "full_name = '{} {}'.format(first_name.title(),last_name.title())\n",
    "\n",
    "print(full_name)"
   ]
  },
  {
   "cell_type": "code",
   "execution_count": 24,
   "id": "1d231040-c74e-413a-91d9-499d1d618aef",
   "metadata": {},
   "outputs": [
    {
     "name": "stdout",
     "output_type": "stream",
     "text": [
      "Python\n",
      "\tPython\n",
      "Languages:\n",
      "Python\n",
      "C\n",
      "JavaScript\n"
     ]
    }
   ],
   "source": [
    "print('python'.title())\n",
    "print('\\tpython'.title())\n",
    "print('Languages:\\nPython\\nC\\nJavaScript')"
   ]
  },
  {
   "cell_type": "code",
   "execution_count": 2,
   "id": "bdee6e08-6886-43ad-8333-5f587b589b88",
   "metadata": {},
   "outputs": [
    {
     "name": "stdout",
     "output_type": "stream",
     "text": [
      "python\n"
     ]
    }
   ],
   "source": [
    "favorite_language = 'python '\n",
    "print(favorite_language.rstrip())"
   ]
  },
  {
   "cell_type": "code",
   "execution_count": 3,
   "id": "330b220d-310e-4e67-a4f9-399b35330450",
   "metadata": {},
   "outputs": [
    {
     "name": "stdout",
     "output_type": "stream",
     "text": [
      "python \n"
     ]
    }
   ],
   "source": [
    "print(favorite_language)"
   ]
  },
  {
   "cell_type": "code",
   "execution_count": 6,
   "id": "711b9269-9689-433c-a59b-9554fba63c81",
   "metadata": {},
   "outputs": [
    {
     "name": "stdout",
     "output_type": "stream",
     "text": [
      " python\n",
      "python\n",
      "python\n"
     ]
    }
   ],
   "source": [
    "favorite_language =' python'\n",
    "print(favorite_language.rstrip())\n",
    "print(favorite_language.lstrip())\n",
    "print(favorite_language.strip())"
   ]
  },
  {
   "cell_type": "code",
   "execution_count": 8,
   "id": "e3e3d400-644c-49a5-91e3-e960b29be4b5",
   "metadata": {},
   "outputs": [
    {
     "ename": "SyntaxError",
     "evalue": "unterminated string literal (detected at line 1) (1265700866.py, line 1)",
     "output_type": "error",
     "traceback": [
      "\u001b[0;36m  Cell \u001b[0;32mIn[8], line 1\u001b[0;36m\u001b[0m\n\u001b[0;31m    message = 'One of Python's strengths is its diverse community.'\u001b[0m\n\u001b[0m                                                                  ^\u001b[0m\n\u001b[0;31mSyntaxError\u001b[0m\u001b[0;31m:\u001b[0m unterminated string literal (detected at line 1)\n"
     ]
    }
   ],
   "source": [
    "message = 'One of Python's strengths is its diverse community.'\n",
    "print(message)"
   ]
  },
  {
   "cell_type": "code",
   "execution_count": 9,
   "id": "23e7524c-8eee-4eb0-adbd-0183e2dd517c",
   "metadata": {},
   "outputs": [
    {
     "name": "stdout",
     "output_type": "stream",
     "text": [
      "こんにちはEric、今日はPythonを学びますか？\n"
     ]
    }
   ],
   "source": [
    "name = 'eric'\n",
    "language = 'Python'\n",
    "\n",
    "print(f'こんにちは{name.title()}、今日は{language.title()}を学びますか？')"
   ]
  },
  {
   "cell_type": "code",
   "execution_count": 14,
   "id": "1bd95636-4035-419f-9599-2d79c833abab",
   "metadata": {},
   "outputs": [
    {
     "name": "stdout",
     "output_type": "stream",
     "text": [
      "Eric Martin\n"
     ]
    }
   ],
   "source": [
    "first_name = 'eric'\n",
    "last_name = 'martin'\n",
    "full_name = f'{first_name.title()} {last_name.title()}'\n",
    "\n",
    "print(full_name)"
   ]
  },
  {
   "cell_type": "code",
   "execution_count": 19,
   "id": "ed27a892-570d-4284-bc93-b6c4452af9da",
   "metadata": {},
   "outputs": [
    {
     "name": "stdout",
     "output_type": "stream",
     "text": [
      "JOHN LENNONは\"LOVE&PEACEと言った。\n"
     ]
    }
   ],
   "source": [
    "celebrity = 'John Lennon '\n",
    "wise_saying = 'LOVE&PEACE'\n",
    "\n",
    "print(f'{celebrity.upper().strip()}は\"{wise_saying}と言った。')"
   ]
  },
  {
   "cell_type": "markdown",
   "id": "bbf647fc-777e-4b05-9124-343c98b05851",
   "metadata": {},
   "source": [
    "### 数値"
   ]
  },
  {
   "cell_type": "code",
   "execution_count": 20,
   "id": "e2264cf3-059e-4d6c-ac1c-3beb98cfaa42",
   "metadata": {},
   "outputs": [
    {
     "name": "stdout",
     "output_type": "stream",
     "text": [
      "2\n",
      "3\n"
     ]
    }
   ],
   "source": [
    "print(1+1)\n",
    "print(1+2)"
   ]
  },
  {
   "cell_type": "code",
   "execution_count": 21,
   "id": "fd840c66-9798-4635-8723-d48fe87ff13d",
   "metadata": {},
   "outputs": [],
   "source": [
    "a = 5"
   ]
  },
  {
   "cell_type": "code",
   "execution_count": 24,
   "id": "8fad5250-8cc5-4f0f-873d-b7079836655e",
   "metadata": {},
   "outputs": [
    {
     "name": "stdout",
     "output_type": "stream",
     "text": [
      "7\n"
     ]
    }
   ],
   "source": [
    "print(a)"
   ]
  },
  {
   "cell_type": "code",
   "execution_count": 25,
   "id": "7a5e7bde-8a6f-46a5-a1a5-e54b1c3291c7",
   "metadata": {},
   "outputs": [],
   "source": [
    "a = 7"
   ]
  },
  {
   "cell_type": "code",
   "execution_count": 26,
   "id": "ec1cbcf9-fe56-491b-880c-902e16373470",
   "metadata": {},
   "outputs": [
    {
     "data": {
      "text/plain": [
       "5"
      ]
     },
     "execution_count": 26,
     "metadata": {},
     "output_type": "execute_result"
    }
   ],
   "source": [
    "2 +3"
   ]
  },
  {
   "cell_type": "code",
   "execution_count": 27,
   "id": "383b8008-c144-490f-b274-abab9875e754",
   "metadata": {},
   "outputs": [
    {
     "data": {
      "text/plain": [
       "1"
      ]
     },
     "execution_count": 27,
     "metadata": {},
     "output_type": "execute_result"
    }
   ],
   "source": [
    "3 - 2"
   ]
  },
  {
   "cell_type": "code",
   "execution_count": 28,
   "id": "b70dcd1a-2c5f-4b41-9ee3-e1d524ab2588",
   "metadata": {},
   "outputs": [
    {
     "data": {
      "text/plain": [
       "6"
      ]
     },
     "execution_count": 28,
     "metadata": {},
     "output_type": "execute_result"
    }
   ],
   "source": [
    "2 * 3"
   ]
  },
  {
   "cell_type": "code",
   "execution_count": 29,
   "id": "cb5abc8a-fc8f-44ba-9f86-69c06d4da1e4",
   "metadata": {},
   "outputs": [
    {
     "data": {
      "text/plain": [
       "1.5"
      ]
     },
     "execution_count": 29,
     "metadata": {},
     "output_type": "execute_result"
    }
   ],
   "source": [
    "3 / 2"
   ]
  },
  {
   "cell_type": "code",
   "execution_count": 30,
   "id": "1decfd0a-3473-4b2f-99a8-e6e0b3686df3",
   "metadata": {},
   "outputs": [
    {
     "data": {
      "text/plain": [
       "9"
      ]
     },
     "execution_count": 30,
     "metadata": {},
     "output_type": "execute_result"
    }
   ],
   "source": [
    "3 ** 2"
   ]
  },
  {
   "cell_type": "code",
   "execution_count": 31,
   "id": "b5c7b6c4-5344-4432-ba3e-50d4a53cc708",
   "metadata": {},
   "outputs": [
    {
     "data": {
      "text/plain": [
       "27"
      ]
     },
     "execution_count": 31,
     "metadata": {},
     "output_type": "execute_result"
    }
   ],
   "source": [
    "3 ** 3"
   ]
  },
  {
   "cell_type": "code",
   "execution_count": 32,
   "id": "db3bdc01-0298-430d-976e-1f49c5ff3e89",
   "metadata": {},
   "outputs": [
    {
     "data": {
      "text/plain": [
       "1000000"
      ]
     },
     "execution_count": 32,
     "metadata": {},
     "output_type": "execute_result"
    }
   ],
   "source": [
    "10 ** 6"
   ]
  },
  {
   "cell_type": "code",
   "execution_count": 33,
   "id": "56754668-21cf-440a-82da-e7e70657ca7a",
   "metadata": {},
   "outputs": [
    {
     "data": {
      "text/plain": [
       "14"
      ]
     },
     "execution_count": 33,
     "metadata": {},
     "output_type": "execute_result"
    }
   ],
   "source": [
    "2 + 3*4"
   ]
  },
  {
   "cell_type": "code",
   "execution_count": 34,
   "id": "1c97e590-a1ca-4a5a-addd-cde3d7cdc926",
   "metadata": {},
   "outputs": [
    {
     "data": {
      "text/plain": [
       "20"
      ]
     },
     "execution_count": 34,
     "metadata": {},
     "output_type": "execute_result"
    }
   ],
   "source": [
    "(2 + 3) * 4"
   ]
  },
  {
   "cell_type": "code",
   "execution_count": 35,
   "id": "7d81f918-b432-4171-af38-ce9fc1bfa9fd",
   "metadata": {},
   "outputs": [
    {
     "data": {
      "text/plain": [
       "0.2"
      ]
     },
     "execution_count": 35,
     "metadata": {},
     "output_type": "execute_result"
    }
   ],
   "source": [
    "0.1 + 0.1"
   ]
  },
  {
   "cell_type": "code",
   "execution_count": 36,
   "id": "b93d27f1-f874-4fa7-b2a4-f6eb5b8e9d7d",
   "metadata": {},
   "outputs": [
    {
     "data": {
      "text/plain": [
       "0.4"
      ]
     },
     "execution_count": 36,
     "metadata": {},
     "output_type": "execute_result"
    }
   ],
   "source": [
    "0.2 + 0.2"
   ]
  },
  {
   "cell_type": "code",
   "execution_count": 37,
   "id": "55624b48-9648-4e56-87bd-ebf2709baafc",
   "metadata": {},
   "outputs": [
    {
     "data": {
      "text/plain": [
       "0.2"
      ]
     },
     "execution_count": 37,
     "metadata": {},
     "output_type": "execute_result"
    }
   ],
   "source": [
    "2 * 0.1"
   ]
  },
  {
   "cell_type": "code",
   "execution_count": 38,
   "id": "6c7a58fb-e952-4239-9d63-8fb31ed167a3",
   "metadata": {},
   "outputs": [
    {
     "data": {
      "text/plain": [
       "0.4"
      ]
     },
     "execution_count": 38,
     "metadata": {},
     "output_type": "execute_result"
    }
   ],
   "source": [
    "2 * 0.2"
   ]
  },
  {
   "cell_type": "code",
   "execution_count": 39,
   "id": "6e0d8021-507f-41c6-81e9-52f5218e0fbe",
   "metadata": {},
   "outputs": [
    {
     "data": {
      "text/plain": [
       "0.30000000000000004"
      ]
     },
     "execution_count": 39,
     "metadata": {},
     "output_type": "execute_result"
    }
   ],
   "source": [
    "0.2 +  0.1"
   ]
  },
  {
   "cell_type": "code",
   "execution_count": 40,
   "id": "e50407a4-cfcc-48e8-8bf8-9b59d363cb20",
   "metadata": {},
   "outputs": [
    {
     "data": {
      "text/plain": [
       "0.30000000000000004"
      ]
     },
     "execution_count": 40,
     "metadata": {},
     "output_type": "execute_result"
    }
   ],
   "source": [
    "3 * 0.1"
   ]
  },
  {
   "cell_type": "code",
   "execution_count": 41,
   "id": "c4252f30-15cb-4455-88fb-10c770d1ef07",
   "metadata": {},
   "outputs": [
    {
     "data": {
      "text/plain": [
       "2.0"
      ]
     },
     "execution_count": 41,
     "metadata": {},
     "output_type": "execute_result"
    }
   ],
   "source": [
    "4 / 2"
   ]
  },
  {
   "cell_type": "code",
   "execution_count": 42,
   "id": "f12006b6-a325-4be7-b693-73a558e50efd",
   "metadata": {},
   "outputs": [
    {
     "data": {
      "text/plain": [
       "3.0"
      ]
     },
     "execution_count": 42,
     "metadata": {},
     "output_type": "execute_result"
    }
   ],
   "source": [
    "1 + 2.0"
   ]
  },
  {
   "cell_type": "code",
   "execution_count": 43,
   "id": "a1df15a7-e907-4f9a-8559-b35930a508cb",
   "metadata": {},
   "outputs": [
    {
     "data": {
      "text/plain": [
       "6.0"
      ]
     },
     "execution_count": 43,
     "metadata": {},
     "output_type": "execute_result"
    }
   ],
   "source": [
    "2 * 3.0"
   ]
  },
  {
   "cell_type": "code",
   "execution_count": 45,
   "id": "eb6f0cef-9ba0-42ed-aef3-907fac7324b8",
   "metadata": {},
   "outputs": [
    {
     "data": {
      "text/plain": [
       "9.0"
      ]
     },
     "execution_count": 45,
     "metadata": {},
     "output_type": "execute_result"
    }
   ],
   "source": [
    "3.0 ** 2"
   ]
  },
  {
   "cell_type": "code",
   "execution_count": 46,
   "id": "9e95697c-5774-4dd9-9842-dc9af47526b5",
   "metadata": {},
   "outputs": [
    {
     "name": "stdout",
     "output_type": "stream",
     "text": [
      "14000000000\n"
     ]
    }
   ],
   "source": [
    "universe_age = 14_000_000_000\n",
    "print(universe_age)"
   ]
  },
  {
   "cell_type": "code",
   "execution_count": 47,
   "id": "c63ce654-74f4-443c-a60f-7754fd9c652e",
   "metadata": {},
   "outputs": [],
   "source": [
    "x, y, z = 0, 0, 0"
   ]
  },
  {
   "cell_type": "code",
   "execution_count": 48,
   "id": "3769afbc-a1a4-4d65-b2b9-dc3b2c603285",
   "metadata": {},
   "outputs": [
    {
     "name": "stdout",
     "output_type": "stream",
     "text": [
      "0\n"
     ]
    }
   ],
   "source": [
    "print(x)"
   ]
  },
  {
   "cell_type": "markdown",
   "id": "2a836437-7d52-408a-9c79-5b3615bfef2f",
   "metadata": {},
   "source": [
    "### 定数"
   ]
  },
  {
   "cell_type": "code",
   "execution_count": 49,
   "id": "2b4092b2-17ae-4250-ab44-cb1931e1ab67",
   "metadata": {},
   "outputs": [],
   "source": [
    "MAX_CONNECTIONS = 5000"
   ]
  },
  {
   "cell_type": "code",
   "execution_count": 51,
   "id": "a9a10872-8658-405b-ba0c-33cab642560e",
   "metadata": {},
   "outputs": [
    {
     "name": "stdout",
     "output_type": "stream",
     "text": [
      "8\n",
      "8\n",
      "8\n",
      "8\n",
      "8\n"
     ]
    }
   ],
   "source": [
    "# 2-8\n",
    "print(5 + 3)\n",
    "print(4 + 4)\n",
    "print(3 + 5)\n",
    "print(2 + 6)\n",
    "print(7 + 1)"
   ]
  },
  {
   "cell_type": "code",
   "execution_count": 2,
   "id": "3e97f15b-ee85-4e65-aa10-a78b3e582d64",
   "metadata": {},
   "outputs": [
    {
     "name": "stdout",
     "output_type": "stream",
     "text": [
      "私の好きな数字は5です\n"
     ]
    }
   ],
   "source": [
    "# 2-9\n",
    "number = 5\n",
    "print(f'私の好きな数字は{number}です')"
   ]
  },
  {
   "cell_type": "markdown",
   "id": "bebe9d92-159b-41db-83a5-55be64ef0fc7",
   "metadata": {},
   "source": [
    "### コメント"
   ]
  },
  {
   "cell_type": "code",
   "execution_count": 3,
   "id": "d41eeb16-c788-428a-8fc0-23c8a69874cb",
   "metadata": {},
   "outputs": [
    {
     "name": "stdout",
     "output_type": "stream",
     "text": [
      "こんにちはPython使いの皆さん！\n"
     ]
    }
   ],
   "source": [
    "# みんな「こんにちは」と言う\n",
    "language = 'python'\n",
    "print(f'こんにちは{language.title()}使いの皆さん！')"
   ]
  },
  {
   "cell_type": "code",
   "execution_count": 4,
   "id": "e3bff5b9-2b91-4eeb-96ab-8ad9e3d3fcdb",
   "metadata": {},
   "outputs": [
    {
     "name": "stdout",
     "output_type": "stream",
     "text": [
      "The Zen of Python, by Tim Peters\n",
      "\n",
      "Beautiful is better than ugly.\n",
      "Explicit is better than implicit.\n",
      "Simple is better than complex.\n",
      "Complex is better than complicated.\n",
      "Flat is better than nested.\n",
      "Sparse is better than dense.\n",
      "Readability counts.\n",
      "Special cases aren't special enough to break the rules.\n",
      "Although practicality beats purity.\n",
      "Errors should never pass silently.\n",
      "Unless explicitly silenced.\n",
      "In the face of ambiguity, refuse the temptation to guess.\n",
      "There should be one-- and preferably only one --obvious way to do it.\n",
      "Although that way may not be obvious at first unless you're Dutch.\n",
      "Now is better than never.\n",
      "Although never is often better than *right* now.\n",
      "If the implementation is hard to explain, it's a bad idea.\n",
      "If the implementation is easy to explain, it may be a good idea.\n",
      "Namespaces are one honking great idea -- let's do more of those!\n"
     ]
    }
   ],
   "source": [
    "import this"
   ]
  },
  {
   "cell_type": "markdown",
   "id": "27c55b95-a87e-4fbc-9a2e-cd4843611553",
   "metadata": {},
   "source": [
    "## 第３章_リスト入門"
   ]
  },
  {
   "cell_type": "markdown",
   "id": "c6f2b50a-3ea3-4a21-b765-82dfdd6257d3",
   "metadata": {},
   "source": [
    "### リストとは"
   ]
  },
  {
   "cell_type": "code",
   "execution_count": 5,
   "id": "8e9af910-eda2-4272-83d4-82cd95b2b179",
   "metadata": {},
   "outputs": [
    {
     "name": "stdout",
     "output_type": "stream",
     "text": [
      "['trek', 'cannondale', 'redline', 'specialized']\n"
     ]
    }
   ],
   "source": [
    "bicycles = ['trek', 'cannondale', 'redline', 'specialized']\n",
    "print(bicycles)"
   ]
  },
  {
   "cell_type": "code",
   "execution_count": 6,
   "id": "629cceff-580e-4053-bcc9-c87a82c357de",
   "metadata": {},
   "outputs": [
    {
     "name": "stdout",
     "output_type": "stream",
     "text": [
      "trek\n"
     ]
    }
   ],
   "source": [
    "print(bicycles[0])"
   ]
  },
  {
   "cell_type": "code",
   "execution_count": 7,
   "id": "82e7c17e-6a48-4093-bcdb-f8116fd99afb",
   "metadata": {},
   "outputs": [
    {
     "name": "stdout",
     "output_type": "stream",
     "text": [
      "Redline\n"
     ]
    }
   ],
   "source": [
    "print(bicycles[2].title())"
   ]
  },
  {
   "cell_type": "code",
   "execution_count": 9,
   "id": "f60a0317-965c-4b07-9e35-a59ec94748e7",
   "metadata": {},
   "outputs": [
    {
     "name": "stdout",
     "output_type": "stream",
     "text": [
      "CANNONDALE\n",
      "specialized\n"
     ]
    }
   ],
   "source": [
    "print(bicycles[1].upper())\n",
    "print(bicycles[3].lower())"
   ]
  },
  {
   "cell_type": "code",
   "execution_count": 10,
   "id": "dda5002e-850f-4f2d-889c-4e311ea6912f",
   "metadata": {},
   "outputs": [
    {
     "name": "stdout",
     "output_type": "stream",
     "text": [
      "specialized\n"
     ]
    }
   ],
   "source": [
    "print(bicycles[-1])"
   ]
  },
  {
   "cell_type": "code",
   "execution_count": 11,
   "id": "5977284a-2348-4e22-86d7-27597b36bd84",
   "metadata": {},
   "outputs": [
    {
     "name": "stdout",
     "output_type": "stream",
     "text": [
      "cannondale\n"
     ]
    }
   ],
   "source": [
    "print(bicycles[-3])"
   ]
  },
  {
   "cell_type": "code",
   "execution_count": 12,
   "id": "d41fcc31-e2a8-4000-ab0d-b9dcbe0c232e",
   "metadata": {},
   "outputs": [
    {
     "name": "stdout",
     "output_type": "stream",
     "text": [
      "私の最初の自転車はTrekでした。\n"
     ]
    }
   ],
   "source": [
    "message = f'私の最初の自転車は{bicycles[0].title()}でした。'\n",
    "\n",
    "print(message)"
   ]
  },
  {
   "cell_type": "code",
   "execution_count": 14,
   "id": "61414c12-9f6a-415a-8fca-b022440033ba",
   "metadata": {},
   "outputs": [
    {
     "name": "stdout",
     "output_type": "stream",
     "text": [
      "Paul\n"
     ]
    }
   ],
   "source": [
    "# 3-1\n",
    "names = ['john', 'paul', 'george', 'ringo']\n",
    "print(names[1].title())"
   ]
  },
  {
   "cell_type": "code",
   "execution_count": 16,
   "id": "102985b3-4cd7-4238-89e6-548d5ac17af6",
   "metadata": {},
   "outputs": [
    {
     "name": "stdout",
     "output_type": "stream",
     "text": [
      "good morning John!\n"
     ]
    }
   ],
   "source": [
    "print(f'good morning {names[0].title()}!')"
   ]
  },
  {
   "cell_type": "code",
   "execution_count": 17,
   "id": "a2b43cd3-8741-453e-8c4e-b7a7798ba010",
   "metadata": {},
   "outputs": [
    {
     "name": "stdout",
     "output_type": "stream",
     "text": [
      "私はTOYOTAの車が欲しい\n"
     ]
    }
   ],
   "source": [
    "cars = ['toyota', 'suzuki', 'honda', 'nissan']\n",
    "message = f'私は{cars[0].upper()}の車が欲しい'\n",
    "\n",
    "print(message)"
   ]
  },
  {
   "cell_type": "markdown",
   "id": "6a482a21-e1b2-4f0a-a2db-5b2f58c6c36e",
   "metadata": {},
   "source": [
    "### 要素を変更、追加、削除する"
   ]
  },
  {
   "cell_type": "code",
   "execution_count": 18,
   "id": "b2378dad-9f8e-491c-8a42-768437de285c",
   "metadata": {},
   "outputs": [
    {
     "name": "stdout",
     "output_type": "stream",
     "text": [
      "['honda', 'yamaha', 'suzui']\n"
     ]
    }
   ],
   "source": [
    "motorcycles = ['honda', 'yamaha', 'suzui']\n",
    "print(motorcycles)"
   ]
  },
  {
   "cell_type": "code",
   "execution_count": 19,
   "id": "379d5859-895c-4ac0-868f-b74b294af76c",
   "metadata": {},
   "outputs": [
    {
     "name": "stdout",
     "output_type": "stream",
     "text": [
      "['ducati', 'yamaha', 'suzui']\n"
     ]
    }
   ],
   "source": [
    "motorcycles[0] = 'ducati'\n",
    "print(motorcycles)"
   ]
  },
  {
   "cell_type": "code",
   "execution_count": 20,
   "id": "4b91fdeb-37eb-4d95-99bd-70d767da2107",
   "metadata": {},
   "outputs": [],
   "source": [
    "motorcycles[0] = 'honda'"
   ]
  },
  {
   "cell_type": "code",
   "execution_count": 21,
   "id": "0c2ae7ff-abd2-49f4-be71-12441f852a3e",
   "metadata": {},
   "outputs": [
    {
     "name": "stdout",
     "output_type": "stream",
     "text": [
      "['honda', 'yamaha', 'suzui', 'ducati']\n"
     ]
    }
   ],
   "source": [
    "motorcycles.append('ducati')\n",
    "print(motorcycles)"
   ]
  },
  {
   "cell_type": "code",
   "execution_count": 22,
   "id": "20ea778e-bb58-4a7e-a805-bddc8aab41e8",
   "metadata": {},
   "outputs": [],
   "source": [
    "motorcycles = []"
   ]
  },
  {
   "cell_type": "code",
   "execution_count": 23,
   "id": "1e2d3b7e-2cb1-4a87-a9e1-b3a91d297182",
   "metadata": {},
   "outputs": [
    {
     "name": "stdout",
     "output_type": "stream",
     "text": [
      "[]\n"
     ]
    }
   ],
   "source": [
    "print(motorcycles)"
   ]
  },
  {
   "cell_type": "code",
   "execution_count": 24,
   "id": "51c46c4d-b0da-4fdf-aa1e-86b87a0b50db",
   "metadata": {},
   "outputs": [
    {
     "name": "stdout",
     "output_type": "stream",
     "text": [
      "['honda', 'yamaha', 'suzuki']\n"
     ]
    }
   ],
   "source": [
    "motorcycles.append('honda')\n",
    "motorcycles.append('yamaha')\n",
    "motorcycles.append('suzuki')\n",
    "\n",
    "print(motorcycles)"
   ]
  },
  {
   "cell_type": "code",
   "execution_count": 25,
   "id": "d11e2de8-a764-449c-9c5c-c35492913cf6",
   "metadata": {},
   "outputs": [
    {
     "name": "stdout",
     "output_type": "stream",
     "text": [
      "['ducati', 'honda', 'yamaha', 'suzuki']\n"
     ]
    }
   ],
   "source": [
    "motorcycles.insert(0, 'ducati')\n",
    "print(motorcycles)"
   ]
  },
  {
   "cell_type": "markdown",
   "id": "9cdbe968-a570-45cf-ae88-050a6f3b8054",
   "metadata": {},
   "source": [
    "### リストから要素を削除する"
   ]
  },
  {
   "cell_type": "code",
   "execution_count": 26,
   "id": "8030f2b5-b446-46d1-8ae3-0ea2417b000a",
   "metadata": {},
   "outputs": [
    {
     "name": "stdout",
     "output_type": "stream",
     "text": [
      "['honda', 'yamaha', 'suzuki']\n"
     ]
    }
   ],
   "source": [
    "del motorcycles[0]\n",
    "\n",
    "print(motorcycles)"
   ]
  },
  {
   "cell_type": "code",
   "execution_count": 27,
   "id": "5310639d-40ec-48e7-b001-5804be0475e7",
   "metadata": {},
   "outputs": [
    {
     "name": "stdout",
     "output_type": "stream",
     "text": [
      "['honda', 'suzuki']\n"
     ]
    }
   ],
   "source": [
    "del motorcycles[1]\n",
    "\n",
    "print(motorcycles)"
   ]
  },
  {
   "cell_type": "code",
   "execution_count": 28,
   "id": "021c230a-6e80-4d47-921b-1b44be6295db",
   "metadata": {},
   "outputs": [
    {
     "name": "stdout",
     "output_type": "stream",
     "text": [
      "['honda', 'yamaha', 'suzuki']\n"
     ]
    }
   ],
   "source": [
    "motorcycles.insert(1, 'yamaha')\n",
    "print(motorcycles)"
   ]
  },
  {
   "cell_type": "code",
   "execution_count": 29,
   "id": "c6e13c2b-4f0d-49a2-9c32-3bb2bd8c7d56",
   "metadata": {},
   "outputs": [
    {
     "name": "stdout",
     "output_type": "stream",
     "text": [
      "['honda', 'yamaha', 'suzuki']\n"
     ]
    }
   ],
   "source": [
    "print(motorcycles)"
   ]
  },
  {
   "cell_type": "code",
   "execution_count": 30,
   "id": "52613ac6-0431-43a0-bcc0-7aae63bb0340",
   "metadata": {},
   "outputs": [
    {
     "name": "stdout",
     "output_type": "stream",
     "text": [
      "['honda', 'yamaha']\n",
      "suzuki\n"
     ]
    }
   ],
   "source": [
    "popped_motorcycle = motorcycles.pop()\n",
    "print(motorcycles)\n",
    "print(popped_motorcycle)"
   ]
  },
  {
   "cell_type": "code",
   "execution_count": 31,
   "id": "d037407f-998c-4657-84da-08037172e6b9",
   "metadata": {},
   "outputs": [
    {
     "name": "stdout",
     "output_type": "stream",
     "text": [
      "['honda', 'yamaha', 'suzuki']\n"
     ]
    }
   ],
   "source": [
    "motorcycles.insert(2, 'suzuki')\n",
    "print(motorcycles)"
   ]
  },
  {
   "cell_type": "code",
   "execution_count": 32,
   "id": "0170efcc-5d59-4f27-b4c0-96ff1d22e4dd",
   "metadata": {},
   "outputs": [
    {
     "name": "stdout",
     "output_type": "stream",
     "text": [
      "最近手に入れたバイクはSuzukiです\n"
     ]
    }
   ],
   "source": [
    "last_owned = motorcycles.pop()\n",
    "print(f'最近手に入れたバイクは{last_owned.title()}です')"
   ]
  },
  {
   "cell_type": "code",
   "execution_count": 33,
   "id": "8dfa8d09-e944-42b6-b73e-511e9eb7d0a1",
   "metadata": {},
   "outputs": [
    {
     "name": "stdout",
     "output_type": "stream",
     "text": [
      "['honda', 'yamaha', 'susuzki']\n"
     ]
    }
   ],
   "source": [
    "motorcycles.append('susuzki')\n",
    "\n",
    "print(motorcycles)"
   ]
  },
  {
   "cell_type": "code",
   "execution_count": 34,
   "id": "2fd77996-dd77-4ab7-bda1-72ca2c090472",
   "metadata": {},
   "outputs": [
    {
     "name": "stdout",
     "output_type": "stream",
     "text": [
      "最初に手に入れたバイクはHondaです。\n"
     ]
    }
   ],
   "source": [
    "firsr_owned = motorcycles.pop(0)\n",
    "print(f'最初に手に入れたバイクは{firsr_owned.title()}です。')"
   ]
  },
  {
   "cell_type": "code",
   "execution_count": 35,
   "id": "5f385957-0beb-4602-b8cd-c5ff20d17d4d",
   "metadata": {},
   "outputs": [
    {
     "name": "stdout",
     "output_type": "stream",
     "text": [
      "['yamaha', 'susuzki']\n"
     ]
    }
   ],
   "source": [
    "print(motorcycles)"
   ]
  },
  {
   "cell_type": "code",
   "execution_count": 36,
   "id": "eb94a29e-d870-426c-96f7-1e69d3e4485a",
   "metadata": {},
   "outputs": [],
   "source": [
    "motorcycles.insert(0, 'honda')"
   ]
  },
  {
   "cell_type": "code",
   "execution_count": 1,
   "id": "c094345e-ad57-4fa9-9fb0-c4e7e9d91f6a",
   "metadata": {},
   "outputs": [
    {
     "name": "stdout",
     "output_type": "stream",
     "text": [
      "['honda', 'yamaha', 'suzuki']\n"
     ]
    }
   ],
   "source": [
    "motorcycles = ['honda', 'yamaha', 'suzuki']\n",
    "print(motorcycles)"
   ]
  },
  {
   "cell_type": "code",
   "execution_count": 2,
   "id": "dd5bc3ac-fc09-4f2a-a690-4d20b2acfe8b",
   "metadata": {},
   "outputs": [
    {
     "name": "stdout",
     "output_type": "stream",
     "text": [
      "['honda', 'yamaha', 'suzuki', 'ducati']\n"
     ]
    }
   ],
   "source": [
    "motorcycles.append('ducati')\n",
    "print(motorcycles)"
   ]
  },
  {
   "cell_type": "code",
   "execution_count": 3,
   "id": "d7103f8b-0477-419d-9420-1c728ee8541e",
   "metadata": {},
   "outputs": [
    {
     "name": "stdout",
     "output_type": "stream",
     "text": [
      "[]\n",
      "['honda', 'suzuki', 'suzuki']\n"
     ]
    }
   ],
   "source": [
    "motorcycles = []\n",
    "\n",
    "print(motorcycles)\n",
    "\n",
    "motorcycles.append('honda')\n",
    "motorcycles.append('suzuki')\n",
    "motorcycles.append('suzuki')\n",
    "\n",
    "print(motorcycles)"
   ]
  },
  {
   "cell_type": "code",
   "execution_count": 5,
   "id": "4e0ad49a-2acb-41eb-b26d-055503f41a8a",
   "metadata": {},
   "outputs": [
    {
     "name": "stdin",
     "output_type": "stream",
     "text": [
      "Input your name: yoshiki\n"
     ]
    },
    {
     "name": "stdout",
     "output_type": "stream",
     "text": [
      "['yoshiki']\n"
     ]
    }
   ],
   "source": [
    "x = str(input('Input your name:'))\n",
    "\n",
    "user_name = []\n",
    "\n",
    "user_name.append(x)\n",
    "\n",
    "print(user_name)"
   ]
  },
  {
   "cell_type": "code",
   "execution_count": 7,
   "id": "b3f6cb50-e3ad-4bf5-a440-2dac317e6ff4",
   "metadata": {},
   "outputs": [
    {
     "name": "stdout",
     "output_type": "stream",
     "text": [
      "['ducati', 'honda', 'yamaha', 'suzuki']\n"
     ]
    }
   ],
   "source": [
    "motorcycles = ['honda', 'yamaha', 'suzuki']\n",
    "\n",
    "motorcycles.insert(0, 'ducati')\n",
    "print(motorcycles)"
   ]
  },
  {
   "cell_type": "code",
   "execution_count": 8,
   "id": "ec19889c-cefa-4f3f-b02c-6b3460c8025b",
   "metadata": {},
   "outputs": [
    {
     "name": "stdout",
     "output_type": "stream",
     "text": [
      "['honda', 'yamaha', 'suzuki']\n"
     ]
    }
   ],
   "source": [
    "motorcycles = ['honda', 'yamaha', 'suzuki']\n",
    "print(motorcycles)"
   ]
  },
  {
   "cell_type": "code",
   "execution_count": 9,
   "id": "475099bc-08fe-45e6-a5fe-76a03f4d66f9",
   "metadata": {},
   "outputs": [
    {
     "name": "stdout",
     "output_type": "stream",
     "text": [
      "['yamaha', 'suzuki']\n"
     ]
    }
   ],
   "source": [
    "del motorcycles[0]\n",
    "print(motorcycles)"
   ]
  },
  {
   "cell_type": "code",
   "execution_count": 10,
   "id": "825b225d-aac1-478d-ae24-21181e54c8cf",
   "metadata": {},
   "outputs": [
    {
     "name": "stdout",
     "output_type": "stream",
     "text": [
      "['honda', 'yamaha', 'suzuki']\n"
     ]
    }
   ],
   "source": [
    "motorcycles.insert(0, 'honda')\n",
    "print(motorcycles)"
   ]
  },
  {
   "cell_type": "code",
   "execution_count": 11,
   "id": "708fab37-2663-492b-9b97-e2c47057f45c",
   "metadata": {},
   "outputs": [
    {
     "name": "stdout",
     "output_type": "stream",
     "text": [
      "['honda', 'suzuki']\n"
     ]
    }
   ],
   "source": [
    "del motorcycles[1]\n",
    "print(motorcycles)"
   ]
  },
  {
   "cell_type": "code",
   "execution_count": 14,
   "id": "cc49062a-e44b-4b1e-b1d9-cb50cc2c9e27",
   "metadata": {},
   "outputs": [
    {
     "name": "stdout",
     "output_type": "stream",
     "text": [
      "['honda', 'yamaha', 'yamaha', 'yamaha', 'suzuki']\n",
      "['honda', 'yamaha', 'yamaha', 'suzuki']\n"
     ]
    }
   ],
   "source": [
    "motorcycles.insert(1, 'yamaha')\n",
    "print(motorcycles)\n",
    "del motorcycles[1]\n",
    "print(motorcycles)"
   ]
  },
  {
   "cell_type": "code",
   "execution_count": 15,
   "id": "843a7c75-cfce-4783-a099-04da116cadaf",
   "metadata": {},
   "outputs": [
    {
     "name": "stdout",
     "output_type": "stream",
     "text": [
      "['honda', 'yamaha', 'suzuki']\n"
     ]
    }
   ],
   "source": [
    "del motorcycles[1]\n",
    "print(motorcycles)"
   ]
  },
  {
   "cell_type": "code",
   "execution_count": 16,
   "id": "25f4ad39-822f-429d-9554-eb7c706a11c1",
   "metadata": {},
   "outputs": [
    {
     "name": "stdout",
     "output_type": "stream",
     "text": [
      "['honda', 'yamaha', 'suzuki']\n",
      "['honda', 'yamaha']\n",
      "suzuki\n"
     ]
    }
   ],
   "source": [
    "motorcycles = ['honda', 'yamaha', 'suzuki']\n",
    "print(motorcycles)\n",
    "\n",
    "popped_motorcyles = motorcycles.pop()\n",
    "print(motorcycles)\n",
    "print(popped_motorcyles)"
   ]
  },
  {
   "cell_type": "code",
   "execution_count": 17,
   "id": "34c8ed46-bc98-40ef-ab4f-c715e9878c30",
   "metadata": {},
   "outputs": [
    {
     "name": "stdout",
     "output_type": "stream",
     "text": [
      "['honda', 'yamaha', 'suzuki']\n"
     ]
    }
   ],
   "source": [
    "motorcycles.append('suzuki')\n",
    "print(motorcycles)"
   ]
  },
  {
   "cell_type": "code",
   "execution_count": 18,
   "id": "21141ddb-3033-4d8e-a9ed-a642dc2b0c84",
   "metadata": {},
   "outputs": [
    {
     "name": "stdout",
     "output_type": "stream",
     "text": [
      "最近手に入れたバイクはSuzukiです。\n"
     ]
    }
   ],
   "source": [
    "last_owned = motorcycles.pop()\n",
    "print(f'最近手に入れたバイクは{last_owned.title()}です。')"
   ]
  },
  {
   "cell_type": "code",
   "execution_count": 19,
   "id": "20d8e8a2-a3e1-4b75-80d1-841e129d1318",
   "metadata": {},
   "outputs": [
    {
     "name": "stdout",
     "output_type": "stream",
     "text": [
      "['honda', 'yamaha', 'suzuki']\n"
     ]
    }
   ],
   "source": [
    "motorcycles.append('suzuki')\n",
    "print(motorcycles)"
   ]
  },
  {
   "cell_type": "code",
   "execution_count": 20,
   "id": "0250a5d7-2c68-47ee-af8b-bebc3ff56344",
   "metadata": {},
   "outputs": [
    {
     "name": "stdout",
     "output_type": "stream",
     "text": [
      "私が最初に手に入れたバイクはHondaです。\n"
     ]
    }
   ],
   "source": [
    "first_owned = motorcycles.pop(0)\n",
    "print(f'私が最初に手に入れたバイクは{first_owned.title()}です。')"
   ]
  },
  {
   "cell_type": "code",
   "execution_count": 21,
   "id": "c043a670-4c53-40fd-a0c4-2b0a38634f73",
   "metadata": {},
   "outputs": [
    {
     "name": "stdout",
     "output_type": "stream",
     "text": [
      "['yamaha', 'suzuki']\n",
      "honda\n"
     ]
    }
   ],
   "source": [
    "print(motorcycles)\n",
    "print(first_owned)"
   ]
  },
  {
   "cell_type": "code",
   "execution_count": 26,
   "id": "3d94c336-49f1-4ea7-a53b-c758eea46186",
   "metadata": {},
   "outputs": [],
   "source": [
    "motorcycles.insert(0, 'honda')"
   ]
  },
  {
   "cell_type": "code",
   "execution_count": 24,
   "id": "bcba4ff0-15d0-4fe3-ba33-31c3e8bb8ef2",
   "metadata": {},
   "outputs": [],
   "source": [
    "motorcycles.insert(3, 'ducati')"
   ]
  },
  {
   "cell_type": "code",
   "execution_count": 27,
   "id": "8837b4dc-b291-4f98-af95-2e61e1b82a72",
   "metadata": {},
   "outputs": [
    {
     "name": "stdout",
     "output_type": "stream",
     "text": [
      "['honda', 'yamaha', 'yamaha', 'suzuki', 'ducati']\n"
     ]
    }
   ],
   "source": [
    "print(motorcycles)"
   ]
  },
  {
   "cell_type": "code",
   "execution_count": 28,
   "id": "8e5e713a-a729-4466-8938-c536b6c17401",
   "metadata": {},
   "outputs": [],
   "source": [
    "del motorcycles[1]"
   ]
  },
  {
   "cell_type": "code",
   "execution_count": 29,
   "id": "a5d9a34f-5db3-4877-b5d5-7aecb33d7184",
   "metadata": {},
   "outputs": [
    {
     "name": "stdout",
     "output_type": "stream",
     "text": [
      "['honda', 'yamaha', 'suzuki', 'ducati']\n"
     ]
    }
   ],
   "source": [
    "print(motorcycles)"
   ]
  },
  {
   "cell_type": "code",
   "execution_count": 30,
   "id": "dbcec0fd-bd11-4bce-bdc6-4a73ce110055",
   "metadata": {},
   "outputs": [
    {
     "name": "stdout",
     "output_type": "stream",
     "text": [
      "['honda', 'yamaha', 'suzuki']\n"
     ]
    }
   ],
   "source": [
    "motorcycles.remove('ducati')\n",
    "print(motorcycles)"
   ]
  },
  {
   "cell_type": "code",
   "execution_count": 31,
   "id": "b6b91037-fc50-4a1a-ab49-d666042be0b7",
   "metadata": {},
   "outputs": [],
   "source": [
    "motorcycles.append('ducati')"
   ]
  },
  {
   "cell_type": "code",
   "execution_count": 32,
   "id": "07a6d639-546f-44ce-b41d-5f65f41d5cd6",
   "metadata": {},
   "outputs": [
    {
     "name": "stdout",
     "output_type": "stream",
     "text": [
      "['honda', 'yamaha', 'suzuki', 'ducati']\n"
     ]
    }
   ],
   "source": [
    "print(motorcycles)"
   ]
  },
  {
   "cell_type": "code",
   "execution_count": 33,
   "id": "41226033-4892-4244-816e-5b17c5e0929c",
   "metadata": {},
   "outputs": [
    {
     "name": "stdout",
     "output_type": "stream",
     "text": [
      "['honda', 'yamaha', 'suzuki']\n",
      "\n",
      "Ducatiは私には高すぎます\n"
     ]
    }
   ],
   "source": [
    "too_expensive = 'ducati'\n",
    "motorcycles.remove(too_expensive)\n",
    "print(motorcycles)\n",
    "print(f'\\n{too_expensive.title()}は私には高すぎます')"
   ]
  },
  {
   "cell_type": "code",
   "execution_count": 34,
   "id": "bfb54358-b12b-4a3d-93cc-00e650d9ba0a",
   "metadata": {},
   "outputs": [
    {
     "name": "stdout",
     "output_type": "stream",
     "text": [
      "ducati\n"
     ]
    }
   ],
   "source": [
    "print(too_expensive)"
   ]
  },
  {
   "cell_type": "code",
   "execution_count": 39,
   "id": "1c6e7386-a9ae-44d6-ae1d-effb0001b037",
   "metadata": {},
   "outputs": [
    {
     "name": "stdout",
     "output_type": "stream",
     "text": [
      "kuma_kengoさん、こんにちは。今晩夕食をご一緒しましょう。\n",
      "sakamoto_ryuichiさん、こんにちは。今晩夕食をご一緒しましょう。\n",
      "ando_tadaoさん、こんにちは。今晩夕食をご一緒しましょう。\n"
     ]
    }
   ],
   "source": [
    "# 3-4 ゲスト一覧\n",
    "name = ['kuma_kengo', 'sakamoto_ryuichi', 'ando_tadao']\n",
    "\n",
    "print(f'{name[0]}さん、こんにちは。今晩夕食をご一緒しましょう。')\n",
    "print(f'{name[1]}さん、こんにちは。今晩夕食をご一緒しましょう。')\n",
    "print(f'{name[2]}さん、こんにちは。今晩夕食をご一緒しましょう。')"
   ]
  },
  {
   "cell_type": "code",
   "execution_count": 40,
   "id": "897d962c-389b-48fb-bcad-934a59d3cb87",
   "metadata": {},
   "outputs": [
    {
     "name": "stdout",
     "output_type": "stream",
     "text": [
      "['kuma_kengo', 'sakamoto_ryuichi', 'ando_tadao']\n"
     ]
    }
   ],
   "source": [
    "# 3-5 ゲスト一覧を変更する\n",
    "print(name)"
   ]
  },
  {
   "cell_type": "code",
   "execution_count": 41,
   "id": "782cc070-7f09-463a-a41d-4d6bd5b5558a",
   "metadata": {},
   "outputs": [
    {
     "name": "stdout",
     "output_type": "stream",
     "text": [
      "ando_tadao\n"
     ]
    }
   ],
   "source": [
    "non_attendance_name = name.pop(2)\n",
    "print(non_attendance_name)"
   ]
  },
  {
   "cell_type": "code",
   "execution_count": 42,
   "id": "ba72710e-79a9-4dbc-9d0c-70583270c647",
   "metadata": {},
   "outputs": [
    {
     "name": "stdout",
     "output_type": "stream",
     "text": [
      "['kuma_kengo', 'sakamoto_ryuichi', 'kafka']\n"
     ]
    }
   ],
   "source": [
    "name.append('kafka')\n",
    "print(name)"
   ]
  },
  {
   "cell_type": "code",
   "execution_count": 43,
   "id": "53719f62-bd85-420f-8108-2d533e2fe6e1",
   "metadata": {},
   "outputs": [
    {
     "name": "stdout",
     "output_type": "stream",
     "text": [
      "kuma_kengoさん、こんにちは。今晩夕食をご一緒しましょう。\n",
      "sakamoto_ryuichiさん、こんにちは。今晩夕食をご一緒しましょう。\n",
      "kafkaさん、こんにちは。今晩夕食をご一緒しましょう。\n"
     ]
    }
   ],
   "source": [
    "print(f'{name[0]}さん、こんにちは。今晩夕食をご一緒しましょう。')\n",
    "print(f'{name[1]}さん、こんにちは。今晩夕食をご一緒しましょう。')\n",
    "print(f'{name[2]}さん、こんにちは。今晩夕食をご一緒しましょう。')"
   ]
  },
  {
   "cell_type": "code",
   "execution_count": 44,
   "id": "0c4ac8d9-7ad2-4a4a-9de8-ed5ccdd94dc4",
   "metadata": {},
   "outputs": [
    {
     "name": "stdout",
     "output_type": "stream",
     "text": [
      "より大きなテーブルを見つけました\n"
     ]
    }
   ],
   "source": [
    "# 3-6 より多くのゲスト\n",
    "print('より大きなテーブルを見つけました')"
   ]
  },
  {
   "cell_type": "code",
   "execution_count": 45,
   "id": "4bc35ee5-2e68-4cea-9c5e-feb44d5b924d",
   "metadata": {},
   "outputs": [],
   "source": [
    "name.insert(0, 'murakami_haruki')"
   ]
  },
  {
   "cell_type": "code",
   "execution_count": 46,
   "id": "06577737-61a0-4903-a2d7-ebf6756afc1c",
   "metadata": {},
   "outputs": [
    {
     "name": "stdout",
     "output_type": "stream",
     "text": [
      "['murakami_haruki', 'kuma_kengo', 'sakamoto_ryuichi', 'kafka']\n"
     ]
    }
   ],
   "source": [
    "print(name)"
   ]
  },
  {
   "cell_type": "code",
   "execution_count": 47,
   "id": "a4c815fc-e646-4e63-ac77-1c4acb077ee9",
   "metadata": {},
   "outputs": [
    {
     "name": "stdout",
     "output_type": "stream",
     "text": [
      "['murakami_haruki', 'kuma_kengo', 'yosimoto_banana', 'sakamoto_ryuichi', 'kafka']\n"
     ]
    }
   ],
   "source": [
    "name.insert(2, 'yosimoto_banana')\n",
    "print(name)"
   ]
  },
  {
   "cell_type": "code",
   "execution_count": 50,
   "id": "a5f372e5-32ac-4338-8cd5-a8916f64a61c",
   "metadata": {},
   "outputs": [
    {
     "name": "stdout",
     "output_type": "stream",
     "text": [
      "['murakami_haruki', 'kuma_kengo', 'yosimoto_banana', 'sakamoto_ryuichi', 'kafka', 'J_D_Salinger', 'j_d_salinger', 'j_d_salinger']\n"
     ]
    }
   ],
   "source": [
    "name.append('j_d_salinger')\n",
    "print(name)"
   ]
  },
  {
   "cell_type": "code",
   "execution_count": 54,
   "id": "7dfa3d7f-0c7f-4a58-a6e1-28fc4a982ef7",
   "metadata": {},
   "outputs": [
    {
     "name": "stdout",
     "output_type": "stream",
     "text": [
      "['murakami_haruki', 'kuma_kengo', 'yosimoto_banana', 'sakamoto_ryuichi', 'kafka', 'J_D_Salinger']\n",
      "murakami_harukiさん、こんにちは。今晩夕食をご一緒しましょう。\n",
      "kuma_kengoさん、こんにちは。今晩夕食をご一緒しましょう。\n",
      "yosimoto_bananaさん、こんにちは。今晩夕食をご一緒しましょう。\n",
      "sakamoto_ryuichiさん、こんにちは。今晩夕食をご一緒しましょう。\n",
      "kafkaさん、こんにちは。今晩夕食をご一緒しましょう。\n",
      "J_D_Salingerさん、こんにちは。今晩夕食をご一緒しましょう。\n"
     ]
    }
   ],
   "source": [
    "print(name)\n",
    "\n",
    "print(f'{name[0]}さん、こんにちは。今晩夕食をご一緒しましょう。')\n",
    "print(f'{name[1]}さん、こんにちは。今晩夕食をご一緒しましょう。')\n",
    "print(f'{name[2]}さん、こんにちは。今晩夕食をご一緒しましょう。')\n",
    "print(f'{name[3]}さん、こんにちは。今晩夕食をご一緒しましょう。')\n",
    "print(f'{name[4]}さん、こんにちは。今晩夕食をご一緒しましょう。')\n",
    "print(f'{name[5]}さん、こんにちは。今晩夕食をご一緒しましょう。')"
   ]
  },
  {
   "cell_type": "code",
   "execution_count": 55,
   "id": "53d145b9-7330-4086-a7da-eb156e5ef48b",
   "metadata": {},
   "outputs": [
    {
     "name": "stdout",
     "output_type": "stream",
     "text": [
      "大きなテーブルの用意が間に合いませんでした。\n"
     ]
    }
   ],
   "source": [
    "# 3-7.ゲストを減らす\n",
    "\n",
    "print('大きなテーブルの用意が間に合いませんでした。')"
   ]
  },
  {
   "cell_type": "code",
   "execution_count": 56,
   "id": "6f5af035-5b43-443c-abaa-c57c73768c56",
   "metadata": {},
   "outputs": [
    {
     "name": "stdout",
     "output_type": "stream",
     "text": [
      "J_D_Salinger様、申し訳ございません。テーブルの準備が間に合いませんでした。\n"
     ]
    }
   ],
   "source": [
    "name_poped = name.pop(5)\n",
    "print(f'{name_poped}様、申し訳ございません。テーブルの準備が間に合いませんでした。')"
   ]
  },
  {
   "cell_type": "code",
   "execution_count": 57,
   "id": "97cf2029-ecbb-40c5-84ff-794ac768b756",
   "metadata": {},
   "outputs": [
    {
     "name": "stdout",
     "output_type": "stream",
     "text": [
      "kafka様、申し訳ございません。テーブルの準備が間に合いませんでした。\n"
     ]
    }
   ],
   "source": [
    "name_poped = name.pop(4)\n",
    "print(f'{name_poped}様、申し訳ございません。テーブルの準備が間に合いませんでした。')"
   ]
  },
  {
   "cell_type": "code",
   "execution_count": 58,
   "id": "19eeda83-94bb-4805-8fd7-1cbd06cec65c",
   "metadata": {},
   "outputs": [
    {
     "name": "stdout",
     "output_type": "stream",
     "text": [
      "sakamoto_ryuichi様、申し訳ございません。テーブルの準備が間に合いませんでした。\n"
     ]
    }
   ],
   "source": [
    "name_poped = name.pop(3)\n",
    "print(f'{name_poped}様、申し訳ございません。テーブルの準備が間に合いませんでした。')"
   ]
  },
  {
   "cell_type": "code",
   "execution_count": 59,
   "id": "c7ba51fd-7393-4e7a-ba5f-5bb959df082d",
   "metadata": {},
   "outputs": [
    {
     "name": "stdout",
     "output_type": "stream",
     "text": [
      "yosimoto_banana様、申し訳ございません。テーブルの準備が間に合いませんでした。\n"
     ]
    }
   ],
   "source": [
    "name_poped = name.pop(2)\n",
    "print(f'{name_poped}様、申し訳ございません。テーブルの準備が間に合いませんでした。')"
   ]
  },
  {
   "cell_type": "code",
   "execution_count": 60,
   "id": "67606e31-df5a-44be-9346-d744bfad351b",
   "metadata": {},
   "outputs": [
    {
     "name": "stdout",
     "output_type": "stream",
     "text": [
      "yosimoto_banana\n"
     ]
    }
   ],
   "source": [
    "print(name_poped)"
   ]
  },
  {
   "cell_type": "code",
   "execution_count": 61,
   "id": "c27ef864-16f4-45bc-be61-b046ee6f9269",
   "metadata": {},
   "outputs": [
    {
     "name": "stdout",
     "output_type": "stream",
     "text": [
      "['murakami_haruki', 'kuma_kengo']\n"
     ]
    }
   ],
   "source": [
    "print(name)"
   ]
  },
  {
   "cell_type": "code",
   "execution_count": 62,
   "id": "df1047bf-e9da-4ab9-8d04-bb500c7e3c52",
   "metadata": {},
   "outputs": [
    {
     "name": "stdout",
     "output_type": "stream",
     "text": [
      "murakami_haruki様、招待は有効です。\n"
     ]
    }
   ],
   "source": [
    "print(f'{name[0]}様、招待は有効です。')"
   ]
  },
  {
   "cell_type": "code",
   "execution_count": 63,
   "id": "2bcc7f1b-3f2f-444b-b399-121b8d70d1d3",
   "metadata": {},
   "outputs": [
    {
     "name": "stdout",
     "output_type": "stream",
     "text": [
      "kuma_kengo様、招待は有効です。\n"
     ]
    }
   ],
   "source": [
    "print(f'{name[1]}様、招待は有効です。')"
   ]
  },
  {
   "cell_type": "code",
   "execution_count": 67,
   "id": "918f58b0-6106-4e84-94d5-5f02aaed9aff",
   "metadata": {},
   "outputs": [
    {
     "ename": "IndexError",
     "evalue": "list assignment index out of range",
     "output_type": "error",
     "traceback": [
      "\u001b[0;31m---------------------------------------------------------------------------\u001b[0m",
      "\u001b[0;31mIndexError\u001b[0m                                Traceback (most recent call last)",
      "Cell \u001b[0;32mIn[67], line 1\u001b[0m\n\u001b[0;32m----> 1\u001b[0m \u001b[38;5;28;01mdel\u001b[39;00m name[\u001b[38;5;241m0\u001b[39m]\n\u001b[1;32m      3\u001b[0m \u001b[38;5;28mprint\u001b[39m(name)\n",
      "\u001b[0;31mIndexError\u001b[0m: list assignment index out of range"
     ]
    }
   ],
   "source": [
    "del name[0]\n",
    "\n",
    "print(name)"
   ]
  },
  {
   "cell_type": "code",
   "execution_count": 66,
   "id": "cb668fbc-26fa-49ae-aa72-f25805961238",
   "metadata": {},
   "outputs": [
    {
     "name": "stdout",
     "output_type": "stream",
     "text": [
      "[]\n"
     ]
    }
   ],
   "source": [
    "print(name)"
   ]
  },
  {
   "cell_type": "markdown",
   "id": "0fd6b348-6486-46b3-a99c-c1231e502dbb",
   "metadata": {},
   "source": [
    "### リストを整理する"
   ]
  },
  {
   "cell_type": "markdown",
   "id": "75351cf4-7bb7-4745-9cc5-a1f01a1ecdfc",
   "metadata": {},
   "source": [
    "#### sort()メソッドでリストを永続的にノートする"
   ]
  },
  {
   "cell_type": "code",
   "execution_count": 68,
   "id": "8fdf5ed7-c42d-4231-8564-c09128bd052b",
   "metadata": {},
   "outputs": [
    {
     "name": "stdout",
     "output_type": "stream",
     "text": [
      "['audi', 'bmw', 'subaru', 'toyota']\n"
     ]
    }
   ],
   "source": [
    "cars =['bmw', 'audi', 'toyota', 'subaru']\n",
    "cars.sort()\n",
    "print(cars)"
   ]
  },
  {
   "cell_type": "code",
   "execution_count": 69,
   "id": "6b6547d9-9b52-4932-9c45-1cb0b174d170",
   "metadata": {},
   "outputs": [
    {
     "name": "stdout",
     "output_type": "stream",
     "text": [
      "['audi', 'bmw', 'subaru', 'toyota']\n"
     ]
    }
   ],
   "source": [
    "print(cars)"
   ]
  },
  {
   "cell_type": "code",
   "execution_count": 70,
   "id": "ea1e6979-b59d-4c7f-ac53-def2356bf89a",
   "metadata": {},
   "outputs": [
    {
     "name": "stdout",
     "output_type": "stream",
     "text": [
      "['toyota', 'subaru', 'bmw', 'audi']\n"
     ]
    }
   ],
   "source": [
    "cars.sort(reverse=True)\n",
    "print(cars)"
   ]
  },
  {
   "cell_type": "code",
   "execution_count": 71,
   "id": "1ff9acee-1440-4c6d-b347-2f895f92f685",
   "metadata": {},
   "outputs": [
    {
     "name": "stdout",
     "output_type": "stream",
     "text": [
      "['audi', 'bmw', 'subaru', 'toyota']\n"
     ]
    }
   ],
   "source": [
    "cars.sort()\n",
    "print(cars)"
   ]
  },
  {
   "cell_type": "code",
   "execution_count": 72,
   "id": "c2fcff32-9a7b-489a-b019-d54c1de28fbe",
   "metadata": {},
   "outputs": [
    {
     "name": "stdout",
     "output_type": "stream",
     "text": [
      "['bmw', 'すばる', 'アウディ', '日産']\n"
     ]
    }
   ],
   "source": [
    "cars = ['bmw', 'アウディ', '日産', 'すばる']\n",
    "cars.sort()\n",
    "print(cars)"
   ]
  },
  {
   "cell_type": "markdown",
   "id": "03218bf9-4054-4694-adad-296e578de80a",
   "metadata": {},
   "source": [
    "#### sorted()関数でリストを一時的にソートする"
   ]
  },
  {
   "cell_type": "code",
   "execution_count": 79,
   "id": "7ec03e2a-6256-4f3e-8eb0-b056b0c42a63",
   "metadata": {},
   "outputs": [
    {
     "name": "stdout",
     "output_type": "stream",
     "text": [
      "元のリスト\n",
      "['bmw', 'audi', 'toyota', 'subaru']\n",
      "\n",
      "ソートされたリスト\n",
      "['audi', 'bmw', 'subaru', 'toyota']\n",
      "\n",
      "元のリストを再表示\n",
      "['bmw', 'audi', 'toyota', 'subaru']\n"
     ]
    }
   ],
   "source": [
    "cars = ['bmw', 'audi', 'toyota', 'subaru']\n",
    "\n",
    "print('元のリスト')\n",
    "print(cars)\n",
    "\n",
    "print('\\nソートされたリスト')\n",
    "print(sorted(cars,reverse=False))\n",
    "\n",
    "print('\\n元のリストを再表示')\n",
    "print(cars)"
   ]
  },
  {
   "cell_type": "markdown",
   "id": "46daf547-fea9-4a4d-9af6-6b4e9f4da8e4",
   "metadata": {},
   "source": [
    "#### リストを逆順で出力する"
   ]
  },
  {
   "cell_type": "code",
   "execution_count": 80,
   "id": "be5908b7-7a5e-4b23-8158-2c44a6a16b79",
   "metadata": {},
   "outputs": [
    {
     "name": "stdout",
     "output_type": "stream",
     "text": [
      "['bmw', 'audi', 'toyota', 'subaru']\n",
      "['subaru', 'toyota', 'audi', 'bmw']\n"
     ]
    }
   ],
   "source": [
    "cars = ['bmw', 'audi', 'toyota', 'subaru']\n",
    "print(cars)\n",
    "\n",
    "cars.reverse()\n",
    "print(cars)"
   ]
  },
  {
   "cell_type": "code",
   "execution_count": 81,
   "id": "443c8a6f-9d87-4235-84c3-066e4c74b877",
   "metadata": {},
   "outputs": [
    {
     "name": "stdout",
     "output_type": "stream",
     "text": [
      "['bmw', 'audi', 'toyota', 'subaru']\n"
     ]
    }
   ],
   "source": [
    "cars.reverse()\n",
    "print(cars)"
   ]
  },
  {
   "cell_type": "markdown",
   "id": "fed349f5-a23c-48f6-a3f0-10b841b0d128",
   "metadata": {},
   "source": [
    "#### リストの長さを調べる"
   ]
  },
  {
   "cell_type": "code",
   "execution_count": 82,
   "id": "61ccb4b8-dbbe-41b9-8c79-4b89a2fe15b1",
   "metadata": {},
   "outputs": [
    {
     "data": {
      "text/plain": [
       "4"
      ]
     },
     "execution_count": 82,
     "metadata": {},
     "output_type": "execute_result"
    }
   ],
   "source": [
    "len(cars)"
   ]
  },
  {
   "cell_type": "code",
   "execution_count": 1,
   "id": "dbb8c1ce-76a6-4935-bb79-7d9dd6ca68ac",
   "metadata": {},
   "outputs": [
    {
     "name": "stdout",
     "output_type": "stream",
     "text": [
      "['usa', 'japan', 'finland', 'norway', 'poland']\n"
     ]
    }
   ],
   "source": [
    "# 3-8.世界を訪れよう\n",
    "country = ['usa', 'japan', 'finland', 'norway', 'poland']\n",
    "print(country)"
   ]
  },
  {
   "cell_type": "code",
   "execution_count": 3,
   "id": "3cc7e5f4-81ae-44ec-80a7-4c38dd0f178e",
   "metadata": {},
   "outputs": [
    {
     "name": "stdout",
     "output_type": "stream",
     "text": [
      "['finland', 'japan', 'norway', 'poland', 'usa']\n"
     ]
    }
   ],
   "source": [
    "print(sorted(country))"
   ]
  },
  {
   "cell_type": "code",
   "execution_count": 4,
   "id": "886ef52d-a393-474d-8a20-3478da426ee8",
   "metadata": {},
   "outputs": [
    {
     "name": "stdout",
     "output_type": "stream",
     "text": [
      "['usa', 'japan', 'finland', 'norway', 'poland']\n"
     ]
    }
   ],
   "source": [
    "print(country)"
   ]
  },
  {
   "cell_type": "code",
   "execution_count": 5,
   "id": "581f6326-33a0-4a47-93ac-3824b5601c05",
   "metadata": {},
   "outputs": [
    {
     "name": "stdout",
     "output_type": "stream",
     "text": [
      "['usa', 'poland', 'norway', 'japan', 'finland']\n"
     ]
    }
   ],
   "source": [
    "print(sorted(country,reverse=True))"
   ]
  },
  {
   "cell_type": "code",
   "execution_count": 6,
   "id": "22d4228e-52c0-4bb6-ad3b-e38b86813a9a",
   "metadata": {},
   "outputs": [
    {
     "name": "stdout",
     "output_type": "stream",
     "text": [
      "['usa', 'japan', 'finland', 'norway', 'poland']\n"
     ]
    }
   ],
   "source": [
    "print(country)"
   ]
  },
  {
   "cell_type": "code",
   "execution_count": 7,
   "id": "25261ee2-3389-4ca8-9265-f152de08330e",
   "metadata": {},
   "outputs": [
    {
     "name": "stdout",
     "output_type": "stream",
     "text": [
      "['poland', 'norway', 'finland', 'japan', 'usa']\n"
     ]
    }
   ],
   "source": [
    "country.reverse()\n",
    "print(country)"
   ]
  },
  {
   "cell_type": "code",
   "execution_count": 8,
   "id": "919e04ef-ca42-490b-8a3b-734885782782",
   "metadata": {},
   "outputs": [
    {
     "name": "stdout",
     "output_type": "stream",
     "text": [
      "['poland', 'norway', 'finland', 'japan', 'usa']\n"
     ]
    }
   ],
   "source": [
    "print(country)"
   ]
  },
  {
   "cell_type": "code",
   "execution_count": 9,
   "id": "3a3847dc-11fe-4270-b09a-c74aca9b5089",
   "metadata": {},
   "outputs": [
    {
     "name": "stdout",
     "output_type": "stream",
     "text": [
      "['usa', 'japan', 'finland', 'norway', 'poland']\n"
     ]
    }
   ],
   "source": [
    "country.reverse()\n",
    "print(country)"
   ]
  },
  {
   "cell_type": "code",
   "execution_count": 10,
   "id": "d3f6944a-358a-4d7f-9663-cb7eb0239e65",
   "metadata": {},
   "outputs": [
    {
     "name": "stdout",
     "output_type": "stream",
     "text": [
      "['finland', 'japan', 'norway', 'poland', 'usa']\n"
     ]
    }
   ],
   "source": [
    "country.sort()\n",
    "print(country)"
   ]
  },
  {
   "cell_type": "code",
   "execution_count": 11,
   "id": "fcb76dcd-e30e-4310-9a91-f473f25b5b47",
   "metadata": {},
   "outputs": [
    {
     "name": "stdout",
     "output_type": "stream",
     "text": [
      "['finland', 'japan', 'norway', 'poland', 'usa']\n"
     ]
    }
   ],
   "source": [
    "print(country)"
   ]
  },
  {
   "cell_type": "code",
   "execution_count": 12,
   "id": "5380ef25-b330-4b72-b540-55d2ea9d091b",
   "metadata": {},
   "outputs": [
    {
     "name": "stdout",
     "output_type": "stream",
     "text": [
      "['usa', 'poland', 'norway', 'japan', 'finland']\n"
     ]
    }
   ],
   "source": [
    "country.sort(reverse=True)\n",
    "print(country)"
   ]
  },
  {
   "cell_type": "code",
   "execution_count": 13,
   "id": "39f678d2-babf-42e6-880f-04cc5bf49727",
   "metadata": {},
   "outputs": [
    {
     "data": {
      "text/plain": [
       "3"
      ]
     },
     "execution_count": 13,
     "metadata": {},
     "output_type": "execute_result"
    }
   ],
   "source": [
    "# 3-9. 夕食のゲスト\n",
    "name = ['kuma_kengo', 'sakamoto_ryuichi', 'ando_tadao']\n",
    "len(name)"
   ]
  },
  {
   "cell_type": "code",
   "execution_count": 14,
   "id": "ca54cc9d-798f-4da4-bd36-e86c5a357513",
   "metadata": {},
   "outputs": [
    {
     "name": "stdout",
     "output_type": "stream",
     "text": [
      "['css', 'html', 'javascript', 'python']\n"
     ]
    }
   ],
   "source": [
    "# 3-10. 全ての機能\n",
    "lang = ['python', 'html', 'css', 'javascript']\n",
    "\n",
    "print(sorted(lang))"
   ]
  },
  {
   "cell_type": "code",
   "execution_count": 15,
   "id": "a0ef8b90-a768-4ac3-8c43-58aea3860073",
   "metadata": {},
   "outputs": [
    {
     "name": "stdout",
     "output_type": "stream",
     "text": [
      "['python', 'html', 'css', 'javascript']\n"
     ]
    }
   ],
   "source": [
    "print(lang)"
   ]
  },
  {
   "cell_type": "code",
   "execution_count": 16,
   "id": "36918015-776a-4282-a01e-e780d844a8b7",
   "metadata": {},
   "outputs": [
    {
     "name": "stdout",
     "output_type": "stream",
     "text": [
      "['python', 'javascript', 'html', 'css']\n"
     ]
    }
   ],
   "source": [
    "print(sorted(lang, reverse=True))"
   ]
  },
  {
   "cell_type": "code",
   "execution_count": 17,
   "id": "b88a2b77-6fd4-4a46-b077-1b6e68e86157",
   "metadata": {},
   "outputs": [
    {
     "name": "stdout",
     "output_type": "stream",
     "text": [
      "['python', 'html', 'css', 'javascript']\n"
     ]
    }
   ],
   "source": [
    "print(lang)"
   ]
  },
  {
   "cell_type": "code",
   "execution_count": 18,
   "id": "1ad8f39a-b6ff-4cde-b74d-60379beef7db",
   "metadata": {},
   "outputs": [
    {
     "name": "stdout",
     "output_type": "stream",
     "text": [
      "['css', 'html', 'javascript', 'python']\n"
     ]
    }
   ],
   "source": [
    "lang.sort()\n",
    "print(lang)"
   ]
  },
  {
   "cell_type": "code",
   "execution_count": 19,
   "id": "16b6af88-4e4e-4f25-ab0b-4a0165ecb8ba",
   "metadata": {},
   "outputs": [
    {
     "name": "stdout",
     "output_type": "stream",
     "text": [
      "['python', 'javascript', 'html', 'css']\n"
     ]
    }
   ],
   "source": [
    "lang.sort(reverse=True)\n",
    "print(lang)"
   ]
  },
  {
   "cell_type": "code",
   "execution_count": 21,
   "id": "d3b2b607-dc88-4c6f-aed5-a925e67abd15",
   "metadata": {},
   "outputs": [
    {
     "name": "stdout",
     "output_type": "stream",
     "text": [
      "['css', 'html', 'javascript', 'python']\n"
     ]
    }
   ],
   "source": [
    "print(sorted(lang))"
   ]
  },
  {
   "cell_type": "code",
   "execution_count": 22,
   "id": "a64ca69d-49fb-47d3-b43b-a2f9ca6ce807",
   "metadata": {},
   "outputs": [
    {
     "name": "stdout",
     "output_type": "stream",
     "text": [
      "['python', 'javascript', 'html', 'css']\n"
     ]
    }
   ],
   "source": [
    "print(sorted(lang,reverse=True))"
   ]
  },
  {
   "cell_type": "code",
   "execution_count": 23,
   "id": "4eb5d916-6c2f-4a06-bbc4-56989ccd06b8",
   "metadata": {},
   "outputs": [
    {
     "data": {
      "text/plain": [
       "4"
      ]
     },
     "execution_count": 23,
     "metadata": {},
     "output_type": "execute_result"
    }
   ],
   "source": [
    "len(lang)"
   ]
  },
  {
   "cell_type": "code",
   "execution_count": 24,
   "id": "6cff57dd-c582-468c-a74b-0f67ed322e39",
   "metadata": {},
   "outputs": [
    {
     "name": "stdout",
     "output_type": "stream",
     "text": [
      "['python', 'javascript', 'html', 'css']\n"
     ]
    }
   ],
   "source": [
    "print(lang)"
   ]
  },
  {
   "cell_type": "markdown",
   "id": "eadb45d1-ffa3-4b28-8efb-877d6a257c4f",
   "metadata": {},
   "source": [
    "### リストを操作するときのIndexErrorを回避する"
   ]
  },
  {
   "cell_type": "code",
   "execution_count": 25,
   "id": "f5a66ea4-3d01-43e8-bc76-7eaa7410c1c7",
   "metadata": {},
   "outputs": [
    {
     "ename": "IndexError",
     "evalue": "list index out of range",
     "output_type": "error",
     "traceback": [
      "\u001b[0;31m---------------------------------------------------------------------------\u001b[0m",
      "\u001b[0;31mIndexError\u001b[0m                                Traceback (most recent call last)",
      "Cell \u001b[0;32mIn[25], line 2\u001b[0m\n\u001b[1;32m      1\u001b[0m motorcycles \u001b[38;5;241m=\u001b[39m [\u001b[38;5;124m'\u001b[39m\u001b[38;5;124mhonda\u001b[39m\u001b[38;5;124m'\u001b[39m, \u001b[38;5;124m'\u001b[39m\u001b[38;5;124myamaha\u001b[39m\u001b[38;5;124m'\u001b[39m, \u001b[38;5;124m'\u001b[39m\u001b[38;5;124msuzuki\u001b[39m\u001b[38;5;124m'\u001b[39m]\n\u001b[0;32m----> 2\u001b[0m \u001b[38;5;28mprint\u001b[39m(\u001b[43mmotorcycles\u001b[49m\u001b[43m[\u001b[49m\u001b[38;5;241;43m3\u001b[39;49m\u001b[43m]\u001b[49m)\n",
      "\u001b[0;31mIndexError\u001b[0m: list index out of range"
     ]
    }
   ],
   "source": [
    "motorcycles = ['honda', 'yamaha', 'suzuki']\n",
    "print(motorcycles[3])"
   ]
  },
  {
   "cell_type": "code",
   "execution_count": 26,
   "id": "6c03aae0-712e-4009-9966-7b1290f2b544",
   "metadata": {},
   "outputs": [
    {
     "name": "stdout",
     "output_type": "stream",
     "text": [
      "suzuki\n"
     ]
    }
   ],
   "source": [
    "print(motorcycles[-1])"
   ]
  },
  {
   "cell_type": "code",
   "execution_count": 27,
   "id": "c807f4cf-09fd-4d45-b849-451ae6041790",
   "metadata": {},
   "outputs": [
    {
     "ename": "IndexError",
     "evalue": "list index out of range",
     "output_type": "error",
     "traceback": [
      "\u001b[0;31m---------------------------------------------------------------------------\u001b[0m",
      "\u001b[0;31mIndexError\u001b[0m                                Traceback (most recent call last)",
      "Cell \u001b[0;32mIn[27], line 2\u001b[0m\n\u001b[1;32m      1\u001b[0m motorcycles \u001b[38;5;241m=\u001b[39m []\n\u001b[0;32m----> 2\u001b[0m \u001b[38;5;28mprint\u001b[39m(\u001b[43mmotorcycles\u001b[49m\u001b[43m[\u001b[49m\u001b[38;5;241;43m-\u001b[39;49m\u001b[38;5;241;43m1\u001b[39;49m\u001b[43m]\u001b[49m)\n",
      "\u001b[0;31mIndexError\u001b[0m: list index out of range"
     ]
    }
   ],
   "source": [
    "motorcycles = []\n",
    "print(motorcycles[-1])"
   ]
  },
  {
   "cell_type": "code",
   "execution_count": 28,
   "id": "f5b337e1-6436-4b52-b0a5-e481137abe92",
   "metadata": {},
   "outputs": [
    {
     "data": {
      "text/plain": [
       "0"
      ]
     },
     "execution_count": 28,
     "metadata": {},
     "output_type": "execute_result"
    }
   ],
   "source": [
    "len(motorcycles)"
   ]
  },
  {
   "cell_type": "markdown",
   "id": "c87e7681-e8a3-4402-ae62-42b668168295",
   "metadata": {},
   "source": [
    "## 第４章_リストを操作する"
   ]
  },
  {
   "cell_type": "code",
   "execution_count": 29,
   "id": "8fabd09b-6a83-4596-89db-4ec4f407ddac",
   "metadata": {},
   "outputs": [
    {
     "name": "stdout",
     "output_type": "stream",
     "text": [
      "alice\n",
      "david\n",
      "carolina\n"
     ]
    }
   ],
   "source": [
    "# magicians.py\n",
    "magicians = ['alice', 'david', 'carolina']\n",
    "for magician in magicians:\n",
    "    print(magician)"
   ]
  },
  {
   "cell_type": "code",
   "execution_count": 33,
   "id": "aa4c0872-b73c-4c67-875e-681009a1ff45",
   "metadata": {},
   "outputs": [
    {
     "name": "stdout",
     "output_type": "stream",
     "text": [
      "おはようございます。aliceさん！\n",
      "おはようございます。davidさん！\n",
      "おはようございます。carolinaさん！\n"
     ]
    }
   ],
   "source": [
    "magicians = ['alice', 'david', 'carolina']\n",
    "\n",
    "for magician in magicians:\n",
    "    print(f'おはようございます。{magician}さん！')"
   ]
  },
  {
   "cell_type": "markdown",
   "id": "059d32f0-08ab-4450-b3e4-6dfa4de93e22",
   "metadata": {},
   "source": [
    "### forループの中でより多くの作業をする"
   ]
  },
  {
   "cell_type": "code",
   "execution_count": 35,
   "id": "f3b53475-f459-4056-9414-6e522164d98c",
   "metadata": {},
   "outputs": [
    {
     "name": "stdout",
     "output_type": "stream",
     "text": [
      "Aliceは素晴らしい手品を演じた！\n",
      "私はAliceの次の手品が待ちきれない。\n",
      "\n",
      "Davidは素晴らしい手品を演じた！\n",
      "私はDavidの次の手品が待ちきれない。\n",
      "\n",
      "Carolineは素晴らしい手品を演じた！\n",
      "私はCarolineの次の手品が待ちきれない。\n",
      "\n"
     ]
    }
   ],
   "source": [
    "magicians = ['alice', 'david', 'caroline']\n",
    "\n",
    "for magician in magicians:\n",
    "    print(f'{magician.title()}は素晴らしい手品を演じた！')\n",
    "    print(f'私は{magician.title()}の次の手品が待ちきれない。\\n')"
   ]
  },
  {
   "cell_type": "markdown",
   "id": "c61c58bd-2825-4e97-a76d-e78241c6684e",
   "metadata": {},
   "source": [
    "### forループのあとに何かを実行する"
   ]
  },
  {
   "cell_type": "code",
   "execution_count": 37,
   "id": "ee3a49a2-baab-4693-b76c-d0763a90bb9d",
   "metadata": {},
   "outputs": [
    {
     "name": "stdout",
     "output_type": "stream",
     "text": [
      "Aliceは素晴らしい手品を演じた！\n",
      "私はAliceの次の手品が待ちきれない。\n",
      "\n",
      "Davidは素晴らしい手品を演じた！\n",
      "私はDavidの次の手品が待ちきれない。\n",
      "\n",
      "Carolinaは素晴らしい手品を演じた！\n",
      "私はCarolinaの次の手品が待ちきれない。\n",
      "\n",
      "みなさんありがとう。素晴らしい手品ショーでした！\n"
     ]
    }
   ],
   "source": [
    "magicians = ['alice', 'david', 'carolina']\n",
    "for magician in magicians:\n",
    "    print(f'{magician.title()}は素晴らしい手品を演じた！')\n",
    "    print(f'私は{magician.title()}の次の手品が待ちきれない。\\n')\n",
    "\n",
    "print('みなさんありがとう。素晴らしい手品ショーでした！')"
   ]
  },
  {
   "cell_type": "markdown",
   "id": "f604d601-f1e9-4a28-828b-77f6e3f318c0",
   "metadata": {},
   "source": [
    "### インデントエラーを回避する"
   ]
  },
  {
   "cell_type": "markdown",
   "id": "4011f586-1f51-4cc5-8f87-7113af180de8",
   "metadata": {},
   "source": [
    "#### インデントを忘れる"
   ]
  },
  {
   "cell_type": "code",
   "execution_count": 38,
   "id": "0990a6b9-c6be-4db2-95a4-4bc7ba85fbb4",
   "metadata": {},
   "outputs": [
    {
     "ename": "IndentationError",
     "evalue": "expected an indented block after 'for' statement on line 2 (354397115.py, line 3)",
     "output_type": "error",
     "traceback": [
      "\u001b[0;36m  Cell \u001b[0;32mIn[38], line 3\u001b[0;36m\u001b[0m\n\u001b[0;31m    print(magician)\u001b[0m\n\u001b[0m    ^\u001b[0m\n\u001b[0;31mIndentationError\u001b[0m\u001b[0;31m:\u001b[0m expected an indented block after 'for' statement on line 2\n"
     ]
    }
   ],
   "source": [
    "magicians = ['alice', 'david', 'caroline']\n",
    "for magician in magicians:\n",
    "print(magician)"
   ]
  },
  {
   "cell_type": "markdown",
   "id": "2f229485-1cc3-447e-a374-027666fbd14a",
   "metadata": {},
   "source": [
    "#### 追加の行でインデントを忘れる"
   ]
  },
  {
   "cell_type": "code",
   "execution_count": 39,
   "id": "70ecbdef-9185-4e2c-ab61-af505dad959c",
   "metadata": {},
   "outputs": [
    {
     "name": "stdout",
     "output_type": "stream",
     "text": [
      "Aliceは素晴らしい手品を演じた！\n",
      "Davidは素晴らしい手品を演じた！\n",
      "Carolinaは素晴らしい手品を演じた！\n",
      "私はCarolinaの次の手品が待ちきれない。\n",
      "\n"
     ]
    }
   ],
   "source": [
    "magicians = ['alice', 'david', 'carolina']\n",
    "for magician in magicians:\n",
    "    print(f'{magician.title()}は素晴らしい手品を演じた！')\n",
    "print(f'私は{magician.title()}の次の手品が待ちきれない。\\n')"
   ]
  },
  {
   "cell_type": "markdown",
   "id": "e439107d-94d4-4a9a-be2c-b347401d1cb5",
   "metadata": {},
   "source": [
    "#### 不要なインデントをする"
   ]
  },
  {
   "cell_type": "code",
   "execution_count": 40,
   "id": "d88776a9-89d0-4185-9d3a-030308375202",
   "metadata": {},
   "outputs": [
    {
     "ename": "SyntaxError",
     "evalue": "unterminated string literal (detected at line 1) (432096626.py, line 1)",
     "output_type": "error",
     "traceback": [
      "\u001b[0;36m  Cell \u001b[0;32mIn[40], line 1\u001b[0;36m\u001b[0m\n\u001b[0;31m    message = 'Hello world!\u001b[0m\n\u001b[0m              ^\u001b[0m\n\u001b[0;31mSyntaxError\u001b[0m\u001b[0;31m:\u001b[0m unterminated string literal (detected at line 1)\n"
     ]
    }
   ],
   "source": [
    "message = 'Hello world!\n",
    "    print(message)"
   ]
  },
  {
   "cell_type": "markdown",
   "id": "b866dee0-11fd-47c9-902e-55b3bdbd0f23",
   "metadata": {},
   "source": [
    "#### ループのあとに不要なインデントをする"
   ]
  },
  {
   "cell_type": "code",
   "execution_count": 41,
   "id": "29ccf647-4072-4ae4-b66e-eaa595b56765",
   "metadata": {},
   "outputs": [
    {
     "name": "stdout",
     "output_type": "stream",
     "text": [
      "Aliceは素晴らしい手品を演じた！\n",
      "私はAliceの次の手品が待ちきれない。\n",
      "\n",
      "みなさんありがとう。素晴らしい手品ショーでした！\n",
      "Davidは素晴らしい手品を演じた！\n",
      "私はDavidの次の手品が待ちきれない。\n",
      "\n",
      "みなさんありがとう。素晴らしい手品ショーでした！\n",
      "Carolinaは素晴らしい手品を演じた！\n",
      "私はCarolinaの次の手品が待ちきれない。\n",
      "\n",
      "みなさんありがとう。素晴らしい手品ショーでした！\n"
     ]
    }
   ],
   "source": [
    "magicians = ['alice', 'david', 'carolina']\n",
    "for magician in magicians:\n",
    "    print(f'{magician.title()}は素晴らしい手品を演じた！')\n",
    "    print(f'私は{magician.title()}の次の手品が待ちきれない。\\n')\n",
    "\n",
    "    print('みなさんありがとう。素晴らしい手品ショーでした！')"
   ]
  },
  {
   "cell_type": "code",
   "execution_count": 44,
   "id": "9311638c-7979-41ab-acc0-72c73c660b8d",
   "metadata": {},
   "outputs": [
    {
     "name": "stdout",
     "output_type": "stream",
     "text": [
      "私はmargaritaが好きです。\n",
      "私はpepperoniが好きです。\n",
      "私はhawaiianが好きです。\n",
      "私はピザが大好きです！\n"
     ]
    }
   ],
   "source": [
    "# 4-1.ピザのリスト\n",
    "pizzas = ['margarita', 'pepperoni', 'hawaiian']\n",
    "\n",
    "for pizza in pizzas:\n",
    "    print(f'私は{pizza}が好きです。')\n",
    "\n",
    "print('私はピザが大好きです！')"
   ]
  },
  {
   "cell_type": "code",
   "execution_count": 49,
   "id": "ea72624a-3291-49a0-b842-deff63d5274b",
   "metadata": {},
   "outputs": [
    {
     "name": "stdout",
     "output_type": "stream",
     "text": [
      "dogは素晴らしいペットです。\n",
      "catは素晴らしいペットです。\n",
      "birdは素晴らしいペットです。\n",
      "この動物たちはとても素晴らしいペットです！\n"
     ]
    }
   ],
   "source": [
    "# 4-2.動物のリスト\n",
    "pets = ['dog', 'cat', 'bird']\n",
    "\n",
    "for pet in pets:\n",
    "    print(f'{pet}は素晴らしいペットです。')\n",
    "\n",
    "print('この動物たちはとても素晴らしいペットです！')"
   ]
  },
  {
   "cell_type": "code",
   "execution_count": null,
   "id": "7ee4818c-750d-4955-8ce1-536ea777ee37",
   "metadata": {},
   "outputs": [],
   "source": []
  }
 ],
 "metadata": {
  "kernelspec": {
   "display_name": "Python 3 (ipykernel)",
   "language": "python",
   "name": "python3"
  },
  "language_info": {
   "codemirror_mode": {
    "name": "ipython",
    "version": 3
   },
   "file_extension": ".py",
   "mimetype": "text/x-python",
   "name": "python",
   "nbconvert_exporter": "python",
   "pygments_lexer": "ipython3",
   "version": "3.10.12"
  }
 },
 "nbformat": 4,
 "nbformat_minor": 5
}
