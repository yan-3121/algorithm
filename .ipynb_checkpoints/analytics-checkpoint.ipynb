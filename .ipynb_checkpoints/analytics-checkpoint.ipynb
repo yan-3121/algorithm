{
 "cells": [
  {
   "cell_type": "markdown",
   "id": "1b77e09b-52c8-4aa7-8f1b-778232e7b5fd",
   "metadata": {},
   "source": [
    "# Python基礎（１）\n",
    "--- "
   ]
  },
  {
   "cell_type": "markdown",
   "id": "da48f2f4-5b22-4623-9b3e-baa4582d20f8",
   "metadata": {},
   "source": [
    "## 電卓としてのPython"
   ]
  },
  {
   "cell_type": "code",
   "execution_count": 10,
   "id": "5e0c8c4b-741f-41d1-aa0c-97180ef3625a",
   "metadata": {},
   "outputs": [
    {
     "data": {
      "text/plain": [
       "16"
      ]
     },
     "execution_count": 10,
     "metadata": {},
     "output_type": "execute_result"
    }
   ],
   "source": [
    "# 例題1-1\n",
    "2**4"
   ]
  },
  {
   "cell_type": "code",
   "execution_count": 11,
   "id": "587bdab0-7209-4bf1-897f-596595812324",
   "metadata": {},
   "outputs": [
    {
     "name": "stdout",
     "output_type": "stream",
     "text": [
      "9\n",
      "hello world!\n"
     ]
    }
   ],
   "source": [
    "# 例題1-2\n",
    "print(2 + 7)\n",
    "print('hello world!')"
   ]
  },
  {
   "cell_type": "code",
   "execution_count": 12,
   "id": "3a1cf3a3-6cc9-4901-b951-f725a79cacaf",
   "metadata": {},
   "outputs": [
    {
     "name": "stdout",
     "output_type": "stream",
     "text": [
      "10を3で割った時の商は 3\n",
      "余りは 1\n",
      "3.3333333333333335\n"
     ]
    }
   ],
   "source": [
    "# 例題1-3\n",
    "print('10を3で割った時の商は', 10 // 3)\n",
    "print('余りは', 10 % 3)\n",
    "print(10 / 3)"
   ]
  },
  {
   "cell_type": "code",
   "execution_count": 13,
   "id": "e424891f-c98f-4204-8ee5-a852158d96ea",
   "metadata": {},
   "outputs": [
    {
     "name": "stdout",
     "output_type": "stream",
     "text": [
      "hello world\n",
      "24\n"
     ]
    }
   ],
   "source": [
    "# 問題1-1\n",
    "print('hello world')\n",
    "print(4+4*5)"
   ]
  },
  {
   "cell_type": "code",
   "execution_count": 14,
   "id": "33a58d4c-be44-41a1-a988-fd24347491da",
   "metadata": {},
   "outputs": [
    {
     "name": "stdout",
     "output_type": "stream",
     "text": [
      "11211 12121 21112\n"
     ]
    }
   ],
   "source": [
    "# 問題1-2\n",
    "print(11211,12121,21112)"
   ]
  },
  {
   "cell_type": "code",
   "execution_count": 15,
   "id": "edd3a6cf-f6c8-454b-bee3-22a826963fa2",
   "metadata": {},
   "outputs": [
    {
     "name": "stdout",
     "output_type": "stream",
     "text": [
      "1024 7888609052210118054117285652827862296732064351090230047702789306640625\n"
     ]
    }
   ],
   "source": [
    "# 問題1-3\n",
    "print(2**10,5**100)"
   ]
  },
  {
   "cell_type": "code",
   "execution_count": 16,
   "id": "fe0a71dc-e277-4d92-b241-674ee1ef6398",
   "metadata": {},
   "outputs": [
    {
     "name": "stdout",
     "output_type": "stream",
     "text": [
      "(33 + 44) * 55 = 4235 2.1 + 4.3 + 6.5 = 12.9 (128 + 456) % 78 = 38\n"
     ]
    }
   ],
   "source": [
    "# 問題1-4\n",
    "a = (33 + 44) *55\n",
    "b = 2.1 + 4.3 + 6.5\n",
    "c = (128 + 456) % 78\n",
    "\n",
    "print(f'(33 + 44) * 55 = {a}',f'2.1 + 4.3 + 6.5 = {b}', f'(128 + 456) % 78 = {c}')"
   ]
  },
  {
   "cell_type": "code",
   "execution_count": 17,
   "id": "c3c7fd67-4958-4308-a74b-1f29e5c0e8f2",
   "metadata": {},
   "outputs": [
    {
     "name": "stdout",
     "output_type": "stream",
     "text": [
      "15\n",
      "945\n",
      "1464\n"
     ]
    }
   ],
   "source": [
    "# 問題1-5\n",
    "print(1 + 2 + 3 + 4 + 5)\n",
    "print(1 * 3 * 5 * 7 * 9)\n",
    "print(98 * 3 + 48 * 4 + 188 + (208 - 50) * 5)"
   ]
  },
  {
   "cell_type": "markdown",
   "id": "a41cade6-ae40-4464-8622-35214919e9a6",
   "metadata": {},
   "source": [
    "## 変数と計算"
   ]
  },
  {
   "cell_type": "code",
   "execution_count": 18,
   "id": "13203450-559d-4975-ad61-4828d0b91cbe",
   "metadata": {},
   "outputs": [
    {
     "name": "stdout",
     "output_type": "stream",
     "text": [
      "5535\n"
     ]
    }
   ],
   "source": [
    "# 例題2-1\n",
    "x = 123 * 45\n",
    "print(x)"
   ]
  },
  {
   "cell_type": "code",
   "execution_count": 19,
   "id": "6fb04beb-6f1b-468f-aa2e-47af1a1ac88c",
   "metadata": {},
   "outputs": [
    {
     "name": "stdout",
     "output_type": "stream",
     "text": [
      "999.0 500\n"
     ]
    }
   ],
   "source": [
    "# 例題2-2\n",
    "y = 99.9\n",
    "x = 50\n",
    "print(y * 10, x * 10)"
   ]
  },
  {
   "cell_type": "code",
   "execution_count": 20,
   "id": "f40aec57-d604-4dd6-ba9e-8cd8daee6be3",
   "metadata": {},
   "outputs": [],
   "source": [
    "# 例題2-3\n",
    "x = 10\n",
    "y = 10\n",
    "# print(x,y)\n",
    "x = y + 10\n",
    "y = 20\n",
    "# print(x,y)\n",
    "x = x -10\n",
    "y = y -x\n",
    "# print(x,y)"
   ]
  },
  {
   "cell_type": "code",
   "execution_count": 21,
   "id": "f3385065-e400-450b-b6a2-1f0aa808ae59",
   "metadata": {},
   "outputs": [
    {
     "name": "stdout",
     "output_type": "stream",
     "text": [
      "10 10\n",
      "20 20\n",
      "10 10\n"
     ]
    }
   ],
   "source": [
    "# 例題2-3\n",
    "x = 10\n",
    "y = 10\n",
    "print(x,y)\n",
    "x = y + 10\n",
    "y = 20\n",
    "print(x,y)\n",
    "x = x -10\n",
    "y = y -x\n",
    "print(x,y)"
   ]
  },
  {
   "cell_type": "code",
   "execution_count": 22,
   "id": "68a7287f-4f0b-44c4-8e76-6783f7682e79",
   "metadata": {},
   "outputs": [
    {
     "name": "stdout",
     "output_type": "stream",
     "text": [
      "10\n"
     ]
    }
   ],
   "source": [
    "# 問題2-1\n",
    "print(x)\n",
    "x = 55 + 29"
   ]
  },
  {
   "cell_type": "code",
   "execution_count": 23,
   "id": "9660fa3c-fc6f-4569-9f7f-363365e051f9",
   "metadata": {},
   "outputs": [
    {
     "name": "stdout",
     "output_type": "stream",
     "text": [
      "30 5\n"
     ]
    }
   ],
   "source": [
    "# 問題2-2\n",
    "x =30\n",
    "y = 5\n",
    "print(x,y)"
   ]
  },
  {
   "cell_type": "markdown",
   "id": "efea0d0d-d24e-4c5f-913d-28844a563adf",
   "metadata": {},
   "source": [
    "## 入力関数input"
   ]
  },
  {
   "cell_type": "code",
   "execution_count": 24,
   "id": "f404dac6-39c1-4b86-8aeb-7f1eace0351b",
   "metadata": {},
   "outputs": [
    {
     "name": "stdin",
     "output_type": "stream",
     "text": [
      "何か整数を入力してね 1\n"
     ]
    },
    {
     "name": "stdout",
     "output_type": "stream",
     "text": [
      "1\n"
     ]
    }
   ],
   "source": [
    "# 例題3-1\n",
    "x = int(input('何か整数を入力してね'))\n",
    "print(x**100)"
   ]
  },
  {
   "cell_type": "code",
   "execution_count": 25,
   "id": "cd3c1a87-4703-4170-8a5d-53bdd9860e15",
   "metadata": {},
   "outputs": [
    {
     "name": "stdin",
     "output_type": "stream",
     "text": [
      "苗字を入力してね yanai\n",
      "名前を入力してね tatsuya\n"
     ]
    },
    {
     "name": "stdout",
     "output_type": "stream",
     "text": [
      "yanai tatsuya\n"
     ]
    }
   ],
   "source": [
    "# 例題3-2\n",
    "first = input('苗字を入力してね')\n",
    "given = input('名前を入力してね')\n",
    "print(first,given)"
   ]
  },
  {
   "cell_type": "code",
   "execution_count": 27,
   "id": "27690788-28c4-40b9-8d0f-453a0b2aed4c",
   "metadata": {},
   "outputs": [
    {
     "data": {
      "text/plain": [
       "'12'"
      ]
     },
     "execution_count": 27,
     "metadata": {},
     "output_type": "execute_result"
    }
   ],
   "source": [
    "int_number = 1\n",
    "string_number = '2'\n",
    "str(int_number) + string_number"
   ]
  },
  {
   "cell_type": "code",
   "execution_count": 31,
   "id": "48b0badc-a8f8-4af0-9318-925836a19a22",
   "metadata": {},
   "outputs": [
    {
     "name": "stdin",
     "output_type": "stream",
     "text": [
      "integer=? 1\n"
     ]
    },
    {
     "name": "stdout",
     "output_type": "stream",
     "text": [
      "<class 'float'>\n",
      "1.0\n"
     ]
    }
   ],
   "source": [
    "# 問題3-1\n",
    "y = float(input('integer=?'))\n",
    "print(type(y))\n",
    "print(y)"
   ]
  },
  {
   "cell_type": "code",
   "execution_count": 35,
   "id": "7d564ebb-0294-4473-9de1-ba2cfd68c953",
   "metadata": {},
   "outputs": [
    {
     "name": "stdin",
     "output_type": "stream",
     "text": [
      "整数を入力: 1\n",
      "整数を入力: 1\n",
      "整数を入力: 1\n"
     ]
    },
    {
     "name": "stdout",
     "output_type": "stream",
     "text": [
      "3\n"
     ]
    }
   ],
   "source": [
    "# 問題3-2\n",
    "x = int(input('整数を入力:'))\n",
    "y = int(input('整数を入力:'))\n",
    "z = int(input('整数を入力:'))\n",
    "print(x + y + z)"
   ]
  },
  {
   "cell_type": "code",
   "execution_count": 36,
   "id": "e61bd3eb-eb9e-4dd0-9c58-568cde212560",
   "metadata": {},
   "outputs": [
    {
     "name": "stdin",
     "output_type": "stream",
     "text": [
      "浮動小数点数を入力==> 1\n",
      "浮動小数点数を入力==> 2\n"
     ]
    },
    {
     "name": "stdout",
     "output_type": "stream",
     "text": [
      "3.0\n"
     ]
    }
   ],
   "source": [
    "x = float(input('浮動小数点数を入力==>'))\n",
    "y = float(input('浮動小数点数を入力==>'))\n",
    "print( x + y)"
   ]
  },
  {
   "cell_type": "code",
   "execution_count": 37,
   "id": "416672fd-bcca-4483-964e-15f4e60fe9a0",
   "metadata": {},
   "outputs": [
    {
     "name": "stdin",
     "output_type": "stream",
     "text": [
      "整数を入力せよ: 2\n",
      "整数を入力せよ: 3\n"
     ]
    },
    {
     "name": "stdout",
     "output_type": "stream",
     "text": [
      "6\n"
     ]
    }
   ],
   "source": [
    "x = int(input('整数を入力せよ:'))\n",
    "y = int(input('整数を入力せよ:'))\n",
    "\n",
    "print(x * y)"
   ]
  },
  {
   "cell_type": "code",
   "execution_count": 49,
   "id": "d2b4e9e0-7d48-4a6b-8280-343e1dc59904",
   "metadata": {},
   "outputs": [
    {
     "name": "stdin",
     "output_type": "stream",
     "text": [
      "借入金額を入力せよ==> 500\n",
      "月々返済する金額を入力せよ==> 10\n"
     ]
    },
    {
     "name": "stdout",
     "output_type": "stream",
     "text": [
      "返済年数: 4.166666666666667 年\n"
     ]
    },
    {
     "name": "stdin",
     "output_type": "stream",
     "text": [
      "ボーナス 20\n"
     ]
    },
    {
     "name": "stdout",
     "output_type": "stream",
     "text": [
      "期間中ボーナス金額83.33333333333334\n"
     ]
    }
   ],
   "source": [
    "# 問題3-3__作成途中\n",
    "\n",
    "# 変数宣言\n",
    "debt_all = int(input('借入金額を入力せよ==>'))\n",
    "debt_month = int(input('月々返済する金額を入力せよ==>'))\n",
    "\n",
    "# 返済期間算出 \n",
    "clear_month = (debt_all / debt_month) / 12\n",
    "print('返済年数:',clear_month,'年')\n",
    "\n",
    "# \n",
    "bonus = int(input('ボーナス'))\n",
    "bonus_score = bonus * clear_month\n",
    "print(f'期間中ボーナス支払金額{bonus_score}')"
   ]
  },
  {
   "cell_type": "code",
   "execution_count": 58,
   "id": "b0d10d92-f8a0-41ca-a350-cdbb7f582912",
   "metadata": {},
   "outputs": [
    {
     "name": "stdin",
     "output_type": "stream",
     "text": [
      "整数を入力せよ①==> 1\n",
      "整数を入力せよ②==> 1\n"
     ]
    },
    {
     "name": "stdout",
     "output_type": "stream",
     "text": [
      "<class 'int'> <class 'int'>\n",
      "1 1\n"
     ]
    },
    {
     "name": "stdin",
     "output_type": "stream",
     "text": [
      "浮動小数点数を入力せよ①==> 2\n",
      "浮動小数点数を入力せよ②==> 3\n"
     ]
    },
    {
     "name": "stdout",
     "output_type": "stream",
     "text": [
      "<class 'float'> <class 'float'>\n",
      "2.0 3.0\n"
     ]
    }
   ],
   "source": [
    "# 問題3-4\n",
    "x = int(input('整数を入力せよ①==>'))\n",
    "y = int(input('整数を入力せよ②==>'))\n",
    "print(type(x),type(y))\n",
    "print(x,y)\n",
    "\n",
    "a = float(input('浮動小数点数を入力せよ①==>'))\n",
    "b = float(input('浮動小数点数を入力せよ②==>'))\n",
    "print(type(a),type(b))\n",
    "print(a,b)"
   ]
  },
  {
   "cell_type": "code",
   "execution_count": 64,
   "id": "67f0a5b5-cead-4239-9676-8927ae04d4ae",
   "metadata": {},
   "outputs": [
    {
     "name": "stdin",
     "output_type": "stream",
     "text": [
      "整数を入力せよ==> 100\n",
      "整数を入力せよ==> 2324\n",
      "整数を入力せよ==> 321\n",
      "整数を入力せよ==> 999\n"
     ]
    },
    {
     "name": "stdout",
     "output_type": "stream",
     "text": [
      "3744\n"
     ]
    }
   ],
   "source": [
    "a = int(input('整数を入力せよ==>'))\n",
    "b = int(input('整数を入力せよ==>'))\n",
    "c = int(input('整数を入力せよ==>'))\n",
    "d = int(input('整数を入力せよ==>'))\n",
    "\n",
    "total = a + b + c +d\n",
    "print(int(total))"
   ]
  },
  {
   "cell_type": "code",
   "execution_count": 67,
   "id": "57f45067-cfcb-4d52-ae48-4b51cdab8e5c",
   "metadata": {},
   "outputs": [
    {
     "name": "stdin",
     "output_type": "stream",
     "text": [
      "整数を入力せよ==> 2\n",
      "整数を入力せよ==> 3\n"
     ]
    },
    {
     "name": "stdout",
     "output_type": "stream",
     "text": [
      "6\n"
     ]
    },
    {
     "name": "stdin",
     "output_type": "stream",
     "text": [
      "整数を入力せよ==> 2\n",
      "整数を入力せよ==> 3\n"
     ]
    },
    {
     "name": "stdout",
     "output_type": "stream",
     "text": [
      "6\n",
      "合計金額は12です\n"
     ]
    }
   ],
   "source": [
    "x = int(input('整数を入力せよ==>'))\n",
    "y = int(input('整数を入力せよ==>'))\n",
    "product_a = x * y\n",
    "print(product_a)\n",
    "\n",
    "a = int(input('整数を入力せよ==>'))\n",
    "b = int(input('整数を入力せよ==>'))\n",
    "product_b = a * b\n",
    "print(product_b)\n",
    "\n",
    "total = (product_a + product_b)\n",
    "print(f'合計金額は{total}です')"
   ]
  },
  {
   "cell_type": "code",
   "execution_count": 70,
   "id": "19fd3342-c2bc-4a4d-aeee-6a48c35dab08",
   "metadata": {},
   "outputs": [
    {
     "name": "stdin",
     "output_type": "stream",
     "text": [
      "整数を入力==> 100\n",
      "整数を入力==> 245\n"
     ]
    },
    {
     "name": "stdout",
     "output_type": "stream",
     "text": [
      "和=345\n",
      "積=24500\n"
     ]
    }
   ],
   "source": [
    "# 問題3-7\n",
    "x = int(input('整数を入力==>'))\n",
    "y = int(input('整数を入力==>'))\n",
    "\n",
    "total_a = x + y\n",
    "total_b = x * y\n",
    "print(f'和={total_a}')\n",
    "print(f'積={total_b}')"
   ]
  },
  {
   "cell_type": "markdown",
   "id": "3f39ece2-1544-4e14-9bf7-9831b2fb84a0",
   "metadata": {},
   "source": [
    "## if文（条件分岐）"
   ]
  },
  {
   "cell_type": "code",
   "execution_count": 72,
   "id": "780982f1-867f-456a-a1c1-6684b4ac4248",
   "metadata": {},
   "outputs": [
    {
     "data": {
      "text/plain": [
       "\u001b[0;31mDocstring:\u001b[0m\n",
       "print(value, ..., sep=' ', end='\\n', file=sys.stdout, flush=False)\n",
       "\n",
       "Prints the values to a stream, or to sys.stdout by default.\n",
       "Optional keyword arguments:\n",
       "file:  a file-like object (stream); defaults to the current sys.stdout.\n",
       "sep:   string inserted between values, default a space.\n",
       "end:   string appended after the last value, default a newline.\n",
       "flush: whether to forcibly flush the stream.\n",
       "\u001b[0;31mType:\u001b[0m      builtin_function_or_method"
      ]
     },
     "metadata": {},
     "output_type": "display_data"
    }
   ],
   "source": [
    "print??"
   ]
  },
  {
   "cell_type": "code",
   "execution_count": 74,
   "id": "72b350c6-3e2b-4b94-a2fa-8d4003e5cd00",
   "metadata": {},
   "outputs": [
    {
     "data": {
      "application/json": {
       "cell": {
        "!": "OSMagics",
        "HTML": "Other",
        "SVG": "Other",
        "bash": "Other",
        "capture": "ExecutionMagics",
        "code_wrap": "ExecutionMagics",
        "debug": "ExecutionMagics",
        "file": "Other",
        "html": "DisplayMagics",
        "javascript": "DisplayMagics",
        "js": "DisplayMagics",
        "latex": "DisplayMagics",
        "markdown": "DisplayMagics",
        "perl": "Other",
        "prun": "ExecutionMagics",
        "pypy": "Other",
        "python": "Other",
        "python2": "Other",
        "python3": "Other",
        "ruby": "Other",
        "script": "ScriptMagics",
        "sh": "Other",
        "svg": "DisplayMagics",
        "sx": "OSMagics",
        "system": "OSMagics",
        "time": "ExecutionMagics",
        "timeit": "ExecutionMagics",
        "writefile": "OSMagics"
       },
       "line": {
        "alias": "OSMagics",
        "alias_magic": "BasicMagics",
        "autoawait": "AsyncMagics",
        "autocall": "AutoMagics",
        "automagic": "AutoMagics",
        "autosave": "KernelMagics",
        "bookmark": "OSMagics",
        "cat": "Other",
        "cd": "OSMagics",
        "clear": "KernelMagics",
        "code_wrap": "ExecutionMagics",
        "colors": "BasicMagics",
        "conda": "PackagingMagics",
        "config": "ConfigMagics",
        "connect_info": "KernelMagics",
        "cp": "Other",
        "debug": "ExecutionMagics",
        "dhist": "OSMagics",
        "dirs": "OSMagics",
        "doctest_mode": "BasicMagics",
        "ed": "Other",
        "edit": "KernelMagics",
        "env": "OSMagics",
        "gui": "BasicMagics",
        "hist": "Other",
        "history": "HistoryMagics",
        "killbgscripts": "ScriptMagics",
        "ldir": "Other",
        "less": "KernelMagics",
        "lf": "Other",
        "lk": "Other",
        "ll": "Other",
        "load": "CodeMagics",
        "load_ext": "ExtensionMagics",
        "loadpy": "CodeMagics",
        "logoff": "LoggingMagics",
        "logon": "LoggingMagics",
        "logstart": "LoggingMagics",
        "logstate": "LoggingMagics",
        "logstop": "LoggingMagics",
        "ls": "Other",
        "lsmagic": "BasicMagics",
        "lx": "Other",
        "macro": "ExecutionMagics",
        "magic": "BasicMagics",
        "man": "KernelMagics",
        "matplotlib": "PylabMagics",
        "mkdir": "Other",
        "more": "KernelMagics",
        "mv": "Other",
        "notebook": "BasicMagics",
        "page": "BasicMagics",
        "pastebin": "CodeMagics",
        "pdb": "ExecutionMagics",
        "pdef": "NamespaceMagics",
        "pdoc": "NamespaceMagics",
        "pfile": "NamespaceMagics",
        "pinfo": "NamespaceMagics",
        "pinfo2": "NamespaceMagics",
        "pip": "PackagingMagics",
        "popd": "OSMagics",
        "pprint": "BasicMagics",
        "precision": "BasicMagics",
        "prun": "ExecutionMagics",
        "psearch": "NamespaceMagics",
        "psource": "NamespaceMagics",
        "pushd": "OSMagics",
        "pwd": "OSMagics",
        "pycat": "OSMagics",
        "pylab": "PylabMagics",
        "qtconsole": "KernelMagics",
        "quickref": "BasicMagics",
        "recall": "HistoryMagics",
        "rehashx": "OSMagics",
        "reload_ext": "ExtensionMagics",
        "rep": "Other",
        "rerun": "HistoryMagics",
        "reset": "NamespaceMagics",
        "reset_selective": "NamespaceMagics",
        "rm": "Other",
        "rmdir": "Other",
        "run": "ExecutionMagics",
        "save": "CodeMagics",
        "sc": "OSMagics",
        "set_env": "OSMagics",
        "store": "StoreMagics",
        "sx": "OSMagics",
        "system": "OSMagics",
        "tb": "ExecutionMagics",
        "time": "ExecutionMagics",
        "timeit": "ExecutionMagics",
        "unalias": "OSMagics",
        "unload_ext": "ExtensionMagics",
        "who": "NamespaceMagics",
        "who_ls": "NamespaceMagics",
        "whos": "NamespaceMagics",
        "xdel": "NamespaceMagics",
        "xmode": "BasicMagics"
       }
      },
      "text/plain": [
       "Available line magics:\n",
       "%alias  %alias_magic  %autoawait  %autocall  %automagic  %autosave  %bookmark  %cat  %cd  %clear  %code_wrap  %colors  %conda  %config  %connect_info  %cp  %debug  %dhist  %dirs  %doctest_mode  %ed  %edit  %env  %gui  %hist  %history  %killbgscripts  %ldir  %less  %lf  %lk  %ll  %load  %load_ext  %loadpy  %logoff  %logon  %logstart  %logstate  %logstop  %ls  %lsmagic  %lx  %macro  %magic  %man  %matplotlib  %mkdir  %more  %mv  %notebook  %page  %pastebin  %pdb  %pdef  %pdoc  %pfile  %pinfo  %pinfo2  %pip  %popd  %pprint  %precision  %prun  %psearch  %psource  %pushd  %pwd  %pycat  %pylab  %qtconsole  %quickref  %recall  %rehashx  %reload_ext  %rep  %rerun  %reset  %reset_selective  %rm  %rmdir  %run  %save  %sc  %set_env  %store  %sx  %system  %tb  %time  %timeit  %unalias  %unload_ext  %who  %who_ls  %whos  %xdel  %xmode\n",
       "\n",
       "Available cell magics:\n",
       "%%!  %%HTML  %%SVG  %%bash  %%capture  %%code_wrap  %%debug  %%file  %%html  %%javascript  %%js  %%latex  %%markdown  %%perl  %%prun  %%pypy  %%python  %%python2  %%python3  %%ruby  %%script  %%sh  %%svg  %%sx  %%system  %%time  %%timeit  %%writefile\n",
       "\n",
       "Automagic is ON, % prefix IS NOT needed for line magics."
      ]
     },
     "execution_count": 74,
     "metadata": {},
     "output_type": "execute_result"
    }
   ],
   "source": [
    "%lsmagic"
   ]
  },
  {
   "cell_type": "code",
   "execution_count": 75,
   "id": "d44fa219-1439-45cd-a00d-92a95f9bf14a",
   "metadata": {},
   "outputs": [
    {
     "name": "stdout",
     "output_type": "stream",
     "text": [
      "   September 2023     \n",
      "Su Mo Tu We Th Fr Sa  \n",
      "                1  2  \n",
      " 3  4  5  6  7  8  9  \n",
      "10 11 12 13 14 15 16  \n",
      "17 18 19 20 21 22 23  \n",
      "24 25 26 27 28 29 30  \n",
      "                      \n"
     ]
    }
   ],
   "source": [
    "!cal"
   ]
  },
  {
   "cell_type": "code",
   "execution_count": 76,
   "id": "5e3b6520-7c7a-426d-b180-bf3bebb46a2d",
   "metadata": {},
   "outputs": [
    {
     "name": "stdout",
     "output_type": "stream",
     "text": [
      "Hit:1 https://deb.nodesource.com/node_16.x jammy InRelease\n",
      "Hit:2 http://archive.ubuntu.com/ubuntu jammy InRelease                         \u001b[0m\n",
      "Hit:3 http://security.ubuntu.com/ubuntu jammy-security InRelease     \u001b[0m      \n",
      "Hit:4 http://archive.ubuntu.com/ubuntu jammy-updates InRelease       \n",
      "Hit:6 http://archive.ubuntu.com/ubuntu jammy-backports InRelease\n",
      "Hit:5 https://packagecloud.io/ookla/speedtest-cli/ubuntu jammy InRelease\n",
      "Reading package lists... Done\u001b[33m\u001b[33m\u001b[33m\u001b[33m\u001b[33m\u001b[33m\u001b[33m\u001b[33m\u001b[33m\u001b[33m\u001b[33m\u001b[33m\u001b[33m\u001b[33m\n",
      "Building dependency tree... Done\n",
      "Reading state information... Done\n",
      "All packages are up to date.\n"
     ]
    }
   ],
   "source": [
    "!apt update"
   ]
  },
  {
   "cell_type": "code",
   "execution_count": 77,
   "id": "b647c43b-9181-43a4-adf3-1010f4c807fa",
   "metadata": {},
   "outputs": [
    {
     "name": "stdout",
     "output_type": "stream",
     "text": [
      "/usr/bin/sh: 1: dpeedtest: not found\n"
     ]
    }
   ],
   "source": [
    "!dpeedtest"
   ]
  },
  {
   "cell_type": "code",
   "execution_count": 78,
   "id": "1d480837-17fa-46f8-b8ee-e86fd1314be4",
   "metadata": {},
   "outputs": [
    {
     "name": "stdout",
     "output_type": "stream",
     "text": [
      "Retrieving speedtest.net configuration...\n",
      "Testing from NTT Communications Corporation (60.45.86.18)...\n",
      "Retrieving speedtest.net server list...\n",
      "Selecting best server based on ping...\n",
      "Hosted by i3D.net (Tokyo) [4.82 km]: 52.36 ms\n",
      "Testing download speed................................................................................\n",
      "Download: 78.30 Mbit/s\n",
      "Testing upload speed......................................................................................................\n",
      "Upload: 68.69 Mbit/s\n"
     ]
    }
   ],
   "source": [
    "!speedtest"
   ]
  },
  {
   "cell_type": "code",
   "execution_count": 79,
   "id": "54ec5bcf-1ffd-4f80-acdb-5283548c9a60",
   "metadata": {},
   "outputs": [
    {
     "name": "stdout",
     "output_type": "stream",
     "text": [
      "/workspace/workspace_01/algorithm\n"
     ]
    }
   ],
   "source": [
    "!pwd"
   ]
  },
  {
   "cell_type": "code",
   "execution_count": 80,
   "id": "951a4532-dd99-4de4-9079-0bfdaa2ecf1f",
   "metadata": {},
   "outputs": [],
   "source": [
    "!git add ."
   ]
  },
  {
   "cell_type": "code",
   "execution_count": 81,
   "id": "91caae69-fc5a-4090-a991-cd00a464f886",
   "metadata": {},
   "outputs": [
    {
     "name": "stdout",
     "output_type": "stream",
     "text": [
      "[main 5d2d603] [add}20230921\n",
      " 1 file changed, 293 insertions(+), 1 deletion(-)\n"
     ]
    }
   ],
   "source": [
    "!git commit -m '[add}20230921'"
   ]
  },
  {
   "cell_type": "code",
   "execution_count": 2,
   "id": "7a0415a3-108c-4884-b538-c840888fe134",
   "metadata": {},
   "outputs": [
    {
     "name": "stdout",
     "output_type": "stream",
     "text": [
      "CPU times: user 1.43 ms, sys: 0 ns, total: 1.43 ms\n",
      "Wall time: 1.44 ms\n"
     ]
    },
    {
     "data": {
      "text/plain": [
       "49995000"
      ]
     },
     "execution_count": 2,
     "metadata": {},
     "output_type": "execute_result"
    }
   ],
   "source": [
    "%time sum(range(10000))"
   ]
  },
  {
   "cell_type": "code",
   "execution_count": 3,
   "id": "26f914e3-50c1-4591-9a8e-c5f3c3e3fbe5",
   "metadata": {},
   "outputs": [
    {
     "name": "stdout",
     "output_type": "stream",
     "text": [
      "   September 2023     \n",
      "Su Mo Tu We Th Fr Sa  \n",
      "                1  2  \n",
      " 3  4  5  6  7  8  9  \n",
      "10 11 12 13 14 15 16  \n",
      "17 18 19 20 21 22 23  \n",
      "24 25 26 27 28 29 30  \n",
      "                      \n"
     ]
    }
   ],
   "source": [
    "!cal"
   ]
  },
  {
   "cell_type": "code",
   "execution_count": 4,
   "id": "189e8d38-532d-42ce-ac25-a5f55194193e",
   "metadata": {},
   "outputs": [
    {
     "name": "stdout",
     "output_type": "stream",
     "text": [
      "                            2023\n",
      "      January               February               March          \n",
      "Su Mo Tu We Th Fr Sa  Su Mo Tu We Th Fr Sa  Su Mo Tu We Th Fr Sa  \n",
      " 1  2  3  4  5  6  7            1  2  3  4            1  2  3  4  \n",
      " 8  9 10 11 12 13 14   5  6  7  8  9 10 11   5  6  7  8  9 10 11  \n",
      "15 16 17 18 19 20 21  12 13 14 15 16 17 18  12 13 14 15 16 17 18  \n",
      "22 23 24 25 26 27 28  19 20 21 22 23 24 25  19 20 21 22 23 24 25  \n",
      "29 30 31              26 27 28              26 27 28 29 30 31     \n",
      "                                                                  \n",
      "\n",
      "       April                  May                   June          \n",
      "Su Mo Tu We Th Fr Sa  Su Mo Tu We Th Fr Sa  Su Mo Tu We Th Fr Sa  \n",
      "                   1      1  2  3  4  5  6               1  2  3  \n",
      " 2  3  4  5  6  7  8   7  8  9 10 11 12 13   4  5  6  7  8  9 10  \n",
      " 9 10 11 12 13 14 15  14 15 16 17 18 19 20  11 12 13 14 15 16 17  \n",
      "16 17 18 19 20 21 22  21 22 23 24 25 26 27  18 19 20 21 22 23 24  \n",
      "23 24 25 26 27 28 29  28 29 30 31           25 26 27 28 29 30     \n",
      "30                                                                \n",
      "\n",
      "        July                 August              September        \n",
      "Su Mo Tu We Th Fr Sa  Su Mo Tu We Th Fr Sa  Su Mo Tu We Th Fr Sa  \n",
      "                   1         1  2  3  4  5                  1  2  \n",
      " 2  3  4  5  6  7  8   6  7  8  9 10 11 12   3  4  5  6  7  8  9  \n",
      " 9 10 11 12 13 14 15  13 14 15 16 17 18 19  10 11 12 13 14 15 16  \n",
      "16 17 18 19 20 21 22  20 21 22 23 24 25 26  17 18 19 20 21 22 23  \n",
      "23 24 25 26 27 28 29  27 28 29 30 31        24 25 26 27 28 29 30  \n",
      "30 31                                                             \n",
      "\n",
      "      October               November              December        \n",
      "Su Mo Tu We Th Fr Sa  Su Mo Tu We Th Fr Sa  Su Mo Tu We Th Fr Sa  \n",
      " 1  2  3  4  5  6  7            1  2  3  4                  1  2  \n",
      " 8  9 10 11 12 13 14   5  6  7  8  9 10 11   3  4  5  6  7  8  9  \n",
      "15 16 17 18 19 20 21  12 13 14 15 16 17 18  10 11 12 13 14 15 16  \n",
      "22 23 24 25 26 27 28  19 20 21 22 23 24 25  17 18 19 20 21 22 23  \n",
      "29 30 31              26 27 28 29 30        24 25 26 27 28 29 30  \n",
      "                                            31                    \n"
     ]
    }
   ],
   "source": [
    "!cal -y"
   ]
  },
  {
   "cell_type": "code",
   "execution_count": null,
   "id": "971145bf-2fb8-4e86-801b-10710b476c10",
   "metadata": {},
   "outputs": [],
   "source": []
  }
 ],
 "metadata": {
  "kernelspec": {
   "display_name": "Python 3 (ipykernel)",
   "language": "python",
   "name": "python3"
  },
  "language_info": {
   "codemirror_mode": {
    "name": "ipython",
    "version": 3
   },
   "file_extension": ".py",
   "mimetype": "text/x-python",
   "name": "python",
   "nbconvert_exporter": "python",
   "pygments_lexer": "ipython3",
   "version": "3.10.12"
  }
 },
 "nbformat": 4,
 "nbformat_minor": 5
}
