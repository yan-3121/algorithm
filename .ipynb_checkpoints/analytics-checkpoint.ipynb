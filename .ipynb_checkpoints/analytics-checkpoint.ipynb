{
 "cells": [
  {
   "cell_type": "markdown",
   "id": "1b77e09b-52c8-4aa7-8f1b-778232e7b5fd",
   "metadata": {},
   "source": [
    "# Python基礎（１）\n",
    "--- "
   ]
  },
  {
   "cell_type": "markdown",
   "id": "da48f2f4-5b22-4623-9b3e-baa4582d20f8",
   "metadata": {},
   "source": [
    "## 電卓としてのPython"
   ]
  },
  {
   "cell_type": "code",
   "execution_count": 10,
   "id": "5e0c8c4b-741f-41d1-aa0c-97180ef3625a",
   "metadata": {},
   "outputs": [
    {
     "data": {
      "text/plain": [
       "16"
      ]
     },
     "execution_count": 10,
     "metadata": {},
     "output_type": "execute_result"
    }
   ],
   "source": [
    "# 例題1-1\n",
    "2**4"
   ]
  },
  {
   "cell_type": "code",
   "execution_count": 11,
   "id": "587bdab0-7209-4bf1-897f-596595812324",
   "metadata": {},
   "outputs": [
    {
     "name": "stdout",
     "output_type": "stream",
     "text": [
      "9\n",
      "hello world!\n"
     ]
    }
   ],
   "source": [
    "# 例題1-2\n",
    "print(2 + 7)\n",
    "print('hello world!')"
   ]
  },
  {
   "cell_type": "code",
   "execution_count": 12,
   "id": "3a1cf3a3-6cc9-4901-b951-f725a79cacaf",
   "metadata": {},
   "outputs": [
    {
     "name": "stdout",
     "output_type": "stream",
     "text": [
      "10を3で割った時の商は 3\n",
      "余りは 1\n",
      "3.3333333333333335\n"
     ]
    }
   ],
   "source": [
    "# 例題1-3\n",
    "print('10を3で割った時の商は', 10 // 3)\n",
    "print('余りは', 10 % 3)\n",
    "print(10 / 3)"
   ]
  },
  {
   "cell_type": "code",
   "execution_count": 13,
   "id": "e424891f-c98f-4204-8ee5-a852158d96ea",
   "metadata": {},
   "outputs": [
    {
     "name": "stdout",
     "output_type": "stream",
     "text": [
      "hello world\n",
      "24\n"
     ]
    }
   ],
   "source": [
    "# 問題1-1\n",
    "print('hello world')\n",
    "print(4+4*5)"
   ]
  },
  {
   "cell_type": "code",
   "execution_count": 14,
   "id": "33a58d4c-be44-41a1-a988-fd24347491da",
   "metadata": {},
   "outputs": [
    {
     "name": "stdout",
     "output_type": "stream",
     "text": [
      "11211 12121 21112\n"
     ]
    }
   ],
   "source": [
    "# 問題1-2\n",
    "print(11211,12121,21112)"
   ]
  },
  {
   "cell_type": "code",
   "execution_count": 15,
   "id": "edd3a6cf-f6c8-454b-bee3-22a826963fa2",
   "metadata": {},
   "outputs": [
    {
     "name": "stdout",
     "output_type": "stream",
     "text": [
      "1024 7888609052210118054117285652827862296732064351090230047702789306640625\n"
     ]
    }
   ],
   "source": [
    "# 問題1-3\n",
    "print(2**10,5**100)"
   ]
  },
  {
   "cell_type": "code",
   "execution_count": 16,
   "id": "fe0a71dc-e277-4d92-b241-674ee1ef6398",
   "metadata": {},
   "outputs": [
    {
     "name": "stdout",
     "output_type": "stream",
     "text": [
      "(33 + 44) * 55 = 4235 2.1 + 4.3 + 6.5 = 12.9 (128 + 456) % 78 = 38\n"
     ]
    }
   ],
   "source": [
    "# 問題1-4\n",
    "a = (33 + 44) *55\n",
    "b = 2.1 + 4.3 + 6.5\n",
    "c = (128 + 456) % 78\n",
    "\n",
    "print(f'(33 + 44) * 55 = {a}',f'2.1 + 4.3 + 6.5 = {b}', f'(128 + 456) % 78 = {c}')"
   ]
  },
  {
   "cell_type": "code",
   "execution_count": 17,
   "id": "c3c7fd67-4958-4308-a74b-1f29e5c0e8f2",
   "metadata": {},
   "outputs": [
    {
     "name": "stdout",
     "output_type": "stream",
     "text": [
      "15\n",
      "945\n",
      "1464\n"
     ]
    }
   ],
   "source": [
    "# 問題1-5\n",
    "print(1 + 2 + 3 + 4 + 5)\n",
    "print(1 * 3 * 5 * 7 * 9)\n",
    "print(98 * 3 + 48 * 4 + 188 + (208 - 50) * 5)"
   ]
  },
  {
   "cell_type": "markdown",
   "id": "a41cade6-ae40-4464-8622-35214919e9a6",
   "metadata": {},
   "source": [
    "## 変数と計算"
   ]
  },
  {
   "cell_type": "code",
   "execution_count": 18,
   "id": "13203450-559d-4975-ad61-4828d0b91cbe",
   "metadata": {},
   "outputs": [
    {
     "name": "stdout",
     "output_type": "stream",
     "text": [
      "5535\n"
     ]
    }
   ],
   "source": [
    "# 例題2-1\n",
    "x = 123 * 45\n",
    "print(x)"
   ]
  },
  {
   "cell_type": "code",
   "execution_count": 19,
   "id": "6fb04beb-6f1b-468f-aa2e-47af1a1ac88c",
   "metadata": {},
   "outputs": [
    {
     "name": "stdout",
     "output_type": "stream",
     "text": [
      "999.0 500\n"
     ]
    }
   ],
   "source": [
    "# 例題2-2\n",
    "y = 99.9\n",
    "x = 50\n",
    "print(y * 10, x * 10)"
   ]
  },
  {
   "cell_type": "code",
   "execution_count": 20,
   "id": "f40aec57-d604-4dd6-ba9e-8cd8daee6be3",
   "metadata": {},
   "outputs": [],
   "source": [
    "# 例題2-3\n",
    "x = 10\n",
    "y = 10\n",
    "# print(x,y)\n",
    "x = y + 10\n",
    "y = 20\n",
    "# print(x,y)\n",
    "x = x -10\n",
    "y = y -x\n",
    "# print(x,y)"
   ]
  },
  {
   "cell_type": "code",
   "execution_count": 21,
   "id": "f3385065-e400-450b-b6a2-1f0aa808ae59",
   "metadata": {},
   "outputs": [
    {
     "name": "stdout",
     "output_type": "stream",
     "text": [
      "10 10\n",
      "20 20\n",
      "10 10\n"
     ]
    }
   ],
   "source": [
    "# 例題2-3\n",
    "x = 10\n",
    "y = 10\n",
    "print(x,y)\n",
    "x = y + 10\n",
    "y = 20\n",
    "print(x,y)\n",
    "x = x -10\n",
    "y = y -x\n",
    "print(x,y)"
   ]
  },
  {
   "cell_type": "code",
   "execution_count": 22,
   "id": "68a7287f-4f0b-44c4-8e76-6783f7682e79",
   "metadata": {},
   "outputs": [
    {
     "name": "stdout",
     "output_type": "stream",
     "text": [
      "10\n"
     ]
    }
   ],
   "source": [
    "# 問題2-1\n",
    "print(x)\n",
    "x = 55 + 29"
   ]
  },
  {
   "cell_type": "code",
   "execution_count": 23,
   "id": "9660fa3c-fc6f-4569-9f7f-363365e051f9",
   "metadata": {},
   "outputs": [
    {
     "name": "stdout",
     "output_type": "stream",
     "text": [
      "30 5\n"
     ]
    }
   ],
   "source": [
    "# 問題2-2\n",
    "x =30\n",
    "y = 5\n",
    "print(x,y)"
   ]
  },
  {
   "cell_type": "markdown",
   "id": "efea0d0d-d24e-4c5f-913d-28844a563adf",
   "metadata": {},
   "source": [
    "## 入力関数input"
   ]
  },
  {
   "cell_type": "code",
   "execution_count": 24,
   "id": "f404dac6-39c1-4b86-8aeb-7f1eace0351b",
   "metadata": {},
   "outputs": [
    {
     "name": "stdin",
     "output_type": "stream",
     "text": [
      "何か整数を入力してね 1\n"
     ]
    },
    {
     "name": "stdout",
     "output_type": "stream",
     "text": [
      "1\n"
     ]
    }
   ],
   "source": [
    "# 例題3-1\n",
    "x = int(input('何か整数を入力してね'))\n",
    "print(x**100)"
   ]
  },
  {
   "cell_type": "code",
   "execution_count": 25,
   "id": "cd3c1a87-4703-4170-8a5d-53bdd9860e15",
   "metadata": {},
   "outputs": [
    {
     "name": "stdin",
     "output_type": "stream",
     "text": [
      "苗字を入力してね yanai\n",
      "名前を入力してね tatsuya\n"
     ]
    },
    {
     "name": "stdout",
     "output_type": "stream",
     "text": [
      "yanai tatsuya\n"
     ]
    }
   ],
   "source": [
    "# 例題3-2\n",
    "first = input('苗字を入力してね')\n",
    "given = input('名前を入力してね')\n",
    "print(first,given)"
   ]
  },
  {
   "cell_type": "code",
   "execution_count": 27,
   "id": "27690788-28c4-40b9-8d0f-453a0b2aed4c",
   "metadata": {},
   "outputs": [
    {
     "data": {
      "text/plain": [
       "'12'"
      ]
     },
     "execution_count": 27,
     "metadata": {},
     "output_type": "execute_result"
    }
   ],
   "source": [
    "int_number = 1\n",
    "string_number = '2'\n",
    "str(int_number) + string_number"
   ]
  },
  {
   "cell_type": "code",
   "execution_count": 31,
   "id": "48b0badc-a8f8-4af0-9318-925836a19a22",
   "metadata": {},
   "outputs": [
    {
     "name": "stdin",
     "output_type": "stream",
     "text": [
      "integer=? 1\n"
     ]
    },
    {
     "name": "stdout",
     "output_type": "stream",
     "text": [
      "<class 'float'>\n",
      "1.0\n"
     ]
    }
   ],
   "source": [
    "# 問題3-1\n",
    "y = float(input('integer=?'))\n",
    "print(type(y))\n",
    "print(y)"
   ]
  },
  {
   "cell_type": "code",
   "execution_count": 35,
   "id": "7d564ebb-0294-4473-9de1-ba2cfd68c953",
   "metadata": {},
   "outputs": [
    {
     "name": "stdin",
     "output_type": "stream",
     "text": [
      "整数を入力: 1\n",
      "整数を入力: 1\n",
      "整数を入力: 1\n"
     ]
    },
    {
     "name": "stdout",
     "output_type": "stream",
     "text": [
      "3\n"
     ]
    }
   ],
   "source": [
    "# 問題3-2\n",
    "x = int(input('整数を入力:'))\n",
    "y = int(input('整数を入力:'))\n",
    "z = int(input('整数を入力:'))\n",
    "print(x + y + z)"
   ]
  },
  {
   "cell_type": "code",
   "execution_count": 36,
   "id": "e61bd3eb-eb9e-4dd0-9c58-568cde212560",
   "metadata": {},
   "outputs": [
    {
     "name": "stdin",
     "output_type": "stream",
     "text": [
      "浮動小数点数を入力==> 1\n",
      "浮動小数点数を入力==> 2\n"
     ]
    },
    {
     "name": "stdout",
     "output_type": "stream",
     "text": [
      "3.0\n"
     ]
    }
   ],
   "source": [
    "x = float(input('浮動小数点数を入力==>'))\n",
    "y = float(input('浮動小数点数を入力==>'))\n",
    "print( x + y)"
   ]
  },
  {
   "cell_type": "code",
   "execution_count": 37,
   "id": "416672fd-bcca-4483-964e-15f4e60fe9a0",
   "metadata": {},
   "outputs": [
    {
     "name": "stdin",
     "output_type": "stream",
     "text": [
      "整数を入力せよ: 2\n",
      "整数を入力せよ: 3\n"
     ]
    },
    {
     "name": "stdout",
     "output_type": "stream",
     "text": [
      "6\n"
     ]
    }
   ],
   "source": [
    "x = int(input('整数を入力せよ:'))\n",
    "y = int(input('整数を入力せよ:'))\n",
    "\n",
    "print(x * y)"
   ]
  },
  {
   "cell_type": "code",
   "execution_count": 49,
   "id": "d2b4e9e0-7d48-4a6b-8280-343e1dc59904",
   "metadata": {},
   "outputs": [
    {
     "name": "stdin",
     "output_type": "stream",
     "text": [
      "借入金額を入力せよ==> 500\n",
      "月々返済する金額を入力せよ==> 10\n"
     ]
    },
    {
     "name": "stdout",
     "output_type": "stream",
     "text": [
      "返済年数: 4.166666666666667 年\n"
     ]
    },
    {
     "name": "stdin",
     "output_type": "stream",
     "text": [
      "ボーナス 20\n"
     ]
    },
    {
     "name": "stdout",
     "output_type": "stream",
     "text": [
      "期間中ボーナス金額83.33333333333334\n"
     ]
    }
   ],
   "source": [
    "# 問題3-3__作成途中\n",
    "\n",
    "# 変数宣言\n",
    "debt_all = int(input('借入金額を入力せよ==>'))\n",
    "debt_month = int(input('月々返済する金額を入力せよ==>'))\n",
    "\n",
    "# 返済期間算出 \n",
    "clear_month = (debt_all / debt_month) / 12\n",
    "print('返済年数:',clear_month,'年')\n",
    "\n",
    "# \n",
    "bonus = int(input('ボーナス'))\n",
    "bonus_score = bonus * clear_month\n",
    "print(f'期間中ボーナス支払金額{bonus_score}')"
   ]
  },
  {
   "cell_type": "code",
   "execution_count": 58,
   "id": "b0d10d92-f8a0-41ca-a350-cdbb7f582912",
   "metadata": {},
   "outputs": [
    {
     "name": "stdin",
     "output_type": "stream",
     "text": [
      "整数を入力せよ①==> 1\n",
      "整数を入力せよ②==> 1\n"
     ]
    },
    {
     "name": "stdout",
     "output_type": "stream",
     "text": [
      "<class 'int'> <class 'int'>\n",
      "1 1\n"
     ]
    },
    {
     "name": "stdin",
     "output_type": "stream",
     "text": [
      "浮動小数点数を入力せよ①==> 2\n",
      "浮動小数点数を入力せよ②==> 3\n"
     ]
    },
    {
     "name": "stdout",
     "output_type": "stream",
     "text": [
      "<class 'float'> <class 'float'>\n",
      "2.0 3.0\n"
     ]
    }
   ],
   "source": [
    "# 問題3-4\n",
    "x = int(input('整数を入力せよ①==>'))\n",
    "y = int(input('整数を入力せよ②==>'))\n",
    "print(type(x),type(y))\n",
    "print(x,y)\n",
    "\n",
    "a = float(input('浮動小数点数を入力せよ①==>'))\n",
    "b = float(input('浮動小数点数を入力せよ②==>'))\n",
    "print(type(a),type(b))\n",
    "print(a,b)"
   ]
  },
  {
   "cell_type": "code",
   "execution_count": 64,
   "id": "67f0a5b5-cead-4239-9676-8927ae04d4ae",
   "metadata": {},
   "outputs": [
    {
     "name": "stdin",
     "output_type": "stream",
     "text": [
      "整数を入力せよ==> 100\n",
      "整数を入力せよ==> 2324\n",
      "整数を入力せよ==> 321\n",
      "整数を入力せよ==> 999\n"
     ]
    },
    {
     "name": "stdout",
     "output_type": "stream",
     "text": [
      "3744\n"
     ]
    }
   ],
   "source": [
    "a = int(input('整数を入力せよ==>'))\n",
    "b = int(input('整数を入力せよ==>'))\n",
    "c = int(input('整数を入力せよ==>'))\n",
    "d = int(input('整数を入力せよ==>'))\n",
    "\n",
    "total = a + b + c +d\n",
    "print(int(total))"
   ]
  },
  {
   "cell_type": "code",
   "execution_count": 67,
   "id": "57f45067-cfcb-4d52-ae48-4b51cdab8e5c",
   "metadata": {},
   "outputs": [
    {
     "name": "stdin",
     "output_type": "stream",
     "text": [
      "整数を入力せよ==> 2\n",
      "整数を入力せよ==> 3\n"
     ]
    },
    {
     "name": "stdout",
     "output_type": "stream",
     "text": [
      "6\n"
     ]
    },
    {
     "name": "stdin",
     "output_type": "stream",
     "text": [
      "整数を入力せよ==> 2\n",
      "整数を入力せよ==> 3\n"
     ]
    },
    {
     "name": "stdout",
     "output_type": "stream",
     "text": [
      "6\n",
      "合計金額は12です\n"
     ]
    }
   ],
   "source": [
    "x = int(input('整数を入力せよ==>'))\n",
    "y = int(input('整数を入力せよ==>'))\n",
    "product_a = x * y\n",
    "print(product_a)\n",
    "\n",
    "a = int(input('整数を入力せよ==>'))\n",
    "b = int(input('整数を入力せよ==>'))\n",
    "product_b = a * b\n",
    "print(product_b)\n",
    "\n",
    "total = (product_a + product_b)\n",
    "print(f'合計金額は{total}です')"
   ]
  },
  {
   "cell_type": "code",
   "execution_count": 70,
   "id": "19fd3342-c2bc-4a4d-aeee-6a48c35dab08",
   "metadata": {},
   "outputs": [
    {
     "name": "stdin",
     "output_type": "stream",
     "text": [
      "整数を入力==> 100\n",
      "整数を入力==> 245\n"
     ]
    },
    {
     "name": "stdout",
     "output_type": "stream",
     "text": [
      "和=345\n",
      "積=24500\n"
     ]
    }
   ],
   "source": [
    "# 問題3-7\n",
    "x = int(input('整数を入力==>'))\n",
    "y = int(input('整数を入力==>'))\n",
    "\n",
    "total_a = x + y\n",
    "total_b = x * y\n",
    "print(f'和={total_a}')\n",
    "print(f'積={total_b}')"
   ]
  },
  {
   "cell_type": "markdown",
   "id": "3f39ece2-1544-4e14-9bf7-9831b2fb84a0",
   "metadata": {},
   "source": [
    "## if文（条件分岐）"
   ]
  },
  {
   "cell_type": "markdown",
   "id": "47cd9145-ed3a-4d19-83d3-65550a495e59",
   "metadata": {},
   "source": [
    "$$x^2 - 6x + 1 = 0$$"
   ]
  },
  {
   "cell_type": "code",
   "execution_count": 1,
   "id": "5ee2fc39-7c2e-4dce-8a23-e71345252262",
   "metadata": {},
   "outputs": [
    {
     "name": "stdout",
     "output_type": "stream",
     "text": [
      "OK\n"
     ]
    }
   ],
   "source": [
    "# 例題4-1\n",
    "if 0 < 10:\n",
    "    print('OK')"
   ]
  },
  {
   "cell_type": "code",
   "execution_count": 6,
   "id": "ea013e9f-1117-41ff-bca1-09309bfa5dc7",
   "metadata": {},
   "outputs": [
    {
     "name": "stdin",
     "output_type": "stream",
     "text": [
      "Please enter an integer: 12\n"
     ]
    },
    {
     "name": "stdout",
     "output_type": "stream",
     "text": [
      "BOO\n"
     ]
    }
   ],
   "source": [
    "# 例題4-2\n",
    "x = int(input('Please enter an integer:'))\n",
    "if x + 25000 == 3500 * 9:\n",
    "    print('OK')\n",
    "else:\n",
    "    print('BOO')"
   ]
  },
  {
   "cell_type": "code",
   "execution_count": 3,
   "id": "14cb3747-39b3-4d6f-aae6-c0d9a2f65d44",
   "metadata": {},
   "outputs": [
    {
     "data": {
      "text/plain": [
       "31500"
      ]
     },
     "execution_count": 3,
     "metadata": {},
     "output_type": "execute_result"
    }
   ],
   "source": [
    "3500 * 9"
   ]
  },
  {
   "cell_type": "code",
   "execution_count": 4,
   "id": "b60cda26-ba0e-44a0-9274-7a4828d4ee05",
   "metadata": {},
   "outputs": [
    {
     "data": {
      "text/plain": [
       "6500"
      ]
     },
     "execution_count": 4,
     "metadata": {},
     "output_type": "execute_result"
    }
   ],
   "source": [
    "31500 - 25000"
   ]
  },
  {
   "cell_type": "code",
   "execution_count": 17,
   "id": "dbeb0d85-d91d-483e-8ad5-2d7309201323",
   "metadata": {},
   "outputs": [
    {
     "name": "stdin",
     "output_type": "stream",
     "text": [
      "Please enter an integer: 1\n"
     ]
    },
    {
     "name": "stdout",
     "output_type": "stream",
     "text": [
      "positive\n",
      "100未満\n"
     ]
    }
   ],
   "source": [
    "## 例題4-3\n",
    "x = int(input('Please enter an integer:'))\n",
    "if x > 0:\n",
    "    print('positive')\n",
    "    if x >= 100:\n",
    "        print('100以上')\n",
    "    else:\n",
    "        print('100未満')\n",
    "elif x == 0:\n",
    "    print('zero')\n",
    "else:\n",
    "    print('negative')"
   ]
  },
  {
   "cell_type": "code",
   "execution_count": 18,
   "id": "5d9d5b21-1fa6-462b-b6e3-dbbf3c62d018",
   "metadata": {},
   "outputs": [
    {
     "data": {
      "text/plain": [
       "True"
      ]
     },
     "execution_count": 18,
     "metadata": {},
     "output_type": "execute_result"
    }
   ],
   "source": [
    "x == 1 or y != 6"
   ]
  },
  {
   "cell_type": "code",
   "execution_count": 19,
   "id": "6800a2f7-49b6-4257-a857-6cfb4380682c",
   "metadata": {},
   "outputs": [
    {
     "data": {
      "text/plain": [
       "False"
      ]
     },
     "execution_count": 19,
     "metadata": {},
     "output_type": "execute_result"
    }
   ],
   "source": [
    "not (x < 4) and y < 6"
   ]
  },
  {
   "cell_type": "code",
   "execution_count": 22,
   "id": "d96cc8f3-6095-4e85-9bd6-d65960eaed0a",
   "metadata": {},
   "outputs": [
    {
     "name": "stdin",
     "output_type": "stream",
     "text": [
      "数を入力してください 2\n"
     ]
    },
    {
     "name": "stdout",
     "output_type": "stream",
     "text": [
      "OK\n"
     ]
    }
   ],
   "source": [
    "# 例題4-4\n",
    "x = int(input('数を入力してください'))\n",
    "\n",
    "if x < 0 or x >= 100:\n",
    "    print('範囲外')\n",
    "else:\n",
    "    print('OK')"
   ]
  },
  {
   "cell_type": "code",
   "execution_count": 23,
   "id": "e5a00d56-e6c2-49d4-8432-04ec3cea7167",
   "metadata": {},
   "outputs": [],
   "source": [
    "!git add ."
   ]
  },
  {
   "cell_type": "code",
   "execution_count": 24,
   "id": "f9e59bba-028b-47fa-9b5d-87490c91d8e4",
   "metadata": {},
   "outputs": [
    {
     "name": "stdout",
     "output_type": "stream",
     "text": [
      "/usr/bin/sh: 1: Syntax error: Unterminated quoted string\n"
     ]
    }
   ],
   "source": [
    "!git commit -m'[add:20230923]"
   ]
  },
  {
   "cell_type": "code",
   "execution_count": 21,
   "id": "0a66c137-149d-45fd-9ca1-8099a32a3114",
   "metadata": {},
   "outputs": [
    {
     "name": "stdin",
     "output_type": "stream",
     "text": [
      "数を入力せよ 2\n"
     ]
    },
    {
     "name": "stdout",
     "output_type": "stream",
     "text": [
      "positive\n"
     ]
    }
   ],
   "source": [
    "# 問題4-1\n",
    "x = int(input('数を入力せよ'))\n",
    "\n",
    "if x == 0:\n",
    "    print('zero')\n",
    "elif x >= 100:\n",
    "    print('OK')\n",
    "elif x > 0:\n",
    "    print('positive')"
   ]
  },
  {
   "cell_type": "code",
   "execution_count": 13,
   "id": "490c2a2d-d9be-4678-848f-7a627f024207",
   "metadata": {},
   "outputs": [
    {
     "name": "stdin",
     "output_type": "stream",
     "text": [
      "整数を入力せよ 1\n"
     ]
    },
    {
     "name": "stdout",
     "output_type": "stream",
     "text": [
      "1です\n"
     ]
    }
   ],
   "source": [
    "x = int(input('整数を入力せよ'))\n",
    "\n",
    "if x >= 10:\n",
    "    print('10以上です')\n",
    "    \n",
    "else:\n",
    "    if x == 1:\n",
    "        print('1です')\n",
    "    elif x == 2:\n",
    "        print('2です')\n",
    "    else:\n",
    "        print('etc')"
   ]
  },
  {
   "cell_type": "code",
   "execution_count": 17,
   "id": "1abd735e-e9da-48f9-8417-c1a7d2f0551b",
   "metadata": {},
   "outputs": [
    {
     "name": "stdin",
     "output_type": "stream",
     "text": [
      "Please enter an integer: 100\n"
     ]
    },
    {
     "name": "stdout",
     "output_type": "stream",
     "text": [
      "positeve\n",
      "100以上\n"
     ]
    }
   ],
   "source": [
    "x = int(input('Please enter an integer:'))\n",
    "if x < 0:\n",
    "    print('negatieve')\n",
    "elif x == 0:\n",
    "    print('zero')\n",
    "else:\n",
    "    print('positeve')\n",
    "    if x >= 100:\n",
    "        print('100以上')\n",
    "    else:\n",
    "        print('100未満')"
   ]
  },
  {
   "cell_type": "code",
   "execution_count": 36,
   "id": "9e43b394-07df-4dc9-ad24-7a41a56db588",
   "metadata": {},
   "outputs": [
    {
     "name": "stdin",
     "output_type": "stream",
     "text": [
      "Please enter x: 500\n",
      "Please enter y: 20\n"
     ]
    },
    {
     "name": "stdout",
     "output_type": "stream",
     "text": [
      "x - y = 480\n"
     ]
    }
   ],
   "source": [
    "# 問題4-3\n",
    "x = int(input('Please enter x:'))\n",
    "y = int(input('Please enter y:'))\n",
    "\n",
    "if y <= x:\n",
    "    print(f'x - y = {x - y}')\n",
    "else:\n",
    "    print('負になります')"
   ]
  },
  {
   "cell_type": "code",
   "execution_count": 44,
   "id": "a47b7d6d-798e-4fb5-acef-2e09d6ccc9cd",
   "metadata": {},
   "outputs": [
    {
     "name": "stdin",
     "output_type": "stream",
     "text": [
      "Please Enter: 1\n"
     ]
    },
    {
     "name": "stdout",
     "output_type": "stream",
     "text": [
      "'(>_<)'\n"
     ]
    }
   ],
   "source": [
    "# 問題4-4\n",
    "x = int(input('Please Enter:'))\n",
    "\n",
    "if x == 1:\n",
    "    print(\"'(>_<)'\")\n",
    "elif x == 2:\n",
    "    print('⌒▽⌒')\n",
    "elif x ==3:\n",
    "    print('^ - ^')\n",
    "else:\n",
    "    print('')"
   ]
  },
  {
   "cell_type": "code",
   "execution_count": 61,
   "id": "032d03b3-3e73-47ac-a5f2-56cd43431c9a",
   "metadata": {},
   "outputs": [
    {
     "name": "stdin",
     "output_type": "stream",
     "text": [
      "Please enter: 5439\n"
     ]
    },
    {
     "name": "stdout",
     "output_type": "stream",
     "text": [
      "Odd\n"
     ]
    }
   ],
   "source": [
    "# 問題4-5\n",
    "x = int(input('Please enter:'))\n",
    "\n",
    "if x % 2 ==0:\n",
    "    print('Even')\n",
    "elif x % 2 == 1:\n",
    "    print('Odd')"
   ]
  },
  {
   "cell_type": "code",
   "execution_count": 67,
   "id": "a475c88b-b0ab-47be-9239-b30ec165b8f0",
   "metadata": {},
   "outputs": [
    {
     "name": "stdin",
     "output_type": "stream",
     "text": [
      "Please enter: 13\n"
     ]
    },
    {
     "name": "stdout",
     "output_type": "stream",
     "text": [
      "OK\n"
     ]
    }
   ],
   "source": [
    "# 問題4-6\n",
    "x = int(input('Please enter:'))\n",
    "\n",
    "if x >= 10 and x <= 20:\n",
    "        print('OK')"
   ]
  },
  {
   "cell_type": "code",
   "execution_count": 79,
   "id": "8737ad17-a117-4fc0-ab96-c2b0866073ea",
   "metadata": {},
   "outputs": [
    {
     "name": "stdin",
     "output_type": "stream",
     "text": [
      "Please Enter: 1\n"
     ]
    },
    {
     "name": "stdout",
     "output_type": "stream",
     "text": [
      "( ^ω^ )\n"
     ]
    }
   ],
   "source": [
    "# 問題4-7\n",
    "x = '^_^'\n",
    "y = 'Σ(^ - ^)'\n",
    "yy = '( ^ω^ )'\n",
    "\n",
    "z = int(input('Please Enter:'))\n",
    "\n",
    "if z >= 10 and z <= 20:\n",
    "    print(x)\n",
    "elif z >= 50 and z <= 60:\n",
    "    print(y)\n",
    "else:\n",
    "    print(yy)"
   ]
  },
  {
   "cell_type": "code",
   "execution_count": 81,
   "id": "9fa0e8d7-5cc3-48c3-aed1-df27534d09d7",
   "metadata": {},
   "outputs": [
    {
     "name": "stdin",
     "output_type": "stream",
     "text": [
      "Please enter: -1\n",
      "Please enter: 2\n"
     ]
    },
    {
     "name": "stdout",
     "output_type": "stream",
     "text": [
      "-2\n"
     ]
    }
   ],
   "source": [
    "# 問題4-8\n",
    "x = int(input('Please enter:'))\n",
    "\n",
    "if x > 0:\n",
    "    print(x)\n",
    "else:\n",
    "    y = int(input('Please enter:'))\n",
    "    z = x * y\n",
    "    print(z)"
   ]
  },
  {
   "cell_type": "markdown",
   "id": "74d39530-e384-496f-87e7-6231f2a81915",
   "metadata": {},
   "source": [
    "## while,forによる反復文"
   ]
  },
  {
   "cell_type": "code",
   "execution_count": 84,
   "id": "0eb7d39e-c5cc-486f-8c23-fadc3d24469d",
   "metadata": {},
   "outputs": [
    {
     "name": "stdin",
     "output_type": "stream",
     "text": [
      "Please enter: 5\n"
     ]
    },
    {
     "name": "stdout",
     "output_type": "stream",
     "text": [
      "5\n",
      "4\n",
      "3\n",
      "2\n",
      "1\n"
     ]
    }
   ],
   "source": [
    "# 例題5-1\n",
    "x = int(input('Please enter:'))\n",
    "\n",
    "while x > 0:\n",
    "    print(x)\n",
    "    x = x -1"
   ]
  },
  {
   "cell_type": "code",
   "execution_count": 89,
   "id": "b309ec89-c704-464a-88b0-acf6760db98e",
   "metadata": {},
   "outputs": [
    {
     "name": "stdin",
     "output_type": "stream",
     "text": [
      "Please enter: 10\n"
     ]
    },
    {
     "name": "stdout",
     "output_type": "stream",
     "text": [
      "100\n",
      "81\n",
      "64\n",
      "49\n",
      "36\n",
      "25\n",
      "16\n",
      "9\n",
      "4\n",
      "1\n"
     ]
    }
   ],
   "source": [
    "# 例題5-2\n",
    "x = int(input('Please enter:'))\n",
    "\n",
    "while True:\n",
    "    print(x**2)\n",
    "    x = x -1\n",
    "    if x <= 0:\n",
    "        break"
   ]
  },
  {
   "cell_type": "code",
   "execution_count": 90,
   "id": "1c55213a-ad6b-4a4b-88e5-9cecb18edee7",
   "metadata": {},
   "outputs": [
    {
     "name": "stdout",
     "output_type": "stream",
     "text": [
      "1\n",
      "9\n",
      "25\n",
      "49\n",
      "81\n"
     ]
    }
   ],
   "source": [
    "# 例題5-3\n",
    "for x in range(1,10,2):\n",
    "    print(x**2)"
   ]
  },
  {
   "cell_type": "code",
   "execution_count": 91,
   "id": "ae57f2e2-201f-4ffa-892b-8ee3ade5ccc1",
   "metadata": {},
   "outputs": [
    {
     "name": "stdout",
     "output_type": "stream",
     "text": [
      "100\n",
      "81\n",
      "64\n",
      "49\n",
      "36\n",
      "25\n",
      "16\n",
      "9\n",
      "4\n",
      "1\n"
     ]
    }
   ],
   "source": [
    "# 例題5-4\n",
    "for x in range(10,0,-1):\n",
    "    print(x**2)"
   ]
  },
  {
   "cell_type": "code",
   "execution_count": 92,
   "id": "8d1e5e45-6cb6-4b3b-a5a5-c3d3bda9e8be",
   "metadata": {},
   "outputs": [
    {
     "name": "stdout",
     "output_type": "stream",
     "text": [
      "Retrieving speedtest.net configuration...\n",
      "Testing from NTT (219.162.79.170)...\n",
      "Retrieving speedtest.net server list...\n",
      "Selecting best server based on ping...\n",
      "Hosted by SoftEther Corporation (Tsukuba) [247.86 km]: 89.224 ms\n",
      "Testing download speed................................................................................\n",
      "Download: 150.98 Mbit/s\n",
      "Testing upload speed......................................................................................................\n",
      "Upload: 284.63 Mbit/s\n"
     ]
    }
   ],
   "source": [
    "!speedtest"
   ]
  },
  {
   "cell_type": "code",
   "execution_count": 93,
   "id": "ad21bdc8-8b89-4abe-affd-56482bc1950f",
   "metadata": {},
   "outputs": [
    {
     "name": "stdout",
     "output_type": "stream",
     "text": [
      "Retrieving speedtest.net configuration...\n",
      "Testing from NTT Docomo (49.98.10.204)...\n",
      "Retrieving speedtest.net server list...\n",
      "Selecting best server based on ping...\n",
      "Hosted by Rakuten Mobile, Inc (Tokyo) [257.79 km]: 72.386 ms\n",
      "Testing download speed................................................................................\n",
      "Download: 24.49 Mbit/s\n",
      "Testing upload speed......................................................................................................\n",
      "Upload: 1.25 Mbit/s\n"
     ]
    }
   ],
   "source": [
    "!speedtest"
   ]
  },
  {
   "cell_type": "code",
   "execution_count": 96,
   "id": "abfc0e8e-41c5-4065-bf03-d637d9cf323b",
   "metadata": {},
   "outputs": [
    {
     "name": "stdout",
     "output_type": "stream",
     "text": [
      "9 10 11 12 13 14 15 16 17  \n",
      "10 11 12 13 14 15 16 17 18  \n",
      "11 12 13 14 15 16 17 18 19  \n",
      "12 13 14 15 16 17 18 19 20  \n",
      "13 14 15 16 17 18 19 20 21  \n"
     ]
    }
   ],
   "source": [
    "# 例題5-5\n",
    "for x in range(1,6):\n",
    "    for y in range(8,17):\n",
    "        print( x + y , end=' ')\n",
    "    print(' ')"
   ]
  },
  {
   "cell_type": "code",
   "execution_count": 99,
   "id": "7903cd4a-fc07-456f-b713-d92a80ddee3d",
   "metadata": {},
   "outputs": [
    {
     "name": "stdin",
     "output_type": "stream",
     "text": [
      "Please enter: 5\n"
     ]
    },
    {
     "name": "stdout",
     "output_type": "stream",
     "text": [
      "5\n",
      "5\n",
      "5\n"
     ]
    }
   ],
   "source": [
    "# 問題5-1 (1)\n",
    "\n",
    "x = int(input('Please enter:'))\n",
    "\n",
    "for y in range(1,4):\n",
    "    print(x)\n",
    "    "
   ]
  },
  {
   "cell_type": "code",
   "execution_count": 102,
   "id": "73ade743-2142-442b-bcba-dc60bebbb89c",
   "metadata": {},
   "outputs": [
    {
     "name": "stdin",
     "output_type": "stream",
     "text": [
      "Please enter: 2\n",
      "Please enter: 5\n"
     ]
    },
    {
     "name": "stdout",
     "output_type": "stream",
     "text": [
      "7\n",
      "7\n",
      "7\n"
     ]
    }
   ],
   "source": [
    "# 問題5-1 (2)\n",
    "\n",
    "x = int(input('Please enter:'))\n",
    "y = int(input('Please enter:'))\n",
    "\n",
    "for z in range(1,4):\n",
    "    print(x + y)"
   ]
  },
  {
   "cell_type": "code",
   "execution_count": 2,
   "id": "acf62b80-f963-4a74-8065-fa7c1e1972a2",
   "metadata": {},
   "outputs": [
    {
     "name": "stdin",
     "output_type": "stream",
     "text": [
      "Please enter prise: 2500\n"
     ]
    },
    {
     "name": "stdout",
     "output_type": "stream",
     "text": [
      "2700\n",
      "2700\n",
      "2700\n"
     ]
    }
   ],
   "source": [
    "# 問題5-1 (3)\n",
    "\n",
    "x = int(input('Please enter prise:'))\n",
    "y = x * 1.08\n",
    "z = int(y)\n",
    "\n",
    "for x in range(1,4):\n",
    "    print(z)"
   ]
  },
  {
   "cell_type": "code",
   "execution_count": 1,
   "id": "7f68f477-37f4-4071-8ced-8c6b8d17a72c",
   "metadata": {},
   "outputs": [
    {
     "name": "stdout",
     "output_type": "stream",
     "text": [
      "5\n",
      "4\n",
      "3\n",
      "2\n",
      "1\n"
     ]
    }
   ],
   "source": [
    "# 例題5-1\n",
    "x = 5\n",
    "while x > 0:\n",
    "    print(x)\n",
    "    x = x -1"
   ]
  },
  {
   "cell_type": "code",
   "execution_count": 1,
   "id": "b1a5d8dc-5520-4d0b-bfc3-d1a7f408e58c",
   "metadata": {},
   "outputs": [
    {
     "name": "stdout",
     "output_type": "stream",
     "text": [
      "100\n",
      "81\n",
      "64\n",
      "49\n",
      "36\n",
      "25\n",
      "16\n",
      "9\n",
      "4\n",
      "1\n"
     ]
    }
   ],
   "source": [
    "# 例題5-2\n",
    "x = 10\n",
    "while True:\n",
    "    print(x**2)\n",
    "    x = x -1\n",
    "    if x <= 0:\n",
    "        break"
   ]
  },
  {
   "cell_type": "code",
   "execution_count": 6,
   "id": "e87f015a-3972-4ce4-9285-a5831c30af54",
   "metadata": {},
   "outputs": [
    {
     "name": "stdout",
     "output_type": "stream",
     "text": [
      "1\n",
      "9\n",
      "25\n",
      "49\n",
      "81\n"
     ]
    }
   ],
   "source": [
    "# 例題5-3\n",
    "for x in range(1, 10, 2):\n",
    "    print(x**2)"
   ]
  },
  {
   "cell_type": "code",
   "execution_count": 7,
   "id": "b3e1e222-5ab9-4571-bfeb-1e2c1f1e8ce0",
   "metadata": {},
   "outputs": [
    {
     "name": "stdout",
     "output_type": "stream",
     "text": [
      "100\n",
      "81\n",
      "64\n",
      "49\n",
      "36\n",
      "25\n",
      "16\n",
      "9\n",
      "4\n",
      "1\n"
     ]
    }
   ],
   "source": [
    "# 例題5-4\n",
    "for x in range(10, 0, -1):\n",
    "    print(x**2)"
   ]
  },
  {
   "cell_type": "code",
   "execution_count": 8,
   "id": "ab6c3d5c-0496-49f9-8760-caafb2a6740b",
   "metadata": {},
   "outputs": [
    {
     "name": "stdout",
     "output_type": "stream",
     "text": [
      "9 10 11 12 13 14 15 16 17 \n",
      "10 11 12 13 14 15 16 17 18 \n",
      "11 12 13 14 15 16 17 18 19 \n",
      "12 13 14 15 16 17 18 19 20 \n",
      "13 14 15 16 17 18 19 20 21 \n"
     ]
    }
   ],
   "source": [
    "for x in range(1, 6):\n",
    "    for y in range(8, 17):\n",
    "        print(x + y, end=' ')\n",
    "    print()"
   ]
  },
  {
   "cell_type": "code",
   "execution_count": 13,
   "id": "5df8835b-b522-4c12-8e82-d1609ad9e0ca",
   "metadata": {},
   "outputs": [
    {
     "name": "stdin",
     "output_type": "stream",
     "text": [
      "Please Enter: 6\n"
     ]
    },
    {
     "name": "stdout",
     "output_type": "stream",
     "text": [
      "6\n",
      "6\n",
      "6\n"
     ]
    }
   ],
   "source": [
    "# 問題5-1 (1)\n",
    "x = int(input('Please Enter:'))\n",
    "\n",
    "for i in range(4,1,-1):\n",
    "    print(x)"
   ]
  },
  {
   "cell_type": "code",
   "execution_count": 2,
   "id": "c0beaffa-12ad-48e0-8e40-1de033594b46",
   "metadata": {},
   "outputs": [
    {
     "name": "stdout",
     "output_type": "stream",
     "text": [
      "10\n",
      "9\n",
      "8\n",
      "7\n",
      "6\n",
      "5\n",
      "4\n",
      "3\n",
      "2\n",
      "1\n"
     ]
    }
   ],
   "source": [
    "# 例題5-1\n",
    "x = 10\n",
    "while x > 0:\n",
    "    print(x)\n",
    "    x = x - 1"
   ]
  },
  {
   "cell_type": "code",
   "execution_count": 3,
   "id": "a11fa1fc-b517-42d6-9efc-bcd3f50946e5",
   "metadata": {},
   "outputs": [
    {
     "name": "stdout",
     "output_type": "stream",
     "text": [
      "100\n",
      "81\n",
      "64\n",
      "49\n",
      "36\n",
      "25\n",
      "16\n",
      "9\n",
      "4\n",
      "1\n"
     ]
    }
   ],
   "source": [
    "# 例題5-2\n",
    "x = 10\n",
    "while True:\n",
    "    print(x**2)\n",
    "    x = x -1\n",
    "    if x <= 0:\n",
    "        break"
   ]
  },
  {
   "cell_type": "code",
   "execution_count": 4,
   "id": "3d4467fa-bf46-42e9-9ffa-f9830fb72d61",
   "metadata": {},
   "outputs": [
    {
     "name": "stdout",
     "output_type": "stream",
     "text": [
      "1\n",
      "9\n",
      "25\n",
      "49\n",
      "81\n"
     ]
    }
   ],
   "source": [
    "# 例題5-3\n",
    "for x in range(1, 10, 2):\n",
    "    print(x**2)"
   ]
  },
  {
   "cell_type": "code",
   "execution_count": 5,
   "id": "9378e30a-1fd4-4fc7-8aa6-9bcbf430ef6f",
   "metadata": {},
   "outputs": [
    {
     "name": "stdout",
     "output_type": "stream",
     "text": [
      "100\n",
      "81\n",
      "64\n",
      "49\n",
      "36\n",
      "25\n",
      "16\n",
      "9\n",
      "4\n",
      "1\n"
     ]
    }
   ],
   "source": [
    "# 例題5-4\n",
    "for x in range(10, 0, -1):\n",
    "    print(x**2)"
   ]
  },
  {
   "cell_type": "code",
   "execution_count": 9,
   "id": "06eda43b-cf9a-4f9f-a11b-86222317be86",
   "metadata": {},
   "outputs": [
    {
     "name": "stdout",
     "output_type": "stream",
     "text": [
      "9 10 11 12 13 14 15 16 17  \n",
      "10 11 12 13 14 15 16 17 18  \n",
      "11 12 13 14 15 16 17 18 19  \n",
      "12 13 14 15 16 17 18 19 20  \n",
      "13 14 15 16 17 18 19 20 21  \n"
     ]
    }
   ],
   "source": [
    "# 例題5-5\n",
    "for x in range(1,6):\n",
    "    for y in range(8,17):\n",
    "        print(x+y, end=' ')\n",
    "    print(' ')"
   ]
  },
  {
   "cell_type": "code",
   "execution_count": 10,
   "id": "e6232cee-4a96-43fe-8eed-678622bc3ffb",
   "metadata": {},
   "outputs": [
    {
     "name": "stdout",
     "output_type": "stream",
     "text": [
      "9 10 11 12 13 14 15 16 17 \n",
      "10 11 12 13 14 15 16 17 18 \n",
      "11 12 13 14 15 16 17 18 19 \n",
      "12 13 14 15 16 17 18 19 20 \n",
      "13 14 15 16 17 18 19 20 21 \n"
     ]
    }
   ],
   "source": [
    "for x in range(1, 6):\n",
    "    for y in range(8, 17):\n",
    "        print(x + y, end=' ')\n",
    "    print()"
   ]
  },
  {
   "cell_type": "code",
   "execution_count": 11,
   "id": "b9cfe8ec-05e0-4333-9408-81e6125b4b9f",
   "metadata": {},
   "outputs": [
    {
     "name": "stdin",
     "output_type": "stream",
     "text": [
      "Please Enter: 2\n"
     ]
    },
    {
     "name": "stdout",
     "output_type": "stream",
     "text": [
      "2\n",
      "2\n",
      "2\n"
     ]
    }
   ],
   "source": [
    "x = int(input('Please Enter:'))\n",
    "\n",
    "for i in range(1, 4):\n",
    "    print(x)"
   ]
  },
  {
   "cell_type": "code",
   "execution_count": 12,
   "id": "4c392fbf-0cad-4449-91c8-891d926ff66e",
   "metadata": {},
   "outputs": [
    {
     "name": "stdin",
     "output_type": "stream",
     "text": [
      "Please Enter: 1\n",
      "Please Enter: 2\n"
     ]
    },
    {
     "name": "stdout",
     "output_type": "stream",
     "text": [
      "3\n",
      "3\n",
      "3\n"
     ]
    }
   ],
   "source": [
    "x = int(input('Please Enter:'))\n",
    "y = int(input('Please Enter:'))\n",
    "\n",
    "for i in range(1,4):\n",
    "    print(x + y)"
   ]
  },
  {
   "cell_type": "code",
   "execution_count": 13,
   "id": "c22b24b2-0977-4836-9f64-7a5c21060fba",
   "metadata": {},
   "outputs": [
    {
     "data": {
      "text/plain": [
       "True"
      ]
     },
     "execution_count": 13,
     "metadata": {},
     "output_type": "execute_result"
    }
   ],
   "source": [
    "age = 19\n",
    "age < 21"
   ]
  },
  {
   "cell_type": "code",
   "execution_count": 14,
   "id": "d935476b-c0f2-4db5-bb11-62c8b95a20a5",
   "metadata": {},
   "outputs": [
    {
     "data": {
      "text/plain": [
       "True"
      ]
     },
     "execution_count": 14,
     "metadata": {},
     "output_type": "execute_result"
    }
   ],
   "source": [
    "age <= 21\n"
   ]
  },
  {
   "cell_type": "code",
   "execution_count": 15,
   "id": "cfc206dc-2701-4eab-9dd0-bbd1b44a1679",
   "metadata": {},
   "outputs": [
    {
     "data": {
      "text/plain": [
       "False"
      ]
     },
     "execution_count": 15,
     "metadata": {},
     "output_type": "execute_result"
    }
   ],
   "source": [
    "age > 21"
   ]
  },
  {
   "cell_type": "code",
   "execution_count": 16,
   "id": "02a75632-af7e-4b36-87f3-667792560719",
   "metadata": {},
   "outputs": [
    {
     "data": {
      "text/plain": [
       "False"
      ]
     },
     "execution_count": 16,
     "metadata": {},
     "output_type": "execute_result"
    }
   ],
   "source": [
    "age >= 21"
   ]
  },
  {
   "cell_type": "code",
   "execution_count": 17,
   "id": "f4a40fb6-e76e-40ec-b824-714006fb659d",
   "metadata": {},
   "outputs": [
    {
     "data": {
      "text/plain": [
       "False"
      ]
     },
     "execution_count": 17,
     "metadata": {},
     "output_type": "execute_result"
    }
   ],
   "source": [
    "age_0 = 22\n",
    "age_1 = 18\n",
    "age_0 >= 21 and age_1 >= 21"
   ]
  },
  {
   "cell_type": "code",
   "execution_count": 18,
   "id": "6570e462-740b-418a-af0f-24523509d36d",
   "metadata": {},
   "outputs": [
    {
     "data": {
      "text/plain": [
       "True"
      ]
     },
     "execution_count": 18,
     "metadata": {},
     "output_type": "execute_result"
    }
   ],
   "source": [
    "age_1 =22\n",
    "age_0 >= 21 and age_1 >= 21"
   ]
  },
  {
   "cell_type": "code",
   "execution_count": 19,
   "id": "c38df985-4b8c-44b4-b4db-d2690cde6370",
   "metadata": {},
   "outputs": [
    {
     "data": {
      "text/plain": [
       "True"
      ]
     },
     "execution_count": 19,
     "metadata": {},
     "output_type": "execute_result"
    }
   ],
   "source": [
    "age_0 = 22\n",
    "age_1 = 10\n",
    "age_0 >= 21 or age_1 >= 21"
   ]
  },
  {
   "cell_type": "code",
   "execution_count": 20,
   "id": "c8ca48b1-06e6-4cc2-abf2-71a2add8677d",
   "metadata": {},
   "outputs": [
    {
     "data": {
      "text/plain": [
       "False"
      ]
     },
     "execution_count": 20,
     "metadata": {},
     "output_type": "execute_result"
    }
   ],
   "source": [
    "age_0 = 10\n",
    "age_0 >= 21 or age_1 >= 21"
   ]
  },
  {
   "cell_type": "code",
   "execution_count": 21,
   "id": "8f13430c-c95e-40a3-aff5-fe4347369552",
   "metadata": {},
   "outputs": [
    {
     "data": {
      "text/plain": [
       "True"
      ]
     },
     "execution_count": 21,
     "metadata": {},
     "output_type": "execute_result"
    }
   ],
   "source": [
    "requested_toppings = ['マッシュルーム', 'オニオン', 'パイナップル']\n",
    "'マッシュルーム' in requested_toppings"
   ]
  },
  {
   "cell_type": "code",
   "execution_count": 22,
   "id": "ccf49734-33b8-4cb7-96b1-c5a376b59075",
   "metadata": {},
   "outputs": [
    {
     "data": {
      "text/plain": [
       "False"
      ]
     },
     "execution_count": 22,
     "metadata": {},
     "output_type": "execute_result"
    }
   ],
   "source": [
    "'ペパロニ' in requested_toppings"
   ]
  },
  {
   "cell_type": "code",
   "execution_count": 28,
   "id": "61f92a7a-719d-4985-b179-dd39218ff946",
   "metadata": {},
   "outputs": [
    {
     "name": "stdin",
     "output_type": "stream",
     "text": [
      "Your Name? yan\n"
     ]
    },
    {
     "name": "stdout",
     "output_type": "stream",
     "text": [
      "Yanはコメントを書き込めます。\n"
     ]
    }
   ],
   "source": [
    "banned_users = ['andrew', 'carolina', 'david']\n",
    "user = input('Your Name?')\n",
    "\n",
    "if user not in banned_users:\n",
    "    print(f'{user.title()}はコメントを書き込めます。')\n",
    "else:\n",
    "    print('your accont banned!')"
   ]
  },
  {
   "cell_type": "code",
   "execution_count": 30,
   "id": "ac122e0e-5574-49e0-a721-c99b48b97f8d",
   "metadata": {},
   "outputs": [
    {
     "name": "stdout",
     "output_type": "stream",
     "text": [
      "car == 'subaru'の結果をTrueと予測します。\n",
      "True\n",
      "\n",
      "car == 'audi'の結果をFalseと予測します。\n",
      "False\n"
     ]
    }
   ],
   "source": [
    "# 5-1.条件テスト\n",
    "car = 'subaru'\n",
    "print(\"car == 'subaru'の結果をTrueと予測します。\")\n",
    "print(car == 'subaru')\n",
    "\n",
    "print(\"\\ncar == 'audi'の結果をFalseと予測します。\")\n",
    "print(car == 'audi')"
   ]
  },
  {
   "cell_type": "code",
   "execution_count": 31,
   "id": "d377aac4-4c68-434f-bb8b-7a10279a104f",
   "metadata": {},
   "outputs": [
    {
     "name": "stdout",
     "output_type": "stream",
     "text": [
      "選挙権がある年齢です。\n"
     ]
    }
   ],
   "source": [
    "age = 19\n",
    "if age >= 18:\n",
    "    print('選挙権がある年齢です。')"
   ]
  },
  {
   "cell_type": "code",
   "execution_count": 34,
   "id": "41a9b941-783e-49aa-a9d0-7e9fab9bc785",
   "metadata": {},
   "outputs": [
    {
     "name": "stdin",
     "output_type": "stream",
     "text": [
      "how old are you? 19\n"
     ]
    },
    {
     "name": "stdout",
     "output_type": "stream",
     "text": [
      "選挙権がある年齢です！\n",
      "投票はしましたか？\n"
     ]
    }
   ],
   "source": [
    "age = int(input('how old are you?'))\n",
    "if age > 18:\n",
    "    print('選挙権がある年齢です！')\n",
    "    print('投票はしましたか？')"
   ]
  },
  {
   "cell_type": "code",
   "execution_count": 36,
   "id": "0ab64a7e-902f-47d8-8d85-311a100bf0e3",
   "metadata": {},
   "outputs": [
    {
     "name": "stdin",
     "output_type": "stream",
     "text": [
      "how old are you? 17\n"
     ]
    },
    {
     "name": "stdout",
     "output_type": "stream",
     "text": [
      "申し訳ありません、投票するには若すぎるようです。\n",
      "18歳になったら投票してください。\n"
     ]
    }
   ],
   "source": [
    "age = int(input('how old are you?'))\n",
    "if age >= 18:\n",
    "    print('選挙権がある年齢です！')\n",
    "    print('投票はしましたか？')\n",
    "else:\n",
    "    print('申し訳ありません、投票するには若すぎるようです。')\n",
    "    print('18歳になったら投票してください。')"
   ]
  },
  {
   "cell_type": "code",
   "execution_count": 40,
   "id": "e5f71a8d-871c-498d-bd02-149c20dcf753",
   "metadata": {},
   "outputs": [
    {
     "name": "stdin",
     "output_type": "stream",
     "text": [
      "how old are you? 17\n"
     ]
    },
    {
     "name": "stdout",
     "output_type": "stream",
     "text": [
      "入場料金は2500円です。\n"
     ]
    }
   ],
   "source": [
    "age = int(input('how old are you?'))\n",
    "if age < 4:\n",
    "    print('入場料は無料です。')\n",
    "elif age < 18:\n",
    "    print('入場料金は2500円です。')\n",
    "else:\n",
    "    print('入場料金は4000円です。')"
   ]
  },
  {
   "cell_type": "code",
   "execution_count": 41,
   "id": "6854c1ef-032b-46ca-ba34-a422cb01f915",
   "metadata": {},
   "outputs": [
    {
     "name": "stdin",
     "output_type": "stream",
     "text": [
      "please enter: 3\n"
     ]
    },
    {
     "name": "stdout",
     "output_type": "stream",
     "text": [
      "3\n",
      "3\n",
      "3\n"
     ]
    }
   ],
   "source": [
    "x = int(input('please enter:'))\n",
    "\n",
    "for i in range(1,4):\n",
    "    print(x)"
   ]
  },
  {
   "cell_type": "code",
   "execution_count": 42,
   "id": "67045e77-db83-4cc0-9f74-f30bf989884f",
   "metadata": {},
   "outputs": [
    {
     "name": "stdin",
     "output_type": "stream",
     "text": [
      "please enter: 1\n",
      "please enter: 2\n"
     ]
    },
    {
     "name": "stdout",
     "output_type": "stream",
     "text": [
      "3\n",
      "3\n",
      "3\n"
     ]
    }
   ],
   "source": [
    "x = int(input('please enter:'))\n",
    "y = int(input('please enter:'))\n",
    "\n",
    "for i in range(1,4):\n",
    "    print(x + y)"
   ]
  },
  {
   "cell_type": "code",
   "execution_count": 58,
   "id": "8e0a40ea-6938-473d-94c8-116aa3b723f1",
   "metadata": {},
   "outputs": [
    {
     "name": "stdin",
     "output_type": "stream",
     "text": [
      "input price: 1000\n"
     ]
    },
    {
     "name": "stdout",
     "output_type": "stream",
     "text": [
      "1080\n",
      "1080\n",
      "1080\n"
     ]
    }
   ],
   "source": [
    "import math\n",
    "\n",
    "x = int(input('input price:'))\n",
    "y = x*1.08\n",
    "\n",
    "if y == 0:\n",
    "    print()\n",
    "elif y <= 0:\n",
    "    print()\n",
    "else:\n",
    "    for i in range(1,4):\n",
    "        print(math.floor(y))"
   ]
  },
  {
   "cell_type": "code",
   "execution_count": 62,
   "id": "f4e77d46-ffa0-49e1-a4d1-bc983dd95022",
   "metadata": {},
   "outputs": [
    {
     "name": "stdin",
     "output_type": "stream",
     "text": [
      "please enter: 14\n"
     ]
    },
    {
     "name": "stdout",
     "output_type": "stream",
     "text": [
      "7の倍数です。\n",
      "7の倍数です。\n"
     ]
    }
   ],
   "source": [
    "x = int(input('please enter:'))\n",
    "\n",
    "for i in range(1,3):\n",
    "    if x % 7 == 0:\n",
    "        print('7の倍数です。')\n",
    "    else:\n",
    "        print('7の倍数ではありません。')"
   ]
  },
  {
   "cell_type": "code",
   "execution_count": 64,
   "id": "25b52628-9f12-4602-95bd-89679e70e10d",
   "metadata": {},
   "outputs": [
    {
     "name": "stdin",
     "output_type": "stream",
     "text": [
      "please enter: 2\n"
     ]
    },
    {
     "name": "stdout",
     "output_type": "stream",
     "text": [
      "3の倍数ではありません。\n",
      "3の倍数ではありません。\n"
     ]
    }
   ],
   "source": [
    "x = int(input('please enter:'))\n",
    "\n",
    "for i in range(1,3):\n",
    "    if x % 3 == 0:\n",
    "        print('3の倍数です。')\n",
    "    else:\n",
    "        print('3の倍数ではありません。')"
   ]
  },
  {
   "cell_type": "code",
   "execution_count": 71,
   "id": "3b584c18-592b-41cf-b1a6-6a18ca5d33a5",
   "metadata": {},
   "outputs": [
    {
     "name": "stdin",
     "output_type": "stream",
     "text": [
      "please enter: 2\n"
     ]
    },
    {
     "name": "stdout",
     "output_type": "stream",
     "text": [
      "負ではありません。\n",
      "負ではありません。\n"
     ]
    }
   ],
   "source": [
    "x = int(input('please enter:'))\n",
    "\n",
    "for i in range(1,3):\n",
    "    if x < 0:\n",
    "        print('負の数です。')\n",
    "    else:\n",
    "        print('負ではありません。')"
   ]
  },
  {
   "cell_type": "code",
   "execution_count": 73,
   "id": "c1e6de57-9f32-427d-8736-88c0c5e3592b",
   "metadata": {},
   "outputs": [
    {
     "name": "stdout",
     "output_type": "stream",
     "text": [
      "hello!\n",
      "hello!\n",
      "hello!\n",
      "hello!\n",
      "hello!\n",
      "hello!\n",
      "hello!\n",
      "hello!\n",
      "hello!\n",
      "hello!\n",
      "hello!\n",
      "hello!\n",
      "hello!\n",
      "hello!\n",
      "hello!\n",
      "hello!\n",
      "hello!\n",
      "hello!\n",
      "hello!\n",
      "hello!\n"
     ]
    }
   ],
   "source": [
    "x = 'hello!'\n",
    "\n",
    "for i in range(20):\n",
    "    print(x)"
   ]
  },
  {
   "cell_type": "code",
   "execution_count": 85,
   "id": "1c7bdd9b-7590-446b-b454-8de1f4492cc6",
   "metadata": {},
   "outputs": [
    {
     "name": "stdout",
     "output_type": "stream",
     "text": [
      "10\n",
      "9\n",
      "8\n",
      "7\n",
      "6\n",
      "5\n",
      "4\n",
      "3\n",
      "2\n",
      "1\n"
     ]
    }
   ],
   "source": [
    "for i in range(10, 0, -1):\n",
    "    print(i)"
   ]
  },
  {
   "cell_type": "code",
   "execution_count": 92,
   "id": "7f5aeaae-0d35-42df-9193-ad62d9d4d296",
   "metadata": {},
   "outputs": [
    {
     "name": "stdout",
     "output_type": "stream",
     "text": [
      "0\n",
      "2\n",
      "4\n",
      "6\n",
      "8\n",
      "10\n",
      "12\n",
      "14\n",
      "16\n",
      "18\n",
      "20\n",
      "22\n",
      "24\n",
      "26\n",
      "28\n",
      "30\n",
      "32\n",
      "34\n",
      "36\n",
      "38\n",
      "40\n",
      "42\n",
      "44\n",
      "46\n",
      "48\n",
      "50\n",
      "52\n",
      "54\n",
      "56\n",
      "58\n",
      "60\n",
      "62\n",
      "64\n",
      "66\n",
      "68\n",
      "70\n",
      "72\n",
      "74\n",
      "76\n",
      "78\n",
      "80\n",
      "82\n",
      "84\n",
      "86\n",
      "88\n",
      "90\n",
      "92\n",
      "94\n",
      "96\n",
      "98\n",
      "100\n"
     ]
    }
   ],
   "source": [
    "for i in range(0,101,2):\n",
    "    print(i)"
   ]
  },
  {
   "cell_type": "code",
   "execution_count": 95,
   "id": "39943a7b-083c-49fe-901b-af97e9be4cce",
   "metadata": {},
   "outputs": [
    {
     "name": "stdout",
     "output_type": "stream",
     "text": [
      "1 2 3 4 5 6 7 8 9 2 4 6 8 10 12 14 16 18 3 6 9 12 15 18 21 24 27 4 8 12 16 20 24 28 32 36 5 10 15 20 25 30 35 40 45 6 12 18 24 30 36 42 48 54 7 14 21 28 35 42 49 56 63 8 16 24 32 40 48 56 64 72 9 18 27 36 45 54 63 72 81 "
     ]
    }
   ],
   "source": [
    "for i in range(1,10):\n",
    "    for x in range(1,10):\n",
    "        print(i*x, end = ' ')"
   ]
  },
  {
   "cell_type": "code",
   "execution_count": 105,
   "id": "d6fdc6ae-c476-4715-b006-8dfdcaddb49e",
   "metadata": {},
   "outputs": [
    {
     "name": "stdout",
     "output_type": "stream",
     "text": [
      "# # # # # # # # # \n",
      "#, end=\" \"\n",
      "\n",
      "#, end=\" \"\n",
      "\n",
      "#, end=\" \"\n",
      "\n",
      "#, end=\" \"\n",
      "\n",
      "#, end=\" \"\n",
      "\n",
      "#, end=\" \"\n",
      "\n",
      "#, end=\" \"\n",
      "\n",
      "#, end=\" \"\n"
     ]
    }
   ],
   "source": [
    "x = '#'\n",
    "\n",
    "for i in range(1,10):\n",
    "    print(x, end=' ')\n",
    "    \n",
    "for y in range(1,9):\n",
    "    print(f'\\n{x}, end=\" \"')"
   ]
  },
  {
   "cell_type": "code",
   "execution_count": 106,
   "id": "d37285aa-0193-4b2f-89c8-c19858f36d5e",
   "metadata": {},
   "outputs": [
    {
     "name": "stdout",
     "output_type": "stream",
     "text": [
      "###########\n",
      " #########\n",
      "  #######\n",
      "   #####\n",
      "    ###\n",
      "     #\n"
     ]
    }
   ],
   "source": [
    "# このプログラムは指定の三角形を表示する\n",
    "\n",
    "rows = 6  # 三角形の行数\n",
    "\n",
    "# 行をループで処理\n",
    "for i in range(1, rows + 1):\n",
    "    # 空白を出力\n",
    "    for j in range(1, i):\n",
    "        print(\" \", end=\"\")\n",
    "\n",
    "    # # を出力\n",
    "    for k in range(1, (rows - i) * 2 + 2):\n",
    "        print(\"#\", end=\"\")\n",
    "\n",
    "    # 改行\n",
    "    print()"
   ]
  },
  {
   "cell_type": "code",
   "execution_count": 108,
   "id": "70dc47d7-0c8c-4bcf-afb1-214d1aab5bd6",
   "metadata": {},
   "outputs": [
    {
     "name": "stdout",
     "output_type": "stream",
     "text": [
      "1から100までの整数を当ててください。\n"
     ]
    },
    {
     "name": "stdin",
     "output_type": "stream",
     "text": [
      "整数を入力してください:  10\n"
     ]
    },
    {
     "name": "stdout",
     "output_type": "stream",
     "text": [
      "もっと大きな数を予想してください。\n"
     ]
    },
    {
     "name": "stdin",
     "output_type": "stream",
     "text": [
      "整数を入力してください:  30\n"
     ]
    },
    {
     "name": "stdout",
     "output_type": "stream",
     "text": [
      "もっと大きな数を予想してください。\n"
     ]
    },
    {
     "name": "stdin",
     "output_type": "stream",
     "text": [
      "整数を入力してください:  60\n"
     ]
    },
    {
     "name": "stdout",
     "output_type": "stream",
     "text": [
      "もっと大きな数を予想してください。\n"
     ]
    },
    {
     "name": "stdin",
     "output_type": "stream",
     "text": [
      "整数を入力してください:  80\n"
     ]
    },
    {
     "name": "stdout",
     "output_type": "stream",
     "text": [
      "もっと小さな数を予想してください.\n"
     ]
    },
    {
     "name": "stdin",
     "output_type": "stream",
     "text": [
      "整数を入力してください:  70\n"
     ]
    },
    {
     "name": "stdout",
     "output_type": "stream",
     "text": [
      "もっと大きな数を予想してください。\n"
     ]
    },
    {
     "name": "stdin",
     "output_type": "stream",
     "text": [
      "整数を入力してください:  75\n"
     ]
    },
    {
     "name": "stdout",
     "output_type": "stream",
     "text": [
      "もっと小さな数を予想してください.\n"
     ]
    },
    {
     "name": "stdin",
     "output_type": "stream",
     "text": [
      "整数を入力してください:  72\n"
     ]
    },
    {
     "name": "stdout",
     "output_type": "stream",
     "text": [
      "もっと大きな数を予想してください。\n"
     ]
    },
    {
     "name": "stdin",
     "output_type": "stream",
     "text": [
      "整数を入力してください:  73\n"
     ]
    },
    {
     "name": "stdout",
     "output_type": "stream",
     "text": [
      "もっと大きな数を予想してください。\n"
     ]
    },
    {
     "name": "stdin",
     "output_type": "stream",
     "text": [
      "整数を入力してください:  74\n"
     ]
    },
    {
     "name": "stdout",
     "output_type": "stream",
     "text": [
      "おめでとう！正解です。8回目で当てました。\n",
      "ゲーム終了。\n"
     ]
    }
   ],
   "source": [
    "import random\n",
    "\n",
    "# 1から100までのランダムな整数を生成\n",
    "target_number = random.randint(1, 100)\n",
    "\n",
    "# ユーザーにゲームの説明を表示\n",
    "print(\"1から100までの整数を当ててください。\")\n",
    "\n",
    "# メインのゲームループ\n",
    "guesses = 0\n",
    "while True:\n",
    "    try:\n",
    "        # ユーザーから整数を入力\n",
    "        user_guess = int(input(\"整数を入力してください: \"))\n",
    "\n",
    "        # ユーザーの予想が正解かどうかを確認\n",
    "        if user_guess == target_number:\n",
    "            print(f\"おめでとう！正解です。{guesses}回目で当てました。\")\n",
    "            break\n",
    "        elif user_guess < target_number:\n",
    "            print(\"もっと大きな数を予想してください。\")\n",
    "        else:\n",
    "            print(\"もっと小さな数を予想してください.\")\n",
    "        \n",
    "        guesses += 1\n",
    "    except ValueError:\n",
    "        print(\"整数を入力してください。\")\n",
    "\n",
    "print(\"ゲーム終了。\")"
   ]
  },
  {
   "cell_type": "code",
   "execution_count": 3,
   "id": "10061ee1-b32c-4c57-a529-3f6b6a5711bd",
   "metadata": {},
   "outputs": [
    {
     "name": "stdin",
     "output_type": "stream",
     "text": [
      "y= 1\n",
      "x= 2\n",
      "x= 2\n",
      "x= 2\n"
     ]
    }
   ],
   "source": [
    "# 例題6-1(補助変数)\n",
    "y = int(input('y='))\n",
    "x = int(input('x='))\n",
    "\n",
    "while y != x:\n",
    "    y = x\n",
    "    x = input('x=')"
   ]
  },
  {
   "cell_type": "code",
   "execution_count": 6,
   "id": "17dd563c-f132-4d48-98ec-bfbde4eb8e7b",
   "metadata": {},
   "outputs": [
    {
     "name": "stdin",
     "output_type": "stream",
     "text": [
      "Please enter an integer: 2\n",
      "Please enter an integer: 2\n",
      "Please enter an integer: 2\n",
      "Please enter an integer: 2\n",
      "Please enter an integer: 2\n",
      "Please enter an integer: 2\n",
      "Please enter an integer: 2\n",
      "Please enter an integer: 2\n",
      "Please enter an integer: 3\n",
      "Please enter an integer: 4\n"
     ]
    },
    {
     "name": "stdout",
     "output_type": "stream",
     "text": [
      "4\n"
     ]
    }
   ],
   "source": [
    "m =  -9999\n",
    "\n",
    "for i in range(10):\n",
    "    j = int(input('Please enter an integer:'))\n",
    "    if m < j:\n",
    "        m = j\n",
    "print(m)"
   ]
  },
  {
   "cell_type": "code",
   "execution_count": 7,
   "id": "0261145b-cd74-4877-93d8-010892a69bd1",
   "metadata": {},
   "outputs": [
    {
     "name": "stdin",
     "output_type": "stream",
     "text": [
      "please enter an integer: 10\n",
      "please enter an integer: 2\n",
      "please enter an integer: 3\n",
      "please enter an integer: 4\n",
      "please enter an integer: 5\n",
      "please enter an integer: 10\n",
      "please enter an integer: 2\n",
      "please enter an integer: 3\n",
      "please enter an integer: 10\n",
      "please enter an integer: 11\n"
     ]
    },
    {
     "name": "stdout",
     "output_type": "stream",
     "text": [
      "4\n"
     ]
    }
   ],
   "source": [
    "c = 0\n",
    "for i in range(10):\n",
    "    j = int(input('please enter an integer:'))\n",
    "    if j >= 10:\n",
    "        c = c + 1\n",
    "print(c)"
   ]
  },
  {
   "cell_type": "code",
   "execution_count": 9,
   "id": "2608460d-a997-4de5-8d64-6387cae40245",
   "metadata": {},
   "outputs": [
    {
     "name": "stdin",
     "output_type": "stream",
     "text": [
      "please enter an integer: 5\n",
      "please enter an integer: 5\n",
      "please enter an integer: 5\n",
      "please enter an integer: 5\n",
      "please enter an integer: 5\n"
     ]
    },
    {
     "name": "stdout",
     "output_type": "stream",
     "text": [
      "5があった\n"
     ]
    }
   ],
   "source": [
    "f = 0\n",
    "for i in range(5):\n",
    "    j = int(input('please enter an integer:'))\n",
    "    if j == 5 :\n",
    "        f = 1\n",
    "if f == 1 :\n",
    "    print('5があった')"
   ]
  },
  {
   "cell_type": "code",
   "execution_count": 15,
   "id": "43798ee9-16fd-4fd1-a68b-f673349d0eb9",
   "metadata": {},
   "outputs": [
    {
     "name": "stdin",
     "output_type": "stream",
     "text": [
      "please enter an integer: 1\n",
      "please enter an integer: 1\n",
      "please enter an integer: 1\n",
      "please enter an integer: 2\n",
      "please enter an integer: 1\n"
     ]
    },
    {
     "name": "stdout",
     "output_type": "stream",
     "text": [
      "5がなかった\n"
     ]
    }
   ],
   "source": [
    "for i in range(5):\n",
    "    j = int(input('please enter an integer:'))\n",
    "    if j == 5:\n",
    "        print('5があった。')\n",
    "        break\n",
    "else:\n",
    "    print('5がなかった')"
   ]
  },
  {
   "cell_type": "code",
   "execution_count": 16,
   "id": "a62ef45c-09f2-455f-af2d-170b9aceb022",
   "metadata": {},
   "outputs": [
    {
     "name": "stdout",
     "output_type": "stream",
     "text": [
      "入力値は 0\n",
      "入力値は 1\n",
      "入力値は 2\n",
      "入力値は 4\n"
     ]
    }
   ],
   "source": [
    "for i in range(5):\n",
    "    if i == 3:\n",
    "        continue\n",
    "    print('入力値は',i)"
   ]
  },
  {
   "cell_type": "code",
   "execution_count": 18,
   "id": "1ace6210-c84c-430d-8727-28dcad4f9e50",
   "metadata": {},
   "outputs": [
    {
     "name": "stdin",
     "output_type": "stream",
     "text": [
      "please enter an integer: 3\n"
     ]
    },
    {
     "name": "stdout",
     "output_type": "stream",
     "text": [
      "3\n",
      "3\n",
      "3\n"
     ]
    }
   ],
   "source": [
    "x = int(input('please enter an integer:'))\n",
    "\n",
    "for i in range(3):\n",
    "    print(x)"
   ]
  },
  {
   "cell_type": "code",
   "execution_count": 22,
   "id": "b301f8d6-acb9-4366-92f8-3cfda47cb934",
   "metadata": {},
   "outputs": [
    {
     "name": "stdin",
     "output_type": "stream",
     "text": [
      "please enter an integer: 1\n",
      "please enter an integer: 2\n"
     ]
    },
    {
     "name": "stdout",
     "output_type": "stream",
     "text": [
      "3\n",
      "3\n",
      "3\n"
     ]
    }
   ],
   "source": [
    "x = int(input('please enter an integer:'))\n",
    "y = int(input('please enter an integer:'))\n",
    "\n",
    "for i in range(3):\n",
    "    print(x + y)"
   ]
  },
  {
   "cell_type": "code",
   "execution_count": 23,
   "id": "8ca7cec2-d203-471e-804e-f96f6cfc841c",
   "metadata": {},
   "outputs": [],
   "source": [
    "import math"
   ]
  },
  {
   "cell_type": "code",
   "execution_count": 26,
   "id": "6fe95d5a-5a6a-4020-953d-ac82744b6d8f",
   "metadata": {},
   "outputs": [
    {
     "name": "stdin",
     "output_type": "stream",
     "text": [
      "please enter price: 100\n"
     ]
    },
    {
     "name": "stdout",
     "output_type": "stream",
     "text": [
      "108\n",
      "108\n",
      "108\n"
     ]
    }
   ],
   "source": [
    "price = int(input('please enter price:'))\n",
    "\n",
    "for i in range(3):\n",
    "    print(math.floor(price*1.08))"
   ]
  },
  {
   "cell_type": "code",
   "execution_count": 33,
   "id": "61efc0ee-7ead-4dc2-aaf4-62da0034cc39",
   "metadata": {},
   "outputs": [
    {
     "name": "stdin",
     "output_type": "stream",
     "text": [
      "please enter an integer: 3\n"
     ]
    },
    {
     "name": "stdout",
     "output_type": "stream",
     "text": [
      "3\n",
      "3\n",
      "3\n",
      "3\n",
      "3\n",
      "3\n",
      "3\n",
      "3\n",
      "3\n",
      "3\n"
     ]
    }
   ],
   "source": [
    "x = int(input('please enter an integer:'))\n",
    "\n",
    "for i in range(10):\n",
    "    if x == 0:\n",
    "        print('0です')\n",
    "        break\n",
    "    else:\n",
    "        print(x)"
   ]
  },
  {
   "cell_type": "code",
   "execution_count": 39,
   "id": "8681afc4-8790-4ab7-ba4e-991bf83c332a",
   "metadata": {},
   "outputs": [
    {
     "name": "stdout",
     "output_type": "stream",
     "text": [
      "数字を入力してください。\n"
     ]
    },
    {
     "name": "stdin",
     "output_type": "stream",
     "text": [
      "please enter an integer: -1\n"
     ]
    },
    {
     "name": "stdout",
     "output_type": "stream",
     "text": [
      "negatieve number\n"
     ]
    }
   ],
   "source": [
    "# 問題5-1\n",
    "print('数字を入力してください。')\n",
    "x = int(input('please enter an integer:'))\n",
    "\n",
    "for i in range(3):\n",
    "    if x < 0:\n",
    "        print('negatieve number')\n",
    "        break\n",
    "    else:\n",
    "        print(x)"
   ]
  },
  {
   "cell_type": "code",
   "execution_count": 58,
   "id": "f1783272-8c1b-425b-bea0-41618308be22",
   "metadata": {},
   "outputs": [
    {
     "name": "stdin",
     "output_type": "stream",
     "text": [
      "please enter an integer: 84\n"
     ]
    },
    {
     "name": "stdout",
     "output_type": "stream",
     "text": [
      "a multiple of 7\n",
      "a multiple of 7\n"
     ]
    }
   ],
   "source": [
    "# 問題5-2\n",
    "x = int(input('please enter an integer:'))\n",
    "\n",
    "for i in range(2):\n",
    "    if x  == 0:\n",
    "        print('number of 0')\n",
    "    elif x % 7 == 0:\n",
    "        print('a multiple of 7')\n",
    "    else:\n",
    "        print('not a multiple of 7')"
   ]
  },
  {
   "cell_type": "code",
   "execution_count": 67,
   "id": "925eccc5-bd8e-415a-a43f-52dd418762ca",
   "metadata": {},
   "outputs": [
    {
     "name": "stdin",
     "output_type": "stream",
     "text": [
      "please enter an integer: -1\n"
     ]
    },
    {
     "name": "stdout",
     "output_type": "stream",
     "text": [
      "it is a negatieve number!\n"
     ]
    }
   ],
   "source": [
    "x = int(input('please enter an integer:'))\n",
    "\n",
    "for i in range(2):\n",
    "    if x < 0:\n",
    "        print('it is a negatieve number!')\n",
    "        break\n",
    "    elif x == 0:\n",
    "        print('number of 0')\n",
    "        break\n",
    "    else:\n",
    "        print('it is a positive number!')"
   ]
  },
  {
   "cell_type": "code",
   "execution_count": 69,
   "id": "6d9209f5-c8a7-45bd-b8e6-c8cc55d689e4",
   "metadata": {},
   "outputs": [
    {
     "name": "stdout",
     "output_type": "stream",
     "text": [
      "hello!\n",
      "hello!\n",
      "hello!\n",
      "hello!\n",
      "hello!\n",
      "hello!\n",
      "hello!\n",
      "hello!\n",
      "hello!\n",
      "hello!\n",
      "hello!\n",
      "hello!\n",
      "hello!\n",
      "hello!\n",
      "hello!\n",
      "hello!\n",
      "hello!\n",
      "hello!\n",
      "hello!\n",
      "hello!\n"
     ]
    }
   ],
   "source": [
    "# 問題5-3\n",
    "lang = 'hello!'\n",
    "\n",
    "for i in range(20):\n",
    "    print(lang)"
   ]
  },
  {
   "cell_type": "code",
   "execution_count": 78,
   "id": "a6d28ee6-40a7-4ab0-9314-5fe52fa333cc",
   "metadata": {},
   "outputs": [
    {
     "name": "stdout",
     "output_type": "stream",
     "text": [
      "2\n",
      "4\n",
      "6\n",
      "8\n",
      "10\n"
     ]
    }
   ],
   "source": [
    "# 問題5-4\n",
    "x = 2\n",
    "\n",
    "for i in range(x,11,2):\n",
    "    print(i)"
   ]
  },
  {
   "cell_type": "code",
   "execution_count": 80,
   "id": "e1344aa8-70ab-45ae-bd31-71363293a46d",
   "metadata": {},
   "outputs": [
    {
     "name": "stdout",
     "output_type": "stream",
     "text": [
      "10\n",
      "9\n",
      "8\n",
      "7\n",
      "6\n",
      "5\n",
      "4\n",
      "3\n",
      "2\n",
      "1\n"
     ]
    }
   ],
   "source": [
    "for i in range(10, 0, -1):\n",
    "    print(i)"
   ]
  },
  {
   "cell_type": "code",
   "execution_count": 87,
   "id": "1d55c5ff-fef0-4301-97bf-b32121c6f810",
   "metadata": {},
   "outputs": [
    {
     "name": "stdout",
     "output_type": "stream",
     "text": [
      "2\n",
      "4\n",
      "6\n",
      "8\n",
      "10\n",
      "12\n",
      "14\n",
      "16\n",
      "18\n",
      "20\n",
      "22\n",
      "24\n",
      "26\n",
      "28\n",
      "30\n",
      "32\n",
      "34\n",
      "36\n",
      "38\n",
      "40\n",
      "42\n",
      "44\n",
      "46\n",
      "48\n",
      "50\n",
      "52\n",
      "54\n",
      "56\n",
      "58\n",
      "60\n",
      "62\n",
      "64\n",
      "66\n",
      "68\n",
      "70\n",
      "72\n",
      "74\n",
      "76\n",
      "78\n",
      "80\n",
      "82\n",
      "84\n",
      "86\n",
      "88\n",
      "90\n",
      "92\n",
      "94\n",
      "96\n",
      "98\n"
     ]
    }
   ],
   "source": [
    "for i in range(2, 100, 2):\n",
    "    print(i)"
   ]
  },
  {
   "cell_type": "code",
   "execution_count": 93,
   "id": "5d05a4b1-b779-4e57-9934-efaf9a1b5117",
   "metadata": {},
   "outputs": [
    {
     "name": "stdout",
     "output_type": "stream",
     "text": [
      "1*1=1 | 1*2=2 | 1*3=3 | 1*4=4 | 1*5=5 | 1*6=6 | 1*7=7 | 1*8=8 | 1*9=9 | 2*1=2 | 2*2=4 | 2*3=6 | 2*4=8 | 2*5=10 | 2*6=12 | 2*7=14 | 2*8=16 | 2*9=18 | 3*1=3 | 3*2=6 | 3*3=9 | 3*4=12 | 3*5=15 | 3*6=18 | 3*7=21 | 3*8=24 | 3*9=27 | 4*1=4 | 4*2=8 | 4*3=12 | 4*4=16 | 4*5=20 | 4*6=24 | 4*7=28 | 4*8=32 | 4*9=36 | 5*1=5 | 5*2=10 | 5*3=15 | 5*4=20 | 5*5=25 | 5*6=30 | 5*7=35 | 5*8=40 | 5*9=45 | 6*1=6 | 6*2=12 | 6*3=18 | 6*4=24 | 6*5=30 | 6*6=36 | 6*7=42 | 6*8=48 | 6*9=54 | 7*1=7 | 7*2=14 | 7*3=21 | 7*4=28 | 7*5=35 | 7*6=42 | 7*7=49 | 7*8=56 | 7*9=63 | 8*1=8 | 8*2=16 | 8*3=24 | 8*4=32 | 8*5=40 | 8*6=48 | 8*7=56 | 8*8=64 | 8*9=72 | 9*1=9 | 9*2=18 | 9*3=27 | 9*4=36 | 9*5=45 | 9*6=54 | 9*7=63 | 9*8=72 | 9*9=81 | "
     ]
    }
   ],
   "source": [
    "for i in range(1,10):\n",
    "    for j in range(1,10):\n",
    "        print(f'{i}*{j}={i*j}',end=' | ')"
   ]
  },
  {
   "cell_type": "code",
   "execution_count": 94,
   "id": "78d3b48d-d0e4-4436-a0f9-be1bc20703d9",
   "metadata": {},
   "outputs": [
    {
     "name": "stdin",
     "output_type": "stream",
     "text": [
      "please enter an integer: 3\n"
     ]
    },
    {
     "name": "stdout",
     "output_type": "stream",
     "text": [
      "3 3 3 "
     ]
    }
   ],
   "source": [
    "x = int(input('please enter an integer:'))\n",
    "\n",
    "for i in range(1,4):\n",
    "    print(x, end=' ')"
   ]
  },
  {
   "cell_type": "code",
   "execution_count": 96,
   "id": "02864051-495f-49e7-a8d9-0d2a44f349f4",
   "metadata": {},
   "outputs": [
    {
     "name": "stdin",
     "output_type": "stream",
     "text": [
      "please enter an integer: 3\n",
      "please enter an integer: 4\n"
     ]
    },
    {
     "name": "stdout",
     "output_type": "stream",
     "text": [
      "3+4=7 3+4=7 "
     ]
    }
   ],
   "source": [
    "x = int(input('please enter an integer:'))\n",
    "y = int(input('please enter an integer:'))\n",
    "\n",
    "for i in range(1,3):\n",
    "    print(f'{x}+{y}={x+y}',end=' ')"
   ]
  },
  {
   "cell_type": "code",
   "execution_count": 99,
   "id": "c9a3d647-5a3b-4b10-ae0c-395d591fb566",
   "metadata": {},
   "outputs": [
    {
     "name": "stdin",
     "output_type": "stream",
     "text": [
      "please enter an integer: 2\n"
     ]
    },
    {
     "name": "stdout",
     "output_type": "stream",
     "text": [
      "2 2 "
     ]
    }
   ],
   "source": [
    "x = int(input('please enter an integer:'))\n",
    "\n",
    "for i in range(1,3):\n",
    "    print(x, end=' ')"
   ]
  },
  {
   "cell_type": "code",
   "execution_count": 100,
   "id": "4b73c555-3d38-42d8-ae25-d2e31e991178",
   "metadata": {},
   "outputs": [
    {
     "name": "stdout",
     "output_type": "stream",
     "text": [
      "9 10 11 12 13 14 15 16 17 \n",
      "10 11 12 13 14 15 16 17 18 \n",
      "11 12 13 14 15 16 17 18 19 \n",
      "12 13 14 15 16 17 18 19 20 \n",
      "13 14 15 16 17 18 19 20 21 \n"
     ]
    }
   ],
   "source": [
    "for x in range(1,6):\n",
    "    for y in range(8,17):\n",
    "        print(x + y, end=' ')\n",
    "    print()"
   ]
  },
  {
   "cell_type": "code",
   "execution_count": 101,
   "id": "d95f0e15-049a-4638-ba2d-329da9e50c99",
   "metadata": {},
   "outputs": [
    {
     "name": "stdin",
     "output_type": "stream",
     "text": [
      "please enter a number. 3\n"
     ]
    },
    {
     "name": "stdout",
     "output_type": "stream",
     "text": [
      "here is the enterd nember.\n",
      "3 3 3 "
     ]
    }
   ],
   "source": [
    "x = int(input('please enter a number.'))\n",
    "\n",
    "print('here is the enterd nember.')\n",
    "for i in range(1,4):\n",
    "    print(x, end=' ')"
   ]
  },
  {
   "cell_type": "code",
   "execution_count": 102,
   "id": "b6c2c841-0aa9-4e48-9a57-71eb63766f09",
   "metadata": {},
   "outputs": [
    {
     "name": "stdin",
     "output_type": "stream",
     "text": [
      "please enter a number. 3\n",
      "please enter a number. 2\n"
     ]
    },
    {
     "name": "stdout",
     "output_type": "stream",
     "text": [
      "The sum of the entered numbers is as follows.\n",
      "5 5 5 "
     ]
    }
   ],
   "source": [
    "x = int(input('please enter a number.'))\n",
    "y = int(input('please enter a number.'))\n",
    "\n",
    "print('The sum of the entered numbers is as follows.')\n",
    "for i in range(1,4):\n",
    "    print(x + y, end=' ')"
   ]
  },
  {
   "cell_type": "code",
   "execution_count": 111,
   "id": "858c8c9c-3756-4a46-a53e-29b1b32dda3c",
   "metadata": {},
   "outputs": [
    {
     "name": "stdin",
     "output_type": "stream",
     "text": [
      "please enter a price. 214\n"
     ]
    },
    {
     "name": "stdout",
     "output_type": "stream",
     "text": [
      "The inclusive price is as follows.\n",
      "231\n",
      "231\n",
      "231\n"
     ]
    }
   ],
   "source": [
    "x = int(input('please enter a price.'))\n",
    "y = int(x*1.08)\n",
    "\n",
    "print('The inclusive price is as follows.')\n",
    "for i in range(1,4):\n",
    "    print(y)"
   ]
  },
  {
   "cell_type": "code",
   "execution_count": 114,
   "id": "3bee7cd9-07c7-48df-8d14-6a26fa772adc",
   "metadata": {},
   "outputs": [
    {
     "name": "stdin",
     "output_type": "stream",
     "text": [
      "please enter an integer! 0\n"
     ]
    },
    {
     "name": "stdout",
     "output_type": "stream",
     "text": [
      "Input was 0.\n"
     ]
    }
   ],
   "source": [
    "x = int(input('please enter an integer!'))\n",
    "\n",
    "if x == 0:\n",
    "    print('Input was 0.')\n",
    "else:\n",
    "    print('Here are the entered numbers.')\n",
    "    for i in range(1,4):\n",
    "        print(x)"
   ]
  },
  {
   "cell_type": "code",
   "execution_count": 129,
   "id": "63599f8f-3ca1-4f31-a75b-4adc1addc3fb",
   "metadata": {},
   "outputs": [
    {
     "name": "stdin",
     "output_type": "stream",
     "text": [
      "please enter an integer! 100\n"
     ]
    },
    {
     "name": "stdout",
     "output_type": "stream",
     "text": [
      "7の倍数ではありません。\n",
      "7の倍数ではありません。\n"
     ]
    }
   ],
   "source": [
    "x = int(input('please enter an integer!'))\n",
    "\n",
    "for i in range(1,3):\n",
    "    if x == 0:\n",
    "        print('0です。')\n",
    "    elif x % 7 == 0:\n",
    "        print('7の倍数です。')\n",
    "    else:\n",
    "        print('7の倍数ではありません。')\n",
    "    "
   ]
  },
  {
   "cell_type": "code",
   "execution_count": 133,
   "id": "24783197-65ff-40b0-b646-a331d24dad38",
   "metadata": {},
   "outputs": [
    {
     "name": "stdin",
     "output_type": "stream",
     "text": [
      "please enter an integer! 3\n"
     ]
    },
    {
     "name": "stdout",
     "output_type": "stream",
     "text": [
      "3の倍数です。\n",
      "3の倍数です。\n"
     ]
    }
   ],
   "source": [
    "x = int(input('please enter an integer!'))\n",
    "\n",
    "for i in range(1,3):\n",
    "    if x == 0:\n",
    "        print('0です。')\n",
    "    elif x % 3 == 0:\n",
    "        print('3の倍数です。')\n",
    "    else:\n",
    "        print('3の倍数ではありません。')\n",
    "    "
   ]
  },
  {
   "cell_type": "code",
   "execution_count": 138,
   "id": "ff6ef0fc-1a91-4464-8c2f-5280c69e71f4",
   "metadata": {},
   "outputs": [
    {
     "name": "stdin",
     "output_type": "stream",
     "text": [
      "please enter an integer! -1\n"
     ]
    },
    {
     "name": "stdout",
     "output_type": "stream",
     "text": [
      "負の数です。\n",
      "負の数です。\n"
     ]
    }
   ],
   "source": [
    "x = int(input('please enter an integer!'))\n",
    "\n",
    "for i in range(1,3):\n",
    "    if x == 0:\n",
    "        print('0です。')\n",
    "    elif x > 0:\n",
    "        print('正の数です。')\n",
    "    else:\n",
    "        print('負の数です。')"
   ]
  },
  {
   "cell_type": "code",
   "execution_count": 141,
   "id": "78e218b7-dd16-431b-95fc-dc76f1db2ce4",
   "metadata": {},
   "outputs": [
    {
     "name": "stdout",
     "output_type": "stream",
     "text": [
      "hello! hello! hello! hello! hello! hello! hello! hello! hello! hello! hello! hello! hello! hello! hello! hello! hello! hello! hello! hello! "
     ]
    }
   ],
   "source": [
    "x = 'hello!'\n",
    "\n",
    "for i in range(1,21):\n",
    "    print(x,end = ' ')"
   ]
  },
  {
   "cell_type": "code",
   "execution_count": 144,
   "id": "1d804af0-3c75-464c-bfd6-ec8a434b3429",
   "metadata": {},
   "outputs": [
    {
     "name": "stdout",
     "output_type": "stream",
     "text": [
      "-10 -9 -8 -7 -6 -5 -4 -3 -2 -1 0 1 2 3 4 5 6 7 8 9 10 "
     ]
    }
   ],
   "source": [
    "for i in range(-10,11):\n",
    "    print(i,end=' ')"
   ]
  },
  {
   "cell_type": "code",
   "execution_count": 148,
   "id": "2f55d1e4-142e-414b-b3a0-6c51cad95e4e",
   "metadata": {},
   "outputs": [
    {
     "name": "stdout",
     "output_type": "stream",
     "text": [
      "2 4 6 8 10 "
     ]
    }
   ],
   "source": [
    "for i in range(2,11,2):\n",
    "    print(i, end=' ')"
   ]
  },
  {
   "cell_type": "code",
   "execution_count": 152,
   "id": "16f2b164-baa7-48c0-b9f5-b9ae11b553e5",
   "metadata": {},
   "outputs": [
    {
     "name": "stdin",
     "output_type": "stream",
     "text": [
      "y= 1\n",
      "x= 2\n",
      "x= 2\n",
      "x= 2\n"
     ]
    }
   ],
   "source": [
    "y = int(input('y='))\n",
    "x = int(input('x='))\n",
    "\n",
    "while y != x:\n",
    "    y = x\n",
    "    x = input('x=')"
   ]
  },
  {
   "cell_type": "code",
   "execution_count": 155,
   "id": "cd5a7e2e-9035-45cd-a879-9605e6d32100",
   "metadata": {},
   "outputs": [
    {
     "name": "stdin",
     "output_type": "stream",
     "text": [
      "pleae enter an integer: 1\n",
      "pleae enter an integer: 1\n",
      "pleae enter an integer: 1\n",
      "pleae enter an integer: 1\n",
      "pleae enter an integer: 1\n",
      "pleae enter an integer: 1\n",
      "pleae enter an integer: 1\n",
      "pleae enter an integer: 1\n",
      "pleae enter an integer: 1\n",
      "pleae enter an integer: 2\n"
     ]
    },
    {
     "name": "stdout",
     "output_type": "stream",
     "text": [
      "2\n"
     ]
    }
   ],
   "source": [
    "m = -9999\n",
    "for i in range(10):\n",
    "    j = int(input('please enter an integer:'))\n",
    "    if m < j:\n",
    "        m = j\n",
    "print(m)"
   ]
  },
  {
   "cell_type": "code",
   "execution_count": 156,
   "id": "32ca6352-d3e7-457f-a52f-93a2c08a6b0f",
   "metadata": {},
   "outputs": [
    {
     "name": "stdin",
     "output_type": "stream",
     "text": [
      "please enter an integer: 1\n",
      "please enter an integer: 2\n",
      "please enter an integer: 1\n",
      "please enter an integer: 2\n",
      "please enter an integer: 10\n",
      "please enter an integer: 11\n",
      "please enter an integer: 11\n",
      "please enter an integer: 11\n",
      "please enter an integer: 11\n",
      "please enter an integer: 11\n"
     ]
    },
    {
     "name": "stdout",
     "output_type": "stream",
     "text": [
      "6\n"
     ]
    }
   ],
   "source": [
    "c = 0\n",
    "for i in range(10):\n",
    "    j = int(input('please enter an integer:'))\n",
    "    if j >= 10:\n",
    "        c = c + 1\n",
    "print(c)\n",
    "        "
   ]
  },
  {
   "cell_type": "code",
   "execution_count": 158,
   "id": "621dd164-d4d1-462c-8377-96af7e7a4243",
   "metadata": {},
   "outputs": [
    {
     "name": "stdin",
     "output_type": "stream",
     "text": [
      "please enter an integer: 5\n",
      "please enter an integer: 1\n",
      "please enter an integer: 2\n",
      "please enter an integer: 3\n",
      "please enter an integer: 2\n"
     ]
    },
    {
     "name": "stdout",
     "output_type": "stream",
     "text": [
      "5があった。\n"
     ]
    }
   ],
   "source": [
    "f = 0\n",
    "for i in range(5):\n",
    "    j = int(input('please enter an integer:'))\n",
    "    if j == 5:\n",
    "        f = 1\n",
    "if f == 1:\n",
    "    print('5があった。')"
   ]
  },
  {
   "cell_type": "code",
   "execution_count": 160,
   "id": "470c9ecb-ed01-474e-bb9d-6074e7478eb6",
   "metadata": {},
   "outputs": [
    {
     "name": "stdin",
     "output_type": "stream",
     "text": [
      "please enter an integer: 5\n"
     ]
    },
    {
     "name": "stdout",
     "output_type": "stream",
     "text": [
      "5があった。\n"
     ]
    }
   ],
   "source": [
    "for i in range(5):\n",
    "    j = int(input('please enter an integer:'))\n",
    "    if j == 5:\n",
    "        print('5があった。')\n",
    "        break\n",
    "else:\n",
    "    print('5がなかった。')"
   ]
  },
  {
   "cell_type": "code",
   "execution_count": 161,
   "id": "68536dfa-ca99-45fa-9f61-e9aeaebd4bba",
   "metadata": {},
   "outputs": [
    {
     "name": "stdout",
     "output_type": "stream",
     "text": [
      "入力値は 0\n",
      "入力値は 1\n",
      "入力値は 2\n",
      "入力値は 4\n"
     ]
    }
   ],
   "source": [
    "# 例題6-6(continue)\n",
    "for i in range(5):\n",
    "    if i == 3:\n",
    "        continue\n",
    "    print('入力値は',i)"
   ]
  },
  {
   "cell_type": "code",
   "execution_count": 166,
   "id": "02f90e7b-27a3-4b5d-bdcb-8000d6e9b0ee",
   "metadata": {},
   "outputs": [
    {
     "name": "stdin",
     "output_type": "stream",
     "text": [
      "please enter an integer: 2\n",
      "please enter an integer: 4\n",
      "please enter an integer: 6\n",
      "please enter an integer: 6\n",
      "please enter an integer: 15\n",
      "please enter an integer: 100\n",
      "please enter an integer: 1000\n",
      "please enter an integer: １\n"
     ]
    }
   ],
   "source": [
    "# 問題6-1(1)\n",
    "for i in range(10):\n",
    "    x = int(input('please enter an integer:'))\n",
    "    if y >= x*2:\n",
    "        break\n",
    "    else:\n",
    "        y = x"
   ]
  },
  {
   "cell_type": "code",
   "execution_count": 167,
   "id": "16e95357-a214-4630-8290-1b2f294610a0",
   "metadata": {},
   "outputs": [
    {
     "name": "stdin",
     "output_type": "stream",
     "text": [
      "数字を入力してください:  1\n",
      "数字を入力してください:  5\n"
     ]
    },
    {
     "name": "stdout",
     "output_type": "stream",
     "text": [
      "前回の入力値の2倍以上大きな数が入力されたため、プログラムを終了します。\n",
      "プログラムを終了します。\n"
     ]
    }
   ],
   "source": [
    "previous_number = None\n",
    "counter = 0\n",
    "\n",
    "while counter < 10:\n",
    "    try:\n",
    "        user_input = float(input(\"数字を入力してください: \"))\n",
    "        if previous_number is not None and user_input >= previous_number * 2:\n",
    "            print(\"前回の入力値の2倍以上大きな数が入力されたため、プログラムを終了します。\")\n",
    "            break\n",
    "        previous_number = user_input\n",
    "        counter += 1\n",
    "    except ValueError:\n",
    "        print(\"無効な入力です。数字を入力してください。\")\n",
    "\n",
    "print(\"プログラムを終了します。\")"
   ]
  },
  {
   "cell_type": "markdown",
   "id": "f92f01de-db08-4189-8413-599b9dc6aad2",
   "metadata": {},
   "source": [
    "## 関数"
   ]
  },
  {
   "cell_type": "code",
   "execution_count": 173,
   "id": "897cd8f8-f408-4151-97fc-99d1e30dfe33",
   "metadata": {},
   "outputs": [
    {
     "name": "stdout",
     "output_type": "stream",
     "text": [
      "####################################################################################################"
     ]
    }
   ],
   "source": [
    "# 例題7-1\n",
    "def sub(n):\n",
    "    for i in range(n):\n",
    "        print('#', end='')\n",
    "sub(100)"
   ]
  },
  {
   "cell_type": "code",
   "execution_count": 174,
   "id": "e3e25806-801c-4db7-bc29-c3023fc92649",
   "metadata": {},
   "outputs": [
    {
     "name": "stdout",
     "output_type": "stream",
     "text": [
      "8\n",
      "300\n"
     ]
    }
   ],
   "source": [
    "# 例題7-2\n",
    "def computeSum(x,y):\n",
    "    return x + y\n",
    "\n",
    "print(computeSum(3,5))\n",
    "print(computeSum(100,200))"
   ]
  },
  {
   "cell_type": "code",
   "execution_count": 175,
   "id": "67c20840-1475-4b36-a723-d1e568e55f14",
   "metadata": {},
   "outputs": [
    {
     "name": "stdout",
     "output_type": "stream",
     "text": [
      "5\n"
     ]
    }
   ],
   "source": [
    "def F(n):\n",
    "    if n == 1 or n == 2:\n",
    "        return 1\n",
    "    else:\n",
    "        return F(n - 1) + F(n - 2)\n",
    "\n",
    "print(F(5))"
   ]
  },
  {
   "cell_type": "code",
   "execution_count": 1,
   "id": "9e2cc6d4-489b-46c2-88ad-71cfb03c013c",
   "metadata": {},
   "outputs": [
    {
     "name": "stdout",
     "output_type": "stream",
     "text": [
      "5\n",
      "4\n",
      "3\n",
      "2\n",
      "1\n"
     ]
    }
   ],
   "source": [
    "x = 5\n",
    "while x > 0:\n",
    "    print(x)\n",
    "    x = x - 1"
   ]
  },
  {
   "cell_type": "code",
   "execution_count": 2,
   "id": "2b62f1d9-3e33-4efd-a9c5-3f67781a04f6",
   "metadata": {},
   "outputs": [
    {
     "name": "stdout",
     "output_type": "stream",
     "text": [
      "100\n",
      "81\n",
      "64\n",
      "49\n",
      "36\n",
      "25\n",
      "16\n",
      "9\n",
      "4\n",
      "1\n"
     ]
    }
   ],
   "source": [
    "x = 10\n",
    "while True:\n",
    "    print(x**2)\n",
    "    x = x -1\n",
    "    if x <= 0:\n",
    "        break"
   ]
  },
  {
   "cell_type": "code",
   "execution_count": 3,
   "id": "8b88ed32-eac0-4a48-8fd3-ae488ccef368",
   "metadata": {},
   "outputs": [
    {
     "name": "stdout",
     "output_type": "stream",
     "text": [
      "1\n",
      "9\n",
      "25\n",
      "49\n",
      "81\n"
     ]
    }
   ],
   "source": [
    "for x in range(1, 10, 2):\n",
    "    print(x**2)"
   ]
  },
  {
   "cell_type": "code",
   "execution_count": 4,
   "id": "f6b197de-b79f-4024-9741-626bfe7f49a6",
   "metadata": {},
   "outputs": [
    {
     "name": "stdout",
     "output_type": "stream",
     "text": [
      "100\n",
      "81\n",
      "64\n",
      "49\n",
      "36\n",
      "25\n",
      "16\n",
      "9\n",
      "4\n",
      "1\n"
     ]
    }
   ],
   "source": [
    "for x in range(10, 0, -1):\n",
    "    print(x**2)"
   ]
  },
  {
   "cell_type": "code",
   "execution_count": 5,
   "id": "5ac25b55-eb80-45ca-acbf-50357698c15d",
   "metadata": {},
   "outputs": [
    {
     "name": "stdout",
     "output_type": "stream",
     "text": [
      "9 10 11 12 13 14 15 16 17 \n",
      "10 11 12 13 14 15 16 17 18 \n",
      "11 12 13 14 15 16 17 18 19 \n",
      "12 13 14 15 16 17 18 19 20 \n",
      "13 14 15 16 17 18 19 20 21 \n"
     ]
    }
   ],
   "source": [
    "for x in range(1,6):\n",
    "    for y in range(8, 17):\n",
    "        print(x + y, end=' ')\n",
    "    print()"
   ]
  },
  {
   "cell_type": "code",
   "execution_count": 8,
   "id": "a85f9e7e-cbd8-47fc-ac7b-dcb0a5ff435a",
   "metadata": {},
   "outputs": [
    {
     "name": "stdin",
     "output_type": "stream",
     "text": [
      "please enter th numbers: 3\n"
     ]
    },
    {
     "name": "stdout",
     "output_type": "stream",
     "text": [
      "3\n",
      "3\n",
      "3\n"
     ]
    }
   ],
   "source": [
    "# 問題5-1(1)\n",
    "number = int(input('please enter th numbers:'))\n",
    "\n",
    "for x in range(0,3,1):\n",
    "    print(number)"
   ]
  },
  {
   "cell_type": "code",
   "execution_count": 9,
   "id": "3ee4e643-e230-43d4-9a5b-a6925ad705ea",
   "metadata": {},
   "outputs": [
    {
     "name": "stdin",
     "output_type": "stream",
     "text": [
      "please enter th numbers: 1\n",
      "please enter th numbers: 3\n"
     ]
    },
    {
     "name": "stdout",
     "output_type": "stream",
     "text": [
      "4\n",
      "4\n",
      "4\n"
     ]
    }
   ],
   "source": [
    "# 問題5-1(2)\n",
    "number_0 = int(input('please enter th numbers:'))\n",
    "number_1 = int(input('please enter th numbers:'))\n",
    "\n",
    "for x in range(0, 3, 1):\n",
    "    print(number_0 + number_1)"
   ]
  },
  {
   "cell_type": "code",
   "execution_count": 13,
   "id": "4a2116a3-33c4-494d-9896-28a68f102aef",
   "metadata": {},
   "outputs": [
    {
     "name": "stdin",
     "output_type": "stream",
     "text": [
      "please enter price: 900\n"
     ]
    },
    {
     "name": "stdout",
     "output_type": "stream",
     "text": [
      "972\n",
      "972\n",
      "972\n"
     ]
    }
   ],
   "source": [
    "# 問題5-1(3)\n",
    "price = int(input('please enter price:'))\n",
    "tax_in = int(price*1.08)\n",
    "\n",
    "for x in range(0, 3, 1):\n",
    "    print(tax_in)"
   ]
  },
  {
   "cell_type": "code",
   "execution_count": 17,
   "id": "c52d546a-cec3-4064-9a85-56f967eae13b",
   "metadata": {},
   "outputs": [
    {
     "name": "stdin",
     "output_type": "stream",
     "text": [
      "please enter the number: 0\n"
     ]
    },
    {
     "name": "stdout",
     "output_type": "stream",
     "text": [
      "0\n"
     ]
    }
   ],
   "source": [
    "# 問題5-1(4)\n",
    "number = int(input('please enter the number:'))\n",
    "\n",
    "for x in range(0, 3, 1):\n",
    "    print(number)\n",
    "    if number == 0:\n",
    "        break"
   ]
  },
  {
   "cell_type": "code",
   "execution_count": 23,
   "id": "0adb05e2-b6f4-42aa-88c4-64ee4060be1a",
   "metadata": {},
   "outputs": [
    {
     "name": "stdin",
     "output_type": "stream",
     "text": [
      "please enter the number: 1\n"
     ]
    },
    {
     "name": "stdout",
     "output_type": "stream",
     "text": [
      "1\n",
      "1\n",
      "1\n"
     ]
    }
   ],
   "source": [
    "# 問題5-1(5)\n",
    "number = int(input('please enter the number:'))\n",
    "\n",
    "for x in range(0, 3, 1):\n",
    "    print(number)\n",
    "    if number < 0:\n",
    "        print('負の数なのでループを抜けます。')\n",
    "        break"
   ]
  },
  {
   "cell_type": "code",
   "execution_count": 30,
   "id": "98693700-4661-4f94-8c91-9f161a483ec7",
   "metadata": {},
   "outputs": [
    {
     "name": "stdin",
     "output_type": "stream",
     "text": [
      "please enter the number: 7\n"
     ]
    },
    {
     "name": "stdout",
     "output_type": "stream",
     "text": [
      "7は7の倍数です。\n",
      "7は7の倍数です。\n",
      "7は7の倍数です。\n"
     ]
    }
   ],
   "source": [
    "input_number = int(input('please enter the number:'))\n",
    "\n",
    "for x in range(3):\n",
    "    if input_number == 0:\n",
    "        print('入力された数字は0です。')\n",
    "    elif input_number % 7 == 0:\n",
    "        print(f'{input_number}は7の倍数です。')\n",
    "    else:\n",
    "        print(f'{input_number}は7の倍数ではありません。')"
   ]
  },
  {
   "cell_type": "code",
   "execution_count": 34,
   "id": "0a6e0172-c284-4e1d-b8fe-93dbbbf9f750",
   "metadata": {},
   "outputs": [
    {
     "name": "stdin",
     "output_type": "stream",
     "text": [
      "please enter the number: 0\n"
     ]
    },
    {
     "name": "stdout",
     "output_type": "stream",
     "text": [
      "入力された数字は0です。\n",
      "入力された数字は0です。\n",
      "入力された数字は0です。\n"
     ]
    }
   ],
   "source": [
    "input_number = int(input('please enter the number:'))\n",
    "\n",
    "for x in range(3):\n",
    "    if input_number == 0:\n",
    "        print('入力された数字は0です。')\n",
    "    elif input_number % 3 == 0:\n",
    "        print(f'{input_number}は3の倍数です。')\n",
    "    else:\n",
    "        print(f'{input_number}は3の倍数ではありません。')"
   ]
  },
  {
   "cell_type": "code",
   "execution_count": 37,
   "id": "b9140634-f839-4972-bf6e-364f6ec82c35",
   "metadata": {},
   "outputs": [
    {
     "name": "stdin",
     "output_type": "stream",
     "text": [
      "please enter the number: 12\n"
     ]
    },
    {
     "name": "stdout",
     "output_type": "stream",
     "text": [
      "12は負の数ではありません。\n",
      "12は負の数ではありません。\n",
      "12は負の数ではありません。\n"
     ]
    }
   ],
   "source": [
    "input_number = int(input('please enter the number:'))\n",
    "\n",
    "for x in range(3):\n",
    "    if input_number < 0:\n",
    "        print(f'{input_number}は負の数です。')\n",
    "    else:\n",
    "        print(f'{input_number}は負の数ではありません。')"
   ]
  },
  {
   "cell_type": "code",
   "execution_count": 39,
   "id": "bb34f2ab-8d1d-4a2b-8462-172dfc0b89c2",
   "metadata": {},
   "outputs": [
    {
     "name": "stdin",
     "output_type": "stream",
     "text": [
      "please enter the number: 2\n"
     ]
    },
    {
     "name": "stdout",
     "output_type": "stream",
     "text": [
      "The numbers entered are as follows\n",
      "2\n",
      "2\n",
      "2\n"
     ]
    }
   ],
   "source": [
    "x = int(input('please enter the number:'))\n",
    "\n",
    "print('The numbers entered are as follows')\n",
    "for i in range(0, 3, 1):\n",
    "    print(x)"
   ]
  },
  {
   "cell_type": "code",
   "execution_count": 41,
   "id": "c1538d25-fa5a-49c0-beb6-91fcec86072d",
   "metadata": {},
   "outputs": [
    {
     "name": "stdin",
     "output_type": "stream",
     "text": [
      "please enter the number: 3\n",
      "please enter the number: 4\n"
     ]
    },
    {
     "name": "stdout",
     "output_type": "stream",
     "text": [
      "Displays the sum of two input integers\n",
      "3+4=7\n",
      "3+4=7\n",
      "3+4=7\n"
     ]
    }
   ],
   "source": [
    "x = int(input('please enter the number:'))\n",
    "y = int(input('please enter the number:'))\n",
    "\n",
    "print('Displays the sum of two input integers')\n",
    "for i in range(0, 3, 1):\n",
    "    print(f'{x}+{y}={x+y}')"
   ]
  },
  {
   "cell_type": "code",
   "execution_count": 44,
   "id": "d1ae17bd-8100-4cc9-8f03-522f562be77e",
   "metadata": {},
   "outputs": [
    {
     "name": "stdin",
     "output_type": "stream",
     "text": [
      "Please enter the list price. 2500\n"
     ]
    },
    {
     "name": "stdout",
     "output_type": "stream",
     "text": [
      "The price including tax is as follows\n",
      "2700\n",
      "2700\n",
      "2700\n"
     ]
    }
   ],
   "source": [
    "price = int(input('Please enter the list price.'))\n",
    "tax_in = int(price*1.08)\n",
    "\n",
    "print('The price including tax is as follows')\n",
    "for i in range(0, 3, 1):\n",
    "    print(tax_in)"
   ]
  },
  {
   "cell_type": "code",
   "execution_count": 52,
   "id": "cc069ca6-6172-4005-94f7-9a17820bc07f",
   "metadata": {},
   "outputs": [
    {
     "name": "stdin",
     "output_type": "stream",
     "text": [
      "please enter the integer==> 10\n"
     ]
    },
    {
     "name": "stdout",
     "output_type": "stream",
     "text": [
      "The following numbers were entered\n",
      "10 10 10 "
     ]
    }
   ],
   "source": [
    "x = int(input('please enter the integer==>'))\n",
    "\n",
    "print('The following numbers were entered')\n",
    "for i in range(0, 3, 1):\n",
    "    if x == 0:\n",
    "        print('The number entered is 0.')\n",
    "        break\n",
    "    else:\n",
    "        print(x, end=' ')"
   ]
  },
  {
   "cell_type": "code",
   "execution_count": 59,
   "id": "c6401b8f-3212-4e6f-a1ed-e7abff07e670",
   "metadata": {},
   "outputs": [
    {
     "name": "stdin",
     "output_type": "stream",
     "text": [
      "please enter the integer: -1\n"
     ]
    },
    {
     "name": "stdout",
     "output_type": "stream",
     "text": [
      "the following numbers were enterd!\n",
      "The number entered is a negative number.\n"
     ]
    }
   ],
   "source": [
    "x = int(input('please enter the integer:'))\n",
    "\n",
    "print('the following numbers were enterd!')\n",
    "for i in range(0, 3, 1):\n",
    "    if x < 0:\n",
    "        print('The number entered is a negative number.')\n",
    "        break\n",
    "    else:\n",
    "        print(x, end=' ')"
   ]
  },
  {
   "cell_type": "code",
   "execution_count": 1,
   "id": "5b057625-f87a-4abe-b464-1d98aa110cc9",
   "metadata": {},
   "outputs": [
    {
     "name": "stdout",
     "output_type": "stream",
     "text": [
      "5\n",
      "4\n",
      "3\n",
      "2\n",
      "1\n"
     ]
    }
   ],
   "source": [
    "# 例題5-1\n",
    "x = 5\n",
    "\n",
    "while x > 0:\n",
    "    print(x)\n",
    "    x = x -1"
   ]
  },
  {
   "cell_type": "code",
   "execution_count": 2,
   "id": "9d8ce850-0f05-4cfc-951c-f8d2f4034cce",
   "metadata": {},
   "outputs": [
    {
     "name": "stdout",
     "output_type": "stream",
     "text": [
      "100\n",
      "81\n",
      "64\n",
      "49\n",
      "36\n",
      "25\n",
      "16\n",
      "9\n",
      "4\n",
      "1\n"
     ]
    }
   ],
   "source": [
    "# 例題5-2\n",
    "x = 10\n",
    "\n",
    "while True:\n",
    "    print(x**2)\n",
    "    x = x - 1\n",
    "    if x <= 0:\n",
    "        break"
   ]
  },
  {
   "cell_type": "code",
   "execution_count": 3,
   "id": "f2661267-841e-4f13-8ab0-5d405dc556da",
   "metadata": {},
   "outputs": [
    {
     "name": "stdout",
     "output_type": "stream",
     "text": [
      "1\n",
      "9\n",
      "25\n",
      "49\n",
      "81\n"
     ]
    }
   ],
   "source": [
    "# 例題5-3\n",
    "for x in range(1, 10, 2):\n",
    "    print(x**2)"
   ]
  },
  {
   "cell_type": "code",
   "execution_count": 5,
   "id": "52b3d8c4-4d54-4754-8dce-65e7431481c4",
   "metadata": {},
   "outputs": [
    {
     "name": "stdout",
     "output_type": "stream",
     "text": [
      "100\n",
      "81\n",
      "64\n",
      "49\n",
      "36\n",
      "25\n",
      "16\n",
      "9\n",
      "4\n",
      "1\n"
     ]
    }
   ],
   "source": [
    "# 例題5-4\n",
    "for x in range(10, 0, -1):\n",
    "    print(x**2)"
   ]
  },
  {
   "cell_type": "code",
   "execution_count": 6,
   "id": "b5e2cbbe-cd3f-4ab6-b818-31a0cbac2ad7",
   "metadata": {},
   "outputs": [
    {
     "name": "stdout",
     "output_type": "stream",
     "text": [
      "1. 勤怠データ入力\n",
      "2. 勤怠データ表示\n",
      "3. 終了\n"
     ]
    },
    {
     "name": "stdin",
     "output_type": "stream",
     "text": [
      "選択してください:  1\n",
      "従業員IDを入力:  3121\n",
      "出勤時間を入力 (HH:MM):  1922\n",
      "退勤時間を入力 (HH:MM):  1922\n"
     ]
    },
    {
     "name": "stdout",
     "output_type": "stream",
     "text": [
      "1. 勤怠データ入力\n",
      "2. 勤怠データ表示\n",
      "3. 終了\n"
     ]
    },
    {
     "name": "stdin",
     "output_type": "stream",
     "text": [
      "選択してください:  3\n"
     ]
    }
   ],
   "source": [
    "employee_attendance = {}  # 従業員の勤怠データを保存する辞書\n",
    "\n",
    "while True:\n",
    "    print(\"1. 勤怠データ入力\")\n",
    "    print(\"2. 勤怠データ表示\")\n",
    "    print(\"3. 終了\")\n",
    "    choice = input(\"選択してください: \")\n",
    "\n",
    "    if choice == \"1\":\n",
    "        employee_id = input(\"従業員IDを入力: \")\n",
    "        if employee_id not in employee_attendance:\n",
    "            employee_attendance[employee_id] = []\n",
    "\n",
    "        in_time = input(\"出勤時間を入力 (HH:MM): \")\n",
    "        out_time = input(\"退勤時間を入力 (HH:MM): \")\n",
    "        entry = {\"入社時間\": in_time, \"退社時間\": out_time}\n",
    "        employee_attendance[employee_id].append(entry)\n",
    "\n",
    "    elif choice == \"2\":\n",
    "        employee_id = input(\"従業員IDを入力: \")\n",
    "        if employee_id in employee_attendance:\n",
    "            for entry in employee_attendance[employee_id]:\n",
    "                print(f\"入社時間: {entry['入社時間']}, 退社時間: {entry['退社時間']}\")\n",
    "        else:\n",
    "            print(\"従業員IDが見つかりません。\")\n",
    "\n",
    "    elif choice == \"3\":\n",
    "        break"
   ]
  },
  {
   "cell_type": "code",
   "execution_count": 10,
   "id": "09671ba9-fdbc-4f75-8276-ed4874e242a0",
   "metadata": {},
   "outputs": [
    {
     "name": "stdout",
     "output_type": "stream",
     "text": [
      "9 10 11 12 13 14 15 16 \n",
      "10 11 12 13 14 15 16 17 \n",
      "11 12 13 14 15 16 17 18 \n",
      "12 13 14 15 16 17 18 19 \n"
     ]
    }
   ],
   "source": [
    "for x in range(1,5):\n",
    "    for y in range(8,16):\n",
    "        print(x + y ,end=' ')\n",
    "    print()"
   ]
  },
  {
   "cell_type": "code",
   "execution_count": 13,
   "id": "09b8a9e0-6c89-466a-818d-428344587683",
   "metadata": {},
   "outputs": [
    {
     "name": "stdin",
     "output_type": "stream",
     "text": [
      "please enter the number 4\n"
     ]
    },
    {
     "name": "stdout",
     "output_type": "stream",
     "text": [
      "4 4 4 "
     ]
    }
   ],
   "source": [
    "# 問題5-1\n",
    "#(1)入力した数を表示するという作業を、3回繰り返すプログラムを作れ\n",
    "x = int(input('please enter the number'))\n",
    "\n",
    "for y in range(1,4):\n",
    "    print(x, end=' ')"
   ]
  },
  {
   "cell_type": "code",
   "execution_count": 17,
   "id": "935964b6-4b24-4a8e-a2fc-3c7a81c72b3a",
   "metadata": {},
   "outputs": [
    {
     "name": "stdin",
     "output_type": "stream",
     "text": [
      "please enter the number 2\n",
      "please enter the number 3\n"
     ]
    },
    {
     "name": "stdout",
     "output_type": "stream",
     "text": [
      "The totals are as follows\n",
      "2+3=5 2+3=5 2+3=5 \n",
      "Terminates the loop\n"
     ]
    }
   ],
   "source": [
    "# (2) Create a program that repeats the process of \"displaying the sum of two input integers\" three times.\n",
    "x = int(input('please enter the number'))\n",
    "y = int(input('please enter the number'))\n",
    "\n",
    "print('The totals are as follows')\n",
    "for i in range(1,4):\n",
    "    print(f'{x}+{y}={x+y}', end=' ')\n",
    "\n",
    "print('\\nTerminates the loop')"
   ]
  },
  {
   "cell_type": "code",
   "execution_count": 23,
   "id": "5725f69e-ad72-4cc7-9327-d1582df16f26",
   "metadata": {},
   "outputs": [
    {
     "name": "stdin",
     "output_type": "stream",
     "text": [
      "Please enter the list price. 22\n"
     ]
    },
    {
     "name": "stdout",
     "output_type": "stream",
     "text": [
      "\n",
      "\n",
      "The price including tax is 23!\n",
      "The price including tax is 23!\n",
      "The price including tax is 23!\n",
      "\n",
      "Thank you for your purchase!\n"
     ]
    }
   ],
   "source": [
    "# (3) Create a program that repeats the process of \"displaying the tax-inclusive price of the entered list price \n",
    "# (the consumption tax is 8% and the half amount is rounded down)\" three times.\n",
    "price = int(input('Please enter the list price.'))\n",
    "print('\\n')\n",
    "for i in range(1,4):\n",
    "    print(f'The price including tax is {int(price*1.08)}!')\n",
    "print('\\nThank you for your purchase!')"
   ]
  },
  {
   "cell_type": "code",
   "execution_count": 4,
   "id": "babdbad7-9eef-4b5e-9c62-87166d32848a",
   "metadata": {},
   "outputs": [
    {
     "name": "stdin",
     "output_type": "stream",
     "text": [
      "please enter a integer! 12\n"
     ]
    },
    {
     "name": "stdout",
     "output_type": "stream",
     "text": [
      "The number entered is a number greater than or equal to 10\n"
     ]
    }
   ],
   "source": [
    "x = int(input('please enter a integer!'))\n",
    "\n",
    "if x < 10:\n",
    "    print('The number entered is a number less than or equal to 10')\n",
    "else:\n",
    "    print('The number entered is a number greater than or equal to 10')"
   ]
  },
  {
   "cell_type": "code",
   "execution_count": 5,
   "id": "ac31f91b-eb10-4bc5-bb06-b21d7020af95",
   "metadata": {},
   "outputs": [
    {
     "name": "stdin",
     "output_type": "stream",
     "text": [
      "Please enter an integer! 23\n"
     ]
    },
    {
     "name": "stdout",
     "output_type": "stream",
     "text": [
      "BOO\n"
     ]
    }
   ],
   "source": [
    "x = int(input('Please enter an integer!'))\n",
    "\n",
    "if x + 25000 == 3500 * 9:\n",
    "    print('OK')\n",
    "else:\n",
    "    print('BOO')"
   ]
  },
  {
   "cell_type": "code",
   "execution_count": null,
   "id": "9721d9e2-02e5-4e3f-8161-bf722d991d5e",
   "metadata": {},
   "outputs": [],
   "source": [
    "# Enter a number and convert it to an int type\n",
    "x = int(input('Please enter an integer!'))\n",
    "\n",
    "if x > 0: # If the input number is an integer, the following processing is performed\n",
    "    print('Positieve')\n",
    "    if x >= 100: # If over 100, the following message is displayed\n",
    "        print('Numbers entered must be greater than or equal to 100')\n",
    "    elif x < 100: # If less than 100, the following message is displayed\n",
    "        print('Number entered is less than 100')\n",
    "elif x == 0: # If 0, evaluate the following\n",
    "    print('The number entered is 0.')\n",
    "else: # If negative, display the following\n",
    "    print('negative')"
   ]
  },
  {
   "cell_type": "code",
   "execution_count": 10,
   "id": "c38a202f-e52a-4c30-a378-6cf076126064",
   "metadata": {},
   "outputs": [
    {
     "name": "stdin",
     "output_type": "stream",
     "text": [
      "please enter an integer: 99\n"
     ]
    },
    {
     "name": "stdout",
     "output_type": "stream",
     "text": [
      "OK\n"
     ]
    }
   ],
   "source": [
    "# Have them enter a number.\n",
    "x = int(input('please enter an integer:'))\n",
    "\n",
    "if x < 0 or x >= 100:\n",
    "    print('The number entered is out of range.')\n",
    "else:\n",
    "    print('OK')"
   ]
  },
  {
   "cell_type": "code",
   "execution_count": 13,
   "id": "9956682b-eddc-4b36-b37b-ca97c5826c84",
   "metadata": {},
   "outputs": [
    {
     "name": "stdin",
     "output_type": "stream",
     "text": [
      "please enter an integer! 10\n"
     ]
    },
    {
     "name": "stdout",
     "output_type": "stream",
     "text": [
      "OK\n"
     ]
    }
   ],
   "source": [
    "x = int(input('please enter an integer!'))\n",
    "\n",
    "if x < 0 or x >= 100:\n",
    "    print('out of scope.')\n",
    "else:\n",
    "    print('OK')"
   ]
  },
  {
   "cell_type": "code",
   "execution_count": 15,
   "id": "b8beb95c-c463-4f19-a9bf-e2ea403e0250",
   "metadata": {},
   "outputs": [
    {
     "name": "stdin",
     "output_type": "stream",
     "text": [
      "please enter an integer! 0\n"
     ]
    },
    {
     "name": "stdout",
     "output_type": "stream",
     "text": [
      "zero\n"
     ]
    }
   ],
   "source": [
    "# (1)\n",
    "x = int(input('please enter an integer!'))\n",
    "\n",
    "if x == 0:\n",
    "    print('zero')\n",
    "else:\n",
    "    print('Not zero.')"
   ]
  },
  {
   "cell_type": "code",
   "execution_count": 20,
   "id": "10538f56-31e9-48e2-b636-ce0fcb1569b7",
   "metadata": {},
   "outputs": [
    {
     "name": "stdin",
     "output_type": "stream",
     "text": [
      "please enter an integer! 10\n"
     ]
    },
    {
     "name": "stdout",
     "output_type": "stream",
     "text": [
      "Boo\n"
     ]
    }
   ],
   "source": [
    "# (2)\n",
    "x = int(input('please enter an integer!'))\n",
    "\n",
    "if x >= 100:\n",
    "    print('OK')\n",
    "else:\n",
    "    print('Boo')"
   ]
  },
  {
   "cell_type": "code",
   "execution_count": 26,
   "id": "a7586b37-3b65-48c7-9337-dc0730dd9e41",
   "metadata": {},
   "outputs": [
    {
     "name": "stdin",
     "output_type": "stream",
     "text": [
      "please enter an integer! 30\n"
     ]
    },
    {
     "name": "stdout",
     "output_type": "stream",
     "text": [
      "positieve\n"
     ]
    }
   ],
   "source": [
    "# (3)\n",
    "x = int(input('please enter an integer!'))\n",
    "\n",
    "if x >= 0:\n",
    "    print('positieve')\n",
    "else:\n",
    "    print('negatieve')"
   ]
  },
  {
   "cell_type": "code",
   "execution_count": 28,
   "id": "1b0c67d2-d3c1-400f-aa65-ac17d34b01a2",
   "metadata": {},
   "outputs": [
    {
     "name": "stdin",
     "output_type": "stream",
     "text": [
      "please enter an integer! 1\n",
      "please enter an integer! 2\n"
     ]
    },
    {
     "name": "stdout",
     "output_type": "stream",
     "text": [
      "not equal\n"
     ]
    }
   ],
   "source": [
    "# (4)\n",
    "x = int(input('please enter an integer!'))\n",
    "y = int(input('please enter an integer!'))\n",
    "\n",
    "if x == y:\n",
    "    print('equal')\n",
    "else:\n",
    "    print('not equal')"
   ]
  },
  {
   "cell_type": "code",
   "execution_count": 32,
   "id": "45837f6a-c570-4e66-a7bd-f47b8b0b9511",
   "metadata": {},
   "outputs": [
    {
     "name": "stdin",
     "output_type": "stream",
     "text": [
      "please enter an integer! 1\n"
     ]
    },
    {
     "name": "stdout",
     "output_type": "stream",
     "text": [
      "The number entered is less than 10.\n"
     ]
    }
   ],
   "source": [
    "# (1)\n",
    "\n",
    "x = int(input('please enter an integer!'))\n",
    "\n",
    "if x >= 10:\n",
    "    if x == 10:\n",
    "        print('The number entered is 10.')\n",
    "    else:\n",
    "        print('The number entered is 10 or more.')\n",
    "else:\n",
    "    print('The number entered is less than 10.')"
   ]
  },
  {
   "cell_type": "code",
   "execution_count": 35,
   "id": "b40bbf59-1614-4f4b-838b-5fd35de42f38",
   "metadata": {},
   "outputs": [
    {
     "name": "stdin",
     "output_type": "stream",
     "text": [
      "please enter an integer! 10\n"
     ]
    },
    {
     "name": "stdout",
     "output_type": "stream",
     "text": [
      "etc\n"
     ]
    }
   ],
   "source": [
    "# (2)\n",
    "\n",
    "x = int(input('please enter an integer!'))\n",
    "\n",
    "if x == 1:\n",
    "    print(x)\n",
    "elif x == 2:\n",
    "    print(x)\n",
    "else:\n",
    "    print('etc')"
   ]
  },
  {
   "cell_type": "code",
   "execution_count": 40,
   "id": "7b2dcf5b-bab0-458e-8df0-cb761a47b16e",
   "metadata": {},
   "outputs": [
    {
     "name": "stdin",
     "output_type": "stream",
     "text": [
      "Please enter an integer: 200\n"
     ]
    },
    {
     "name": "stdout",
     "output_type": "stream",
     "text": [
      "100以上\n"
     ]
    }
   ],
   "source": [
    "x = int(input(\"Please enter an integer:\"))\n",
    "if x < 0:\n",
    "    print('negatieve')\n",
    "elif x == 0:\n",
    "    print('zero')\n",
    "elif x >= 100:\n",
    "    print('100以上')\n",
    "elif x <= 100:\n",
    "    print('100未満')"
   ]
  },
  {
   "cell_type": "code",
   "execution_count": 43,
   "id": "345379e2-bd90-44d7-b5ee-2490a1f7fca0",
   "metadata": {},
   "outputs": [
    {
     "name": "stdin",
     "output_type": "stream",
     "text": [
      "please enter an integer 10\n",
      "please enter an integer 11\n"
     ]
    },
    {
     "name": "stdout",
     "output_type": "stream",
     "text": [
      "負になります。\n"
     ]
    }
   ],
   "source": [
    "x = int(input('please enter an integer'))\n",
    "y = int(input('please enter an integer'))\n",
    "\n",
    "if y <= x:\n",
    "    print( x - y )\n",
    "elif y > x:\n",
    "    print('負になります。')"
   ]
  },
  {
   "cell_type": "code",
   "execution_count": 5,
   "id": "43883d88-f5c1-4817-be7a-7b23047dc074",
   "metadata": {},
   "outputs": [
    {
     "name": "stdin",
     "output_type": "stream",
     "text": [
      "please enter an integer! 1\n"
     ]
    },
    {
     "name": "stdout",
     "output_type": "stream",
     "text": [
      "(>_<)\n"
     ]
    }
   ],
   "source": [
    "x = int(input('please enter an integer!'))\n",
    "\n",
    "if x == 1:\n",
    "    print('(>_<)')\n",
    "elif x == 2:\n",
    "    print('⌒▽⌒\"')\n",
    "elif x == 3:\n",
    "    print('^_^')"
   ]
  },
  {
   "cell_type": "code",
   "execution_count": 1,
   "id": "c2b10149-ac38-4773-884e-9eee199db0d3",
   "metadata": {},
   "outputs": [
    {
     "data": {
      "text/plain": [
       "2"
      ]
     },
     "execution_count": 1,
     "metadata": {},
     "output_type": "execute_result"
    }
   ],
   "source": [
    "1 + 1"
   ]
  },
  {
   "cell_type": "code",
   "execution_count": 2,
   "id": "d5d2ff70-d559-4fb2-b394-246233e90ddb",
   "metadata": {},
   "outputs": [
    {
     "data": {
      "text/plain": [
       "2"
      ]
     },
     "execution_count": 2,
     "metadata": {},
     "output_type": "execute_result"
    }
   ],
   "source": [
    "1 + 1"
   ]
  },
  {
   "cell_type": "code",
   "execution_count": 8,
   "id": "cd46844d-cf24-4721-a56a-7da45e12102c",
   "metadata": {},
   "outputs": [],
   "source": [
    "import pandas as pd"
   ]
  },
  {
   "cell_type": "code",
   "execution_count": 9,
   "id": "866e363a-3c24-430f-b11d-4345041cefc3",
   "metadata": {},
   "outputs": [
    {
     "ename": "AttributeError",
     "evalue": "'int' object has no attribute 'info'",
     "output_type": "error",
     "traceback": [
      "\u001b[0;31m---------------------------------------------------------------------------\u001b[0m",
      "\u001b[0;31mAttributeError\u001b[0m                            Traceback (most recent call last)",
      "Cell \u001b[0;32mIn[9], line 1\u001b[0m\n\u001b[0;32m----> 1\u001b[0m \u001b[43mx\u001b[49m\u001b[38;5;241;43m.\u001b[39;49m\u001b[43minfo\u001b[49m()\n",
      "\u001b[0;31mAttributeError\u001b[0m: 'int' object has no attribute 'info'"
     ]
    }
   ],
   "source": []
  },
  {
   "cell_type": "code",
   "execution_count": 11,
   "id": "5b985370-9927-43fb-84b8-24dcf0d8b9ce",
   "metadata": {},
   "outputs": [
    {
     "name": "stdin",
     "output_type": "stream",
     "text": [
      "please enter an integer 1\n"
     ]
    },
    {
     "name": "stdout",
     "output_type": "stream",
     "text": [
      "BOO\n"
     ]
    }
   ],
   "source": [
    "# 問題4-1(1)\n",
    "x = int(input('please enter an integer'))\n",
    "\n",
    "if x == 0:\n",
    "    print('zero')\n",
    "else:\n",
    "    print('BOO')"
   ]
  },
  {
   "cell_type": "code",
   "execution_count": 13,
   "id": "f6d9de44-55b6-4455-becf-d0ad1ad15aed",
   "metadata": {},
   "outputs": [
    {
     "name": "stdin",
     "output_type": "stream",
     "text": [
      "please enter an integer 100\n"
     ]
    },
    {
     "name": "stdout",
     "output_type": "stream",
     "text": [
      "OK\n"
     ]
    }
   ],
   "source": [
    "# 問題4-1(2)\n",
    "x = int(input('please enter an integer'))\n",
    "\n",
    "if x >= 100:\n",
    "    print('OK')\n",
    "else:\n",
    "    print('Boo')"
   ]
  },
  {
   "cell_type": "code",
   "execution_count": 17,
   "id": "1a629d8b-49de-4ddc-8c46-a7cdc983a237",
   "metadata": {},
   "outputs": [
    {
     "name": "stdin",
     "output_type": "stream",
     "text": [
      "please enter an integer -1\n"
     ]
    },
    {
     "name": "stdout",
     "output_type": "stream",
     "text": [
      "negative\n"
     ]
    }
   ],
   "source": [
    "# 問題4-1(3)\n",
    "x = int(input('please enter an integer'))\n",
    "\n",
    "if x >= 0:\n",
    "    print('positive')\n",
    "else:\n",
    "    print('negative')"
   ]
  },
  {
   "cell_type": "code",
   "execution_count": 21,
   "id": "4352eb61-f19f-41cd-b38e-117a7f18b96c",
   "metadata": {},
   "outputs": [
    {
     "name": "stdin",
     "output_type": "stream",
     "text": [
      "please enter an integer 1\n",
      "please enter an integer 1\n"
     ]
    },
    {
     "name": "stdout",
     "output_type": "stream",
     "text": [
      "equal\n"
     ]
    }
   ],
   "source": [
    "# 問題4-1(4)\n",
    "x = int(input('please enter an integer'))\n",
    "y = int(input('please enter an integer'))\n",
    "\n",
    "if x == y:\n",
    "    print('equal')\n",
    "else:\n",
    "    print('not equal')"
   ]
  },
  {
   "cell_type": "code",
   "execution_count": 24,
   "id": "8289bd7e-f03b-4556-9866-d7188ad5abb1",
   "metadata": {},
   "outputs": [
    {
     "name": "stdin",
     "output_type": "stream",
     "text": [
      "please enter an integer 9\n"
     ]
    },
    {
     "name": "stdout",
     "output_type": "stream",
     "text": [
      "入力された数は10未満です\n"
     ]
    }
   ],
   "source": [
    "# 問題4-2 (1)入力した数が10か10より大きいか10未満かを判定するプログラムを作れ\n",
    "x = int(input('please enter an integer'))\n",
    "\n",
    "if x == 10:\n",
    "    print('入力された数は10です。')\n",
    "elif x >= 10:\n",
    "    print('入力された数は10以上です。')\n",
    "else:\n",
    "    print('入力された数は10未満です')"
   ]
  },
  {
   "cell_type": "code",
   "execution_count": 27,
   "id": "77f29fa4-5b78-43ac-b184-202a106bfc13",
   "metadata": {},
   "outputs": [
    {
     "name": "stdin",
     "output_type": "stream",
     "text": [
      "please enter an integer 3\n"
     ]
    },
    {
     "name": "stdout",
     "output_type": "stream",
     "text": [
      "etc\n"
     ]
    }
   ],
   "source": [
    "# 問題4-2 (2)入力した数が1なら1，2なら2，それ以外ならetcと表示せよ\n",
    "x = int(input('please enter an integer'))\n",
    "\n",
    "if x == 1:\n",
    "    print(x)\n",
    "elif x == 2:\n",
    "    print(x)\n",
    "else:\n",
    "    print('etc')"
   ]
  },
  {
   "cell_type": "code",
   "execution_count": 31,
   "id": "237efced-681d-47c3-8a27-0c30d8de8f19",
   "metadata": {},
   "outputs": [
    {
     "name": "stdin",
     "output_type": "stream",
     "text": [
      "please enter an integer -10\n",
      "please enter an integer 1\n"
     ]
    },
    {
     "name": "stdout",
     "output_type": "stream",
     "text": [
      "負になります\n"
     ]
    }
   ],
   "source": [
    "# 問題4-3 キーボードから2つの数xとyを入力し、yがx以下ならx-yを表示し、yがxより大きければ負になりますと表示するプログラムを書け\n",
    "x = int(input('please enter an integer'))\n",
    "y = int(input('please enter an integer'))\n",
    "\n",
    "if y <= x:\n",
    "    print(x - y)\n",
    "elif y > x:\n",
    "    print('負になります')"
   ]
  },
  {
   "cell_type": "code",
   "execution_count": 38,
   "id": "87d17721-1b53-4e7e-b57a-c839bcbbe776",
   "metadata": {},
   "outputs": [
    {
     "name": "stdin",
     "output_type": "stream",
     "text": [
      "please enter an integer 2000\n"
     ]
    },
    {
     "name": "stdout",
     "output_type": "stream",
     "text": [
      "Even\n"
     ]
    }
   ],
   "source": [
    "# 問題4-5 キーボードから数値をxに入力し，ifを使って，xが偶数なら Even，奇数なら Odd と表示させるプログラムを作れ\n",
    "x = int(input('please enter an integer'))\n",
    "\n",
    "if x % 2 == 0:\n",
    "    print('Even')\n",
    "else:\n",
    "    print('Odd')"
   ]
  },
  {
   "cell_type": "code",
   "execution_count": 45,
   "id": "a1438947-da43-49a6-a779-b1dbe7d59562",
   "metadata": {},
   "outputs": [
    {
     "name": "stdin",
     "output_type": "stream",
     "text": [
      "please enter an integer 0\n"
     ]
    },
    {
     "name": "stdout",
     "output_type": "stream",
     "text": [
      "Boo\n"
     ]
    }
   ],
   "source": [
    "# 問題4-6 キーボードから入力した数が10以上20以下であればOKと表示するプログラムを作れ．\n",
    "x = int(input('please enter an integer'))\n",
    "\n",
    "if x >= 10 and x <= 20:\n",
    "    print('OK')\n",
    "else:\n",
    "    print('Boo')"
   ]
  },
  {
   "cell_type": "code",
   "execution_count": 50,
   "id": "f37f8a26-6032-4d2d-ba48-c92a8e2447b3",
   "metadata": {},
   "outputs": [
    {
     "name": "stdin",
     "output_type": "stream",
     "text": [
      "please enter an integer==> 60\n"
     ]
    },
    {
     "name": "stdout",
     "output_type": "stream",
     "text": [
      "%%%\n"
     ]
    }
   ],
   "source": [
    "# 問題4-7 文字で作った絵を2つ作ってみよう． そして，キーボードから入力した数が10 以上20 以下なら1つ目の絵を，50以上60以下なら2つ目の絵を表示するプログラムを作れ．\n",
    "a = '&&&'\n",
    "b = '%%%'\n",
    "\n",
    "x = int(input('please enter an integer==>'))\n",
    "\n",
    "if x >= 10 and x <= 20:\n",
    "    print(a)\n",
    "elif x >= 50 and x <= 60:\n",
    "    print(b)\n",
    "else:\n",
    "    print('Boo')"
   ]
  },
  {
   "cell_type": "code",
   "execution_count": 51,
   "id": "3eb32720-b17a-4958-8e86-9754a83f218e",
   "metadata": {},
   "outputs": [
    {
     "name": "stdout",
     "output_type": "stream",
     "text": [
      "5\n",
      "4\n",
      "3\n",
      "2\n",
      "1\n"
     ]
    }
   ],
   "source": [
    "x = 5\n",
    "while x > 0:\n",
    "    print(x)\n",
    "    x = x -1"
   ]
  },
  {
   "cell_type": "code",
   "execution_count": 52,
   "id": "7e65a4a9-193e-483d-856f-034c3dedf665",
   "metadata": {},
   "outputs": [
    {
     "name": "stdout",
     "output_type": "stream",
     "text": [
      "100\n",
      "81\n",
      "64\n",
      "49\n",
      "36\n",
      "25\n",
      "16\n",
      "9\n",
      "4\n",
      "1\n"
     ]
    }
   ],
   "source": [
    "x = 10\n",
    "while True:\n",
    "    print(x**2)\n",
    "    x = x -1\n",
    "    if x <= 0:\n",
    "        break"
   ]
  },
  {
   "cell_type": "code",
   "execution_count": 53,
   "id": "6ac7f9df-2ad3-4a64-8718-27142d582347",
   "metadata": {},
   "outputs": [
    {
     "name": "stdout",
     "output_type": "stream",
     "text": [
      "1\n",
      "9\n",
      "25\n",
      "49\n",
      "81\n"
     ]
    }
   ],
   "source": [
    "for x in range(1, 10, 2):\n",
    "    print(x**2)"
   ]
  },
  {
   "cell_type": "markdown",
   "id": "eb42d347-9027-413d-87c3-d12624cf21e8",
   "metadata": {},
   "source": [
    "# データ解析パッケージpandas"
   ]
  },
  {
   "cell_type": "code",
   "execution_count": 2,
   "id": "19d4d540-7139-4392-b6cd-afa2877d1057",
   "metadata": {},
   "outputs": [],
   "source": [
    "import pandas as pd\n",
    "import numpy as np"
   ]
  },
  {
   "cell_type": "code",
   "execution_count": 3,
   "id": "17fea203-9f06-482b-a5d6-ddaa2ef74bb7",
   "metadata": {},
   "outputs": [],
   "source": [
    "df = pd.read_csv('http://logopt.com/data/iris.data', names=['がく片長', 'がく片','花びら長', '花びら幅', '種類'])"
   ]
  },
  {
   "cell_type": "code",
   "execution_count": 4,
   "id": "640e1d78-bb18-4353-bc9d-21c9d7693325",
   "metadata": {},
   "outputs": [
    {
     "data": {
      "text/html": [
       "<div>\n",
       "<style scoped>\n",
       "    .dataframe tbody tr th:only-of-type {\n",
       "        vertical-align: middle;\n",
       "    }\n",
       "\n",
       "    .dataframe tbody tr th {\n",
       "        vertical-align: top;\n",
       "    }\n",
       "\n",
       "    .dataframe thead th {\n",
       "        text-align: right;\n",
       "    }\n",
       "</style>\n",
       "<table border=\"1\" class=\"dataframe\">\n",
       "  <thead>\n",
       "    <tr style=\"text-align: right;\">\n",
       "      <th></th>\n",
       "      <th>がく片長</th>\n",
       "      <th>がく片</th>\n",
       "      <th>花びら長</th>\n",
       "      <th>花びら幅</th>\n",
       "      <th>種類</th>\n",
       "    </tr>\n",
       "  </thead>\n",
       "  <tbody>\n",
       "    <tr>\n",
       "      <th>0</th>\n",
       "      <td>5.1</td>\n",
       "      <td>3.5</td>\n",
       "      <td>1.4</td>\n",
       "      <td>0.2</td>\n",
       "      <td>Iris-setosa</td>\n",
       "    </tr>\n",
       "    <tr>\n",
       "      <th>1</th>\n",
       "      <td>4.9</td>\n",
       "      <td>3.0</td>\n",
       "      <td>1.4</td>\n",
       "      <td>0.2</td>\n",
       "      <td>Iris-setosa</td>\n",
       "    </tr>\n",
       "    <tr>\n",
       "      <th>2</th>\n",
       "      <td>4.7</td>\n",
       "      <td>3.2</td>\n",
       "      <td>1.3</td>\n",
       "      <td>0.2</td>\n",
       "      <td>Iris-setosa</td>\n",
       "    </tr>\n",
       "    <tr>\n",
       "      <th>3</th>\n",
       "      <td>4.6</td>\n",
       "      <td>3.1</td>\n",
       "      <td>1.5</td>\n",
       "      <td>0.2</td>\n",
       "      <td>Iris-setosa</td>\n",
       "    </tr>\n",
       "    <tr>\n",
       "      <th>4</th>\n",
       "      <td>5.0</td>\n",
       "      <td>3.6</td>\n",
       "      <td>1.4</td>\n",
       "      <td>0.2</td>\n",
       "      <td>Iris-setosa</td>\n",
       "    </tr>\n",
       "  </tbody>\n",
       "</table>\n",
       "</div>"
      ],
      "text/plain": [
       "   がく片長  がく片  花びら長  花びら幅           種類\n",
       "0   5.1  3.5   1.4   0.2  Iris-setosa\n",
       "1   4.9  3.0   1.4   0.2  Iris-setosa\n",
       "2   4.7  3.2   1.3   0.2  Iris-setosa\n",
       "3   4.6  3.1   1.5   0.2  Iris-setosa\n",
       "4   5.0  3.6   1.4   0.2  Iris-setosa"
      ]
     },
     "execution_count": 4,
     "metadata": {},
     "output_type": "execute_result"
    }
   ],
   "source": [
    "df.head()"
   ]
  },
  {
   "cell_type": "code",
   "execution_count": 5,
   "id": "014fab0b-b72d-4e92-8d01-5e8c3cec6325",
   "metadata": {},
   "outputs": [
    {
     "data": {
      "text/html": [
       "<div>\n",
       "<style scoped>\n",
       "    .dataframe tbody tr th:only-of-type {\n",
       "        vertical-align: middle;\n",
       "    }\n",
       "\n",
       "    .dataframe tbody tr th {\n",
       "        vertical-align: top;\n",
       "    }\n",
       "\n",
       "    .dataframe thead th {\n",
       "        text-align: right;\n",
       "    }\n",
       "</style>\n",
       "<table border=\"1\" class=\"dataframe\">\n",
       "  <thead>\n",
       "    <tr style=\"text-align: right;\">\n",
       "      <th></th>\n",
       "      <th>がく片長</th>\n",
       "      <th>がく片</th>\n",
       "      <th>花びら長</th>\n",
       "      <th>花びら幅</th>\n",
       "      <th>種類</th>\n",
       "    </tr>\n",
       "  </thead>\n",
       "  <tbody>\n",
       "    <tr>\n",
       "      <th>145</th>\n",
       "      <td>6.7</td>\n",
       "      <td>3.0</td>\n",
       "      <td>5.2</td>\n",
       "      <td>2.3</td>\n",
       "      <td>Iris-virginica</td>\n",
       "    </tr>\n",
       "    <tr>\n",
       "      <th>146</th>\n",
       "      <td>6.3</td>\n",
       "      <td>2.5</td>\n",
       "      <td>5.0</td>\n",
       "      <td>1.9</td>\n",
       "      <td>Iris-virginica</td>\n",
       "    </tr>\n",
       "    <tr>\n",
       "      <th>147</th>\n",
       "      <td>6.5</td>\n",
       "      <td>3.0</td>\n",
       "      <td>5.2</td>\n",
       "      <td>2.0</td>\n",
       "      <td>Iris-virginica</td>\n",
       "    </tr>\n",
       "    <tr>\n",
       "      <th>148</th>\n",
       "      <td>6.2</td>\n",
       "      <td>3.4</td>\n",
       "      <td>5.4</td>\n",
       "      <td>2.3</td>\n",
       "      <td>Iris-virginica</td>\n",
       "    </tr>\n",
       "    <tr>\n",
       "      <th>149</th>\n",
       "      <td>5.9</td>\n",
       "      <td>3.0</td>\n",
       "      <td>5.1</td>\n",
       "      <td>1.8</td>\n",
       "      <td>Iris-virginica</td>\n",
       "    </tr>\n",
       "  </tbody>\n",
       "</table>\n",
       "</div>"
      ],
      "text/plain": [
       "     がく片長  がく片  花びら長  花びら幅              種類\n",
       "145   6.7  3.0   5.2   2.3  Iris-virginica\n",
       "146   6.3  2.5   5.0   1.9  Iris-virginica\n",
       "147   6.5  3.0   5.2   2.0  Iris-virginica\n",
       "148   6.2  3.4   5.4   2.3  Iris-virginica\n",
       "149   5.9  3.0   5.1   1.8  Iris-virginica"
      ]
     },
     "execution_count": 5,
     "metadata": {},
     "output_type": "execute_result"
    }
   ],
   "source": [
    "df.tail()"
   ]
  },
  {
   "cell_type": "code",
   "execution_count": 6,
   "id": "7c5ff9eb-2771-4b13-a918-2e1786082cb3",
   "metadata": {},
   "outputs": [],
   "source": [
    "ufo = pd.read_csv('http://logopt.com/data/ufo.csv')"
   ]
  },
  {
   "cell_type": "code",
   "execution_count": 7,
   "id": "7401516d-b0e6-4402-8883-2003453d0398",
   "metadata": {},
   "outputs": [
    {
     "data": {
      "text/html": [
       "<div>\n",
       "<style scoped>\n",
       "    .dataframe tbody tr th:only-of-type {\n",
       "        vertical-align: middle;\n",
       "    }\n",
       "\n",
       "    .dataframe tbody tr th {\n",
       "        vertical-align: top;\n",
       "    }\n",
       "\n",
       "    .dataframe thead th {\n",
       "        text-align: right;\n",
       "    }\n",
       "</style>\n",
       "<table border=\"1\" class=\"dataframe\">\n",
       "  <thead>\n",
       "    <tr style=\"text-align: right;\">\n",
       "      <th></th>\n",
       "      <th>Unnamed: 0</th>\n",
       "      <th>City</th>\n",
       "      <th>Colors Reported</th>\n",
       "      <th>Shape Reported</th>\n",
       "      <th>State</th>\n",
       "      <th>Time</th>\n",
       "    </tr>\n",
       "  </thead>\n",
       "  <tbody>\n",
       "    <tr>\n",
       "      <th>0</th>\n",
       "      <td>0</td>\n",
       "      <td>Ithaca</td>\n",
       "      <td>NaN</td>\n",
       "      <td>TRIANGLE</td>\n",
       "      <td>NY</td>\n",
       "      <td>6/1/1930 22:00</td>\n",
       "    </tr>\n",
       "    <tr>\n",
       "      <th>1</th>\n",
       "      <td>1</td>\n",
       "      <td>Willingboro</td>\n",
       "      <td>NaN</td>\n",
       "      <td>OTHER</td>\n",
       "      <td>NJ</td>\n",
       "      <td>6/30/1930 20:00</td>\n",
       "    </tr>\n",
       "    <tr>\n",
       "      <th>2</th>\n",
       "      <td>2</td>\n",
       "      <td>Holyoke</td>\n",
       "      <td>NaN</td>\n",
       "      <td>OVAL</td>\n",
       "      <td>CO</td>\n",
       "      <td>2/15/1931 14:00</td>\n",
       "    </tr>\n",
       "    <tr>\n",
       "      <th>3</th>\n",
       "      <td>3</td>\n",
       "      <td>Abilene</td>\n",
       "      <td>NaN</td>\n",
       "      <td>DISK</td>\n",
       "      <td>KS</td>\n",
       "      <td>6/1/1931 13:00</td>\n",
       "    </tr>\n",
       "    <tr>\n",
       "      <th>4</th>\n",
       "      <td>4</td>\n",
       "      <td>New York Worlds Fair</td>\n",
       "      <td>NaN</td>\n",
       "      <td>LIGHT</td>\n",
       "      <td>NY</td>\n",
       "      <td>4/18/1933 19:00</td>\n",
       "    </tr>\n",
       "  </tbody>\n",
       "</table>\n",
       "</div>"
      ],
      "text/plain": [
       "   Unnamed: 0                  City Colors Reported Shape Reported State  \\\n",
       "0           0                Ithaca             NaN       TRIANGLE    NY   \n",
       "1           1           Willingboro             NaN          OTHER    NJ   \n",
       "2           2               Holyoke             NaN           OVAL    CO   \n",
       "3           3               Abilene             NaN           DISK    KS   \n",
       "4           4  New York Worlds Fair             NaN          LIGHT    NY   \n",
       "\n",
       "              Time  \n",
       "0   6/1/1930 22:00  \n",
       "1  6/30/1930 20:00  \n",
       "2  2/15/1931 14:00  \n",
       "3   6/1/1931 13:00  \n",
       "4  4/18/1933 19:00  "
      ]
     },
     "execution_count": 7,
     "metadata": {},
     "output_type": "execute_result"
    }
   ],
   "source": [
    "ufo.head()"
   ]
  },
  {
   "cell_type": "code",
   "execution_count": 8,
   "id": "fa223512-5a16-493b-80ef-5c3fbb386fd8",
   "metadata": {},
   "outputs": [
    {
     "data": {
      "text/html": [
       "<div>\n",
       "<style scoped>\n",
       "    .dataframe tbody tr th:only-of-type {\n",
       "        vertical-align: middle;\n",
       "    }\n",
       "\n",
       "    .dataframe tbody tr th {\n",
       "        vertical-align: top;\n",
       "    }\n",
       "\n",
       "    .dataframe thead th {\n",
       "        text-align: right;\n",
       "    }\n",
       "</style>\n",
       "<table border=\"1\" class=\"dataframe\">\n",
       "  <thead>\n",
       "    <tr style=\"text-align: right;\">\n",
       "      <th></th>\n",
       "      <th>Unnamed: 0</th>\n",
       "      <th>City</th>\n",
       "      <th>Colors Reported</th>\n",
       "      <th>Shape Reported</th>\n",
       "      <th>State</th>\n",
       "      <th>Time</th>\n",
       "    </tr>\n",
       "  </thead>\n",
       "  <tbody>\n",
       "    <tr>\n",
       "      <th>18236</th>\n",
       "      <td>18236</td>\n",
       "      <td>Grant Park</td>\n",
       "      <td>NaN</td>\n",
       "      <td>TRIANGLE</td>\n",
       "      <td>IL</td>\n",
       "      <td>12/31/2000 23:00</td>\n",
       "    </tr>\n",
       "    <tr>\n",
       "      <th>18237</th>\n",
       "      <td>18237</td>\n",
       "      <td>Spirit Lake</td>\n",
       "      <td>NaN</td>\n",
       "      <td>DISK</td>\n",
       "      <td>IA</td>\n",
       "      <td>12/31/2000 23:00</td>\n",
       "    </tr>\n",
       "    <tr>\n",
       "      <th>18238</th>\n",
       "      <td>18238</td>\n",
       "      <td>Eagle River</td>\n",
       "      <td>NaN</td>\n",
       "      <td>NaN</td>\n",
       "      <td>WI</td>\n",
       "      <td>12/31/2000 23:45</td>\n",
       "    </tr>\n",
       "    <tr>\n",
       "      <th>18239</th>\n",
       "      <td>18239</td>\n",
       "      <td>Eagle River</td>\n",
       "      <td>RED</td>\n",
       "      <td>LIGHT</td>\n",
       "      <td>WI</td>\n",
       "      <td>12/31/2000 23:45</td>\n",
       "    </tr>\n",
       "    <tr>\n",
       "      <th>18240</th>\n",
       "      <td>18240</td>\n",
       "      <td>Ybor</td>\n",
       "      <td>NaN</td>\n",
       "      <td>OVAL</td>\n",
       "      <td>FL</td>\n",
       "      <td>12/31/2000 23:59</td>\n",
       "    </tr>\n",
       "  </tbody>\n",
       "</table>\n",
       "</div>"
      ],
      "text/plain": [
       "       Unnamed: 0         City Colors Reported Shape Reported State  \\\n",
       "18236       18236   Grant Park             NaN       TRIANGLE    IL   \n",
       "18237       18237  Spirit Lake             NaN           DISK    IA   \n",
       "18238       18238  Eagle River             NaN            NaN    WI   \n",
       "18239       18239  Eagle River             RED          LIGHT    WI   \n",
       "18240       18240         Ybor             NaN           OVAL    FL   \n",
       "\n",
       "                   Time  \n",
       "18236  12/31/2000 23:00  \n",
       "18237  12/31/2000 23:00  \n",
       "18238  12/31/2000 23:45  \n",
       "18239  12/31/2000 23:45  \n",
       "18240  12/31/2000 23:59  "
      ]
     },
     "execution_count": 8,
     "metadata": {},
     "output_type": "execute_result"
    }
   ],
   "source": [
    "ufo.tail()"
   ]
  },
  {
   "cell_type": "code",
   "execution_count": 9,
   "id": "8868fed0-afc5-42c9-a654-cebaeb9bd1ad",
   "metadata": {},
   "outputs": [],
   "source": [
    "wine = pd.read_csv('http://logopt.com/data/wine.data', names=['Alcohol', 'Malic','Ash', 'Alcalinity', 'Magnesium', 'Phenols', 'Flavanoids', 'Nonflavanoid', 'Proanthocyanins', 'Color', 'Hue', 'OD280', 'OD315', 'Proline'])"
   ]
  },
  {
   "cell_type": "code",
   "execution_count": 10,
   "id": "b6918a00-9ac0-4e83-bed3-2360a866f6c8",
   "metadata": {},
   "outputs": [
    {
     "data": {
      "text/html": [
       "<div>\n",
       "<style scoped>\n",
       "    .dataframe tbody tr th:only-of-type {\n",
       "        vertical-align: middle;\n",
       "    }\n",
       "\n",
       "    .dataframe tbody tr th {\n",
       "        vertical-align: top;\n",
       "    }\n",
       "\n",
       "    .dataframe thead th {\n",
       "        text-align: right;\n",
       "    }\n",
       "</style>\n",
       "<table border=\"1\" class=\"dataframe\">\n",
       "  <thead>\n",
       "    <tr style=\"text-align: right;\">\n",
       "      <th></th>\n",
       "      <th>Alcohol</th>\n",
       "      <th>Malic</th>\n",
       "      <th>Ash</th>\n",
       "      <th>Alcalinity</th>\n",
       "      <th>Magnesium</th>\n",
       "      <th>Phenols</th>\n",
       "      <th>Flavanoids</th>\n",
       "      <th>Nonflavanoid</th>\n",
       "      <th>Proanthocyanins</th>\n",
       "      <th>Color</th>\n",
       "      <th>Hue</th>\n",
       "      <th>OD280</th>\n",
       "      <th>OD315</th>\n",
       "      <th>Proline</th>\n",
       "    </tr>\n",
       "  </thead>\n",
       "  <tbody>\n",
       "    <tr>\n",
       "      <th>173</th>\n",
       "      <td>3</td>\n",
       "      <td>13.71</td>\n",
       "      <td>5.65</td>\n",
       "      <td>2.45</td>\n",
       "      <td>20.5</td>\n",
       "      <td>95</td>\n",
       "      <td>1.68</td>\n",
       "      <td>0.61</td>\n",
       "      <td>0.52</td>\n",
       "      <td>1.06</td>\n",
       "      <td>7.7</td>\n",
       "      <td>0.64</td>\n",
       "      <td>1.74</td>\n",
       "      <td>740</td>\n",
       "    </tr>\n",
       "    <tr>\n",
       "      <th>174</th>\n",
       "      <td>3</td>\n",
       "      <td>13.40</td>\n",
       "      <td>3.91</td>\n",
       "      <td>2.48</td>\n",
       "      <td>23.0</td>\n",
       "      <td>102</td>\n",
       "      <td>1.80</td>\n",
       "      <td>0.75</td>\n",
       "      <td>0.43</td>\n",
       "      <td>1.41</td>\n",
       "      <td>7.3</td>\n",
       "      <td>0.70</td>\n",
       "      <td>1.56</td>\n",
       "      <td>750</td>\n",
       "    </tr>\n",
       "    <tr>\n",
       "      <th>175</th>\n",
       "      <td>3</td>\n",
       "      <td>13.27</td>\n",
       "      <td>4.28</td>\n",
       "      <td>2.26</td>\n",
       "      <td>20.0</td>\n",
       "      <td>120</td>\n",
       "      <td>1.59</td>\n",
       "      <td>0.69</td>\n",
       "      <td>0.43</td>\n",
       "      <td>1.35</td>\n",
       "      <td>10.2</td>\n",
       "      <td>0.59</td>\n",
       "      <td>1.56</td>\n",
       "      <td>835</td>\n",
       "    </tr>\n",
       "    <tr>\n",
       "      <th>176</th>\n",
       "      <td>3</td>\n",
       "      <td>13.17</td>\n",
       "      <td>2.59</td>\n",
       "      <td>2.37</td>\n",
       "      <td>20.0</td>\n",
       "      <td>120</td>\n",
       "      <td>1.65</td>\n",
       "      <td>0.68</td>\n",
       "      <td>0.53</td>\n",
       "      <td>1.46</td>\n",
       "      <td>9.3</td>\n",
       "      <td>0.60</td>\n",
       "      <td>1.62</td>\n",
       "      <td>840</td>\n",
       "    </tr>\n",
       "    <tr>\n",
       "      <th>177</th>\n",
       "      <td>3</td>\n",
       "      <td>14.13</td>\n",
       "      <td>4.10</td>\n",
       "      <td>2.74</td>\n",
       "      <td>24.5</td>\n",
       "      <td>96</td>\n",
       "      <td>2.05</td>\n",
       "      <td>0.76</td>\n",
       "      <td>0.56</td>\n",
       "      <td>1.35</td>\n",
       "      <td>9.2</td>\n",
       "      <td>0.61</td>\n",
       "      <td>1.60</td>\n",
       "      <td>560</td>\n",
       "    </tr>\n",
       "  </tbody>\n",
       "</table>\n",
       "</div>"
      ],
      "text/plain": [
       "     Alcohol  Malic   Ash  Alcalinity  Magnesium  Phenols  Flavanoids  \\\n",
       "173        3  13.71  5.65        2.45       20.5       95        1.68   \n",
       "174        3  13.40  3.91        2.48       23.0      102        1.80   \n",
       "175        3  13.27  4.28        2.26       20.0      120        1.59   \n",
       "176        3  13.17  2.59        2.37       20.0      120        1.65   \n",
       "177        3  14.13  4.10        2.74       24.5       96        2.05   \n",
       "\n",
       "     Nonflavanoid  Proanthocyanins  Color   Hue  OD280  OD315  Proline  \n",
       "173          0.61             0.52   1.06   7.7   0.64   1.74      740  \n",
       "174          0.75             0.43   1.41   7.3   0.70   1.56      750  \n",
       "175          0.69             0.43   1.35  10.2   0.59   1.56      835  \n",
       "176          0.68             0.53   1.46   9.3   0.60   1.62      840  \n",
       "177          0.76             0.56   1.35   9.2   0.61   1.60      560  "
      ]
     },
     "execution_count": 10,
     "metadata": {},
     "output_type": "execute_result"
    }
   ],
   "source": [
    "wine.tail()"
   ]
  },
  {
   "cell_type": "code",
   "execution_count": 11,
   "id": "911d160c-b23b-48ef-99d2-83f35fb22ced",
   "metadata": {},
   "outputs": [
    {
     "data": {
      "text/html": [
       "<div>\n",
       "<style scoped>\n",
       "    .dataframe tbody tr th:only-of-type {\n",
       "        vertical-align: middle;\n",
       "    }\n",
       "\n",
       "    .dataframe tbody tr th {\n",
       "        vertical-align: top;\n",
       "    }\n",
       "\n",
       "    .dataframe thead th {\n",
       "        text-align: right;\n",
       "    }\n",
       "</style>\n",
       "<table border=\"1\" class=\"dataframe\">\n",
       "  <thead>\n",
       "    <tr style=\"text-align: right;\">\n",
       "      <th></th>\n",
       "      <th>Alcohol</th>\n",
       "      <th>Malic</th>\n",
       "      <th>Ash</th>\n",
       "      <th>Alcalinity</th>\n",
       "      <th>Magnesium</th>\n",
       "      <th>Phenols</th>\n",
       "      <th>Flavanoids</th>\n",
       "      <th>Nonflavanoid</th>\n",
       "      <th>Proanthocyanins</th>\n",
       "      <th>Color</th>\n",
       "      <th>Hue</th>\n",
       "      <th>OD280</th>\n",
       "      <th>OD315</th>\n",
       "      <th>Proline</th>\n",
       "    </tr>\n",
       "  </thead>\n",
       "  <tbody>\n",
       "    <tr>\n",
       "      <th>0</th>\n",
       "      <td>1</td>\n",
       "      <td>14.23</td>\n",
       "      <td>1.71</td>\n",
       "      <td>2.43</td>\n",
       "      <td>15.6</td>\n",
       "      <td>127</td>\n",
       "      <td>2.80</td>\n",
       "      <td>3.06</td>\n",
       "      <td>0.28</td>\n",
       "      <td>2.29</td>\n",
       "      <td>5.64</td>\n",
       "      <td>1.04</td>\n",
       "      <td>3.92</td>\n",
       "      <td>1065</td>\n",
       "    </tr>\n",
       "    <tr>\n",
       "      <th>1</th>\n",
       "      <td>1</td>\n",
       "      <td>13.20</td>\n",
       "      <td>1.78</td>\n",
       "      <td>2.14</td>\n",
       "      <td>11.2</td>\n",
       "      <td>100</td>\n",
       "      <td>2.65</td>\n",
       "      <td>2.76</td>\n",
       "      <td>0.26</td>\n",
       "      <td>1.28</td>\n",
       "      <td>4.38</td>\n",
       "      <td>1.05</td>\n",
       "      <td>3.40</td>\n",
       "      <td>1050</td>\n",
       "    </tr>\n",
       "    <tr>\n",
       "      <th>2</th>\n",
       "      <td>1</td>\n",
       "      <td>13.16</td>\n",
       "      <td>2.36</td>\n",
       "      <td>2.67</td>\n",
       "      <td>18.6</td>\n",
       "      <td>101</td>\n",
       "      <td>2.80</td>\n",
       "      <td>3.24</td>\n",
       "      <td>0.30</td>\n",
       "      <td>2.81</td>\n",
       "      <td>5.68</td>\n",
       "      <td>1.03</td>\n",
       "      <td>3.17</td>\n",
       "      <td>1185</td>\n",
       "    </tr>\n",
       "    <tr>\n",
       "      <th>3</th>\n",
       "      <td>1</td>\n",
       "      <td>14.37</td>\n",
       "      <td>1.95</td>\n",
       "      <td>2.50</td>\n",
       "      <td>16.8</td>\n",
       "      <td>113</td>\n",
       "      <td>3.85</td>\n",
       "      <td>3.49</td>\n",
       "      <td>0.24</td>\n",
       "      <td>2.18</td>\n",
       "      <td>7.80</td>\n",
       "      <td>0.86</td>\n",
       "      <td>3.45</td>\n",
       "      <td>1480</td>\n",
       "    </tr>\n",
       "    <tr>\n",
       "      <th>4</th>\n",
       "      <td>1</td>\n",
       "      <td>13.24</td>\n",
       "      <td>2.59</td>\n",
       "      <td>2.87</td>\n",
       "      <td>21.0</td>\n",
       "      <td>118</td>\n",
       "      <td>2.80</td>\n",
       "      <td>2.69</td>\n",
       "      <td>0.39</td>\n",
       "      <td>1.82</td>\n",
       "      <td>4.32</td>\n",
       "      <td>1.04</td>\n",
       "      <td>2.93</td>\n",
       "      <td>735</td>\n",
       "    </tr>\n",
       "  </tbody>\n",
       "</table>\n",
       "</div>"
      ],
      "text/plain": [
       "   Alcohol  Malic   Ash  Alcalinity  Magnesium  Phenols  Flavanoids  \\\n",
       "0        1  14.23  1.71        2.43       15.6      127        2.80   \n",
       "1        1  13.20  1.78        2.14       11.2      100        2.65   \n",
       "2        1  13.16  2.36        2.67       18.6      101        2.80   \n",
       "3        1  14.37  1.95        2.50       16.8      113        3.85   \n",
       "4        1  13.24  2.59        2.87       21.0      118        2.80   \n",
       "\n",
       "   Nonflavanoid  Proanthocyanins  Color   Hue  OD280  OD315  Proline  \n",
       "0          3.06             0.28   2.29  5.64   1.04   3.92     1065  \n",
       "1          2.76             0.26   1.28  4.38   1.05   3.40     1050  \n",
       "2          3.24             0.30   2.81  5.68   1.03   3.17     1185  \n",
       "3          3.49             0.24   2.18  7.80   0.86   3.45     1480  \n",
       "4          2.69             0.39   1.82  4.32   1.04   2.93      735  "
      ]
     },
     "execution_count": 11,
     "metadata": {},
     "output_type": "execute_result"
    }
   ],
   "source": [
    "wine.head()"
   ]
  },
  {
   "cell_type": "code",
   "execution_count": 12,
   "id": "8211e2f7-db4d-411f-bc93-357b49fd7446",
   "metadata": {},
   "outputs": [],
   "source": [
    "game = pd.read_csv('http://logopt.com/data/vgsales.csv')"
   ]
  },
  {
   "cell_type": "code",
   "execution_count": 13,
   "id": "97b33efd-8e5e-4303-a16f-5290ec958963",
   "metadata": {},
   "outputs": [
    {
     "data": {
      "text/html": [
       "<div>\n",
       "<style scoped>\n",
       "    .dataframe tbody tr th:only-of-type {\n",
       "        vertical-align: middle;\n",
       "    }\n",
       "\n",
       "    .dataframe tbody tr th {\n",
       "        vertical-align: top;\n",
       "    }\n",
       "\n",
       "    .dataframe thead th {\n",
       "        text-align: right;\n",
       "    }\n",
       "</style>\n",
       "<table border=\"1\" class=\"dataframe\">\n",
       "  <thead>\n",
       "    <tr style=\"text-align: right;\">\n",
       "      <th></th>\n",
       "      <th>Rank</th>\n",
       "      <th>Name</th>\n",
       "      <th>Platform</th>\n",
       "      <th>Year</th>\n",
       "      <th>Genre</th>\n",
       "      <th>Publisher</th>\n",
       "      <th>NA_Sales</th>\n",
       "      <th>EU_Sales</th>\n",
       "      <th>JP_Sales</th>\n",
       "      <th>Other_Sales</th>\n",
       "      <th>Global_Sales</th>\n",
       "    </tr>\n",
       "  </thead>\n",
       "  <tbody>\n",
       "    <tr>\n",
       "      <th>0</th>\n",
       "      <td>1</td>\n",
       "      <td>Wii Sports</td>\n",
       "      <td>Wii</td>\n",
       "      <td>2006.0</td>\n",
       "      <td>Sports</td>\n",
       "      <td>Nintendo</td>\n",
       "      <td>41.49</td>\n",
       "      <td>29.02</td>\n",
       "      <td>3.77</td>\n",
       "      <td>8.46</td>\n",
       "      <td>82.74</td>\n",
       "    </tr>\n",
       "    <tr>\n",
       "      <th>1</th>\n",
       "      <td>2</td>\n",
       "      <td>Super Mario Bros.</td>\n",
       "      <td>NES</td>\n",
       "      <td>1985.0</td>\n",
       "      <td>Platform</td>\n",
       "      <td>Nintendo</td>\n",
       "      <td>29.08</td>\n",
       "      <td>3.58</td>\n",
       "      <td>6.81</td>\n",
       "      <td>0.77</td>\n",
       "      <td>40.24</td>\n",
       "    </tr>\n",
       "    <tr>\n",
       "      <th>2</th>\n",
       "      <td>3</td>\n",
       "      <td>Mario Kart Wii</td>\n",
       "      <td>Wii</td>\n",
       "      <td>2008.0</td>\n",
       "      <td>Racing</td>\n",
       "      <td>Nintendo</td>\n",
       "      <td>15.85</td>\n",
       "      <td>12.88</td>\n",
       "      <td>3.79</td>\n",
       "      <td>3.31</td>\n",
       "      <td>35.82</td>\n",
       "    </tr>\n",
       "    <tr>\n",
       "      <th>3</th>\n",
       "      <td>4</td>\n",
       "      <td>Wii Sports Resort</td>\n",
       "      <td>Wii</td>\n",
       "      <td>2009.0</td>\n",
       "      <td>Sports</td>\n",
       "      <td>Nintendo</td>\n",
       "      <td>15.75</td>\n",
       "      <td>11.01</td>\n",
       "      <td>3.28</td>\n",
       "      <td>2.96</td>\n",
       "      <td>33.00</td>\n",
       "    </tr>\n",
       "    <tr>\n",
       "      <th>4</th>\n",
       "      <td>5</td>\n",
       "      <td>Pokemon Red/Pokemon Blue</td>\n",
       "      <td>GB</td>\n",
       "      <td>1996.0</td>\n",
       "      <td>Role-Playing</td>\n",
       "      <td>Nintendo</td>\n",
       "      <td>11.27</td>\n",
       "      <td>8.89</td>\n",
       "      <td>10.22</td>\n",
       "      <td>1.00</td>\n",
       "      <td>31.37</td>\n",
       "    </tr>\n",
       "  </tbody>\n",
       "</table>\n",
       "</div>"
      ],
      "text/plain": [
       "   Rank                      Name Platform    Year         Genre Publisher  \\\n",
       "0     1                Wii Sports      Wii  2006.0        Sports  Nintendo   \n",
       "1     2         Super Mario Bros.      NES  1985.0      Platform  Nintendo   \n",
       "2     3            Mario Kart Wii      Wii  2008.0        Racing  Nintendo   \n",
       "3     4         Wii Sports Resort      Wii  2009.0        Sports  Nintendo   \n",
       "4     5  Pokemon Red/Pokemon Blue       GB  1996.0  Role-Playing  Nintendo   \n",
       "\n",
       "   NA_Sales  EU_Sales  JP_Sales  Other_Sales  Global_Sales  \n",
       "0     41.49     29.02      3.77         8.46         82.74  \n",
       "1     29.08      3.58      6.81         0.77         40.24  \n",
       "2     15.85     12.88      3.79         3.31         35.82  \n",
       "3     15.75     11.01      3.28         2.96         33.00  \n",
       "4     11.27      8.89     10.22         1.00         31.37  "
      ]
     },
     "execution_count": 13,
     "metadata": {},
     "output_type": "execute_result"
    }
   ],
   "source": [
    "game.head()"
   ]
  },
  {
   "cell_type": "code",
   "execution_count": 14,
   "id": "ac4b86a0-5098-42b3-b5c2-27693da9e49b",
   "metadata": {},
   "outputs": [
    {
     "data": {
      "text/html": [
       "<div>\n",
       "<style scoped>\n",
       "    .dataframe tbody tr th:only-of-type {\n",
       "        vertical-align: middle;\n",
       "    }\n",
       "\n",
       "    .dataframe tbody tr th {\n",
       "        vertical-align: top;\n",
       "    }\n",
       "\n",
       "    .dataframe thead th {\n",
       "        text-align: right;\n",
       "    }\n",
       "</style>\n",
       "<table border=\"1\" class=\"dataframe\">\n",
       "  <thead>\n",
       "    <tr style=\"text-align: right;\">\n",
       "      <th></th>\n",
       "      <th>Rank</th>\n",
       "      <th>Name</th>\n",
       "      <th>Platform</th>\n",
       "      <th>Year</th>\n",
       "      <th>Genre</th>\n",
       "      <th>Publisher</th>\n",
       "      <th>NA_Sales</th>\n",
       "      <th>EU_Sales</th>\n",
       "      <th>JP_Sales</th>\n",
       "      <th>Other_Sales</th>\n",
       "      <th>Global_Sales</th>\n",
       "    </tr>\n",
       "  </thead>\n",
       "  <tbody>\n",
       "    <tr>\n",
       "      <th>16593</th>\n",
       "      <td>16596</td>\n",
       "      <td>Woody Woodpecker in Crazy Castle 5</td>\n",
       "      <td>GBA</td>\n",
       "      <td>2002.0</td>\n",
       "      <td>Platform</td>\n",
       "      <td>Kemco</td>\n",
       "      <td>0.01</td>\n",
       "      <td>0.00</td>\n",
       "      <td>0.0</td>\n",
       "      <td>0.0</td>\n",
       "      <td>0.01</td>\n",
       "    </tr>\n",
       "    <tr>\n",
       "      <th>16594</th>\n",
       "      <td>16597</td>\n",
       "      <td>Men in Black II: Alien Escape</td>\n",
       "      <td>GC</td>\n",
       "      <td>2003.0</td>\n",
       "      <td>Shooter</td>\n",
       "      <td>Infogrames</td>\n",
       "      <td>0.01</td>\n",
       "      <td>0.00</td>\n",
       "      <td>0.0</td>\n",
       "      <td>0.0</td>\n",
       "      <td>0.01</td>\n",
       "    </tr>\n",
       "    <tr>\n",
       "      <th>16595</th>\n",
       "      <td>16598</td>\n",
       "      <td>SCORE International Baja 1000: The Official Game</td>\n",
       "      <td>PS2</td>\n",
       "      <td>2008.0</td>\n",
       "      <td>Racing</td>\n",
       "      <td>Activision</td>\n",
       "      <td>0.00</td>\n",
       "      <td>0.00</td>\n",
       "      <td>0.0</td>\n",
       "      <td>0.0</td>\n",
       "      <td>0.01</td>\n",
       "    </tr>\n",
       "    <tr>\n",
       "      <th>16596</th>\n",
       "      <td>16599</td>\n",
       "      <td>Know How 2</td>\n",
       "      <td>DS</td>\n",
       "      <td>2010.0</td>\n",
       "      <td>Puzzle</td>\n",
       "      <td>7G//AMES</td>\n",
       "      <td>0.00</td>\n",
       "      <td>0.01</td>\n",
       "      <td>0.0</td>\n",
       "      <td>0.0</td>\n",
       "      <td>0.01</td>\n",
       "    </tr>\n",
       "    <tr>\n",
       "      <th>16597</th>\n",
       "      <td>16600</td>\n",
       "      <td>Spirits &amp; Spells</td>\n",
       "      <td>GBA</td>\n",
       "      <td>2003.0</td>\n",
       "      <td>Platform</td>\n",
       "      <td>Wanadoo</td>\n",
       "      <td>0.01</td>\n",
       "      <td>0.00</td>\n",
       "      <td>0.0</td>\n",
       "      <td>0.0</td>\n",
       "      <td>0.01</td>\n",
       "    </tr>\n",
       "  </tbody>\n",
       "</table>\n",
       "</div>"
      ],
      "text/plain": [
       "        Rank                                              Name Platform  \\\n",
       "16593  16596                Woody Woodpecker in Crazy Castle 5      GBA   \n",
       "16594  16597                     Men in Black II: Alien Escape       GC   \n",
       "16595  16598  SCORE International Baja 1000: The Official Game      PS2   \n",
       "16596  16599                                        Know How 2       DS   \n",
       "16597  16600                                  Spirits & Spells      GBA   \n",
       "\n",
       "         Year     Genre   Publisher  NA_Sales  EU_Sales  JP_Sales  \\\n",
       "16593  2002.0  Platform       Kemco      0.01      0.00       0.0   \n",
       "16594  2003.0   Shooter  Infogrames      0.01      0.00       0.0   \n",
       "16595  2008.0    Racing  Activision      0.00      0.00       0.0   \n",
       "16596  2010.0    Puzzle    7G//AMES      0.00      0.01       0.0   \n",
       "16597  2003.0  Platform     Wanadoo      0.01      0.00       0.0   \n",
       "\n",
       "       Other_Sales  Global_Sales  \n",
       "16593          0.0          0.01  \n",
       "16594          0.0          0.01  \n",
       "16595          0.0          0.01  \n",
       "16596          0.0          0.01  \n",
       "16597          0.0          0.01  "
      ]
     },
     "execution_count": 14,
     "metadata": {},
     "output_type": "execute_result"
    }
   ],
   "source": [
    "game.tail()"
   ]
  },
  {
   "cell_type": "code",
   "execution_count": 15,
   "id": "80dea09e-51ff-4ab7-b559-6fa156369a96",
   "metadata": {},
   "outputs": [],
   "source": [
    "car = pd.read_csv('http://logopt.com/data/auto-mpg.data', delim_whitespace=True, names=['mpg', 'cylinders', 'displacement', 'horsepower','weight', 'acceleration','year','origin', 'name'])"
   ]
  },
  {
   "cell_type": "code",
   "execution_count": 16,
   "id": "a5b549a6-6406-476f-bb71-2d5b156e1fba",
   "metadata": {},
   "outputs": [
    {
     "data": {
      "text/html": [
       "<div>\n",
       "<style scoped>\n",
       "    .dataframe tbody tr th:only-of-type {\n",
       "        vertical-align: middle;\n",
       "    }\n",
       "\n",
       "    .dataframe tbody tr th {\n",
       "        vertical-align: top;\n",
       "    }\n",
       "\n",
       "    .dataframe thead th {\n",
       "        text-align: right;\n",
       "    }\n",
       "</style>\n",
       "<table border=\"1\" class=\"dataframe\">\n",
       "  <thead>\n",
       "    <tr style=\"text-align: right;\">\n",
       "      <th></th>\n",
       "      <th>mpg</th>\n",
       "      <th>cylinders</th>\n",
       "      <th>displacement</th>\n",
       "      <th>horsepower</th>\n",
       "      <th>weight</th>\n",
       "      <th>acceleration</th>\n",
       "      <th>year</th>\n",
       "      <th>origin</th>\n",
       "      <th>name</th>\n",
       "    </tr>\n",
       "  </thead>\n",
       "  <tbody>\n",
       "    <tr>\n",
       "      <th>0</th>\n",
       "      <td>18.0</td>\n",
       "      <td>8</td>\n",
       "      <td>307.0</td>\n",
       "      <td>130.0</td>\n",
       "      <td>3504.0</td>\n",
       "      <td>12.0</td>\n",
       "      <td>70</td>\n",
       "      <td>1</td>\n",
       "      <td>chevrolet chevelle malibu</td>\n",
       "    </tr>\n",
       "    <tr>\n",
       "      <th>1</th>\n",
       "      <td>15.0</td>\n",
       "      <td>8</td>\n",
       "      <td>350.0</td>\n",
       "      <td>165.0</td>\n",
       "      <td>3693.0</td>\n",
       "      <td>11.5</td>\n",
       "      <td>70</td>\n",
       "      <td>1</td>\n",
       "      <td>buick skylark 320</td>\n",
       "    </tr>\n",
       "    <tr>\n",
       "      <th>2</th>\n",
       "      <td>18.0</td>\n",
       "      <td>8</td>\n",
       "      <td>318.0</td>\n",
       "      <td>150.0</td>\n",
       "      <td>3436.0</td>\n",
       "      <td>11.0</td>\n",
       "      <td>70</td>\n",
       "      <td>1</td>\n",
       "      <td>plymouth satellite</td>\n",
       "    </tr>\n",
       "    <tr>\n",
       "      <th>3</th>\n",
       "      <td>16.0</td>\n",
       "      <td>8</td>\n",
       "      <td>304.0</td>\n",
       "      <td>150.0</td>\n",
       "      <td>3433.0</td>\n",
       "      <td>12.0</td>\n",
       "      <td>70</td>\n",
       "      <td>1</td>\n",
       "      <td>amc rebel sst</td>\n",
       "    </tr>\n",
       "    <tr>\n",
       "      <th>4</th>\n",
       "      <td>17.0</td>\n",
       "      <td>8</td>\n",
       "      <td>302.0</td>\n",
       "      <td>140.0</td>\n",
       "      <td>3449.0</td>\n",
       "      <td>10.5</td>\n",
       "      <td>70</td>\n",
       "      <td>1</td>\n",
       "      <td>ford torino</td>\n",
       "    </tr>\n",
       "  </tbody>\n",
       "</table>\n",
       "</div>"
      ],
      "text/plain": [
       "    mpg  cylinders  displacement horsepower  weight  acceleration  year  \\\n",
       "0  18.0          8         307.0      130.0  3504.0          12.0    70   \n",
       "1  15.0          8         350.0      165.0  3693.0          11.5    70   \n",
       "2  18.0          8         318.0      150.0  3436.0          11.0    70   \n",
       "3  16.0          8         304.0      150.0  3433.0          12.0    70   \n",
       "4  17.0          8         302.0      140.0  3449.0          10.5    70   \n",
       "\n",
       "   origin                       name  \n",
       "0       1  chevrolet chevelle malibu  \n",
       "1       1          buick skylark 320  \n",
       "2       1         plymouth satellite  \n",
       "3       1              amc rebel sst  \n",
       "4       1                ford torino  "
      ]
     },
     "execution_count": 16,
     "metadata": {},
     "output_type": "execute_result"
    }
   ],
   "source": [
    "car.head()"
   ]
  },
  {
   "cell_type": "code",
   "execution_count": 17,
   "id": "e81f5707-4118-4170-acbd-a07b01094744",
   "metadata": {},
   "outputs": [
    {
     "data": {
      "text/html": [
       "<div>\n",
       "<style scoped>\n",
       "    .dataframe tbody tr th:only-of-type {\n",
       "        vertical-align: middle;\n",
       "    }\n",
       "\n",
       "    .dataframe tbody tr th {\n",
       "        vertical-align: top;\n",
       "    }\n",
       "\n",
       "    .dataframe thead th {\n",
       "        text-align: right;\n",
       "    }\n",
       "</style>\n",
       "<table border=\"1\" class=\"dataframe\">\n",
       "  <thead>\n",
       "    <tr style=\"text-align: right;\">\n",
       "      <th></th>\n",
       "      <th>mpg</th>\n",
       "      <th>cylinders</th>\n",
       "      <th>displacement</th>\n",
       "      <th>horsepower</th>\n",
       "      <th>weight</th>\n",
       "      <th>acceleration</th>\n",
       "      <th>year</th>\n",
       "      <th>origin</th>\n",
       "      <th>name</th>\n",
       "    </tr>\n",
       "  </thead>\n",
       "  <tbody>\n",
       "    <tr>\n",
       "      <th>393</th>\n",
       "      <td>27.0</td>\n",
       "      <td>4</td>\n",
       "      <td>140.0</td>\n",
       "      <td>86.00</td>\n",
       "      <td>2790.0</td>\n",
       "      <td>15.6</td>\n",
       "      <td>82</td>\n",
       "      <td>1</td>\n",
       "      <td>ford mustang gl</td>\n",
       "    </tr>\n",
       "    <tr>\n",
       "      <th>394</th>\n",
       "      <td>44.0</td>\n",
       "      <td>4</td>\n",
       "      <td>97.0</td>\n",
       "      <td>52.00</td>\n",
       "      <td>2130.0</td>\n",
       "      <td>24.6</td>\n",
       "      <td>82</td>\n",
       "      <td>2</td>\n",
       "      <td>vw pickup</td>\n",
       "    </tr>\n",
       "    <tr>\n",
       "      <th>395</th>\n",
       "      <td>32.0</td>\n",
       "      <td>4</td>\n",
       "      <td>135.0</td>\n",
       "      <td>84.00</td>\n",
       "      <td>2295.0</td>\n",
       "      <td>11.6</td>\n",
       "      <td>82</td>\n",
       "      <td>1</td>\n",
       "      <td>dodge rampage</td>\n",
       "    </tr>\n",
       "    <tr>\n",
       "      <th>396</th>\n",
       "      <td>28.0</td>\n",
       "      <td>4</td>\n",
       "      <td>120.0</td>\n",
       "      <td>79.00</td>\n",
       "      <td>2625.0</td>\n",
       "      <td>18.6</td>\n",
       "      <td>82</td>\n",
       "      <td>1</td>\n",
       "      <td>ford ranger</td>\n",
       "    </tr>\n",
       "    <tr>\n",
       "      <th>397</th>\n",
       "      <td>31.0</td>\n",
       "      <td>4</td>\n",
       "      <td>119.0</td>\n",
       "      <td>82.00</td>\n",
       "      <td>2720.0</td>\n",
       "      <td>19.4</td>\n",
       "      <td>82</td>\n",
       "      <td>1</td>\n",
       "      <td>chevy s-10</td>\n",
       "    </tr>\n",
       "  </tbody>\n",
       "</table>\n",
       "</div>"
      ],
      "text/plain": [
       "      mpg  cylinders  displacement horsepower  weight  acceleration  year  \\\n",
       "393  27.0          4         140.0      86.00  2790.0          15.6    82   \n",
       "394  44.0          4          97.0      52.00  2130.0          24.6    82   \n",
       "395  32.0          4         135.0      84.00  2295.0          11.6    82   \n",
       "396  28.0          4         120.0      79.00  2625.0          18.6    82   \n",
       "397  31.0          4         119.0      82.00  2720.0          19.4    82   \n",
       "\n",
       "     origin             name  \n",
       "393       1  ford mustang gl  \n",
       "394       2        vw pickup  \n",
       "395       1    dodge rampage  \n",
       "396       1      ford ranger  \n",
       "397       1       chevy s-10  "
      ]
     },
     "execution_count": 17,
     "metadata": {},
     "output_type": "execute_result"
    }
   ],
   "source": [
    "car.tail()"
   ]
  },
  {
   "cell_type": "code",
   "execution_count": 18,
   "id": "39d77064-452f-43f8-bfb3-844a3fd01a97",
   "metadata": {},
   "outputs": [
    {
     "name": "stdout",
     "output_type": "stream",
     "text": [
      "RangeIndex(start=0, stop=150, step=1)\n"
     ]
    }
   ],
   "source": [
    "print(df.index)"
   ]
  },
  {
   "cell_type": "code",
   "execution_count": 19,
   "id": "7956dc6f-326a-427b-88be-65db51a80b3c",
   "metadata": {},
   "outputs": [
    {
     "data": {
      "text/html": [
       "<div>\n",
       "<style scoped>\n",
       "    .dataframe tbody tr th:only-of-type {\n",
       "        vertical-align: middle;\n",
       "    }\n",
       "\n",
       "    .dataframe tbody tr th {\n",
       "        vertical-align: top;\n",
       "    }\n",
       "\n",
       "    .dataframe thead th {\n",
       "        text-align: right;\n",
       "    }\n",
       "</style>\n",
       "<table border=\"1\" class=\"dataframe\">\n",
       "  <thead>\n",
       "    <tr style=\"text-align: right;\">\n",
       "      <th></th>\n",
       "      <th>がく片長</th>\n",
       "      <th>がく片</th>\n",
       "      <th>花びら長</th>\n",
       "      <th>花びら幅</th>\n",
       "      <th>種類</th>\n",
       "    </tr>\n",
       "  </thead>\n",
       "  <tbody>\n",
       "    <tr>\n",
       "      <th>0</th>\n",
       "      <td>5.1</td>\n",
       "      <td>3.5</td>\n",
       "      <td>1.4</td>\n",
       "      <td>0.2</td>\n",
       "      <td>Iris-setosa</td>\n",
       "    </tr>\n",
       "    <tr>\n",
       "      <th>1</th>\n",
       "      <td>4.9</td>\n",
       "      <td>3.0</td>\n",
       "      <td>1.4</td>\n",
       "      <td>0.2</td>\n",
       "      <td>Iris-setosa</td>\n",
       "    </tr>\n",
       "    <tr>\n",
       "      <th>2</th>\n",
       "      <td>4.7</td>\n",
       "      <td>3.2</td>\n",
       "      <td>1.3</td>\n",
       "      <td>0.2</td>\n",
       "      <td>Iris-setosa</td>\n",
       "    </tr>\n",
       "    <tr>\n",
       "      <th>3</th>\n",
       "      <td>4.6</td>\n",
       "      <td>3.1</td>\n",
       "      <td>1.5</td>\n",
       "      <td>0.2</td>\n",
       "      <td>Iris-setosa</td>\n",
       "    </tr>\n",
       "    <tr>\n",
       "      <th>4</th>\n",
       "      <td>5.0</td>\n",
       "      <td>3.6</td>\n",
       "      <td>1.4</td>\n",
       "      <td>0.2</td>\n",
       "      <td>Iris-setosa</td>\n",
       "    </tr>\n",
       "  </tbody>\n",
       "</table>\n",
       "</div>"
      ],
      "text/plain": [
       "   がく片長  がく片  花びら長  花びら幅           種類\n",
       "0   5.1  3.5   1.4   0.2  Iris-setosa\n",
       "1   4.9  3.0   1.4   0.2  Iris-setosa\n",
       "2   4.7  3.2   1.3   0.2  Iris-setosa\n",
       "3   4.6  3.1   1.5   0.2  Iris-setosa\n",
       "4   5.0  3.6   1.4   0.2  Iris-setosa"
      ]
     },
     "execution_count": 19,
     "metadata": {},
     "output_type": "execute_result"
    }
   ],
   "source": [
    "df.head()"
   ]
  },
  {
   "cell_type": "code",
   "execution_count": 21,
   "id": "09a0662d-d0fd-46a1-b035-e6b4d93c391d",
   "metadata": {},
   "outputs": [
    {
     "data": {
      "text/html": [
       "<div>\n",
       "<style scoped>\n",
       "    .dataframe tbody tr th:only-of-type {\n",
       "        vertical-align: middle;\n",
       "    }\n",
       "\n",
       "    .dataframe tbody tr th {\n",
       "        vertical-align: top;\n",
       "    }\n",
       "\n",
       "    .dataframe thead th {\n",
       "        text-align: right;\n",
       "    }\n",
       "</style>\n",
       "<table border=\"1\" class=\"dataframe\">\n",
       "  <thead>\n",
       "    <tr style=\"text-align: right;\">\n",
       "      <th></th>\n",
       "      <th>がく片長</th>\n",
       "      <th>がく片</th>\n",
       "      <th>花びら長</th>\n",
       "      <th>花びら幅</th>\n",
       "      <th>種類</th>\n",
       "    </tr>\n",
       "  </thead>\n",
       "  <tbody>\n",
       "    <tr>\n",
       "      <th>145</th>\n",
       "      <td>6.7</td>\n",
       "      <td>3.0</td>\n",
       "      <td>5.2</td>\n",
       "      <td>2.3</td>\n",
       "      <td>Iris-virginica</td>\n",
       "    </tr>\n",
       "    <tr>\n",
       "      <th>146</th>\n",
       "      <td>6.3</td>\n",
       "      <td>2.5</td>\n",
       "      <td>5.0</td>\n",
       "      <td>1.9</td>\n",
       "      <td>Iris-virginica</td>\n",
       "    </tr>\n",
       "    <tr>\n",
       "      <th>147</th>\n",
       "      <td>6.5</td>\n",
       "      <td>3.0</td>\n",
       "      <td>5.2</td>\n",
       "      <td>2.0</td>\n",
       "      <td>Iris-virginica</td>\n",
       "    </tr>\n",
       "    <tr>\n",
       "      <th>148</th>\n",
       "      <td>6.2</td>\n",
       "      <td>3.4</td>\n",
       "      <td>5.4</td>\n",
       "      <td>2.3</td>\n",
       "      <td>Iris-virginica</td>\n",
       "    </tr>\n",
       "    <tr>\n",
       "      <th>149</th>\n",
       "      <td>5.9</td>\n",
       "      <td>3.0</td>\n",
       "      <td>5.1</td>\n",
       "      <td>1.8</td>\n",
       "      <td>Iris-virginica</td>\n",
       "    </tr>\n",
       "  </tbody>\n",
       "</table>\n",
       "</div>"
      ],
      "text/plain": [
       "     がく片長  がく片  花びら長  花びら幅              種類\n",
       "145   6.7  3.0   5.2   2.3  Iris-virginica\n",
       "146   6.3  2.5   5.0   1.9  Iris-virginica\n",
       "147   6.5  3.0   5.2   2.0  Iris-virginica\n",
       "148   6.2  3.4   5.4   2.3  Iris-virginica\n",
       "149   5.9  3.0   5.1   1.8  Iris-virginica"
      ]
     },
     "execution_count": 21,
     "metadata": {},
     "output_type": "execute_result"
    }
   ],
   "source": [
    "df.tail()"
   ]
  },
  {
   "cell_type": "code",
   "execution_count": 24,
   "id": "4ad64764-f617-4077-adf1-c4494f1e6ddc",
   "metadata": {},
   "outputs": [],
   "source": [
    "ufo = pd.read_csv(\"http://logopt.com/data/ufo.csv\", index_col=0)  # column"
   ]
  },
  {
   "cell_type": "code",
   "execution_count": 25,
   "id": "4a80a688-f664-42b2-9c8d-05b6c0aab458",
   "metadata": {},
   "outputs": [
    {
     "data": {
      "text/html": [
       "<div>\n",
       "<style scoped>\n",
       "    .dataframe tbody tr th:only-of-type {\n",
       "        vertical-align: middle;\n",
       "    }\n",
       "\n",
       "    .dataframe tbody tr th {\n",
       "        vertical-align: top;\n",
       "    }\n",
       "\n",
       "    .dataframe thead th {\n",
       "        text-align: right;\n",
       "    }\n",
       "</style>\n",
       "<table border=\"1\" class=\"dataframe\">\n",
       "  <thead>\n",
       "    <tr style=\"text-align: right;\">\n",
       "      <th></th>\n",
       "      <th>City</th>\n",
       "      <th>Colors Reported</th>\n",
       "      <th>Shape Reported</th>\n",
       "      <th>State</th>\n",
       "      <th>Time</th>\n",
       "    </tr>\n",
       "  </thead>\n",
       "  <tbody>\n",
       "    <tr>\n",
       "      <th>0</th>\n",
       "      <td>Ithaca</td>\n",
       "      <td>NaN</td>\n",
       "      <td>TRIANGLE</td>\n",
       "      <td>NY</td>\n",
       "      <td>6/1/1930 22:00</td>\n",
       "    </tr>\n",
       "    <tr>\n",
       "      <th>1</th>\n",
       "      <td>Willingboro</td>\n",
       "      <td>NaN</td>\n",
       "      <td>OTHER</td>\n",
       "      <td>NJ</td>\n",
       "      <td>6/30/1930 20:00</td>\n",
       "    </tr>\n",
       "    <tr>\n",
       "      <th>2</th>\n",
       "      <td>Holyoke</td>\n",
       "      <td>NaN</td>\n",
       "      <td>OVAL</td>\n",
       "      <td>CO</td>\n",
       "      <td>2/15/1931 14:00</td>\n",
       "    </tr>\n",
       "    <tr>\n",
       "      <th>3</th>\n",
       "      <td>Abilene</td>\n",
       "      <td>NaN</td>\n",
       "      <td>DISK</td>\n",
       "      <td>KS</td>\n",
       "      <td>6/1/1931 13:00</td>\n",
       "    </tr>\n",
       "    <tr>\n",
       "      <th>4</th>\n",
       "      <td>New York Worlds Fair</td>\n",
       "      <td>NaN</td>\n",
       "      <td>LIGHT</td>\n",
       "      <td>NY</td>\n",
       "      <td>4/18/1933 19:00</td>\n",
       "    </tr>\n",
       "  </tbody>\n",
       "</table>\n",
       "</div>"
      ],
      "text/plain": [
       "                   City Colors Reported Shape Reported State             Time\n",
       "0                Ithaca             NaN       TRIANGLE    NY   6/1/1930 22:00\n",
       "1           Willingboro             NaN          OTHER    NJ  6/30/1930 20:00\n",
       "2               Holyoke             NaN           OVAL    CO  2/15/1931 14:00\n",
       "3               Abilene             NaN           DISK    KS   6/1/1931 13:00\n",
       "4  New York Worlds Fair             NaN          LIGHT    NY  4/18/1933 19:00"
      ]
     },
     "execution_count": 25,
     "metadata": {},
     "output_type": "execute_result"
    }
   ],
   "source": [
    "ufo.head()"
   ]
  },
  {
   "cell_type": "code",
   "execution_count": 27,
   "id": "618de7e3-0e70-4921-9a30-3237e83e71e5",
   "metadata": {},
   "outputs": [
    {
     "data": {
      "text/plain": [
       "Index(['City', 'Colors Reported', 'Shape Reported', 'State', 'Time'], dtype='object')"
      ]
     },
     "execution_count": 27,
     "metadata": {},
     "output_type": "execute_result"
    }
   ],
   "source": [
    "ufo.columns"
   ]
  },
  {
   "cell_type": "code",
   "execution_count": 28,
   "id": "430223d1-55a5-481f-b39e-398575d3eceb",
   "metadata": {},
   "outputs": [
    {
     "name": "stdout",
     "output_type": "stream",
     "text": [
      "<class 'numpy.ndarray'>\n"
     ]
    }
   ],
   "source": [
    "print(type(df.values))"
   ]
  },
  {
   "cell_type": "code",
   "execution_count": 29,
   "id": "911b518e-7017-426b-be4d-05e3acfa5288",
   "metadata": {},
   "outputs": [
    {
     "data": {
      "text/plain": [
       "'Iris-setosa'"
      ]
     },
     "execution_count": 29,
     "metadata": {},
     "output_type": "execute_result"
    }
   ],
   "source": [
    "df.values[0,4]"
   ]
  },
  {
   "cell_type": "code",
   "execution_count": 30,
   "id": "a84000e6-d616-44ec-9960-690fd7f7441e",
   "metadata": {},
   "outputs": [
    {
     "data": {
      "text/html": [
       "<div>\n",
       "<style scoped>\n",
       "    .dataframe tbody tr th:only-of-type {\n",
       "        vertical-align: middle;\n",
       "    }\n",
       "\n",
       "    .dataframe tbody tr th {\n",
       "        vertical-align: top;\n",
       "    }\n",
       "\n",
       "    .dataframe thead th {\n",
       "        text-align: right;\n",
       "    }\n",
       "</style>\n",
       "<table border=\"1\" class=\"dataframe\">\n",
       "  <thead>\n",
       "    <tr style=\"text-align: right;\">\n",
       "      <th></th>\n",
       "      <th>がく片長</th>\n",
       "      <th>がく片</th>\n",
       "      <th>花びら長</th>\n",
       "      <th>花びら幅</th>\n",
       "    </tr>\n",
       "  </thead>\n",
       "  <tbody>\n",
       "    <tr>\n",
       "      <th>count</th>\n",
       "      <td>150.000000</td>\n",
       "      <td>150.000000</td>\n",
       "      <td>150.000000</td>\n",
       "      <td>150.000000</td>\n",
       "    </tr>\n",
       "    <tr>\n",
       "      <th>mean</th>\n",
       "      <td>5.843333</td>\n",
       "      <td>3.054000</td>\n",
       "      <td>3.758667</td>\n",
       "      <td>1.198667</td>\n",
       "    </tr>\n",
       "    <tr>\n",
       "      <th>std</th>\n",
       "      <td>0.828066</td>\n",
       "      <td>0.433594</td>\n",
       "      <td>1.764420</td>\n",
       "      <td>0.763161</td>\n",
       "    </tr>\n",
       "    <tr>\n",
       "      <th>min</th>\n",
       "      <td>4.300000</td>\n",
       "      <td>2.000000</td>\n",
       "      <td>1.000000</td>\n",
       "      <td>0.100000</td>\n",
       "    </tr>\n",
       "    <tr>\n",
       "      <th>25%</th>\n",
       "      <td>5.100000</td>\n",
       "      <td>2.800000</td>\n",
       "      <td>1.600000</td>\n",
       "      <td>0.300000</td>\n",
       "    </tr>\n",
       "    <tr>\n",
       "      <th>50%</th>\n",
       "      <td>5.800000</td>\n",
       "      <td>3.000000</td>\n",
       "      <td>4.350000</td>\n",
       "      <td>1.300000</td>\n",
       "    </tr>\n",
       "    <tr>\n",
       "      <th>75%</th>\n",
       "      <td>6.400000</td>\n",
       "      <td>3.300000</td>\n",
       "      <td>5.100000</td>\n",
       "      <td>1.800000</td>\n",
       "    </tr>\n",
       "    <tr>\n",
       "      <th>max</th>\n",
       "      <td>7.900000</td>\n",
       "      <td>4.400000</td>\n",
       "      <td>6.900000</td>\n",
       "      <td>2.500000</td>\n",
       "    </tr>\n",
       "  </tbody>\n",
       "</table>\n",
       "</div>"
      ],
      "text/plain": [
       "             がく片長         がく片        花びら長        花びら幅\n",
       "count  150.000000  150.000000  150.000000  150.000000\n",
       "mean     5.843333    3.054000    3.758667    1.198667\n",
       "std      0.828066    0.433594    1.764420    0.763161\n",
       "min      4.300000    2.000000    1.000000    0.100000\n",
       "25%      5.100000    2.800000    1.600000    0.300000\n",
       "50%      5.800000    3.000000    4.350000    1.300000\n",
       "75%      6.400000    3.300000    5.100000    1.800000\n",
       "max      7.900000    4.400000    6.900000    2.500000"
      ]
     },
     "execution_count": 30,
     "metadata": {},
     "output_type": "execute_result"
    }
   ],
   "source": [
    "df.describe()"
   ]
  },
  {
   "cell_type": "code",
   "execution_count": 32,
   "id": "25f24611-314b-4785-af0d-f323d282b04e",
   "metadata": {},
   "outputs": [
    {
     "data": {
      "text/html": [
       "<div>\n",
       "<style scoped>\n",
       "    .dataframe tbody tr th:only-of-type {\n",
       "        vertical-align: middle;\n",
       "    }\n",
       "\n",
       "    .dataframe tbody tr th {\n",
       "        vertical-align: top;\n",
       "    }\n",
       "\n",
       "    .dataframe thead th {\n",
       "        text-align: right;\n",
       "    }\n",
       "</style>\n",
       "<table border=\"1\" class=\"dataframe\">\n",
       "  <thead>\n",
       "    <tr style=\"text-align: right;\">\n",
       "      <th></th>\n",
       "      <th>がく片長</th>\n",
       "      <th>がく片</th>\n",
       "      <th>花びら長</th>\n",
       "      <th>花びら幅</th>\n",
       "      <th>種類</th>\n",
       "    </tr>\n",
       "  </thead>\n",
       "  <tbody>\n",
       "    <tr>\n",
       "      <th>145</th>\n",
       "      <td>6.7</td>\n",
       "      <td>3.0</td>\n",
       "      <td>5.2</td>\n",
       "      <td>2.3</td>\n",
       "      <td>Iris-virginica</td>\n",
       "    </tr>\n",
       "    <tr>\n",
       "      <th>146</th>\n",
       "      <td>6.3</td>\n",
       "      <td>2.5</td>\n",
       "      <td>5.0</td>\n",
       "      <td>1.9</td>\n",
       "      <td>Iris-virginica</td>\n",
       "    </tr>\n",
       "    <tr>\n",
       "      <th>147</th>\n",
       "      <td>6.5</td>\n",
       "      <td>3.0</td>\n",
       "      <td>5.2</td>\n",
       "      <td>2.0</td>\n",
       "      <td>Iris-virginica</td>\n",
       "    </tr>\n",
       "    <tr>\n",
       "      <th>148</th>\n",
       "      <td>6.2</td>\n",
       "      <td>3.4</td>\n",
       "      <td>5.4</td>\n",
       "      <td>2.3</td>\n",
       "      <td>Iris-virginica</td>\n",
       "    </tr>\n",
       "    <tr>\n",
       "      <th>149</th>\n",
       "      <td>5.9</td>\n",
       "      <td>3.0</td>\n",
       "      <td>5.1</td>\n",
       "      <td>1.8</td>\n",
       "      <td>Iris-virginica</td>\n",
       "    </tr>\n",
       "  </tbody>\n",
       "</table>\n",
       "</div>"
      ],
      "text/plain": [
       "     がく片長  がく片  花びら長  花びら幅              種類\n",
       "145   6.7  3.0   5.2   2.3  Iris-virginica\n",
       "146   6.3  2.5   5.0   1.9  Iris-virginica\n",
       "147   6.5  3.0   5.2   2.0  Iris-virginica\n",
       "148   6.2  3.4   5.4   2.3  Iris-virginica\n",
       "149   5.9  3.0   5.1   1.8  Iris-virginica"
      ]
     },
     "execution_count": 32,
     "metadata": {},
     "output_type": "execute_result"
    }
   ],
   "source": [
    "df.tail()"
   ]
  },
  {
   "cell_type": "code",
   "execution_count": 31,
   "id": "b0679f78-082d-42c6-857b-a4e6804fabcc",
   "metadata": {},
   "outputs": [
    {
     "data": {
      "text/html": [
       "<div>\n",
       "<style scoped>\n",
       "    .dataframe tbody tr th:only-of-type {\n",
       "        vertical-align: middle;\n",
       "    }\n",
       "\n",
       "    .dataframe tbody tr th {\n",
       "        vertical-align: top;\n",
       "    }\n",
       "\n",
       "    .dataframe thead th {\n",
       "        text-align: right;\n",
       "    }\n",
       "</style>\n",
       "<table border=\"1\" class=\"dataframe\">\n",
       "  <thead>\n",
       "    <tr style=\"text-align: right;\">\n",
       "      <th></th>\n",
       "      <th>mpg</th>\n",
       "      <th>cylinders</th>\n",
       "      <th>displacement</th>\n",
       "      <th>weight</th>\n",
       "      <th>acceleration</th>\n",
       "      <th>year</th>\n",
       "      <th>origin</th>\n",
       "    </tr>\n",
       "  </thead>\n",
       "  <tbody>\n",
       "    <tr>\n",
       "      <th>count</th>\n",
       "      <td>398.000000</td>\n",
       "      <td>398.000000</td>\n",
       "      <td>398.000000</td>\n",
       "      <td>398.000000</td>\n",
       "      <td>398.000000</td>\n",
       "      <td>398.000000</td>\n",
       "      <td>398.000000</td>\n",
       "    </tr>\n",
       "    <tr>\n",
       "      <th>mean</th>\n",
       "      <td>23.514573</td>\n",
       "      <td>5.454774</td>\n",
       "      <td>193.425879</td>\n",
       "      <td>2970.424623</td>\n",
       "      <td>15.568090</td>\n",
       "      <td>76.010050</td>\n",
       "      <td>1.572864</td>\n",
       "    </tr>\n",
       "    <tr>\n",
       "      <th>std</th>\n",
       "      <td>7.815984</td>\n",
       "      <td>1.701004</td>\n",
       "      <td>104.269838</td>\n",
       "      <td>846.841774</td>\n",
       "      <td>2.757689</td>\n",
       "      <td>3.697627</td>\n",
       "      <td>0.802055</td>\n",
       "    </tr>\n",
       "    <tr>\n",
       "      <th>min</th>\n",
       "      <td>9.000000</td>\n",
       "      <td>3.000000</td>\n",
       "      <td>68.000000</td>\n",
       "      <td>1613.000000</td>\n",
       "      <td>8.000000</td>\n",
       "      <td>70.000000</td>\n",
       "      <td>1.000000</td>\n",
       "    </tr>\n",
       "    <tr>\n",
       "      <th>25%</th>\n",
       "      <td>17.500000</td>\n",
       "      <td>4.000000</td>\n",
       "      <td>104.250000</td>\n",
       "      <td>2223.750000</td>\n",
       "      <td>13.825000</td>\n",
       "      <td>73.000000</td>\n",
       "      <td>1.000000</td>\n",
       "    </tr>\n",
       "    <tr>\n",
       "      <th>50%</th>\n",
       "      <td>23.000000</td>\n",
       "      <td>4.000000</td>\n",
       "      <td>148.500000</td>\n",
       "      <td>2803.500000</td>\n",
       "      <td>15.500000</td>\n",
       "      <td>76.000000</td>\n",
       "      <td>1.000000</td>\n",
       "    </tr>\n",
       "    <tr>\n",
       "      <th>75%</th>\n",
       "      <td>29.000000</td>\n",
       "      <td>8.000000</td>\n",
       "      <td>262.000000</td>\n",
       "      <td>3608.000000</td>\n",
       "      <td>17.175000</td>\n",
       "      <td>79.000000</td>\n",
       "      <td>2.000000</td>\n",
       "    </tr>\n",
       "    <tr>\n",
       "      <th>max</th>\n",
       "      <td>46.600000</td>\n",
       "      <td>8.000000</td>\n",
       "      <td>455.000000</td>\n",
       "      <td>5140.000000</td>\n",
       "      <td>24.800000</td>\n",
       "      <td>82.000000</td>\n",
       "      <td>3.000000</td>\n",
       "    </tr>\n",
       "  </tbody>\n",
       "</table>\n",
       "</div>"
      ],
      "text/plain": [
       "              mpg   cylinders  displacement       weight  acceleration  \\\n",
       "count  398.000000  398.000000    398.000000   398.000000    398.000000   \n",
       "mean    23.514573    5.454774    193.425879  2970.424623     15.568090   \n",
       "std      7.815984    1.701004    104.269838   846.841774      2.757689   \n",
       "min      9.000000    3.000000     68.000000  1613.000000      8.000000   \n",
       "25%     17.500000    4.000000    104.250000  2223.750000     13.825000   \n",
       "50%     23.000000    4.000000    148.500000  2803.500000     15.500000   \n",
       "75%     29.000000    8.000000    262.000000  3608.000000     17.175000   \n",
       "max     46.600000    8.000000    455.000000  5140.000000     24.800000   \n",
       "\n",
       "             year      origin  \n",
       "count  398.000000  398.000000  \n",
       "mean    76.010050    1.572864  \n",
       "std      3.697627    0.802055  \n",
       "min     70.000000    1.000000  \n",
       "25%     73.000000    1.000000  \n",
       "50%     76.000000    1.000000  \n",
       "75%     79.000000    2.000000  \n",
       "max     82.000000    3.000000  "
      ]
     },
     "execution_count": 31,
     "metadata": {},
     "output_type": "execute_result"
    }
   ],
   "source": [
    "car.describe()"
   ]
  },
  {
   "cell_type": "code",
   "execution_count": 33,
   "id": "f1ef5b3a-6531-4cfa-b9fa-8c52cc69d2bb",
   "metadata": {},
   "outputs": [],
   "source": [
    "import numpy as np"
   ]
  },
  {
   "cell_type": "code",
   "execution_count": 34,
   "id": "211d7bb4-1a8c-4162-b62a-c35fed1e726a",
   "metadata": {},
   "outputs": [],
   "source": [
    "z = np.zeros(5)"
   ]
  },
  {
   "cell_type": "code",
   "execution_count": 35,
   "id": "8496aa2c-65c7-4277-9d89-929e59065a9d",
   "metadata": {},
   "outputs": [
    {
     "data": {
      "text/plain": [
       "array([0., 0., 0., 0., 0.])"
      ]
     },
     "execution_count": 35,
     "metadata": {},
     "output_type": "execute_result"
    }
   ],
   "source": [
    "z"
   ]
  },
  {
   "cell_type": "code",
   "execution_count": 36,
   "id": "7eec4fbd-ac92-4c57-916f-e5a0dd58050d",
   "metadata": {},
   "outputs": [],
   "source": [
    "e = np.ones(10)"
   ]
  },
  {
   "cell_type": "code",
   "execution_count": 37,
   "id": "13024c0f-e964-4537-903e-2b62f27cff4e",
   "metadata": {},
   "outputs": [
    {
     "data": {
      "text/plain": [
       "array([1., 1., 1., 1., 1., 1., 1., 1., 1., 1.])"
      ]
     },
     "execution_count": 37,
     "metadata": {},
     "output_type": "execute_result"
    }
   ],
   "source": [
    "e"
   ]
  },
  {
   "cell_type": "code",
   "execution_count": 38,
   "id": "fb07e155-752e-4392-a277-ff352515adf6",
   "metadata": {},
   "outputs": [],
   "source": [
    "sq = np.arange(10)"
   ]
  },
  {
   "cell_type": "code",
   "execution_count": 39,
   "id": "05e5ab10-1e85-4ffd-beba-00f66e721b5a",
   "metadata": {},
   "outputs": [
    {
     "data": {
      "text/plain": [
       "array([0, 1, 2, 3, 4, 5, 6, 7, 8, 9])"
      ]
     },
     "execution_count": 39,
     "metadata": {},
     "output_type": "execute_result"
    }
   ],
   "source": [
    "sq"
   ]
  },
  {
   "cell_type": "code",
   "execution_count": 42,
   "id": "8cd1dcd9-bc48-4ad9-8093-d0b878e43bb8",
   "metadata": {},
   "outputs": [],
   "source": [
    "Z = np.ones((2,2))"
   ]
  },
  {
   "cell_type": "code",
   "execution_count": 43,
   "id": "471aff16-cb24-436b-b368-99a37ee7b537",
   "metadata": {},
   "outputs": [
    {
     "data": {
      "text/plain": [
       "array([[1., 1.],\n",
       "       [1., 1.]])"
      ]
     },
     "execution_count": 43,
     "metadata": {},
     "output_type": "execute_result"
    }
   ],
   "source": [
    "Z"
   ]
  },
  {
   "cell_type": "code",
   "execution_count": 44,
   "id": "22289239-31d8-4407-a29d-c65865925944",
   "metadata": {},
   "outputs": [],
   "source": [
    "I = np.zeros((3,3))"
   ]
  },
  {
   "cell_type": "code",
   "execution_count": 45,
   "id": "53cf1d6c-4f23-4dbf-8ae5-6895efe63659",
   "metadata": {},
   "outputs": [],
   "source": [
    "I[0,0] = 1.\n",
    "I[1,1] = 1.\n",
    "I[2,2] = 1."
   ]
  },
  {
   "cell_type": "code",
   "execution_count": 46,
   "id": "597f907b-7ea9-423b-9d34-a6f113ed7c2a",
   "metadata": {},
   "outputs": [
    {
     "data": {
      "text/plain": [
       "array([[1., 0., 0.],\n",
       "       [0., 1., 0.],\n",
       "       [0., 0., 1.]])"
      ]
     },
     "execution_count": 46,
     "metadata": {},
     "output_type": "execute_result"
    }
   ],
   "source": [
    "I"
   ]
  },
  {
   "cell_type": "code",
   "execution_count": 47,
   "id": "73eb6d12-dbb0-40f8-a88d-dec818ca5548",
   "metadata": {},
   "outputs": [],
   "source": [
    "I = np.eye(3)"
   ]
  },
  {
   "cell_type": "code",
   "execution_count": 48,
   "id": "6d46b7c1-8332-41d4-a6db-dfb1eb732e69",
   "metadata": {},
   "outputs": [
    {
     "data": {
      "text/plain": [
       "array([[1., 0., 0.],\n",
       "       [0., 1., 0.],\n",
       "       [0., 0., 1.]])"
      ]
     },
     "execution_count": 48,
     "metadata": {},
     "output_type": "execute_result"
    }
   ],
   "source": [
    "I"
   ]
  },
  {
   "cell_type": "code",
   "execution_count": 49,
   "id": "d6fbe720-e64c-484f-8f20-c2dfe2a69c86",
   "metadata": {},
   "outputs": [],
   "source": [
    "%matplotlib inline"
   ]
  },
  {
   "cell_type": "code",
   "execution_count": 50,
   "id": "4525ce74-3af7-41e0-8b35-bd065020f69d",
   "metadata": {},
   "outputs": [],
   "source": [
    "import pandas as pd"
   ]
  },
  {
   "cell_type": "code",
   "execution_count": null,
   "id": "73a2b28f-a3c9-49be-ac45-cf1929d957cd",
   "metadata": {},
   "outputs": [],
   "source": [
    "df = pd.read_csv('http://logopt.com/data/iris.data', names=['がく片長', 'がく片','花びら長', '花びら幅', '種類'])"
   ]
  },
  {
   "cell_type": "code",
   "execution_count": 52,
   "id": "c4cde563-675b-41a6-ad65-28de05829c79",
   "metadata": {},
   "outputs": [],
   "source": [
    "df = pd.read_csv(\"http://logopt.com/data/iris.data\", names=[\"sepal length\", \"sepal width\", \"petal length\", \"petal width\", \"class\"],)"
   ]
  },
  {
   "cell_type": "code",
   "execution_count": 53,
   "id": "c3ee7342-3789-4a78-b95f-fddf0b971dca",
   "metadata": {},
   "outputs": [
    {
     "data": {
      "text/html": [
       "<div>\n",
       "<style scoped>\n",
       "    .dataframe tbody tr th:only-of-type {\n",
       "        vertical-align: middle;\n",
       "    }\n",
       "\n",
       "    .dataframe tbody tr th {\n",
       "        vertical-align: top;\n",
       "    }\n",
       "\n",
       "    .dataframe thead th {\n",
       "        text-align: right;\n",
       "    }\n",
       "</style>\n",
       "<table border=\"1\" class=\"dataframe\">\n",
       "  <thead>\n",
       "    <tr style=\"text-align: right;\">\n",
       "      <th></th>\n",
       "      <th>sepal length</th>\n",
       "      <th>sepal width</th>\n",
       "      <th>petal length</th>\n",
       "      <th>petal width</th>\n",
       "      <th>class</th>\n",
       "    </tr>\n",
       "  </thead>\n",
       "  <tbody>\n",
       "    <tr>\n",
       "      <th>0</th>\n",
       "      <td>5.1</td>\n",
       "      <td>3.5</td>\n",
       "      <td>1.4</td>\n",
       "      <td>0.2</td>\n",
       "      <td>Iris-setosa</td>\n",
       "    </tr>\n",
       "    <tr>\n",
       "      <th>1</th>\n",
       "      <td>4.9</td>\n",
       "      <td>3.0</td>\n",
       "      <td>1.4</td>\n",
       "      <td>0.2</td>\n",
       "      <td>Iris-setosa</td>\n",
       "    </tr>\n",
       "    <tr>\n",
       "      <th>2</th>\n",
       "      <td>4.7</td>\n",
       "      <td>3.2</td>\n",
       "      <td>1.3</td>\n",
       "      <td>0.2</td>\n",
       "      <td>Iris-setosa</td>\n",
       "    </tr>\n",
       "    <tr>\n",
       "      <th>3</th>\n",
       "      <td>4.6</td>\n",
       "      <td>3.1</td>\n",
       "      <td>1.5</td>\n",
       "      <td>0.2</td>\n",
       "      <td>Iris-setosa</td>\n",
       "    </tr>\n",
       "    <tr>\n",
       "      <th>4</th>\n",
       "      <td>5.0</td>\n",
       "      <td>3.6</td>\n",
       "      <td>1.4</td>\n",
       "      <td>0.2</td>\n",
       "      <td>Iris-setosa</td>\n",
       "    </tr>\n",
       "  </tbody>\n",
       "</table>\n",
       "</div>"
      ],
      "text/plain": [
       "   sepal length  sepal width  petal length  petal width        class\n",
       "0           5.1          3.5           1.4          0.2  Iris-setosa\n",
       "1           4.9          3.0           1.4          0.2  Iris-setosa\n",
       "2           4.7          3.2           1.3          0.2  Iris-setosa\n",
       "3           4.6          3.1           1.5          0.2  Iris-setosa\n",
       "4           5.0          3.6           1.4          0.2  Iris-setosa"
      ]
     },
     "execution_count": 53,
     "metadata": {},
     "output_type": "execute_result"
    }
   ],
   "source": [
    "df.head()"
   ]
  },
  {
   "cell_type": "code",
   "execution_count": 56,
   "id": "b2786fc4-bfc7-4bee-9e3f-89880c235421",
   "metadata": {},
   "outputs": [
    {
     "data": {
      "text/html": [
       "<div>\n",
       "<style scoped>\n",
       "    .dataframe tbody tr th:only-of-type {\n",
       "        vertical-align: middle;\n",
       "    }\n",
       "\n",
       "    .dataframe tbody tr th {\n",
       "        vertical-align: top;\n",
       "    }\n",
       "\n",
       "    .dataframe thead th {\n",
       "        text-align: right;\n",
       "    }\n",
       "</style>\n",
       "<table border=\"1\" class=\"dataframe\">\n",
       "  <thead>\n",
       "    <tr style=\"text-align: right;\">\n",
       "      <th></th>\n",
       "      <th>sepal length</th>\n",
       "      <th>sepal width</th>\n",
       "      <th>petal length</th>\n",
       "      <th>petal width</th>\n",
       "      <th>class</th>\n",
       "    </tr>\n",
       "  </thead>\n",
       "  <tbody>\n",
       "    <tr>\n",
       "      <th>145</th>\n",
       "      <td>6.7</td>\n",
       "      <td>3.0</td>\n",
       "      <td>5.2</td>\n",
       "      <td>2.3</td>\n",
       "      <td>Iris-virginica</td>\n",
       "    </tr>\n",
       "    <tr>\n",
       "      <th>146</th>\n",
       "      <td>6.3</td>\n",
       "      <td>2.5</td>\n",
       "      <td>5.0</td>\n",
       "      <td>1.9</td>\n",
       "      <td>Iris-virginica</td>\n",
       "    </tr>\n",
       "    <tr>\n",
       "      <th>147</th>\n",
       "      <td>6.5</td>\n",
       "      <td>3.0</td>\n",
       "      <td>5.2</td>\n",
       "      <td>2.0</td>\n",
       "      <td>Iris-virginica</td>\n",
       "    </tr>\n",
       "    <tr>\n",
       "      <th>148</th>\n",
       "      <td>6.2</td>\n",
       "      <td>3.4</td>\n",
       "      <td>5.4</td>\n",
       "      <td>2.3</td>\n",
       "      <td>Iris-virginica</td>\n",
       "    </tr>\n",
       "    <tr>\n",
       "      <th>149</th>\n",
       "      <td>5.9</td>\n",
       "      <td>3.0</td>\n",
       "      <td>5.1</td>\n",
       "      <td>1.8</td>\n",
       "      <td>Iris-virginica</td>\n",
       "    </tr>\n",
       "  </tbody>\n",
       "</table>\n",
       "</div>"
      ],
      "text/plain": [
       "     sepal length  sepal width  petal length  petal width           class\n",
       "145           6.7          3.0           5.2          2.3  Iris-virginica\n",
       "146           6.3          2.5           5.0          1.9  Iris-virginica\n",
       "147           6.5          3.0           5.2          2.0  Iris-virginica\n",
       "148           6.2          3.4           5.4          2.3  Iris-virginica\n",
       "149           5.9          3.0           5.1          1.8  Iris-virginica"
      ]
     },
     "execution_count": 56,
     "metadata": {},
     "output_type": "execute_result"
    }
   ],
   "source": [
    "df.tail()"
   ]
  },
  {
   "cell_type": "code",
   "execution_count": 57,
   "id": "a83254bb-f417-40ff-9025-1e3fd83b666e",
   "metadata": {},
   "outputs": [
    {
     "data": {
      "text/html": [
       "<div>\n",
       "<style scoped>\n",
       "    .dataframe tbody tr th:only-of-type {\n",
       "        vertical-align: middle;\n",
       "    }\n",
       "\n",
       "    .dataframe tbody tr th {\n",
       "        vertical-align: top;\n",
       "    }\n",
       "\n",
       "    .dataframe thead th {\n",
       "        text-align: right;\n",
       "    }\n",
       "</style>\n",
       "<table border=\"1\" class=\"dataframe\">\n",
       "  <thead>\n",
       "    <tr style=\"text-align: right;\">\n",
       "      <th></th>\n",
       "      <th>sepal length</th>\n",
       "      <th>sepal width</th>\n",
       "      <th>petal length</th>\n",
       "      <th>petal width</th>\n",
       "    </tr>\n",
       "  </thead>\n",
       "  <tbody>\n",
       "    <tr>\n",
       "      <th>count</th>\n",
       "      <td>150.000000</td>\n",
       "      <td>150.000000</td>\n",
       "      <td>150.000000</td>\n",
       "      <td>150.000000</td>\n",
       "    </tr>\n",
       "    <tr>\n",
       "      <th>mean</th>\n",
       "      <td>5.843333</td>\n",
       "      <td>3.054000</td>\n",
       "      <td>3.758667</td>\n",
       "      <td>1.198667</td>\n",
       "    </tr>\n",
       "    <tr>\n",
       "      <th>std</th>\n",
       "      <td>0.828066</td>\n",
       "      <td>0.433594</td>\n",
       "      <td>1.764420</td>\n",
       "      <td>0.763161</td>\n",
       "    </tr>\n",
       "    <tr>\n",
       "      <th>min</th>\n",
       "      <td>4.300000</td>\n",
       "      <td>2.000000</td>\n",
       "      <td>1.000000</td>\n",
       "      <td>0.100000</td>\n",
       "    </tr>\n",
       "    <tr>\n",
       "      <th>25%</th>\n",
       "      <td>5.100000</td>\n",
       "      <td>2.800000</td>\n",
       "      <td>1.600000</td>\n",
       "      <td>0.300000</td>\n",
       "    </tr>\n",
       "    <tr>\n",
       "      <th>50%</th>\n",
       "      <td>5.800000</td>\n",
       "      <td>3.000000</td>\n",
       "      <td>4.350000</td>\n",
       "      <td>1.300000</td>\n",
       "    </tr>\n",
       "    <tr>\n",
       "      <th>75%</th>\n",
       "      <td>6.400000</td>\n",
       "      <td>3.300000</td>\n",
       "      <td>5.100000</td>\n",
       "      <td>1.800000</td>\n",
       "    </tr>\n",
       "    <tr>\n",
       "      <th>max</th>\n",
       "      <td>7.900000</td>\n",
       "      <td>4.400000</td>\n",
       "      <td>6.900000</td>\n",
       "      <td>2.500000</td>\n",
       "    </tr>\n",
       "  </tbody>\n",
       "</table>\n",
       "</div>"
      ],
      "text/plain": [
       "       sepal length  sepal width  petal length  petal width\n",
       "count    150.000000   150.000000    150.000000   150.000000\n",
       "mean       5.843333     3.054000      3.758667     1.198667\n",
       "std        0.828066     0.433594      1.764420     0.763161\n",
       "min        4.300000     2.000000      1.000000     0.100000\n",
       "25%        5.100000     2.800000      1.600000     0.300000\n",
       "50%        5.800000     3.000000      4.350000     1.300000\n",
       "75%        6.400000     3.300000      5.100000     1.800000\n",
       "max        7.900000     4.400000      6.900000     2.500000"
      ]
     },
     "execution_count": 57,
     "metadata": {},
     "output_type": "execute_result"
    }
   ],
   "source": [
    "df.describe()"
   ]
  },
  {
   "cell_type": "code",
   "execution_count": 62,
   "id": "183abd88-0079-4f7a-a944-b8602993dee5",
   "metadata": {},
   "outputs": [
    {
     "data": {
      "image/png": "[encoded data removed]",
      "text/plain": [
       "<Figure size 640x480 with 4 Axes>"
      ]
     },
     "metadata": {},
     "output_type": "display_data"
    }
   ],
   "source": [
    "df.hist(bins=30);"
   ]
  },
  {
   "cell_type": "code",
   "execution_count": 63,
   "id": "f25c0526-31d8-4f72-b2e4-31ebba22ec3b",
   "metadata": {},
   "outputs": [
    {
     "data": {
      "text/html": [
       "<div>\n",
       "<style scoped>\n",
       "    .dataframe tbody tr th:only-of-type {\n",
       "        vertical-align: middle;\n",
       "    }\n",
       "\n",
       "    .dataframe tbody tr th {\n",
       "        vertical-align: top;\n",
       "    }\n",
       "\n",
       "    .dataframe thead th {\n",
       "        text-align: right;\n",
       "    }\n",
       "</style>\n",
       "<table border=\"1\" class=\"dataframe\">\n",
       "  <thead>\n",
       "    <tr style=\"text-align: right;\">\n",
       "      <th></th>\n",
       "      <th>Unnamed: 0</th>\n",
       "      <th>MathSAT</th>\n",
       "      <th>VerbalSAT</th>\n",
       "      <th>GPA</th>\n",
       "    </tr>\n",
       "  </thead>\n",
       "  <tbody>\n",
       "    <tr>\n",
       "      <th>0</th>\n",
       "      <td>1</td>\n",
       "      <td>580</td>\n",
       "      <td>420</td>\n",
       "      <td>2.90</td>\n",
       "    </tr>\n",
       "    <tr>\n",
       "      <th>1</th>\n",
       "      <td>2</td>\n",
       "      <td>670</td>\n",
       "      <td>530</td>\n",
       "      <td>2.83</td>\n",
       "    </tr>\n",
       "    <tr>\n",
       "      <th>2</th>\n",
       "      <td>3</td>\n",
       "      <td>680</td>\n",
       "      <td>540</td>\n",
       "      <td>2.90</td>\n",
       "    </tr>\n",
       "    <tr>\n",
       "      <th>3</th>\n",
       "      <td>4</td>\n",
       "      <td>630</td>\n",
       "      <td>640</td>\n",
       "      <td>3.30</td>\n",
       "    </tr>\n",
       "    <tr>\n",
       "      <th>4</th>\n",
       "      <td>5</td>\n",
       "      <td>620</td>\n",
       "      <td>630</td>\n",
       "      <td>3.61</td>\n",
       "    </tr>\n",
       "  </tbody>\n",
       "</table>\n",
       "</div>"
      ],
      "text/plain": [
       "   Unnamed: 0  MathSAT  VerbalSAT   GPA\n",
       "0           1      580        420  2.90\n",
       "1           2      670        530  2.83\n",
       "2           3      680        540  2.90\n",
       "3           4      630        640  3.30\n",
       "4           5      620        630  3.61"
      ]
     },
     "execution_count": 63,
     "metadata": {},
     "output_type": "execute_result"
    }
   ],
   "source": [
    "sat = pd.read_csv('http://logopt.com/data/SATGPA.csv ')\n",
    "sat.head()"
   ]
  },
  {
   "cell_type": "code",
   "execution_count": 67,
   "id": "5968a35e-eae6-4d2f-8e6f-c08ff4f4f3b1",
   "metadata": {},
   "outputs": [
    {
     "data": {
      "image/png": "[encoded data removed]",
      "text/plain": [
       "<Figure size 640x480 with 4 Axes>"
      ]
     },
     "metadata": {},
     "output_type": "display_data"
    }
   ],
   "source": [
    "sat.hist(bins=30);"
   ]
  },
  {
   "cell_type": "code",
   "execution_count": 68,
   "id": "396e6f8c-2106-410e-8000-d08e4760c614",
   "metadata": {},
   "outputs": [],
   "source": [
    "pokemon = pd.read_csv('http://logopt.com/data/poke.csv', encoding=\"utf-8\", index_col=0)"
   ]
  },
  {
   "cell_type": "code",
   "execution_count": 70,
   "id": "36f4da2b-4e3f-492f-a51d-8a02b32dde68",
   "metadata": {},
   "outputs": [
    {
     "data": {
      "image/png": "[encoded data removed]",
      "text/plain": [
       "<Figure size 640x480 with 9 Axes>"
      ]
     },
     "metadata": {},
     "output_type": "display_data"
    }
   ],
   "source": [
    "pokemon.hist(bins=30);"
   ]
  },
  {
   "cell_type": "code",
   "execution_count": 71,
   "id": "aee59945-e0d4-4678-ae0c-920b98af43a3",
   "metadata": {},
   "outputs": [
    {
     "data": {
      "text/html": [
       "<div>\n",
       "<style scoped>\n",
       "    .dataframe tbody tr th:only-of-type {\n",
       "        vertical-align: middle;\n",
       "    }\n",
       "\n",
       "    .dataframe tbody tr th {\n",
       "        vertical-align: top;\n",
       "    }\n",
       "\n",
       "    .dataframe thead th {\n",
       "        text-align: right;\n",
       "    }\n",
       "</style>\n",
       "<table border=\"1\" class=\"dataframe\">\n",
       "  <thead>\n",
       "    <tr style=\"text-align: right;\">\n",
       "      <th></th>\n",
       "      <th>Name</th>\n",
       "      <th>Type 1</th>\n",
       "      <th>Type 2</th>\n",
       "      <th>Total</th>\n",
       "      <th>HP</th>\n",
       "      <th>Attack</th>\n",
       "      <th>Defense</th>\n",
       "      <th>Sp. Atk</th>\n",
       "      <th>Sp. Def</th>\n",
       "      <th>Speed</th>\n",
       "      <th>Generation</th>\n",
       "      <th>Legendary</th>\n",
       "      <th>Japanese</th>\n",
       "    </tr>\n",
       "    <tr>\n",
       "      <th>#</th>\n",
       "      <th></th>\n",
       "      <th></th>\n",
       "      <th></th>\n",
       "      <th></th>\n",
       "      <th></th>\n",
       "      <th></th>\n",
       "      <th></th>\n",
       "      <th></th>\n",
       "      <th></th>\n",
       "      <th></th>\n",
       "      <th></th>\n",
       "      <th></th>\n",
       "      <th></th>\n",
       "    </tr>\n",
       "  </thead>\n",
       "  <tbody>\n",
       "    <tr>\n",
       "      <th>1</th>\n",
       "      <td>Bulbasaur</td>\n",
       "      <td>Grass</td>\n",
       "      <td>Poison</td>\n",
       "      <td>318</td>\n",
       "      <td>45</td>\n",
       "      <td>49</td>\n",
       "      <td>49</td>\n",
       "      <td>65</td>\n",
       "      <td>65</td>\n",
       "      <td>45</td>\n",
       "      <td>1</td>\n",
       "      <td>False</td>\n",
       "      <td>フシギダネ</td>\n",
       "    </tr>\n",
       "    <tr>\n",
       "      <th>2</th>\n",
       "      <td>Ivysaur</td>\n",
       "      <td>Grass</td>\n",
       "      <td>Poison</td>\n",
       "      <td>405</td>\n",
       "      <td>60</td>\n",
       "      <td>62</td>\n",
       "      <td>63</td>\n",
       "      <td>80</td>\n",
       "      <td>80</td>\n",
       "      <td>60</td>\n",
       "      <td>1</td>\n",
       "      <td>False</td>\n",
       "      <td>フシギソウ</td>\n",
       "    </tr>\n",
       "    <tr>\n",
       "      <th>3</th>\n",
       "      <td>Venusaur</td>\n",
       "      <td>Grass</td>\n",
       "      <td>Poison</td>\n",
       "      <td>525</td>\n",
       "      <td>80</td>\n",
       "      <td>82</td>\n",
       "      <td>83</td>\n",
       "      <td>100</td>\n",
       "      <td>100</td>\n",
       "      <td>80</td>\n",
       "      <td>1</td>\n",
       "      <td>False</td>\n",
       "      <td>フシギバナ</td>\n",
       "    </tr>\n",
       "    <tr>\n",
       "      <th>3</th>\n",
       "      <td>VenusaurMega Venusaur</td>\n",
       "      <td>Grass</td>\n",
       "      <td>Poison</td>\n",
       "      <td>625</td>\n",
       "      <td>80</td>\n",
       "      <td>100</td>\n",
       "      <td>123</td>\n",
       "      <td>122</td>\n",
       "      <td>120</td>\n",
       "      <td>80</td>\n",
       "      <td>1</td>\n",
       "      <td>False</td>\n",
       "      <td>フシギバナ・メガ進化</td>\n",
       "    </tr>\n",
       "    <tr>\n",
       "      <th>4</th>\n",
       "      <td>Charmander</td>\n",
       "      <td>Fire</td>\n",
       "      <td>NaN</td>\n",
       "      <td>309</td>\n",
       "      <td>39</td>\n",
       "      <td>52</td>\n",
       "      <td>43</td>\n",
       "      <td>60</td>\n",
       "      <td>50</td>\n",
       "      <td>65</td>\n",
       "      <td>1</td>\n",
       "      <td>False</td>\n",
       "      <td>ヒトカゲ</td>\n",
       "    </tr>\n",
       "  </tbody>\n",
       "</table>\n",
       "</div>"
      ],
      "text/plain": [
       "                    Name Type 1  Type 2  Total  HP  Attack  Defense  Sp. Atk  \\\n",
       "#                                                                              \n",
       "1              Bulbasaur  Grass  Poison    318  45      49       49       65   \n",
       "2                Ivysaur  Grass  Poison    405  60      62       63       80   \n",
       "3               Venusaur  Grass  Poison    525  80      82       83      100   \n",
       "3  VenusaurMega Venusaur  Grass  Poison    625  80     100      123      122   \n",
       "4             Charmander   Fire     NaN    309  39      52       43       60   \n",
       "\n",
       "   Sp. Def  Speed  Generation  Legendary    Japanese  \n",
       "#                                                     \n",
       "1       65     45           1      False       フシギダネ  \n",
       "2       80     60           1      False       フシギソウ  \n",
       "3      100     80           1      False       フシギバナ  \n",
       "3      120     80           1      False  フシギバナ・メガ進化  \n",
       "4       50     65           1      False        ヒトカゲ  "
      ]
     },
     "execution_count": 71,
     "metadata": {},
     "output_type": "execute_result"
    }
   ],
   "source": [
    "pokemon.head()"
   ]
  },
  {
   "cell_type": "code",
   "execution_count": 72,
   "id": "5ddd4c1c-446f-4275-8671-3ad9479ce737",
   "metadata": {},
   "outputs": [
    {
     "data": {
      "text/html": [
       "<div>\n",
       "<style scoped>\n",
       "    .dataframe tbody tr th:only-of-type {\n",
       "        vertical-align: middle;\n",
       "    }\n",
       "\n",
       "    .dataframe tbody tr th {\n",
       "        vertical-align: top;\n",
       "    }\n",
       "\n",
       "    .dataframe thead th {\n",
       "        text-align: right;\n",
       "    }\n",
       "</style>\n",
       "<table border=\"1\" class=\"dataframe\">\n",
       "  <thead>\n",
       "    <tr style=\"text-align: right;\">\n",
       "      <th></th>\n",
       "      <th>Name</th>\n",
       "      <th>Type 1</th>\n",
       "      <th>Type 2</th>\n",
       "      <th>Total</th>\n",
       "      <th>HP</th>\n",
       "      <th>Attack</th>\n",
       "      <th>Defense</th>\n",
       "      <th>Sp. Atk</th>\n",
       "      <th>Sp. Def</th>\n",
       "      <th>Speed</th>\n",
       "      <th>Generation</th>\n",
       "      <th>Legendary</th>\n",
       "      <th>Japanese</th>\n",
       "    </tr>\n",
       "    <tr>\n",
       "      <th>#</th>\n",
       "      <th></th>\n",
       "      <th></th>\n",
       "      <th></th>\n",
       "      <th></th>\n",
       "      <th></th>\n",
       "      <th></th>\n",
       "      <th></th>\n",
       "      <th></th>\n",
       "      <th></th>\n",
       "      <th></th>\n",
       "      <th></th>\n",
       "      <th></th>\n",
       "      <th></th>\n",
       "    </tr>\n",
       "  </thead>\n",
       "  <tbody>\n",
       "    <tr>\n",
       "      <th>719</th>\n",
       "      <td>Diancie</td>\n",
       "      <td>Rock</td>\n",
       "      <td>Fairy</td>\n",
       "      <td>600</td>\n",
       "      <td>50</td>\n",
       "      <td>100</td>\n",
       "      <td>150</td>\n",
       "      <td>100</td>\n",
       "      <td>150</td>\n",
       "      <td>50</td>\n",
       "      <td>6</td>\n",
       "      <td>True</td>\n",
       "      <td>ディアンシー</td>\n",
       "    </tr>\n",
       "    <tr>\n",
       "      <th>719</th>\n",
       "      <td>DiancieMega Diancie</td>\n",
       "      <td>Rock</td>\n",
       "      <td>Fairy</td>\n",
       "      <td>700</td>\n",
       "      <td>50</td>\n",
       "      <td>160</td>\n",
       "      <td>110</td>\n",
       "      <td>160</td>\n",
       "      <td>110</td>\n",
       "      <td>110</td>\n",
       "      <td>6</td>\n",
       "      <td>True</td>\n",
       "      <td>ディアンシー・メガ進化</td>\n",
       "    </tr>\n",
       "    <tr>\n",
       "      <th>720</th>\n",
       "      <td>HoopaHoopa Confined</td>\n",
       "      <td>Psychic</td>\n",
       "      <td>Ghost</td>\n",
       "      <td>600</td>\n",
       "      <td>80</td>\n",
       "      <td>110</td>\n",
       "      <td>60</td>\n",
       "      <td>150</td>\n",
       "      <td>130</td>\n",
       "      <td>70</td>\n",
       "      <td>6</td>\n",
       "      <td>True</td>\n",
       "      <td>フーパ(HoopaHoopa Confined)</td>\n",
       "    </tr>\n",
       "    <tr>\n",
       "      <th>720</th>\n",
       "      <td>HoopaHoopa Unbound</td>\n",
       "      <td>Psychic</td>\n",
       "      <td>Dark</td>\n",
       "      <td>680</td>\n",
       "      <td>80</td>\n",
       "      <td>160</td>\n",
       "      <td>60</td>\n",
       "      <td>170</td>\n",
       "      <td>130</td>\n",
       "      <td>80</td>\n",
       "      <td>6</td>\n",
       "      <td>True</td>\n",
       "      <td>フーパ(HoopaHoopa Unbound)</td>\n",
       "    </tr>\n",
       "    <tr>\n",
       "      <th>721</th>\n",
       "      <td>Volcanion</td>\n",
       "      <td>Fire</td>\n",
       "      <td>Water</td>\n",
       "      <td>600</td>\n",
       "      <td>80</td>\n",
       "      <td>110</td>\n",
       "      <td>120</td>\n",
       "      <td>130</td>\n",
       "      <td>90</td>\n",
       "      <td>70</td>\n",
       "      <td>6</td>\n",
       "      <td>True</td>\n",
       "      <td>ボルケニオン</td>\n",
       "    </tr>\n",
       "  </tbody>\n",
       "</table>\n",
       "</div>"
      ],
      "text/plain": [
       "                    Name   Type 1 Type 2  Total  HP  Attack  Defense  Sp. Atk  \\\n",
       "#                                                                               \n",
       "719              Diancie     Rock  Fairy    600  50     100      150      100   \n",
       "719  DiancieMega Diancie     Rock  Fairy    700  50     160      110      160   \n",
       "720  HoopaHoopa Confined  Psychic  Ghost    600  80     110       60      150   \n",
       "720   HoopaHoopa Unbound  Psychic   Dark    680  80     160       60      170   \n",
       "721            Volcanion     Fire  Water    600  80     110      120      130   \n",
       "\n",
       "     Sp. Def  Speed  Generation  Legendary                  Japanese  \n",
       "#                                                                     \n",
       "719      150     50           6       True                    ディアンシー  \n",
       "719      110    110           6       True               ディアンシー・メガ進化  \n",
       "720      130     70           6       True  フーパ(HoopaHoopa Confined)  \n",
       "720      130     80           6       True   フーパ(HoopaHoopa Unbound)  \n",
       "721       90     70           6       True                    ボルケニオン  "
      ]
     },
     "execution_count": 72,
     "metadata": {},
     "output_type": "execute_result"
    }
   ],
   "source": [
    "pokemon.tail()"
   ]
  },
  {
   "cell_type": "code",
   "execution_count": 74,
   "id": "ac73db51-de1b-4070-a401-ad5ee0b8f844",
   "metadata": {},
   "outputs": [
    {
     "data": {
      "text/html": [
       "<div>\n",
       "<style scoped>\n",
       "    .dataframe tbody tr th:only-of-type {\n",
       "        vertical-align: middle;\n",
       "    }\n",
       "\n",
       "    .dataframe tbody tr th {\n",
       "        vertical-align: top;\n",
       "    }\n",
       "\n",
       "    .dataframe thead th {\n",
       "        text-align: right;\n",
       "    }\n",
       "</style>\n",
       "<table border=\"1\" class=\"dataframe\">\n",
       "  <thead>\n",
       "    <tr style=\"text-align: right;\">\n",
       "      <th></th>\n",
       "      <th>Total</th>\n",
       "      <th>HP</th>\n",
       "      <th>Attack</th>\n",
       "      <th>Defense</th>\n",
       "      <th>Sp. Atk</th>\n",
       "      <th>Sp. Def</th>\n",
       "      <th>Speed</th>\n",
       "      <th>Generation</th>\n",
       "    </tr>\n",
       "  </thead>\n",
       "  <tbody>\n",
       "    <tr>\n",
       "      <th>count</th>\n",
       "      <td>800.00000</td>\n",
       "      <td>800.000000</td>\n",
       "      <td>800.000000</td>\n",
       "      <td>800.000000</td>\n",
       "      <td>800.000000</td>\n",
       "      <td>800.000000</td>\n",
       "      <td>800.000000</td>\n",
       "      <td>800.00000</td>\n",
       "    </tr>\n",
       "    <tr>\n",
       "      <th>mean</th>\n",
       "      <td>435.10250</td>\n",
       "      <td>69.258750</td>\n",
       "      <td>79.001250</td>\n",
       "      <td>73.842500</td>\n",
       "      <td>72.820000</td>\n",
       "      <td>71.902500</td>\n",
       "      <td>68.277500</td>\n",
       "      <td>3.32375</td>\n",
       "    </tr>\n",
       "    <tr>\n",
       "      <th>std</th>\n",
       "      <td>119.96304</td>\n",
       "      <td>25.534669</td>\n",
       "      <td>32.457366</td>\n",
       "      <td>31.183501</td>\n",
       "      <td>32.722294</td>\n",
       "      <td>27.828916</td>\n",
       "      <td>29.060474</td>\n",
       "      <td>1.66129</td>\n",
       "    </tr>\n",
       "    <tr>\n",
       "      <th>min</th>\n",
       "      <td>180.00000</td>\n",
       "      <td>1.000000</td>\n",
       "      <td>5.000000</td>\n",
       "      <td>5.000000</td>\n",
       "      <td>10.000000</td>\n",
       "      <td>20.000000</td>\n",
       "      <td>5.000000</td>\n",
       "      <td>1.00000</td>\n",
       "    </tr>\n",
       "    <tr>\n",
       "      <th>25%</th>\n",
       "      <td>330.00000</td>\n",
       "      <td>50.000000</td>\n",
       "      <td>55.000000</td>\n",
       "      <td>50.000000</td>\n",
       "      <td>49.750000</td>\n",
       "      <td>50.000000</td>\n",
       "      <td>45.000000</td>\n",
       "      <td>2.00000</td>\n",
       "    </tr>\n",
       "    <tr>\n",
       "      <th>50%</th>\n",
       "      <td>450.00000</td>\n",
       "      <td>65.000000</td>\n",
       "      <td>75.000000</td>\n",
       "      <td>70.000000</td>\n",
       "      <td>65.000000</td>\n",
       "      <td>70.000000</td>\n",
       "      <td>65.000000</td>\n",
       "      <td>3.00000</td>\n",
       "    </tr>\n",
       "    <tr>\n",
       "      <th>75%</th>\n",
       "      <td>515.00000</td>\n",
       "      <td>80.000000</td>\n",
       "      <td>100.000000</td>\n",
       "      <td>90.000000</td>\n",
       "      <td>95.000000</td>\n",
       "      <td>90.000000</td>\n",
       "      <td>90.000000</td>\n",
       "      <td>5.00000</td>\n",
       "    </tr>\n",
       "    <tr>\n",
       "      <th>max</th>\n",
       "      <td>780.00000</td>\n",
       "      <td>255.000000</td>\n",
       "      <td>190.000000</td>\n",
       "      <td>230.000000</td>\n",
       "      <td>194.000000</td>\n",
       "      <td>230.000000</td>\n",
       "      <td>180.000000</td>\n",
       "      <td>6.00000</td>\n",
       "    </tr>\n",
       "  </tbody>\n",
       "</table>\n",
       "</div>"
      ],
      "text/plain": [
       "           Total          HP      Attack     Defense     Sp. Atk     Sp. Def  \\\n",
       "count  800.00000  800.000000  800.000000  800.000000  800.000000  800.000000   \n",
       "mean   435.10250   69.258750   79.001250   73.842500   72.820000   71.902500   \n",
       "std    119.96304   25.534669   32.457366   31.183501   32.722294   27.828916   \n",
       "min    180.00000    1.000000    5.000000    5.000000   10.000000   20.000000   \n",
       "25%    330.00000   50.000000   55.000000   50.000000   49.750000   50.000000   \n",
       "50%    450.00000   65.000000   75.000000   70.000000   65.000000   70.000000   \n",
       "75%    515.00000   80.000000  100.000000   90.000000   95.000000   90.000000   \n",
       "max    780.00000  255.000000  190.000000  230.000000  194.000000  230.000000   \n",
       "\n",
       "            Speed  Generation  \n",
       "count  800.000000   800.00000  \n",
       "mean    68.277500     3.32375  \n",
       "std     29.060474     1.66129  \n",
       "min      5.000000     1.00000  \n",
       "25%     45.000000     2.00000  \n",
       "50%     65.000000     3.00000  \n",
       "75%     90.000000     5.00000  \n",
       "max    180.000000     6.00000  "
      ]
     },
     "execution_count": 74,
     "metadata": {},
     "output_type": "execute_result"
    }
   ],
   "source": [
    "pokemon.describe()"
   ]
  },
  {
   "cell_type": "code",
   "execution_count": 75,
   "id": "42d89c1c-5712-4ccb-94bd-b7ae6aab9584",
   "metadata": {},
   "outputs": [
    {
     "data": {
      "text/html": [
       "<div>\n",
       "<style scoped>\n",
       "    .dataframe tbody tr th:only-of-type {\n",
       "        vertical-align: middle;\n",
       "    }\n",
       "\n",
       "    .dataframe tbody tr th {\n",
       "        vertical-align: top;\n",
       "    }\n",
       "\n",
       "    .dataframe thead th {\n",
       "        text-align: right;\n",
       "    }\n",
       "</style>\n",
       "<table border=\"1\" class=\"dataframe\">\n",
       "  <thead>\n",
       "    <tr style=\"text-align: right;\">\n",
       "      <th></th>\n",
       "      <th>Name</th>\n",
       "      <th>Type 1</th>\n",
       "      <th>Type 2</th>\n",
       "      <th>Total</th>\n",
       "      <th>HP</th>\n",
       "      <th>Attack</th>\n",
       "      <th>Defense</th>\n",
       "      <th>Sp. Atk</th>\n",
       "      <th>Sp. Def</th>\n",
       "      <th>Speed</th>\n",
       "      <th>Generation</th>\n",
       "      <th>Legendary</th>\n",
       "      <th>Japanese</th>\n",
       "    </tr>\n",
       "    <tr>\n",
       "      <th>#</th>\n",
       "      <th></th>\n",
       "      <th></th>\n",
       "      <th></th>\n",
       "      <th></th>\n",
       "      <th></th>\n",
       "      <th></th>\n",
       "      <th></th>\n",
       "      <th></th>\n",
       "      <th></th>\n",
       "      <th></th>\n",
       "      <th></th>\n",
       "      <th></th>\n",
       "      <th></th>\n",
       "    </tr>\n",
       "  </thead>\n",
       "  <tbody>\n",
       "    <tr>\n",
       "      <th>1</th>\n",
       "      <td>Bulbasaur</td>\n",
       "      <td>Grass</td>\n",
       "      <td>Poison</td>\n",
       "      <td>318</td>\n",
       "      <td>45</td>\n",
       "      <td>49</td>\n",
       "      <td>49</td>\n",
       "      <td>65</td>\n",
       "      <td>65</td>\n",
       "      <td>45</td>\n",
       "      <td>1</td>\n",
       "      <td>False</td>\n",
       "      <td>フシギダネ</td>\n",
       "    </tr>\n",
       "    <tr>\n",
       "      <th>2</th>\n",
       "      <td>Ivysaur</td>\n",
       "      <td>Grass</td>\n",
       "      <td>Poison</td>\n",
       "      <td>405</td>\n",
       "      <td>60</td>\n",
       "      <td>62</td>\n",
       "      <td>63</td>\n",
       "      <td>80</td>\n",
       "      <td>80</td>\n",
       "      <td>60</td>\n",
       "      <td>1</td>\n",
       "      <td>False</td>\n",
       "      <td>フシギソウ</td>\n",
       "    </tr>\n",
       "    <tr>\n",
       "      <th>3</th>\n",
       "      <td>Venusaur</td>\n",
       "      <td>Grass</td>\n",
       "      <td>Poison</td>\n",
       "      <td>525</td>\n",
       "      <td>80</td>\n",
       "      <td>82</td>\n",
       "      <td>83</td>\n",
       "      <td>100</td>\n",
       "      <td>100</td>\n",
       "      <td>80</td>\n",
       "      <td>1</td>\n",
       "      <td>False</td>\n",
       "      <td>フシギバナ</td>\n",
       "    </tr>\n",
       "    <tr>\n",
       "      <th>3</th>\n",
       "      <td>VenusaurMega Venusaur</td>\n",
       "      <td>Grass</td>\n",
       "      <td>Poison</td>\n",
       "      <td>625</td>\n",
       "      <td>80</td>\n",
       "      <td>100</td>\n",
       "      <td>123</td>\n",
       "      <td>122</td>\n",
       "      <td>120</td>\n",
       "      <td>80</td>\n",
       "      <td>1</td>\n",
       "      <td>False</td>\n",
       "      <td>フシギバナ・メガ進化</td>\n",
       "    </tr>\n",
       "    <tr>\n",
       "      <th>4</th>\n",
       "      <td>Charmander</td>\n",
       "      <td>Fire</td>\n",
       "      <td>NaN</td>\n",
       "      <td>309</td>\n",
       "      <td>39</td>\n",
       "      <td>52</td>\n",
       "      <td>43</td>\n",
       "      <td>60</td>\n",
       "      <td>50</td>\n",
       "      <td>65</td>\n",
       "      <td>1</td>\n",
       "      <td>False</td>\n",
       "      <td>ヒトカゲ</td>\n",
       "    </tr>\n",
       "  </tbody>\n",
       "</table>\n",
       "</div>"
      ],
      "text/plain": [
       "                    Name Type 1  Type 2  Total  HP  Attack  Defense  Sp. Atk  \\\n",
       "#                                                                              \n",
       "1              Bulbasaur  Grass  Poison    318  45      49       49       65   \n",
       "2                Ivysaur  Grass  Poison    405  60      62       63       80   \n",
       "3               Venusaur  Grass  Poison    525  80      82       83      100   \n",
       "3  VenusaurMega Venusaur  Grass  Poison    625  80     100      123      122   \n",
       "4             Charmander   Fire     NaN    309  39      52       43       60   \n",
       "\n",
       "   Sp. Def  Speed  Generation  Legendary    Japanese  \n",
       "#                                                     \n",
       "1       65     45           1      False       フシギダネ  \n",
       "2       80     60           1      False       フシギソウ  \n",
       "3      100     80           1      False       フシギバナ  \n",
       "3      120     80           1      False  フシギバナ・メガ進化  \n",
       "4       50     65           1      False        ヒトカゲ  "
      ]
     },
     "execution_count": 75,
     "metadata": {},
     "output_type": "execute_result"
    }
   ],
   "source": [
    "pokemon.head()"
   ]
  },
  {
   "cell_type": "code",
   "execution_count": 76,
   "id": "a7eccd15-2bd7-4420-81c5-10b7202b220a",
   "metadata": {},
   "outputs": [
    {
     "data": {
      "text/html": [
       "<div>\n",
       "<style scoped>\n",
       "    .dataframe tbody tr th:only-of-type {\n",
       "        vertical-align: middle;\n",
       "    }\n",
       "\n",
       "    .dataframe tbody tr th {\n",
       "        vertical-align: top;\n",
       "    }\n",
       "\n",
       "    .dataframe thead th {\n",
       "        text-align: right;\n",
       "    }\n",
       "</style>\n",
       "<table border=\"1\" class=\"dataframe\">\n",
       "  <thead>\n",
       "    <tr style=\"text-align: right;\">\n",
       "      <th></th>\n",
       "      <th>Name</th>\n",
       "      <th>Type 1</th>\n",
       "      <th>Type 2</th>\n",
       "      <th>Total</th>\n",
       "      <th>HP</th>\n",
       "      <th>Attack</th>\n",
       "      <th>Defense</th>\n",
       "      <th>Sp. Atk</th>\n",
       "      <th>Sp. Def</th>\n",
       "      <th>Speed</th>\n",
       "      <th>Generation</th>\n",
       "      <th>Legendary</th>\n",
       "      <th>Japanese</th>\n",
       "    </tr>\n",
       "    <tr>\n",
       "      <th>#</th>\n",
       "      <th></th>\n",
       "      <th></th>\n",
       "      <th></th>\n",
       "      <th></th>\n",
       "      <th></th>\n",
       "      <th></th>\n",
       "      <th></th>\n",
       "      <th></th>\n",
       "      <th></th>\n",
       "      <th></th>\n",
       "      <th></th>\n",
       "      <th></th>\n",
       "      <th></th>\n",
       "    </tr>\n",
       "  </thead>\n",
       "  <tbody>\n",
       "    <tr>\n",
       "      <th>1</th>\n",
       "      <td>Bulbasaur</td>\n",
       "      <td>Grass</td>\n",
       "      <td>Poison</td>\n",
       "      <td>318</td>\n",
       "      <td>45</td>\n",
       "      <td>49</td>\n",
       "      <td>49</td>\n",
       "      <td>65</td>\n",
       "      <td>65</td>\n",
       "      <td>45</td>\n",
       "      <td>1</td>\n",
       "      <td>False</td>\n",
       "      <td>フシギダネ</td>\n",
       "    </tr>\n",
       "    <tr>\n",
       "      <th>2</th>\n",
       "      <td>Ivysaur</td>\n",
       "      <td>Grass</td>\n",
       "      <td>Poison</td>\n",
       "      <td>405</td>\n",
       "      <td>60</td>\n",
       "      <td>62</td>\n",
       "      <td>63</td>\n",
       "      <td>80</td>\n",
       "      <td>80</td>\n",
       "      <td>60</td>\n",
       "      <td>1</td>\n",
       "      <td>False</td>\n",
       "      <td>フシギソウ</td>\n",
       "    </tr>\n",
       "    <tr>\n",
       "      <th>3</th>\n",
       "      <td>Venusaur</td>\n",
       "      <td>Grass</td>\n",
       "      <td>Poison</td>\n",
       "      <td>525</td>\n",
       "      <td>80</td>\n",
       "      <td>82</td>\n",
       "      <td>83</td>\n",
       "      <td>100</td>\n",
       "      <td>100</td>\n",
       "      <td>80</td>\n",
       "      <td>1</td>\n",
       "      <td>False</td>\n",
       "      <td>フシギバナ</td>\n",
       "    </tr>\n",
       "    <tr>\n",
       "      <th>3</th>\n",
       "      <td>VenusaurMega Venusaur</td>\n",
       "      <td>Grass</td>\n",
       "      <td>Poison</td>\n",
       "      <td>625</td>\n",
       "      <td>80</td>\n",
       "      <td>100</td>\n",
       "      <td>123</td>\n",
       "      <td>122</td>\n",
       "      <td>120</td>\n",
       "      <td>80</td>\n",
       "      <td>1</td>\n",
       "      <td>False</td>\n",
       "      <td>フシギバナ・メガ進化</td>\n",
       "    </tr>\n",
       "    <tr>\n",
       "      <th>4</th>\n",
       "      <td>Charmander</td>\n",
       "      <td>Fire</td>\n",
       "      <td>NaN</td>\n",
       "      <td>309</td>\n",
       "      <td>39</td>\n",
       "      <td>52</td>\n",
       "      <td>43</td>\n",
       "      <td>60</td>\n",
       "      <td>50</td>\n",
       "      <td>65</td>\n",
       "      <td>1</td>\n",
       "      <td>False</td>\n",
       "      <td>ヒトカゲ</td>\n",
       "    </tr>\n",
       "    <tr>\n",
       "      <th>5</th>\n",
       "      <td>Charmeleon</td>\n",
       "      <td>Fire</td>\n",
       "      <td>NaN</td>\n",
       "      <td>405</td>\n",
       "      <td>58</td>\n",
       "      <td>64</td>\n",
       "      <td>58</td>\n",
       "      <td>80</td>\n",
       "      <td>65</td>\n",
       "      <td>80</td>\n",
       "      <td>1</td>\n",
       "      <td>False</td>\n",
       "      <td>リザード</td>\n",
       "    </tr>\n",
       "    <tr>\n",
       "      <th>6</th>\n",
       "      <td>Charizard</td>\n",
       "      <td>Fire</td>\n",
       "      <td>Flying</td>\n",
       "      <td>534</td>\n",
       "      <td>78</td>\n",
       "      <td>84</td>\n",
       "      <td>78</td>\n",
       "      <td>109</td>\n",
       "      <td>85</td>\n",
       "      <td>100</td>\n",
       "      <td>1</td>\n",
       "      <td>False</td>\n",
       "      <td>リザードン</td>\n",
       "    </tr>\n",
       "    <tr>\n",
       "      <th>6</th>\n",
       "      <td>CharizardMega Charizard X</td>\n",
       "      <td>Fire</td>\n",
       "      <td>Dragon</td>\n",
       "      <td>634</td>\n",
       "      <td>78</td>\n",
       "      <td>130</td>\n",
       "      <td>111</td>\n",
       "      <td>130</td>\n",
       "      <td>85</td>\n",
       "      <td>100</td>\n",
       "      <td>1</td>\n",
       "      <td>False</td>\n",
       "      <td>リザードン・メガ進化</td>\n",
       "    </tr>\n",
       "    <tr>\n",
       "      <th>6</th>\n",
       "      <td>CharizardMega Charizard Y</td>\n",
       "      <td>Fire</td>\n",
       "      <td>Flying</td>\n",
       "      <td>634</td>\n",
       "      <td>78</td>\n",
       "      <td>104</td>\n",
       "      <td>78</td>\n",
       "      <td>159</td>\n",
       "      <td>115</td>\n",
       "      <td>100</td>\n",
       "      <td>1</td>\n",
       "      <td>False</td>\n",
       "      <td>リザードン・メガ進化</td>\n",
       "    </tr>\n",
       "    <tr>\n",
       "      <th>7</th>\n",
       "      <td>Squirtle</td>\n",
       "      <td>Water</td>\n",
       "      <td>NaN</td>\n",
       "      <td>314</td>\n",
       "      <td>44</td>\n",
       "      <td>48</td>\n",
       "      <td>65</td>\n",
       "      <td>50</td>\n",
       "      <td>64</td>\n",
       "      <td>43</td>\n",
       "      <td>1</td>\n",
       "      <td>False</td>\n",
       "      <td>ゼニガメ</td>\n",
       "    </tr>\n",
       "  </tbody>\n",
       "</table>\n",
       "</div>"
      ],
      "text/plain": [
       "                        Name Type 1  Type 2  Total  HP  Attack  Defense  \\\n",
       "#                                                                         \n",
       "1                  Bulbasaur  Grass  Poison    318  45      49       49   \n",
       "2                    Ivysaur  Grass  Poison    405  60      62       63   \n",
       "3                   Venusaur  Grass  Poison    525  80      82       83   \n",
       "3      VenusaurMega Venusaur  Grass  Poison    625  80     100      123   \n",
       "4                 Charmander   Fire     NaN    309  39      52       43   \n",
       "5                 Charmeleon   Fire     NaN    405  58      64       58   \n",
       "6                  Charizard   Fire  Flying    534  78      84       78   \n",
       "6  CharizardMega Charizard X   Fire  Dragon    634  78     130      111   \n",
       "6  CharizardMega Charizard Y   Fire  Flying    634  78     104       78   \n",
       "7                   Squirtle  Water     NaN    314  44      48       65   \n",
       "\n",
       "   Sp. Atk  Sp. Def  Speed  Generation  Legendary    Japanese  \n",
       "#                                                              \n",
       "1       65       65     45           1      False       フシギダネ  \n",
       "2       80       80     60           1      False       フシギソウ  \n",
       "3      100      100     80           1      False       フシギバナ  \n",
       "3      122      120     80           1      False  フシギバナ・メガ進化  \n",
       "4       60       50     65           1      False        ヒトカゲ  \n",
       "5       80       65     80           1      False        リザード  \n",
       "6      109       85    100           1      False       リザードン  \n",
       "6      130       85    100           1      False  リザードン・メガ進化  \n",
       "6      159      115    100           1      False  リザードン・メガ進化  \n",
       "7       50       64     43           1      False        ゼニガメ  "
      ]
     },
     "execution_count": 76,
     "metadata": {},
     "output_type": "execute_result"
    }
   ],
   "source": [
    "pokemon.head(10)"
   ]
  },
  {
   "cell_type": "code",
   "execution_count": 85,
   "id": "710eca64-a42d-4af9-a544-3c66eba17c1a",
   "metadata": {},
   "outputs": [
    {
     "data": {
      "image/png": "[encoded data removed]",
      "text/plain": [
       "<Figure size 640x480 with 1 Axes>"
      ]
     },
     "metadata": {},
     "output_type": "display_data"
    }
   ],
   "source": [
    "pokemon.hist('Attack');"
   ]
  },
  {
   "cell_type": "code",
   "execution_count": 87,
   "id": "d8644d7d-5745-4157-a754-0637c6ad045b",
   "metadata": {},
   "outputs": [
    {
     "data": {
      "text/plain": [
       "array([[<Axes: title={'center': 'Defense'}>]], dtype=object)"
      ]
     },
     "execution_count": 87,
     "metadata": {},
     "output_type": "execute_result"
    },
    {
     "data": {
      "image/png": "[encoded data removed]",
      "text/plain": [
       "<Figure size 640x480 with 1 Axes>"
      ]
     },
     "metadata": {},
     "output_type": "display_data"
    }
   ],
   "source": [
    "pokemon.hist('Defense')"
   ]
  },
  {
   "cell_type": "code",
   "execution_count": 1,
   "id": "bb8c2308-d822-498c-a767-3945bff4ffb8",
   "metadata": {},
   "outputs": [
    {
     "ename": "SyntaxError",
     "evalue": "invalid syntax (1717730662.py, line 1)",
     "output_type": "error",
     "traceback": [
      "\u001b[0;36m  Cell \u001b[0;32mIn[1], line 1\u001b[0;36m\u001b[0m\n\u001b[0;31m    df.plot.scatter(x=)\u001b[0m\n\u001b[0m                      ^\u001b[0m\n\u001b[0;31mSyntaxError\u001b[0m\u001b[0;31m:\u001b[0m invalid syntax\n"
     ]
    }
   ],
   "source": [
    "df.plot.scatter(x=)"
   ]
  },
  {
   "cell_type": "code",
   "execution_count": 3,
   "id": "0ccd1fa5-dc17-495c-a25e-40ac6a06ca86",
   "metadata": {},
   "outputs": [
    {
     "name": "stdout",
     "output_type": "stream",
     "text": [
      "2 <class 'int'>\n"
     ]
    }
   ],
   "source": [
    "two_point_nine = 2.9\n",
    "two = int(two_point_nine)\n",
    "print(two, type(two))"
   ]
  },
  {
   "cell_type": "code",
   "execution_count": 4,
   "id": "44985fdc-6f9e-4e10-a0ca-dc97f85cda0e",
   "metadata": {},
   "outputs": [
    {
     "name": "stdout",
     "output_type": "stream",
     "text": [
      "2.0 <class 'float'>\n"
     ]
    }
   ],
   "source": [
    "two_float = float(two)\n",
    "\n",
    "print(two_float, type(two_float))"
   ]
  },
  {
   "cell_type": "markdown",
   "id": "5fef23a7-6a4b-4f20-bc57-9be58e82cb91",
   "metadata": {},
   "source": [
    "### 演習問題3\n",
    "文字列1,980円を数値型1,980円に変換してください。"
   ]
  },
  {
   "cell_type": "code",
   "execution_count": 5,
   "id": "73acd47b-31a9-4d82-8e56-1a9c6c1f63a0",
   "metadata": {},
   "outputs": [],
   "source": [
    "x = '1980'"
   ]
  },
  {
   "cell_type": "code",
   "execution_count": 6,
   "id": "bb00c6ac-c43b-481e-acc8-a91ff0589da8",
   "metadata": {},
   "outputs": [],
   "source": [
    "x_int = int(x)"
   ]
  },
  {
   "cell_type": "code",
   "execution_count": 7,
   "id": "fa5d791a-00a3-421d-a147-dd5afb2c97aa",
   "metadata": {},
   "outputs": [
    {
     "name": "stdout",
     "output_type": "stream",
     "text": [
      "1980 <class 'int'>\n"
     ]
    }
   ],
   "source": [
    "print(x_int, type(x_int))"
   ]
  },
  {
   "cell_type": "code",
   "execution_count": 8,
   "id": "02a10ad3-b152-4d4f-8628-943c65db8ea1",
   "metadata": {},
   "outputs": [
    {
     "name": "stdout",
     "output_type": "stream",
     "text": [
      "1980 <class 'int'>\n"
     ]
    }
   ],
   "source": [
    "price = '1,980円'\n",
    "price = int(price.replace(',','').replace('円',''))\n",
    "print(price, type(price))"
   ]
  },
  {
   "cell_type": "code",
   "execution_count": 9,
   "id": "cfdce43b-4dbd-4afc-bb71-b673aa31f3e0",
   "metadata": {},
   "outputs": [
    {
     "name": "stdout",
     "output_type": "stream",
     "text": [
      "None\n"
     ]
    }
   ],
   "source": [
    "x = None\n",
    "print(x)"
   ]
  },
  {
   "cell_type": "code",
   "execution_count": 11,
   "id": "16aa760b-3a3c-4e32-b10c-1d295e1de4ef",
   "metadata": {},
   "outputs": [
    {
     "name": "stdout",
     "output_type": "stream",
     "text": [
      "<class 'NoneType'>\n"
     ]
    }
   ],
   "source": [
    "print(type(x))"
   ]
  },
  {
   "cell_type": "code",
   "execution_count": 12,
   "id": "be5e409b-a8df-45ea-a433-183bc48e950a",
   "metadata": {},
   "outputs": [
    {
     "name": "stdout",
     "output_type": "stream",
     "text": [
      "True\n"
     ]
    }
   ],
   "source": [
    "print(x is None)"
   ]
  },
  {
   "cell_type": "code",
   "execution_count": 19,
   "id": "3afd8a78-40a2-4d9e-9751-e6aa66a66449",
   "metadata": {},
   "outputs": [
    {
     "name": "stdin",
     "output_type": "stream",
     "text": [
      "please enter an integer 0\n"
     ]
    },
    {
     "name": "stdout",
     "output_type": "stream",
     "text": [
      "これは0です\n"
     ]
    }
   ],
   "source": [
    "x = int(input('please enter an integer'))\n",
    "\n",
    "if x < 0:\n",
    "    print('0より小さいです')\n",
    "elif  x > 0:\n",
    "    print('0より大きいです')\n",
    "else:\n",
    "    print('これは0です')"
   ]
  },
  {
   "cell_type": "code",
   "execution_count": 23,
   "id": "edbb3475-6e7f-4a16-9e30-e49061dc570b",
   "metadata": {},
   "outputs": [
    {
     "name": "stdout",
     "output_type": "stream",
     "text": [
      "どちらかが0よりも大きいです。\n"
     ]
    }
   ],
   "source": [
    "x = 2\n",
    "y = -3\n",
    "\n",
    "if x > 0 or y > 0:\n",
    "    print('どちらかが0よりも大きいです。')"
   ]
  },
  {
   "cell_type": "markdown",
   "id": "4ebb602c-e95c-4a32-9dd4-21a481b5be30",
   "metadata": {},
   "source": [
    "### 演習問題3\n",
    "3で割り切れる時はFizz\n",
    "5で割り切れる時はBuzz\n",
    "3と5で割り切れる時はFizzBuzz\n",
    "いずれにも該当しないときは、その数字を出力するプログラムを作成してください。"
   ]
  },
  {
   "cell_type": "code",
   "execution_count": 30,
   "id": "313ed36f-f0c5-405d-88fe-de5e7c550fe0",
   "metadata": {},
   "outputs": [
    {
     "name": "stdin",
     "output_type": "stream",
     "text": [
      "please enter an integer 2\n"
     ]
    },
    {
     "name": "stdout",
     "output_type": "stream",
     "text": [
      "2\n"
     ]
    }
   ],
   "source": [
    "x = int(input('please enter an integer'))\n",
    "\n",
    "\n",
    "if x % 3 == 0 and x % 5 == 0:\n",
    "    print('FizzBuzz')\n",
    "elif x % 3 == 0:\n",
    "    print('Fizz')\n",
    "elif x % 5 == 0:\n",
    "    print('Buzz')\n",
    "else:\n",
    "    print(x)"
   ]
  },
  {
   "cell_type": "code",
   "execution_count": 34,
   "id": "7be23c97-ed39-4319-a65b-78c9919484f7",
   "metadata": {},
   "outputs": [
    {
     "name": "stdout",
     "output_type": "stream",
     "text": [
      "5\n"
     ]
    }
   ],
   "source": [
    "s = 'hello'\n",
    "\n",
    "if len(s) >= 3:\n",
    "    print(len(s))"
   ]
  },
  {
   "cell_type": "code",
   "execution_count": 35,
   "id": "91d9973a-15ab-496a-a8b1-059e42977f63",
   "metadata": {},
   "outputs": [
    {
     "name": "stdout",
     "output_type": "stream",
     "text": [
      "0\n",
      "1\n",
      "2\n",
      "3\n",
      "4\n"
     ]
    }
   ],
   "source": [
    "for i in range(5):\n",
    "    print(i)"
   ]
  },
  {
   "cell_type": "code",
   "execution_count": 36,
   "id": "9af8261d-bd06-4d5b-82e5-a34be873f4cd",
   "metadata": {},
   "outputs": [
    {
     "name": "stdout",
     "output_type": "stream",
     "text": [
      "1\n",
      "3\n"
     ]
    }
   ],
   "source": [
    "for i in range(1, 5, 2):\n",
    "    print(i)"
   ]
  },
  {
   "cell_type": "code",
   "execution_count": 38,
   "id": "6fc411e9-53f9-4b4a-9a81-1fef8e5fc8ee",
   "metadata": {},
   "outputs": [
    {
     "name": "stdout",
     "output_type": "stream",
     "text": [
      "P\n",
      "y\n",
      "t\n",
      "h\n",
      "o\n",
      "n\n"
     ]
    }
   ],
   "source": [
    "word = 'Python'\n",
    "\n",
    "for i in range(6):\n",
    "    print(word[i])"
   ]
  },
  {
   "cell_type": "code",
   "execution_count": null,
   "id": "f392b752-c67f-4540-914b-fc478dfd4838",
   "metadata": {},
   "outputs": [],
   "source": []
  }
 ],
 "metadata": {
  "kernelspec": {
   "display_name": "Python 3 (ipykernel)",
   "language": "python",
   "name": "python3"
  },
  "language_info": {
   "codemirror_mode": {
    "name": "ipython",
    "version": 3
   },
   "file_extension": ".py",
   "mimetype": "text/x-python",
   "name": "python",
   "nbconvert_exporter": "python",
   "pygments_lexer": "ipython3",
   "version": "3.10.12"
  }
 },
 "nbformat": 4,
 "nbformat_minor": 5
}
