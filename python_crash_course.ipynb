{
 "cells": [
  {
   "cell_type": "markdown",
   "id": "dc0f464c-161a-406e-b4af-d8db8c78b4ed",
   "metadata": {},
   "source": [
    "# Python_Crash_Course\n",
    "--- "
   ]
  },
  {
   "cell_type": "markdown",
   "id": "dda728eb-a0c4-4f9a-9215-223a15d77597",
   "metadata": {},
   "source": [
    "## 第２章_変数とシンプルなデータ型"
   ]
  },
  {
   "cell_type": "markdown",
   "id": "b7f8db89-8a1c-4d8a-9e9a-747a2f74b3d0",
   "metadata": {},
   "source": [
    "### 変数"
   ]
  },
  {
   "cell_type": "code",
   "execution_count": 1,
   "id": "aeac8836-b25d-40eb-b1ae-14301ace0b09",
   "metadata": {},
   "outputs": [
    {
     "name": "stdout",
     "output_type": "stream",
     "text": [
      "hello world!\n"
     ]
    }
   ],
   "source": [
    "print('hello world!')"
   ]
  },
  {
   "cell_type": "code",
   "execution_count": 2,
   "id": "c14b18d4-dbb9-4140-a8c2-6bc026df6563",
   "metadata": {},
   "outputs": [
    {
     "name": "stdout",
     "output_type": "stream",
     "text": [
      "Hello Python world!\n"
     ]
    }
   ],
   "source": [
    "message = 'Hello Python world!'\n",
    "print(message)"
   ]
  },
  {
   "cell_type": "code",
   "execution_count": 3,
   "id": "23bdb4ee-d8ae-4bb3-aba8-4cbafc87a16e",
   "metadata": {},
   "outputs": [
    {
     "name": "stdout",
     "output_type": "stream",
     "text": [
      "こんにちは最短距離でゼロからしっかり学ぶPython入門の読者の皆さん！\n"
     ]
    }
   ],
   "source": [
    "message = 'こんにちは最短距離でゼロからしっかり学ぶPython入門の読者の皆さん！'\n",
    "print(message)"
   ]
  },
  {
   "cell_type": "code",
   "execution_count": 5,
   "id": "d93b6404-b3a1-48f0-a0e8-8f457819076f",
   "metadata": {},
   "outputs": [
    {
     "name": "stdout",
     "output_type": "stream",
     "text": [
      "hello yan\n",
      "goodbye yonce\n"
     ]
    }
   ],
   "source": [
    "name = 'yan'\n",
    "print('hello',name)\n",
    "\n",
    "name = 'yonce'\n",
    "print('goodbye', name)"
   ]
  },
  {
   "cell_type": "markdown",
   "id": "ea3bbf21-d7f9-4105-8e04-a31ec6076261",
   "metadata": {},
   "source": [
    "### 文字列"
   ]
  },
  {
   "cell_type": "code",
   "execution_count": 10,
   "id": "cd96ecd0-118c-44a5-bd99-5477d1433290",
   "metadata": {},
   "outputs": [
    {
     "name": "stdout",
     "output_type": "stream",
     "text": [
      "Ada Lovelace\n",
      "ADA LOVELACE\n",
      "ada lovelace\n"
     ]
    }
   ],
   "source": [
    "name = 'ada lovelace'\n",
    "\n",
    "print(name.title())\n",
    "print(name.upper())\n",
    "print(name.lower())"
   ]
  },
  {
   "cell_type": "code",
   "execution_count": 13,
   "id": "98d2d4a8-ff27-4393-9252-8932de206184",
   "metadata": {},
   "outputs": [
    {
     "name": "stdout",
     "output_type": "stream",
     "text": [
      "Ada Lovelace\n"
     ]
    }
   ],
   "source": [
    "first_name ='ada'\n",
    "last_name = 'lovelace'\n",
    "full_name = f'{first_name.title()} {last_name.title()}'\n",
    "print(full_name)"
   ]
  },
  {
   "cell_type": "code",
   "execution_count": 16,
   "id": "1edf91e7-e0c6-4746-a550-74b7bf567aea",
   "metadata": {},
   "outputs": [
    {
     "name": "stdout",
     "output_type": "stream",
     "text": [
      "こんにちはAda Lovelace!\n",
      "こんにちは Ada Lovelace !\n"
     ]
    }
   ],
   "source": [
    "first_name ='ada'\n",
    "last_name = 'lovelace'\n",
    "full_name = f'{first_name} {last_name}'\n",
    "print(f'こんにちは{full_name.title()}!')\n",
    "print('こんにちは',full_name.title(),'!')"
   ]
  },
  {
   "cell_type": "code",
   "execution_count": 17,
   "id": "ed35cb35-3896-4fc0-b64b-231349ad0cf7",
   "metadata": {},
   "outputs": [
    {
     "name": "stdout",
     "output_type": "stream",
     "text": [
      "こんにちはAda Lovelace!\n"
     ]
    }
   ],
   "source": [
    "first_name = 'ada'\n",
    "last_name = 'lovelace'\n",
    "full_name = f'{first_name} {last_name}'\n",
    "message = f'こんにちは{full_name.title()}!'\n",
    "\n",
    "print(message)"
   ]
  },
  {
   "cell_type": "code",
   "execution_count": 20,
   "id": "a7720772-6675-4bb5-9064-c654a57a7d2c",
   "metadata": {},
   "outputs": [
    {
     "name": "stdout",
     "output_type": "stream",
     "text": [
      "Ada Lovelace\n"
     ]
    }
   ],
   "source": [
    "first_name = 'ada'\n",
    "last_name = 'lovelace'\n",
    "full_name = '{} {}'.format(first_name.title(),last_name.title())\n",
    "\n",
    "print(full_name)"
   ]
  },
  {
   "cell_type": "code",
   "execution_count": 24,
   "id": "1d231040-c74e-413a-91d9-499d1d618aef",
   "metadata": {},
   "outputs": [
    {
     "name": "stdout",
     "output_type": "stream",
     "text": [
      "Python\n",
      "\tPython\n",
      "Languages:\n",
      "Python\n",
      "C\n",
      "JavaScript\n"
     ]
    }
   ],
   "source": [
    "print('python'.title())\n",
    "print('\\tpython'.title())\n",
    "print('Languages:\\nPython\\nC\\nJavaScript')"
   ]
  },
  {
   "cell_type": "code",
   "execution_count": 2,
   "id": "bdee6e08-6886-43ad-8333-5f587b589b88",
   "metadata": {},
   "outputs": [
    {
     "name": "stdout",
     "output_type": "stream",
     "text": [
      "python\n"
     ]
    }
   ],
   "source": [
    "favorite_language = 'python '\n",
    "print(favorite_language.rstrip())"
   ]
  },
  {
   "cell_type": "code",
   "execution_count": 3,
   "id": "330b220d-310e-4e67-a4f9-399b35330450",
   "metadata": {},
   "outputs": [
    {
     "name": "stdout",
     "output_type": "stream",
     "text": [
      "python \n"
     ]
    }
   ],
   "source": [
    "print(favorite_language)"
   ]
  },
  {
   "cell_type": "code",
   "execution_count": 6,
   "id": "711b9269-9689-433c-a59b-9554fba63c81",
   "metadata": {},
   "outputs": [
    {
     "name": "stdout",
     "output_type": "stream",
     "text": [
      " python\n",
      "python\n",
      "python\n"
     ]
    }
   ],
   "source": [
    "favorite_language =' python'\n",
    "print(favorite_language.rstrip())\n",
    "print(favorite_language.lstrip())\n",
    "print(favorite_language.strip())"
   ]
  },
  {
   "cell_type": "code",
   "execution_count": 8,
   "id": "e3e3d400-644c-49a5-91e3-e960b29be4b5",
   "metadata": {},
   "outputs": [
    {
     "ename": "SyntaxError",
     "evalue": "unterminated string literal (detected at line 1) (1265700866.py, line 1)",
     "output_type": "error",
     "traceback": [
      "\u001b[0;36m  Cell \u001b[0;32mIn[8], line 1\u001b[0;36m\u001b[0m\n\u001b[0;31m    message = 'One of Python's strengths is its diverse community.'\u001b[0m\n\u001b[0m                                                                  ^\u001b[0m\n\u001b[0;31mSyntaxError\u001b[0m\u001b[0;31m:\u001b[0m unterminated string literal (detected at line 1)\n"
     ]
    }
   ],
   "source": [
    "message = 'One of Python's strengths is its diverse community.'\n",
    "print(message)"
   ]
  },
  {
   "cell_type": "code",
   "execution_count": 9,
   "id": "23e7524c-8eee-4eb0-adbd-0183e2dd517c",
   "metadata": {},
   "outputs": [
    {
     "name": "stdout",
     "output_type": "stream",
     "text": [
      "こんにちはEric、今日はPythonを学びますか？\n"
     ]
    }
   ],
   "source": [
    "name = 'eric'\n",
    "language = 'Python'\n",
    "\n",
    "print(f'こんにちは{name.title()}、今日は{language.title()}を学びますか？')"
   ]
  },
  {
   "cell_type": "code",
   "execution_count": 14,
   "id": "1bd95636-4035-419f-9599-2d79c833abab",
   "metadata": {},
   "outputs": [
    {
     "name": "stdout",
     "output_type": "stream",
     "text": [
      "Eric Martin\n"
     ]
    }
   ],
   "source": [
    "first_name = 'eric'\n",
    "last_name = 'martin'\n",
    "full_name = f'{first_name.title()} {last_name.title()}'\n",
    "\n",
    "print(full_name)"
   ]
  },
  {
   "cell_type": "code",
   "execution_count": 19,
   "id": "ed27a892-570d-4284-bc93-b6c4452af9da",
   "metadata": {},
   "outputs": [
    {
     "name": "stdout",
     "output_type": "stream",
     "text": [
      "JOHN LENNONは\"LOVE&PEACEと言った。\n"
     ]
    }
   ],
   "source": [
    "celebrity = 'John Lennon '\n",
    "wise_saying = 'LOVE&PEACE'\n",
    "\n",
    "print(f'{celebrity.upper().strip()}は\"{wise_saying}と言った。')"
   ]
  },
  {
   "cell_type": "markdown",
   "id": "bbf647fc-777e-4b05-9124-343c98b05851",
   "metadata": {},
   "source": [
    "### 数値"
   ]
  },
  {
   "cell_type": "code",
   "execution_count": 20,
   "id": "e2264cf3-059e-4d6c-ac1c-3beb98cfaa42",
   "metadata": {},
   "outputs": [
    {
     "name": "stdout",
     "output_type": "stream",
     "text": [
      "2\n",
      "3\n"
     ]
    }
   ],
   "source": [
    "print(1+1)\n",
    "print(1+2)"
   ]
  },
  {
   "cell_type": "code",
   "execution_count": 21,
   "id": "fd840c66-9798-4635-8723-d48fe87ff13d",
   "metadata": {},
   "outputs": [],
   "source": [
    "a = 5"
   ]
  },
  {
   "cell_type": "code",
   "execution_count": 24,
   "id": "8fad5250-8cc5-4f0f-873d-b7079836655e",
   "metadata": {},
   "outputs": [
    {
     "name": "stdout",
     "output_type": "stream",
     "text": [
      "7\n"
     ]
    }
   ],
   "source": [
    "print(a)"
   ]
  },
  {
   "cell_type": "code",
   "execution_count": 25,
   "id": "7a5e7bde-8a6f-46a5-a1a5-e54b1c3291c7",
   "metadata": {},
   "outputs": [],
   "source": [
    "a = 7"
   ]
  },
  {
   "cell_type": "code",
   "execution_count": 26,
   "id": "ec1cbcf9-fe56-491b-880c-902e16373470",
   "metadata": {},
   "outputs": [
    {
     "data": {
      "text/plain": [
       "5"
      ]
     },
     "execution_count": 26,
     "metadata": {},
     "output_type": "execute_result"
    }
   ],
   "source": [
    "2 +3"
   ]
  },
  {
   "cell_type": "code",
   "execution_count": 27,
   "id": "383b8008-c144-490f-b274-abab9875e754",
   "metadata": {},
   "outputs": [
    {
     "data": {
      "text/plain": [
       "1"
      ]
     },
     "execution_count": 27,
     "metadata": {},
     "output_type": "execute_result"
    }
   ],
   "source": [
    "3 - 2"
   ]
  },
  {
   "cell_type": "code",
   "execution_count": 28,
   "id": "b70dcd1a-2c5f-4b41-9ee3-e1d524ab2588",
   "metadata": {},
   "outputs": [
    {
     "data": {
      "text/plain": [
       "6"
      ]
     },
     "execution_count": 28,
     "metadata": {},
     "output_type": "execute_result"
    }
   ],
   "source": [
    "2 * 3"
   ]
  },
  {
   "cell_type": "code",
   "execution_count": 29,
   "id": "cb5abc8a-fc8f-44ba-9f86-69c06d4da1e4",
   "metadata": {},
   "outputs": [
    {
     "data": {
      "text/plain": [
       "1.5"
      ]
     },
     "execution_count": 29,
     "metadata": {},
     "output_type": "execute_result"
    }
   ],
   "source": [
    "3 / 2"
   ]
  },
  {
   "cell_type": "code",
   "execution_count": 30,
   "id": "1decfd0a-3473-4b2f-99a8-e6e0b3686df3",
   "metadata": {},
   "outputs": [
    {
     "data": {
      "text/plain": [
       "9"
      ]
     },
     "execution_count": 30,
     "metadata": {},
     "output_type": "execute_result"
    }
   ],
   "source": [
    "3 ** 2"
   ]
  },
  {
   "cell_type": "code",
   "execution_count": 31,
   "id": "b5c7b6c4-5344-4432-ba3e-50d4a53cc708",
   "metadata": {},
   "outputs": [
    {
     "data": {
      "text/plain": [
       "27"
      ]
     },
     "execution_count": 31,
     "metadata": {},
     "output_type": "execute_result"
    }
   ],
   "source": [
    "3 ** 3"
   ]
  },
  {
   "cell_type": "code",
   "execution_count": 32,
   "id": "db3bdc01-0298-430d-976e-1f49c5ff3e89",
   "metadata": {},
   "outputs": [
    {
     "data": {
      "text/plain": [
       "1000000"
      ]
     },
     "execution_count": 32,
     "metadata": {},
     "output_type": "execute_result"
    }
   ],
   "source": [
    "10 ** 6"
   ]
  },
  {
   "cell_type": "code",
   "execution_count": 33,
   "id": "56754668-21cf-440a-82da-e7e70657ca7a",
   "metadata": {},
   "outputs": [
    {
     "data": {
      "text/plain": [
       "14"
      ]
     },
     "execution_count": 33,
     "metadata": {},
     "output_type": "execute_result"
    }
   ],
   "source": [
    "2 + 3*4"
   ]
  },
  {
   "cell_type": "code",
   "execution_count": 34,
   "id": "1c97e590-a1ca-4a5a-addd-cde3d7cdc926",
   "metadata": {},
   "outputs": [
    {
     "data": {
      "text/plain": [
       "20"
      ]
     },
     "execution_count": 34,
     "metadata": {},
     "output_type": "execute_result"
    }
   ],
   "source": [
    "(2 + 3) * 4"
   ]
  },
  {
   "cell_type": "code",
   "execution_count": 35,
   "id": "7d81f918-b432-4171-af38-ce9fc1bfa9fd",
   "metadata": {},
   "outputs": [
    {
     "data": {
      "text/plain": [
       "0.2"
      ]
     },
     "execution_count": 35,
     "metadata": {},
     "output_type": "execute_result"
    }
   ],
   "source": [
    "0.1 + 0.1"
   ]
  },
  {
   "cell_type": "code",
   "execution_count": 36,
   "id": "b93d27f1-f874-4fa7-b2a4-f6eb5b8e9d7d",
   "metadata": {},
   "outputs": [
    {
     "data": {
      "text/plain": [
       "0.4"
      ]
     },
     "execution_count": 36,
     "metadata": {},
     "output_type": "execute_result"
    }
   ],
   "source": [
    "0.2 + 0.2"
   ]
  },
  {
   "cell_type": "code",
   "execution_count": 37,
   "id": "55624b48-9648-4e56-87bd-ebf2709baafc",
   "metadata": {},
   "outputs": [
    {
     "data": {
      "text/plain": [
       "0.2"
      ]
     },
     "execution_count": 37,
     "metadata": {},
     "output_type": "execute_result"
    }
   ],
   "source": [
    "2 * 0.1"
   ]
  },
  {
   "cell_type": "code",
   "execution_count": 38,
   "id": "6c7a58fb-e952-4239-9d63-8fb31ed167a3",
   "metadata": {},
   "outputs": [
    {
     "data": {
      "text/plain": [
       "0.4"
      ]
     },
     "execution_count": 38,
     "metadata": {},
     "output_type": "execute_result"
    }
   ],
   "source": [
    "2 * 0.2"
   ]
  },
  {
   "cell_type": "code",
   "execution_count": 39,
   "id": "6e0d8021-507f-41c6-81e9-52f5218e0fbe",
   "metadata": {},
   "outputs": [
    {
     "data": {
      "text/plain": [
       "0.30000000000000004"
      ]
     },
     "execution_count": 39,
     "metadata": {},
     "output_type": "execute_result"
    }
   ],
   "source": [
    "0.2 +  0.1"
   ]
  },
  {
   "cell_type": "code",
   "execution_count": 40,
   "id": "e50407a4-cfcc-48e8-8bf8-9b59d363cb20",
   "metadata": {},
   "outputs": [
    {
     "data": {
      "text/plain": [
       "0.30000000000000004"
      ]
     },
     "execution_count": 40,
     "metadata": {},
     "output_type": "execute_result"
    }
   ],
   "source": [
    "3 * 0.1"
   ]
  },
  {
   "cell_type": "code",
   "execution_count": 41,
   "id": "c4252f30-15cb-4455-88fb-10c770d1ef07",
   "metadata": {},
   "outputs": [
    {
     "data": {
      "text/plain": [
       "2.0"
      ]
     },
     "execution_count": 41,
     "metadata": {},
     "output_type": "execute_result"
    }
   ],
   "source": [
    "4 / 2"
   ]
  },
  {
   "cell_type": "code",
   "execution_count": 42,
   "id": "f12006b6-a325-4be7-b693-73a558e50efd",
   "metadata": {},
   "outputs": [
    {
     "data": {
      "text/plain": [
       "3.0"
      ]
     },
     "execution_count": 42,
     "metadata": {},
     "output_type": "execute_result"
    }
   ],
   "source": [
    "1 + 2.0"
   ]
  },
  {
   "cell_type": "code",
   "execution_count": 43,
   "id": "a1df15a7-e907-4f9a-8559-b35930a508cb",
   "metadata": {},
   "outputs": [
    {
     "data": {
      "text/plain": [
       "6.0"
      ]
     },
     "execution_count": 43,
     "metadata": {},
     "output_type": "execute_result"
    }
   ],
   "source": [
    "2 * 3.0"
   ]
  },
  {
   "cell_type": "code",
   "execution_count": 45,
   "id": "eb6f0cef-9ba0-42ed-aef3-907fac7324b8",
   "metadata": {},
   "outputs": [
    {
     "data": {
      "text/plain": [
       "9.0"
      ]
     },
     "execution_count": 45,
     "metadata": {},
     "output_type": "execute_result"
    }
   ],
   "source": [
    "3.0 ** 2"
   ]
  },
  {
   "cell_type": "code",
   "execution_count": 46,
   "id": "9e95697c-5774-4dd9-9842-dc9af47526b5",
   "metadata": {},
   "outputs": [
    {
     "name": "stdout",
     "output_type": "stream",
     "text": [
      "14000000000\n"
     ]
    }
   ],
   "source": [
    "universe_age = 14_000_000_000\n",
    "print(universe_age)"
   ]
  },
  {
   "cell_type": "code",
   "execution_count": 47,
   "id": "c63ce654-74f4-443c-a60f-7754fd9c652e",
   "metadata": {},
   "outputs": [],
   "source": [
    "x, y, z = 0, 0, 0"
   ]
  },
  {
   "cell_type": "code",
   "execution_count": 48,
   "id": "3769afbc-a1a4-4d65-b2b9-dc3b2c603285",
   "metadata": {},
   "outputs": [
    {
     "name": "stdout",
     "output_type": "stream",
     "text": [
      "0\n"
     ]
    }
   ],
   "source": [
    "print(x)"
   ]
  },
  {
   "cell_type": "markdown",
   "id": "2a836437-7d52-408a-9c79-5b3615bfef2f",
   "metadata": {},
   "source": [
    "### 定数"
   ]
  },
  {
   "cell_type": "code",
   "execution_count": 49,
   "id": "2b4092b2-17ae-4250-ab44-cb1931e1ab67",
   "metadata": {},
   "outputs": [],
   "source": [
    "MAX_CONNECTIONS = 5000"
   ]
  },
  {
   "cell_type": "code",
   "execution_count": 51,
   "id": "a9a10872-8658-405b-ba0c-33cab642560e",
   "metadata": {},
   "outputs": [
    {
     "name": "stdout",
     "output_type": "stream",
     "text": [
      "8\n",
      "8\n",
      "8\n",
      "8\n",
      "8\n"
     ]
    }
   ],
   "source": [
    "# 2-8\n",
    "print(5 + 3)\n",
    "print(4 + 4)\n",
    "print(3 + 5)\n",
    "print(2 + 6)\n",
    "print(7 + 1)"
   ]
  },
  {
   "cell_type": "code",
   "execution_count": 2,
   "id": "3e97f15b-ee85-4e65-aa10-a78b3e582d64",
   "metadata": {},
   "outputs": [
    {
     "name": "stdout",
     "output_type": "stream",
     "text": [
      "私の好きな数字は5です\n"
     ]
    }
   ],
   "source": [
    "# 2-9\n",
    "number = 5\n",
    "print(f'私の好きな数字は{number}です')"
   ]
  },
  {
   "cell_type": "markdown",
   "id": "bebe9d92-159b-41db-83a5-55be64ef0fc7",
   "metadata": {},
   "source": [
    "### コメント"
   ]
  },
  {
   "cell_type": "code",
   "execution_count": 3,
   "id": "d41eeb16-c788-428a-8fc0-23c8a69874cb",
   "metadata": {},
   "outputs": [
    {
     "name": "stdout",
     "output_type": "stream",
     "text": [
      "こんにちはPython使いの皆さん！\n"
     ]
    }
   ],
   "source": [
    "# みんな「こんにちは」と言う\n",
    "language = 'python'\n",
    "print(f'こんにちは{language.title()}使いの皆さん！')"
   ]
  },
  {
   "cell_type": "code",
   "execution_count": 4,
   "id": "e3bff5b9-2b91-4eeb-96ab-8ad9e3d3fcdb",
   "metadata": {},
   "outputs": [
    {
     "name": "stdout",
     "output_type": "stream",
     "text": [
      "The Zen of Python, by Tim Peters\n",
      "\n",
      "Beautiful is better than ugly.\n",
      "Explicit is better than implicit.\n",
      "Simple is better than complex.\n",
      "Complex is better than complicated.\n",
      "Flat is better than nested.\n",
      "Sparse is better than dense.\n",
      "Readability counts.\n",
      "Special cases aren't special enough to break the rules.\n",
      "Although practicality beats purity.\n",
      "Errors should never pass silently.\n",
      "Unless explicitly silenced.\n",
      "In the face of ambiguity, refuse the temptation to guess.\n",
      "There should be one-- and preferably only one --obvious way to do it.\n",
      "Although that way may not be obvious at first unless you're Dutch.\n",
      "Now is better than never.\n",
      "Although never is often better than *right* now.\n",
      "If the implementation is hard to explain, it's a bad idea.\n",
      "If the implementation is easy to explain, it may be a good idea.\n",
      "Namespaces are one honking great idea -- let's do more of those!\n"
     ]
    }
   ],
   "source": [
    "import this"
   ]
  },
  {
   "cell_type": "markdown",
   "id": "27c55b95-a87e-4fbc-9a2e-cd4843611553",
   "metadata": {},
   "source": [
    "## 第３章_リスト入門"
   ]
  },
  {
   "cell_type": "markdown",
   "id": "c6f2b50a-3ea3-4a21-b765-82dfdd6257d3",
   "metadata": {},
   "source": [
    "### リストとは"
   ]
  },
  {
   "cell_type": "code",
   "execution_count": 5,
   "id": "8e9af910-eda2-4272-83d4-82cd95b2b179",
   "metadata": {},
   "outputs": [
    {
     "name": "stdout",
     "output_type": "stream",
     "text": [
      "['trek', 'cannondale', 'redline', 'specialized']\n"
     ]
    }
   ],
   "source": [
    "bicycles = ['trek', 'cannondale', 'redline', 'specialized']\n",
    "print(bicycles)"
   ]
  },
  {
   "cell_type": "code",
   "execution_count": 6,
   "id": "629cceff-580e-4053-bcc9-c87a82c357de",
   "metadata": {},
   "outputs": [
    {
     "name": "stdout",
     "output_type": "stream",
     "text": [
      "trek\n"
     ]
    }
   ],
   "source": [
    "print(bicycles[0])"
   ]
  },
  {
   "cell_type": "code",
   "execution_count": 7,
   "id": "82e7c17e-6a48-4093-bcdb-f8116fd99afb",
   "metadata": {},
   "outputs": [
    {
     "name": "stdout",
     "output_type": "stream",
     "text": [
      "Redline\n"
     ]
    }
   ],
   "source": [
    "print(bicycles[2].title())"
   ]
  },
  {
   "cell_type": "code",
   "execution_count": 9,
   "id": "f60a0317-965c-4b07-9e35-a59ec94748e7",
   "metadata": {},
   "outputs": [
    {
     "name": "stdout",
     "output_type": "stream",
     "text": [
      "CANNONDALE\n",
      "specialized\n"
     ]
    }
   ],
   "source": [
    "print(bicycles[1].upper())\n",
    "print(bicycles[3].lower())"
   ]
  },
  {
   "cell_type": "code",
   "execution_count": 10,
   "id": "dda5002e-850f-4f2d-889c-4e311ea6912f",
   "metadata": {},
   "outputs": [
    {
     "name": "stdout",
     "output_type": "stream",
     "text": [
      "specialized\n"
     ]
    }
   ],
   "source": [
    "print(bicycles[-1])"
   ]
  },
  {
   "cell_type": "code",
   "execution_count": 11,
   "id": "5977284a-2348-4e22-86d7-27597b36bd84",
   "metadata": {},
   "outputs": [
    {
     "name": "stdout",
     "output_type": "stream",
     "text": [
      "cannondale\n"
     ]
    }
   ],
   "source": [
    "print(bicycles[-3])"
   ]
  },
  {
   "cell_type": "code",
   "execution_count": 12,
   "id": "d41fcc31-e2a8-4000-ab0d-b9dcbe0c232e",
   "metadata": {},
   "outputs": [
    {
     "name": "stdout",
     "output_type": "stream",
     "text": [
      "私の最初の自転車はTrekでした。\n"
     ]
    }
   ],
   "source": [
    "message = f'私の最初の自転車は{bicycles[0].title()}でした。'\n",
    "\n",
    "print(message)"
   ]
  },
  {
   "cell_type": "code",
   "execution_count": 14,
   "id": "61414c12-9f6a-415a-8fca-b022440033ba",
   "metadata": {},
   "outputs": [
    {
     "name": "stdout",
     "output_type": "stream",
     "text": [
      "Paul\n"
     ]
    }
   ],
   "source": [
    "# 3-1\n",
    "names = ['john', 'paul', 'george', 'ringo']\n",
    "print(names[1].title())"
   ]
  },
  {
   "cell_type": "code",
   "execution_count": 16,
   "id": "102985b3-4cd7-4238-89e6-548d5ac17af6",
   "metadata": {},
   "outputs": [
    {
     "name": "stdout",
     "output_type": "stream",
     "text": [
      "good morning John!\n"
     ]
    }
   ],
   "source": [
    "print(f'good morning {names[0].title()}!')"
   ]
  },
  {
   "cell_type": "code",
   "execution_count": 17,
   "id": "a2b43cd3-8741-453e-8c4e-b7a7798ba010",
   "metadata": {},
   "outputs": [
    {
     "name": "stdout",
     "output_type": "stream",
     "text": [
      "私はTOYOTAの車が欲しい\n"
     ]
    }
   ],
   "source": [
    "cars = ['toyota', 'suzuki', 'honda', 'nissan']\n",
    "message = f'私は{cars[0].upper()}の車が欲しい'\n",
    "\n",
    "print(message)"
   ]
  },
  {
   "cell_type": "markdown",
   "id": "6a482a21-e1b2-4f0a-a2db-5b2f58c6c36e",
   "metadata": {},
   "source": [
    "### 要素を変更、追加、削除する"
   ]
  },
  {
   "cell_type": "code",
   "execution_count": 18,
   "id": "b2378dad-9f8e-491c-8a42-768437de285c",
   "metadata": {},
   "outputs": [
    {
     "name": "stdout",
     "output_type": "stream",
     "text": [
      "['honda', 'yamaha', 'suzui']\n"
     ]
    }
   ],
   "source": [
    "motorcycles = ['honda', 'yamaha', 'suzui']\n",
    "print(motorcycles)"
   ]
  },
  {
   "cell_type": "code",
   "execution_count": null,
   "id": "379d5859-895c-4ac0-868f-b74b294af76c",
   "metadata": {},
   "outputs": [],
   "source": [
    "motorcycles[0] = "
   ]
  }
 ],
 "metadata": {
  "kernelspec": {
   "display_name": "Python 3 (ipykernel)",
   "language": "python",
   "name": "python3"
  },
  "language_info": {
   "codemirror_mode": {
    "name": "ipython",
    "version": 3
   },
   "file_extension": ".py",
   "mimetype": "text/x-python",
   "name": "python",
   "nbconvert_exporter": "python",
   "pygments_lexer": "ipython3",
   "version": "3.10.12"
  }
 },
 "nbformat": 4,
 "nbformat_minor": 5
}
