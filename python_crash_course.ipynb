{
 "cells": [
  {
   "cell_type": "markdown",
   "id": "dc0f464c-161a-406e-b4af-d8db8c78b4ed",
   "metadata": {},
   "source": [
    "# Python_Crash_Course\n",
    "--- "
   ]
  },
  {
   "cell_type": "markdown",
   "id": "b7f8db89-8a1c-4d8a-9e9a-747a2f74b3d0",
   "metadata": {},
   "source": [
    "## 変数"
   ]
  },
  {
   "cell_type": "code",
   "execution_count": 1,
   "id": "aeac8836-b25d-40eb-b1ae-14301ace0b09",
   "metadata": {},
   "outputs": [
    {
     "name": "stdout",
     "output_type": "stream",
     "text": [
      "hello world!\n"
     ]
    }
   ],
   "source": [
    "print('hello world!')"
   ]
  },
  {
   "cell_type": "code",
   "execution_count": 2,
   "id": "c14b18d4-dbb9-4140-a8c2-6bc026df6563",
   "metadata": {},
   "outputs": [
    {
     "name": "stdout",
     "output_type": "stream",
     "text": [
      "Hello Python world!\n"
     ]
    }
   ],
   "source": [
    "message = 'Hello Python world!'\n",
    "print(message)"
   ]
  },
  {
   "cell_type": "code",
   "execution_count": 3,
   "id": "23bdb4ee-d8ae-4bb3-aba8-4cbafc87a16e",
   "metadata": {},
   "outputs": [
    {
     "name": "stdout",
     "output_type": "stream",
     "text": [
      "こんにちは最短距離でゼロからしっかり学ぶPython入門の読者の皆さん！\n"
     ]
    }
   ],
   "source": [
    "message = 'こんにちは最短距離でゼロからしっかり学ぶPython入門の読者の皆さん！'\n",
    "print(message)"
   ]
  },
  {
   "cell_type": "code",
   "execution_count": 5,
   "id": "d93b6404-b3a1-48f0-a0e8-8f457819076f",
   "metadata": {},
   "outputs": [
    {
     "name": "stdout",
     "output_type": "stream",
     "text": [
      "hello yan\n",
      "goodbye yonce\n"
     ]
    }
   ],
   "source": [
    "name = 'yan'\n",
    "print('hello',name)\n",
    "\n",
    "name = 'yonce'\n",
    "print('goodbye', name)"
   ]
  },
  {
   "cell_type": "code",
   "execution_count": null,
   "id": "258e6161-49c7-423d-afba-b0c4cd018d22",
   "metadata": {},
   "outputs": [],
   "source": []
  }
 ],
 "metadata": {
  "kernelspec": {
   "display_name": "Python 3 (ipykernel)",
   "language": "python",
   "name": "python3"
  },
  "language_info": {
   "codemirror_mode": {
    "name": "ipython",
    "version": 3
   },
   "file_extension": ".py",
   "mimetype": "text/x-python",
   "name": "python",
   "nbconvert_exporter": "python",
   "pygments_lexer": "ipython3",
   "version": "3.10.12"
  }
 },
 "nbformat": 4,
 "nbformat_minor": 5
}
