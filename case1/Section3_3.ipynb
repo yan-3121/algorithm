{
 "cells": [
  {
   "cell_type": "markdown",
   "metadata": {},
   "source": [
    "# PART3 グラフを描いてみよう"
   ]
  },
  {
   "cell_type": "markdown",
   "metadata": {},
   "source": [
    "## おまじない"
   ]
  },
  {
   "cell_type": "code",
   "execution_count": null,
   "metadata": {
    "collapsed": true
   },
   "outputs": [],
   "source": []
  },
  {
   "cell_type": "markdown",
   "metadata": {},
   "source": [
    "## データの読み込み\n",
    "- train.csvを読み込みましょう\n",
    "- 読み込んだものは変数trainに代入しましょう"
   ]
  },
  {
   "cell_type": "code",
   "execution_count": null,
   "metadata": {
    "collapsed": true
   },
   "outputs": [],
   "source": []
  },
  {
   "cell_type": "markdown",
   "metadata": {},
   "source": [
    "## trainの先頭行を確かめてみましょう"
   ]
  },
  {
   "cell_type": "code",
   "execution_count": null,
   "metadata": {
    "collapsed": true
   },
   "outputs": [],
   "source": []
  },
  {
   "cell_type": "markdown",
   "metadata": {},
   "source": [
    "## trainのyの折れ線グラフを描いてみましょう\n",
    "- 折れ線グラフを描くにはplot関数を使います"
   ]
  },
  {
   "cell_type": "code",
   "execution_count": null,
   "metadata": {
    "collapsed": true
   },
   "outputs": [],
   "source": []
  },
  {
   "cell_type": "markdown",
   "metadata": {},
   "source": [
    "## グラフの大きさをもっと大きくしてみましょう\n",
    "- カッコの中にオプションとしてfigsize=(12,4)と書きます"
   ]
  },
  {
   "cell_type": "code",
   "execution_count": null,
   "metadata": {
    "collapsed": true
   },
   "outputs": [],
   "source": []
  },
  {
   "cell_type": "markdown",
   "metadata": {},
   "source": [
    "## グラフにタイトルをつけてみましょう\n",
    "- カッコの中にオプションとして、title=\"XXX\"と書きます\n",
    "- カッコの中が複数となった場合はカンマ（,）を使うことで複数書くことができます"
   ]
  },
  {
   "cell_type": "code",
   "execution_count": null,
   "metadata": {
    "collapsed": true
   },
   "outputs": [],
   "source": []
  },
  {
   "cell_type": "markdown",
   "metadata": {},
   "source": [
    "## グラフのx軸とy軸に名前を付けてみましょう\n",
    "- ちょっと複雑で一旦、plot関数の結果を別の変数に代入する必要があります\n",
    "- 今回は変数axに代入することにします\n",
    "- x軸はaxを使い、set_xlabel(\"name\")と書くことで名前をつけることができます"
   ]
  },
  {
   "cell_type": "code",
   "execution_count": null,
   "metadata": {
    "collapsed": true
   },
   "outputs": [],
   "source": []
  },
  {
   "cell_type": "markdown",
   "metadata": {},
   "source": [
    "## trainのyのヒストグラムを描いてみましょう\n",
    "- グラフを描く前に簡単にヒストグラムとは何かを理解しましょう\n",
    "- plot.hist関数を使います"
   ]
  },
  {
   "cell_type": "code",
   "execution_count": null,
   "metadata": {
    "collapsed": true
   },
   "outputs": [],
   "source": []
  },
  {
   "cell_type": "markdown",
   "metadata": {},
   "source": [
    "## グリッド線を引いてみましょう\n",
    "- カッコの中にオプションとして、grid=Trueと書きます"
   ]
  },
  {
   "cell_type": "code",
   "execution_count": null,
   "metadata": {
    "collapsed": true
   },
   "outputs": [],
   "source": []
  },
  {
   "cell_type": "markdown",
   "metadata": {},
   "source": [
    "## ヒストグラム上に平均値を表す赤線を描きましょう\n",
    "- ヒストグラムで一番数が多いところが平均値とは限らないケースもある為、ヒストグラムに平均値を表す線を描いてみましょう\n",
    "- まず縦線の描き方から始めます。縦線を描くときにはplt.axvline(x=NUMBER, color=\"red\")と書きます\n",
    "- vlineのvはvertical（垂直）"
   ]
  },
  {
   "cell_type": "code",
   "execution_count": null,
   "metadata": {
    "collapsed": true
   },
   "outputs": [],
   "source": []
  },
  {
   "cell_type": "code",
   "execution_count": null,
   "metadata": {
    "collapsed": true
   },
   "outputs": [],
   "source": []
  },
  {
   "cell_type": "markdown",
   "metadata": {},
   "source": [
    "## 上記のヒストグラムを大きさ(12,4)にし、タイトルを\"ヒストグラム\"として、pngファイルの図として保存しましょう\n",
    "- plt.savefig(\"FILE_NAME.拡張子\")を一番最後に書きます\n",
    "- ファイル名は「sample_fig.png」としましょう"
   ]
  },
  {
   "cell_type": "code",
   "execution_count": null,
   "metadata": {
    "collapsed": true
   },
   "outputs": [],
   "source": []
  },
  {
   "cell_type": "markdown",
   "metadata": {},
   "source": [
    "## yとweekの関係を調べる為に、箱ひげ図を描いてみましょう\n",
    "- 箱ひげ図を描く前に簡単に箱ひげ図とは何かを理解しましょう\n",
    "- 箱ひげ図の描き方は、yとweekを選択した上で、boxplot(by=\"week\")と書きます\n",
    "- by=\"week\"はx軸にしたいカラムを選択します\n",
    "- ○は外れ値です"
   ]
  },
  {
   "cell_type": "code",
   "execution_count": null,
   "metadata": {
    "collapsed": true
   },
   "outputs": [],
   "source": []
  },
  {
   "cell_type": "markdown",
   "metadata": {},
   "source": [
    "# 実習"
   ]
  },
  {
   "cell_type": "markdown",
   "metadata": {},
   "source": [
    "1.trainのtemperatureの折れ線グラフを描いてみよう。タイトルとx軸、y軸にもそれぞれ名前をつけよう\n",
    "- x軸とy軸に名前を付ける為に、グラフは一旦変数axに代入しよう\n",
    "- タイトル名は「気温」、x軸は「time」、y軸は「temperature」としよう"
   ]
  },
  {
   "cell_type": "code",
   "execution_count": null,
   "metadata": {
    "collapsed": true
   },
   "outputs": [],
   "source": []
  },
  {
   "cell_type": "markdown",
   "metadata": {},
   "source": [
    "2.trainのkcalのヒストグラムを描いてみよう。trainのkcalの平均を表す赤線も入れよう"
   ]
  },
  {
   "cell_type": "code",
   "execution_count": null,
   "metadata": {
    "collapsed": true
   },
   "outputs": [],
   "source": []
  },
  {
   "cell_type": "markdown",
   "metadata": {},
   "source": [
    "3.trainのyとweatherとの関係を調べる為に、箱ひげ図を描いてみよう\n",
    "- x軸はweatherにしましょう"
   ]
  },
  {
   "cell_type": "code",
   "execution_count": null,
   "metadata": {
    "collapsed": true
   },
   "outputs": [],
   "source": []
  }
 ],
 "metadata": {
  "kernelspec": {
   "display_name": "Python 3",
   "language": "python",
   "name": "python3"
  },
  "language_info": {
   "codemirror_mode": {
    "name": "ipython",
    "version": 3
   },
   "file_extension": ".py",
   "mimetype": "text/x-python",
   "name": "python",
   "nbconvert_exporter": "python",
   "pygments_lexer": "ipython3",
   "version": "3.6.2"
  }
 },
 "nbformat": 4,
 "nbformat_minor": 2
}
