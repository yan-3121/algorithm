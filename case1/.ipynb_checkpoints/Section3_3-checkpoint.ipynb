{
 "cells": [
  {
   "cell_type": "markdown",
   "metadata": {},
   "source": [
    "# PART3 グラフを描いてみよう"
   ]
  },
  {
   "cell_type": "markdown",
   "metadata": {},
   "source": [
    "## おまじない"
   ]
  },
  {
   "cell_type": "code",
   "execution_count": 1,
   "metadata": {},
   "outputs": [],
   "source": [
    "import pandas as pd\n",
    "import numpy as np\n",
    "from matplotlib import pyplot as plt\n",
    "%matplotlib inline "
   ]
  },
  {
   "cell_type": "markdown",
   "metadata": {},
   "source": [
    "## データの読み込み\n",
    "- train.csvを読み込みましょう\n",
    "- 読み込んだものは変数trainに代入しましょう"
   ]
  },
  {
   "cell_type": "code",
   "execution_count": 2,
   "metadata": {},
   "outputs": [],
   "source": [
    "train = pd.read_csv('train.csv')"
   ]
  },
  {
   "cell_type": "markdown",
   "metadata": {},
   "source": [
    "## trainの先頭行を確かめてみましょう"
   ]
  },
  {
   "cell_type": "code",
   "execution_count": 3,
   "metadata": {},
   "outputs": [
    {
     "data": {
      "text/html": [
       "<div>\n",
       "<style scoped>\n",
       "    .dataframe tbody tr th:only-of-type {\n",
       "        vertical-align: middle;\n",
       "    }\n",
       "\n",
       "    .dataframe tbody tr th {\n",
       "        vertical-align: top;\n",
       "    }\n",
       "\n",
       "    .dataframe thead th {\n",
       "        text-align: right;\n",
       "    }\n",
       "</style>\n",
       "<table border=\"1\" class=\"dataframe\">\n",
       "  <thead>\n",
       "    <tr style=\"text-align: right;\">\n",
       "      <th></th>\n",
       "      <th>datetime</th>\n",
       "      <th>y</th>\n",
       "      <th>week</th>\n",
       "      <th>soldout</th>\n",
       "      <th>name</th>\n",
       "      <th>kcal</th>\n",
       "      <th>remarks</th>\n",
       "      <th>event</th>\n",
       "      <th>payday</th>\n",
       "      <th>weather</th>\n",
       "      <th>precipitation</th>\n",
       "      <th>temperature</th>\n",
       "    </tr>\n",
       "  </thead>\n",
       "  <tbody>\n",
       "    <tr>\n",
       "      <th>0</th>\n",
       "      <td>2013-11-18</td>\n",
       "      <td>90</td>\n",
       "      <td>月</td>\n",
       "      <td>0</td>\n",
       "      <td>厚切りイカフライ</td>\n",
       "      <td>NaN</td>\n",
       "      <td>NaN</td>\n",
       "      <td>NaN</td>\n",
       "      <td>NaN</td>\n",
       "      <td>快晴</td>\n",
       "      <td>--</td>\n",
       "      <td>19.8</td>\n",
       "    </tr>\n",
       "    <tr>\n",
       "      <th>1</th>\n",
       "      <td>2013-11-19</td>\n",
       "      <td>101</td>\n",
       "      <td>火</td>\n",
       "      <td>1</td>\n",
       "      <td>手作りヒレカツ</td>\n",
       "      <td>NaN</td>\n",
       "      <td>NaN</td>\n",
       "      <td>NaN</td>\n",
       "      <td>NaN</td>\n",
       "      <td>快晴</td>\n",
       "      <td>--</td>\n",
       "      <td>17.0</td>\n",
       "    </tr>\n",
       "    <tr>\n",
       "      <th>2</th>\n",
       "      <td>2013-11-20</td>\n",
       "      <td>118</td>\n",
       "      <td>水</td>\n",
       "      <td>0</td>\n",
       "      <td>白身魚唐揚げ野菜あん</td>\n",
       "      <td>NaN</td>\n",
       "      <td>NaN</td>\n",
       "      <td>NaN</td>\n",
       "      <td>NaN</td>\n",
       "      <td>快晴</td>\n",
       "      <td>--</td>\n",
       "      <td>15.5</td>\n",
       "    </tr>\n",
       "    <tr>\n",
       "      <th>3</th>\n",
       "      <td>2013-11-21</td>\n",
       "      <td>120</td>\n",
       "      <td>木</td>\n",
       "      <td>1</td>\n",
       "      <td>若鶏ピリ辛焼</td>\n",
       "      <td>NaN</td>\n",
       "      <td>NaN</td>\n",
       "      <td>NaN</td>\n",
       "      <td>NaN</td>\n",
       "      <td>快晴</td>\n",
       "      <td>--</td>\n",
       "      <td>15.2</td>\n",
       "    </tr>\n",
       "    <tr>\n",
       "      <th>4</th>\n",
       "      <td>2013-11-22</td>\n",
       "      <td>130</td>\n",
       "      <td>金</td>\n",
       "      <td>1</td>\n",
       "      <td>ビッグメンチカツ</td>\n",
       "      <td>NaN</td>\n",
       "      <td>NaN</td>\n",
       "      <td>NaN</td>\n",
       "      <td>NaN</td>\n",
       "      <td>快晴</td>\n",
       "      <td>--</td>\n",
       "      <td>16.1</td>\n",
       "    </tr>\n",
       "  </tbody>\n",
       "</table>\n",
       "</div>"
      ],
      "text/plain": [
       "     datetime    y week  soldout        name  kcal remarks event  payday  \\\n",
       "0  2013-11-18   90    月        0    厚切りイカフライ   NaN     NaN   NaN     NaN   \n",
       "1  2013-11-19  101    火        1     手作りヒレカツ   NaN     NaN   NaN     NaN   \n",
       "2  2013-11-20  118    水        0  白身魚唐揚げ野菜あん   NaN     NaN   NaN     NaN   \n",
       "3  2013-11-21  120    木        1      若鶏ピリ辛焼   NaN     NaN   NaN     NaN   \n",
       "4  2013-11-22  130    金        1    ビッグメンチカツ   NaN     NaN   NaN     NaN   \n",
       "\n",
       "  weather precipitation  temperature  \n",
       "0      快晴            --         19.8  \n",
       "1      快晴            --         17.0  \n",
       "2      快晴            --         15.5  \n",
       "3      快晴            --         15.2  \n",
       "4      快晴            --         16.1  "
      ]
     },
     "execution_count": 3,
     "metadata": {},
     "output_type": "execute_result"
    }
   ],
   "source": [
    "train.head()"
   ]
  },
  {
   "cell_type": "markdown",
   "metadata": {},
   "source": [
    "## trainのyの折れ線グラフを描いてみましょう\n",
    "- 折れ線グラフを描くにはplot関数を使います"
   ]
  },
  {
   "cell_type": "code",
   "execution_count": 4,
   "metadata": {},
   "outputs": [
    {
     "data": {
      "text/plain": [
       "<Axes: >"
      ]
     },
     "execution_count": 4,
     "metadata": {},
     "output_type": "execute_result"
    },
    {
     "data": {
      "image/png": "[encoded data removed]",
      "text/plain": [
       "<Figure size 640x480 with 1 Axes>"
      ]
     },
     "metadata": {},
     "output_type": "display_data"
    }
   ],
   "source": [
    "train['y'].plot()"
   ]
  },
  {
   "cell_type": "markdown",
   "metadata": {},
   "source": [
    "## グラフの大きさをもっと大きくしてみましょう\n",
    "- カッコの中にオプションとしてfigsize=(12,4)と書きます"
   ]
  },
  {
   "cell_type": "code",
   "execution_count": null,
   "metadata": {
    "collapsed": true,
    "jupyter": {
     "outputs_hidden": true
    }
   },
   "outputs": [],
   "source": []
  },
  {
   "cell_type": "markdown",
   "metadata": {},
   "source": [
    "## グラフにタイトルをつけてみましょう\n",
    "- カッコの中にオプションとして、title=\"XXX\"と書きます\n",
    "- カッコの中が複数となった場合はカンマ（,）を使うことで複数書くことができます"
   ]
  },
  {
   "cell_type": "code",
   "execution_count": null,
   "metadata": {
    "collapsed": true,
    "jupyter": {
     "outputs_hidden": true
    }
   },
   "outputs": [],
   "source": []
  },
  {
   "cell_type": "markdown",
   "metadata": {},
   "source": [
    "## グラフのx軸とy軸に名前を付けてみましょう\n",
    "- ちょっと複雑で一旦、plot関数の結果を別の変数に代入する必要があります\n",
    "- 今回は変数axに代入することにします\n",
    "- x軸はaxを使い、set_xlabel(\"name\")と書くことで名前をつけることができます"
   ]
  },
  {
   "cell_type": "code",
   "execution_count": null,
   "metadata": {
    "collapsed": true,
    "jupyter": {
     "outputs_hidden": true
    }
   },
   "outputs": [],
   "source": []
  },
  {
   "cell_type": "markdown",
   "metadata": {},
   "source": [
    "## trainのyのヒストグラムを描いてみましょう\n",
    "- グラフを描く前に簡単にヒストグラムとは何かを理解しましょう\n",
    "- plot.hist関数を使います"
   ]
  },
  {
   "cell_type": "code",
   "execution_count": null,
   "metadata": {
    "collapsed": true,
    "jupyter": {
     "outputs_hidden": true
    }
   },
   "outputs": [],
   "source": []
  },
  {
   "cell_type": "markdown",
   "metadata": {},
   "source": [
    "## グリッド線を引いてみましょう\n",
    "- カッコの中にオプションとして、grid=Trueと書きます"
   ]
  },
  {
   "cell_type": "code",
   "execution_count": null,
   "metadata": {
    "collapsed": true,
    "jupyter": {
     "outputs_hidden": true
    }
   },
   "outputs": [],
   "source": []
  },
  {
   "cell_type": "markdown",
   "metadata": {},
   "source": [
    "## ヒストグラム上に平均値を表す赤線を描きましょう\n",
    "- ヒストグラムで一番数が多いところが平均値とは限らないケースもある為、ヒストグラムに平均値を表す線を描いてみましょう\n",
    "- まず縦線の描き方から始めます。縦線を描くときにはplt.axvline(x=NUMBER, color=\"red\")と書きます\n",
    "- vlineのvはvertical（垂直）"
   ]
  },
  {
   "cell_type": "code",
   "execution_count": null,
   "metadata": {
    "collapsed": true,
    "jupyter": {
     "outputs_hidden": true
    }
   },
   "outputs": [],
   "source": []
  },
  {
   "cell_type": "code",
   "execution_count": null,
   "metadata": {
    "collapsed": true,
    "jupyter": {
     "outputs_hidden": true
    }
   },
   "outputs": [],
   "source": []
  },
  {
   "cell_type": "markdown",
   "metadata": {},
   "source": [
    "## 上記のヒストグラムを大きさ(12,4)にし、タイトルを\"ヒストグラム\"として、pngファイルの図として保存しましょう\n",
    "- plt.savefig(\"FILE_NAME.拡張子\")を一番最後に書きます\n",
    "- ファイル名は「sample_fig.png」としましょう"
   ]
  },
  {
   "cell_type": "code",
   "execution_count": null,
   "metadata": {
    "collapsed": true,
    "jupyter": {
     "outputs_hidden": true
    }
   },
   "outputs": [],
   "source": []
  },
  {
   "cell_type": "markdown",
   "metadata": {},
   "source": [
    "## yとweekの関係を調べる為に、箱ひげ図を描いてみましょう\n",
    "- 箱ひげ図を描く前に簡単に箱ひげ図とは何かを理解しましょう\n",
    "- 箱ひげ図の描き方は、yとweekを選択した上で、boxplot(by=\"week\")と書きます\n",
    "- by=\"week\"はx軸にしたいカラムを選択します\n",
    "- ○は外れ値です"
   ]
  },
  {
   "cell_type": "code",
   "execution_count": null,
   "metadata": {
    "collapsed": true,
    "jupyter": {
     "outputs_hidden": true
    }
   },
   "outputs": [],
   "source": []
  },
  {
   "cell_type": "markdown",
   "metadata": {},
   "source": [
    "# 実習"
   ]
  },
  {
   "cell_type": "markdown",
   "metadata": {},
   "source": [
    "1.trainのtemperatureの折れ線グラフを描いてみよう。タイトルとx軸、y軸にもそれぞれ名前をつけよう\n",
    "- x軸とy軸に名前を付ける為に、グラフは一旦変数axに代入しよう\n",
    "- タイトル名は「気温」、x軸は「time」、y軸は「temperature」としよう"
   ]
  },
  {
   "cell_type": "code",
   "execution_count": null,
   "metadata": {
    "collapsed": true,
    "jupyter": {
     "outputs_hidden": true
    }
   },
   "outputs": [],
   "source": []
  },
  {
   "cell_type": "markdown",
   "metadata": {},
   "source": [
    "2.trainのkcalのヒストグラムを描いてみよう。trainのkcalの平均を表す赤線も入れよう"
   ]
  },
  {
   "cell_type": "code",
   "execution_count": null,
   "metadata": {
    "collapsed": true,
    "jupyter": {
     "outputs_hidden": true
    }
   },
   "outputs": [],
   "source": []
  },
  {
   "cell_type": "markdown",
   "metadata": {},
   "source": [
    "3.trainのyとweatherとの関係を調べる為に、箱ひげ図を描いてみよう\n",
    "- x軸はweatherにしましょう"
   ]
  },
  {
   "cell_type": "code",
   "execution_count": null,
   "metadata": {
    "collapsed": true,
    "jupyter": {
     "outputs_hidden": true
    }
   },
   "outputs": [],
   "source": []
  }
 ],
 "metadata": {
  "kernelspec": {
   "display_name": "Python 3 (ipykernel)",
   "language": "python",
   "name": "python3"
  },
  "language_info": {
   "codemirror_mode": {
    "name": "ipython",
    "version": 3
   },
   "file_extension": ".py",
   "mimetype": "text/x-python",
   "name": "python",
   "nbconvert_exporter": "python",
   "pygments_lexer": "ipython3",
   "version": "3.10.12"
  }
 },
 "nbformat": 4,
 "nbformat_minor": 4
}
