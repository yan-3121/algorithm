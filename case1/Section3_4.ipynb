{
 "cells": [
  {
   "cell_type": "markdown",
   "metadata": {},
   "source": [
    "# PART4 欠損値を確認してみよう"
   ]
  },
  {
   "cell_type": "markdown",
   "metadata": {},
   "source": [
    "## おまじない"
   ]
  },
  {
   "cell_type": "code",
   "execution_count": null,
   "metadata": {
    "collapsed": true
   },
   "outputs": [],
   "source": []
  },
  {
   "cell_type": "markdown",
   "metadata": {},
   "source": [
    "## データの読み込み\n",
    "- train.csvを読み込みましょう\n",
    "- 読み込んだものは変数trainに代入しましょう"
   ]
  },
  {
   "cell_type": "code",
   "execution_count": null,
   "metadata": {
    "collapsed": true
   },
   "outputs": [],
   "source": []
  },
  {
   "cell_type": "markdown",
   "metadata": {},
   "source": [
    "## trainの先頭行を確認しましょう"
   ]
  },
  {
   "cell_type": "code",
   "execution_count": null,
   "metadata": {
    "collapsed": true
   },
   "outputs": [],
   "source": []
  },
  {
   "cell_type": "markdown",
   "metadata": {},
   "source": [
    "## 各値が欠損値か否かを出力しましょう\n",
    "- 欠損とは何らかの理由で、データの値が入っていない状態のことをいいます\n",
    "- データ分析において欠損がある場合の対応はとても重要となります\n",
    "- 欠損の有無を確認する為にはisnull関数を使います\n",
    "- 欠損値の時、Trueと表示されます"
   ]
  },
  {
   "cell_type": "code",
   "execution_count": null,
   "metadata": {
    "collapsed": true
   },
   "outputs": [],
   "source": []
  },
  {
   "cell_type": "markdown",
   "metadata": {},
   "source": [
    "## 各列（カラム）にTrueが１つ以上あるかないかを確かめてみましょう\n",
    "- isnull関数のあとにany関数を付け加えます。付け加える時はドット(.)で繋ぎます\n",
    "- 1つ以上欠損値を含んでいる場合、Trueと表示されます"
   ]
  },
  {
   "cell_type": "code",
   "execution_count": null,
   "metadata": {
    "collapsed": true
   },
   "outputs": [],
   "source": []
  },
  {
   "cell_type": "markdown",
   "metadata": {},
   "source": [
    "## 具体的に各列（カラム）に欠損値が幾つあるか数えてみましょう\n",
    "- isnull関数のあとにsum関数を付け加えます"
   ]
  },
  {
   "cell_type": "code",
   "execution_count": null,
   "metadata": {
    "collapsed": true
   },
   "outputs": [],
   "source": []
  },
  {
   "cell_type": "markdown",
   "metadata": {},
   "source": [
    "## もう一度trainの先頭行を出力し、kcalに注目してみましょう"
   ]
  },
  {
   "cell_type": "code",
   "execution_count": null,
   "metadata": {
    "collapsed": true
   },
   "outputs": [],
   "source": []
  },
  {
   "cell_type": "markdown",
   "metadata": {},
   "source": [
    "## 欠損値の処理をしましょう\n",
    "- 欠損値の処理は別のなんらかの値を代入（補間といいます）するか、欠損値を含む行を削除するかで対応します\n",
    "- ここではまず、欠損値を0で補間してみましょう\n",
    "- fillna関数を使います"
   ]
  },
  {
   "cell_type": "code",
   "execution_count": null,
   "metadata": {
    "collapsed": true
   },
   "outputs": [],
   "source": []
  },
  {
   "cell_type": "markdown",
   "metadata": {},
   "source": [
    "## 今度は欠損値を削除してみましょう\n",
    "- dropna関数を使います\n",
    "- ある列に欠損値があった場合のみ、その行を削除したい場合はオプションとしてsubset=[ ]を使います"
   ]
  },
  {
   "cell_type": "code",
   "execution_count": null,
   "metadata": {
    "collapsed": true
   },
   "outputs": [],
   "source": []
  },
  {
   "cell_type": "code",
   "execution_count": null,
   "metadata": {
    "collapsed": true
   },
   "outputs": [],
   "source": []
  },
  {
   "cell_type": "markdown",
   "metadata": {},
   "source": [
    "## precipitationには本当に欠損値がないか確認してみましょう\n",
    "- 行の中の値がそれぞれ幾つあるかを確認したい場合は、value_counts関数を使います"
   ]
  },
  {
   "cell_type": "code",
   "execution_count": null,
   "metadata": {
    "collapsed": true
   },
   "outputs": [],
   "source": []
  }
 ],
 "metadata": {
  "kernelspec": {
   "display_name": "Python 3",
   "language": "python",
   "name": "python3"
  },
  "language_info": {
   "codemirror_mode": {
    "name": "ipython",
    "version": 3
   },
   "file_extension": ".py",
   "mimetype": "text/x-python",
   "name": "python",
   "nbconvert_exporter": "python",
   "pygments_lexer": "ipython3",
   "version": "3.6.2"
  }
 },
 "nbformat": 4,
 "nbformat_minor": 2
}
